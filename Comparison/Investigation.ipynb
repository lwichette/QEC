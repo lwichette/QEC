{
 "cells": [
  {
   "cell_type": "code",
   "execution_count": 1,
   "id": "3ea3e105",
   "metadata": {},
   "outputs": [],
   "source": [
    "import numpy as np\n",
    "import matplotlib.pyplot as plt\n",
    "import os"
   ]
  },
  {
   "cell_type": "code",
   "execution_count": 2,
   "id": "7d61f610",
   "metadata": {},
   "outputs": [],
   "source": [
    "def load_data(name):\n",
    "    data = []\n",
    "    f=open(name)\n",
    "    for l in f:\n",
    "        data.append([int(c) for c in l.strip(\" \\n\\r\")])\n",
    "    data = np.array(data)\n",
    "    \n",
    "    data[data==0]=-1\n",
    "    \n",
    "    return data"
   ]
  },
  {
   "cell_type": "code",
   "execution_count": 3,
   "id": "24c132b6",
   "metadata": {},
   "outputs": [],
   "source": [
    "def find_1d_array_in_2d_array(arr_2d, arr_1d):\n",
    "    for i in range(len(arr_2d)):\n",
    "        for j in range(len(arr_2d[i]) - len(arr_1d) + 1):\n",
    "            if np.array_equal(arr_2d[i][j:j+len(arr_1d)],arr_1d):\n",
    "                return (i, j)\n",
    "    return None"
   ]
  },
  {
   "cell_type": "code",
   "execution_count": 4,
   "id": "95465997",
   "metadata": {},
   "outputs": [],
   "source": [
    "def reverse_rows(matrix):\n",
    "    for row in matrix:\n",
    "        row.reverse()"
   ]
  },
  {
   "cell_type": "code",
   "execution_count": 5,
   "id": "9b8af7eb",
   "metadata": {},
   "outputs": [],
   "source": [
    "def get_interactions(bonds, X, Y, seed):\n",
    "    Y2 = int(Y/2)\n",
    "    \n",
    "    interactions = np.zeros((2*X*Y))\n",
    "\n",
    "    for i in range(bonds.shape[0]):\n",
    "        for j in range(bonds.shape[1]):\n",
    "\n",
    "            j_spin = int(j/4)\n",
    "\n",
    "            ipp = (i + 1) if (i + 1 < X) else 0\n",
    "            inn = (i - 1) if (i - 1 >= 0) else X - 1\n",
    "            jpp = (j_spin + 1) if (j_spin + 1 < Y2) else 0\n",
    "            jnn = (j_spin - 1) if (j_spin - 1 >= 0) else Y2 - 1\n",
    "\n",
    "            icpp = 2*(X-1)*Y2 + 2*(Y2*(i+1) + j_spin) + i%2\n",
    "            icnn = 2*(X-1)*Y2 + 2*(Y2*(inn+1) + j_spin) + i%2\n",
    "\n",
    "            joff = jpp if (i%2) else jnn\n",
    "            \n",
    "                    \n",
    "            if (i % 2):\n",
    "                if (j + 1 > Y2):\n",
    "                    jcoff = 2*(i*Y2 + j_spin + 1) - 1\n",
    "\n",
    "                else:\n",
    "                    jcoff = 2*(i*Y2 + joff) - 1\n",
    "            else:\n",
    "                jcoff = 2 * (i*Y2 + joff) + 1\n",
    "            \n",
    "            icpp = 2*(X-1)*Y2 + 2*(Y2*(i+1) + j_spin) + i%2\n",
    "                \n",
    "            # Up neighbor\n",
    "            if j%4 == 0:\n",
    "                interactions[icnn] = bonds[i,j]\n",
    "                \n",
    "            # Down neighbor\n",
    "            if j%4 == 1:\n",
    "                interactions[icpp] = bonds[i,j]\n",
    "\n",
    "            # Left neighbor\n",
    "            if j%4 == 2:\n",
    "                if i%2 == 0:\n",
    "                    interactions[jcoff] = bonds[i,j]\n",
    "                else:\n",
    "                    interactions[2*(i*Y2 + j_spin)] = bonds[i,j]\n",
    "\n",
    "            # Right neighbor\n",
    "            if j%4 == 3:\n",
    "                if i%2 == 0:\n",
    "                    interactions[2*(i*Y2 + j_spin)] = bonds[i,j]\n",
    "                else:\n",
    "                    interactions[jcoff] = bonds[i,j]\n",
    "    \n",
    "    interactions[interactions==1] = -1\n",
    "    interactions[interactions==0] = 1\n",
    "    \n",
    "    np.savetxt(f'test_rng/bonds/bonds_seed_{seed*10}.txt', interactions, fmt = \"%i\")\n",
    "\n",
    "    return interactions"
   ]
  },
  {
   "cell_type": "code",
   "execution_count": 6,
   "id": "486d5f9c",
   "metadata": {},
   "outputs": [],
   "source": [
    "def check_bonds(bonds_new, bonds_old, X):\n",
    "    ### Only for size 128 (yet)\n",
    "    for j in range(bonds_new.shape[0]):\n",
    "        for i in range(bonds_new.shape[1]):\n",
    "\n",
    "            # Up neighbor\n",
    "            if i%4==0:\n",
    "\n",
    "                if j != 0:\n",
    "                    row = X + (j-1)\n",
    "\n",
    "                else:\n",
    "                    row = -1\n",
    "\n",
    "                if j%2 == 0:\n",
    "\n",
    "                    check = bonds_new[j,i] == bonds_old[row,2*int(i/4)]\n",
    "\n",
    "                else:\n",
    "                    check = bonds_new[j,i] == bonds_old[row,2*int(i/4)+1]\n",
    "\n",
    "                if check == False:\n",
    "                    print(\"Up error\", i)\n",
    "\n",
    "            # Down neighbor\n",
    "            if i%4==1:\n",
    "\n",
    "                row = X + j\n",
    "\n",
    "                if j%2 == 0:\n",
    "\n",
    "                    check = bonds_new[j,i] == bonds_old[row,2*int(i/4)]\n",
    "\n",
    "                else:\n",
    "                    check = bonds_new[j,i] == bonds_old[row, 2*int(i/4)+1]\n",
    "                \n",
    "                if check == False:\n",
    "                    print(\"Down error\", i)\n",
    "\n",
    "            # Left neighbor\n",
    "            if i%4 == 2:\n",
    "\n",
    "                loc_i = int(i/4)\n",
    "\n",
    "                if j%2 == 0:\n",
    "                    if loc_i == 0:\n",
    "                        check = bonds_new[j,i] == bonds_old[j, -1]\n",
    "\n",
    "                    else:\n",
    "                        check = bonds_new[j,i] == bonds_old[j, 2*loc_i - 1]\n",
    "\n",
    "                    if check == False:\n",
    "                        print(\"LEFT error\", j, i)\n",
    "\n",
    "                else:\n",
    "                    check = bonds_new[j,i] == bonds_old[j, 2*loc_i]\n",
    "\n",
    "                    if check == False:\n",
    "                        print(\"LEFT error uneven\", j, i)\n",
    "\n",
    "            # Right neighbor\n",
    "            if i%4 == 3:\n",
    "\n",
    "                loc_i = int(i/4)\n",
    "\n",
    "                if j%2 == 0:\n",
    "                    check = bonds_new[j,i] == bonds_old[j, 2*loc_i]\n",
    "\n",
    "                    if check == False:\n",
    "                        print(\"RIGHT ERROR even\", j,i)\n",
    "\n",
    "                else:\n",
    "                    if loc_i == X/2 - 1:\n",
    "                        check = bonds_new[j,i] == bonds_old[j,-1]\n",
    "\n",
    "                    else:\n",
    "                        check = bonds_new[j,i] == bonds_old[j,2*loc_i+1]\n",
    "\n",
    "                    if check == False:\n",
    "                        print(\"RIGHT ERROR\", j,i)"
   ]
  },
  {
   "cell_type": "code",
   "execution_count": 16,
   "id": "6290c5db",
   "metadata": {},
   "outputs": [],
   "source": [
    "seeds = [45, 46]\n",
    "X = [24, 48]"
   ]
  },
  {
   "cell_type": "code",
   "execution_count": 17,
   "id": "e2b0b23b",
   "metadata": {},
   "outputs": [],
   "source": [
    "for s in range(len(seeds)):\n",
    "        \n",
    "    bonds_new = np.loadtxt(f\"optimized/bonds/bonds_seed_{seeds[s]*10}.txt\")\n",
    "    bonds_old = get_interactions(bonds_new, X[s], X[s], seeds[s]).reshape((2*X[s],X[s]))"
   ]
  },
  {
   "cell_type": "code",
   "execution_count": 18,
   "id": "d31cb396",
   "metadata": {},
   "outputs": [],
   "source": [
    "bonds_new[bonds_new == 1] = -1\n",
    "bonds_new[bonds_new == 0] = 1"
   ]
  },
  {
   "cell_type": "code",
   "execution_count": 19,
   "id": "0547ba1f",
   "metadata": {},
   "outputs": [],
   "source": [
    "check_bonds(bonds_new, bonds_old, 48)"
   ]
  },
  {
   "cell_type": "code",
   "execution_count": 21,
   "id": "28187684",
   "metadata": {},
   "outputs": [],
   "source": [
    "diff = []\n",
    "\n",
    "for s in range(len(X)):\n",
    "    l_n = load_data(f'optimized/lattice/lattice_{X[s]}x{X[s]}_T_1.700000_IT_00000100_p_0.300000_seed_{seeds[s]*10}.txt')\n",
    "    l_o = np.loadtxt(f'test_rng/lattices/lattice_{X[s]}_100_seed_{seeds[s]}.txt')\n",
    "    \n",
    "    diff.append(np.nonzero(l_n-l_o))"
   ]
  },
  {
   "cell_type": "code",
   "execution_count": 22,
   "id": "4c8f06cb",
   "metadata": {},
   "outputs": [
    {
     "data": {
      "text/plain": [
       "[(array([], dtype=int64), array([], dtype=int64)),\n",
       " (array([], dtype=int64), array([], dtype=int64))]"
      ]
     },
     "execution_count": 22,
     "metadata": {},
     "output_type": "execute_result"
    }
   ],
   "source": [
    "diff"
   ]
  },
  {
   "cell_type": "code",
   "execution_count": 22,
   "id": "31fc804b",
   "metadata": {},
   "outputs": [],
   "source": [
    "l_n_1 = load_data(f'optimized/lattice/lattice_128x128_T_1.700000_IT_00000001_p_0.500000_seed_440.txt')\n",
    "l_o_1 = np.loadtxt(f'test_rng/lattices/lattice_128_1_seed_44.txt')"
   ]
  },
  {
   "cell_type": "code",
   "execution_count": 25,
   "id": "fe236a8f",
   "metadata": {},
   "outputs": [],
   "source": [
    "l_n_2 = load_data(f'optimized/lattice/lattice_128x128_T_1.700000_IT_00000002_p_0.500000_seed_440.txt')\n",
    "l_o_2 = np.loadtxt(f'test_rng/lattices/lattice_128_2_seed_44.txt')"
   ]
  },
  {
   "cell_type": "code",
   "execution_count": 27,
   "id": "2208f090",
   "metadata": {},
   "outputs": [],
   "source": [
    "bonds_new = np.loadtxt(f\"optimized/bonds/bonds_seed_440.txt\")\n",
    "bonds_old = get_interactions(bonds_new, 128, 128, 44).reshape((2*128,128))"
   ]
  },
  {
   "cell_type": "code",
   "execution_count": 28,
   "id": "80392b0a",
   "metadata": {},
   "outputs": [
    {
     "data": {
      "text/plain": [
       "(array([  0,   0,   0,   0,   1,  49,  50,  50,  51,  64,  64,  65,  83,\n",
       "         84,  85, 107, 108, 109, 127, 127, 127]),\n",
       " array([14, 15, 68, 69, 14,  0,  0,  1,  0,  0,  1,  0,  0,  0,  0,  0,  0,\n",
       "         0, 64, 80, 96]))"
      ]
     },
     "execution_count": 28,
     "metadata": {},
     "output_type": "execute_result"
    }
   ],
   "source": [
    "np.nonzero(l_n_2 - l_o_2)"
   ]
  },
  {
   "cell_type": "code",
   "execution_count": 14,
   "id": "17a6a7a6",
   "metadata": {},
   "outputs": [
    {
     "data": {
      "text/plain": [
       "128"
      ]
     },
     "execution_count": 14,
     "metadata": {},
     "output_type": "execute_result"
    }
   ],
   "source": [
    "16*8"
   ]
  },
  {
   "cell_type": "code",
   "execution_count": 30,
   "id": "382a5e22",
   "metadata": {},
   "outputs": [
    {
     "data": {
      "text/plain": [
       "-1.0"
      ]
     },
     "execution_count": 30,
     "metadata": {},
     "output_type": "execute_result"
    }
   ],
   "source": [
    "bonds_old[0,13]"
   ]
  },
  {
   "cell_type": "code",
   "execution_count": 31,
   "id": "0b663090",
   "metadata": {},
   "outputs": [
    {
     "data": {
      "text/plain": [
       "-1.0"
      ]
     },
     "execution_count": 31,
     "metadata": {},
     "output_type": "execute_result"
    }
   ],
   "source": [
    "bonds_old[0,14]"
   ]
  },
  {
   "cell_type": "code",
   "execution_count": 33,
   "id": "8955ce23",
   "metadata": {},
   "outputs": [
    {
     "data": {
      "text/plain": [
       "1.0"
      ]
     },
     "execution_count": 33,
     "metadata": {},
     "output_type": "execute_result"
    }
   ],
   "source": [
    "bonds_old[128,14]"
   ]
  },
  {
   "cell_type": "code",
   "execution_count": 29,
   "id": "d72ac60a",
   "metadata": {},
   "outputs": [
    {
     "data": {
      "text/plain": [
       "array([-1, -1, -1])"
      ]
     },
     "execution_count": 29,
     "metadata": {},
     "output_type": "execute_result"
    }
   ],
   "source": [
    "l_n_1[0,13:16]"
   ]
  },
  {
   "cell_type": "code",
   "execution_count": 32,
   "id": "a8eea0a0",
   "metadata": {},
   "outputs": [
    {
     "data": {
      "text/plain": [
       "1"
      ]
     },
     "execution_count": 32,
     "metadata": {},
     "output_type": "execute_result"
    }
   ],
   "source": [
    "l_n_1[1,14]"
   ]
  },
  {
   "cell_type": "code",
   "execution_count": 34,
   "id": "2ab6ea48",
   "metadata": {},
   "outputs": [
    {
     "data": {
      "text/plain": [
       "34.10390059527122"
      ]
     },
     "execution_count": 34,
     "metadata": {},
     "output_type": "execute_result"
    }
   ],
   "source": [
    "np.exp(-2*1/1.7*3*(-1))"
   ]
  },
  {
   "cell_type": "code",
   "execution_count": 35,
   "id": "da9c41a9",
   "metadata": {},
   "outputs": [
    {
     "data": {
      "text/plain": [
       "-1"
      ]
     },
     "execution_count": 35,
     "metadata": {},
     "output_type": "execute_result"
    }
   ],
   "source": [
    "l_n_2[0,14]"
   ]
  },
  {
   "cell_type": "code",
   "execution_count": 36,
   "id": "3132f3bd",
   "metadata": {},
   "outputs": [
    {
     "data": {
      "text/plain": [
       "1.0"
      ]
     },
     "execution_count": 36,
     "metadata": {},
     "output_type": "execute_result"
    }
   ],
   "source": [
    "l_o_2[0,14]"
   ]
  },
  {
   "cell_type": "code",
   "execution_count": 60,
   "id": "7ba67abb",
   "metadata": {},
   "outputs": [],
   "source": [
    "diffs = []\n",
    "\n",
    "for s in seeds:\n",
    "    l_n = load_data(f'optimized/lattice/lattice_{Y}x{X}_T_1.800000_IT_00000100_p_0.500000_seed_{s*10}.txt')\n",
    "    l_o = np.loadtxt(f'test_rng/lattices/lattice_{Y}_100_seed_{s}.txt')\n",
    "    diffs.append(np.nonzero(l_n - l_o))"
   ]
  },
  {
   "cell_type": "code",
   "execution_count": 83,
   "id": "09c45b7d",
   "metadata": {},
   "outputs": [
    {
     "data": {
      "text/plain": [
       "<matplotlib.image.AxesImage at 0x7f8a623978b0>"
      ]
     },
     "execution_count": 83,
     "metadata": {},
     "output_type": "execute_result"
    },
    {
     "data": {
      "image/png": "[encoded data removed]",
      "text/plain": [
       "<Figure size 640x480 with 1 Axes>"
      ]
     },
     "metadata": {},
     "output_type": "display_data"
    }
   ],
   "source": [
    "lattice = load_data('optimized/lattice/lattice_128x128_T_1.700000_IT_10000000_p_0.060000_seed_440.txt')\n",
    "plt.imshow(lattice,interpolation = \"nearest\")"
   ]
  },
  {
   "cell_type": "code",
   "execution_count": 14,
   "id": "b94da408",
   "metadata": {},
   "outputs": [],
   "source": [
    "spin = \"   0    2    4    6    8   10   12   14   16   18   20   22   24   26   28   30\"   \n",
    "hamB = \"0101 1000 0101 0110 1001 0100 1101 1010 0110 0001 1100 1110 0101 0001 1001 1000\"\n",
    "\n",
    "spin = \"   1    3    5    7    9   11   13   15   17   19   21   23    25  27   29   31\"\n",
    "hamW = \"0000 1110 0000 0111 0100 0110 0100 1001 0111 0000 0100 0111 0110 1110 0100 0110\""
   ]
  },
  {
   "cell_type": "code",
   "execution_count": 39,
   "id": "cd5e4021",
   "metadata": {},
   "outputs": [
    {
     "name": "stdout",
     "output_type": "stream",
     "text": [
      "26. spin up = 1 --> weiß letzte Reihe spin unten up\n",
      "26. spin down = -1 --> weiß erste Reihe up gleich -1\n",
      "26. spin left = 1 --> weiß nullte Reihe rechts = 1\n",
      "26. spin rechts = -1 --> weiß nullte Reihe links = -1\n"
     ]
    }
   ],
   "source": [
    "print(\"26. spin up = 1 --> weiß letzte Reihe spin unten up\")\n",
    "print(\"26. spin down = -1 --> weiß erste Reihe up gleich -1\")\n",
    "print(\"26. spin left = 1 --> weiß nullte Reihe rechts = 1\")\n",
    "print(\"26. spin rechts = -1 --> weiß nullte Reihe links = -1\")"
   ]
  },
  {
   "cell_type": "code",
   "execution_count": 57,
   "id": "d82be4a3",
   "metadata": {},
   "outputs": [
    {
     "data": {
      "text/plain": [
       "array([ 1.,  1.,  1., -1.])"
      ]
     },
     "execution_count": 57,
     "metadata": {},
     "output_type": "execute_result"
    }
   ],
   "source": [
    "bonds_new[0,6*4:6*4+4]"
   ]
  },
  {
   "cell_type": "code",
   "execution_count": 16,
   "id": "11234701",
   "metadata": {},
   "outputs": [],
   "source": [
    "spinb = \n",
    "black = \"0101 1000 0101 0110 1001 0100 1101 1010 0110 0001 1100 1110 0101 0001 1001 1000\""
   ]
  },
  {
   "cell_type": "code",
   "execution_count": 17,
   "id": "e0b94419",
   "metadata": {},
   "outputs": [],
   "source": [
    "spinw = \"  31   29   27   25   23   21   19   17   15   13   11    9    7    5    3    1\"\n",
    "white = \"0000 1110 0000 0111 0100 0110 0100 1001 0111 0000 0100 0111 0110 1110 0100 0110\""
   ]
  },
  {
   "cell_type": "code",
   "execution_count": 22,
   "id": "20d3bdfc",
   "metadata": {},
   "outputs": [],
   "source": [
    "spinw = \"  63   61   59   57   55   53   51   49   47   45   43   41   39   37   35   33\"\n",
    "white = \"1001 1101 1111 0101 1001 0101 1110 1011 0000 1111 1111 0110 0010 0011 1001 0111\""
   ]
  },
  {
   "cell_type": "code",
   "execution_count": 23,
   "id": "8ee4d7b2",
   "metadata": {},
   "outputs": [],
   "source": [
    "spinb = \"  62   60   58   56   54   52   50   48   46   44   42   40   38   36   34   32\"\n",
    "black = \"1011 0110 1110 1111 0010 0110 0100 0011 0101 1110 0111 0101 0101 0111 0011 1110\""
   ]
  },
  {
   "cell_type": "code",
   "execution_count": 13,
   "id": "3c2137cf",
   "metadata": {},
   "outputs": [],
   "source": [
    "l_n = load_data('optimized/lattice/lattice_128x128_T_1.800000_IT_00000001_p_0.500000_seed_430.txt')"
   ]
  },
  {
   "cell_type": "code",
   "execution_count": 14,
   "id": "398d4082",
   "metadata": {},
   "outputs": [],
   "source": [
    "l_o = np.loadtxt('test_rng/lattices/lattice_1_seed_43.txt')"
   ]
  },
  {
   "cell_type": "code",
   "execution_count": 15,
   "id": "5aa0dd96",
   "metadata": {},
   "outputs": [],
   "source": [
    "indices = np.nonzero(l_n - l_o)"
   ]
  },
  {
   "cell_type": "markdown",
   "id": "4dae666a",
   "metadata": {},
   "source": [
    "### HamwD"
   ]
  },
  {
   "cell_type": "code",
   "execution_count": 80,
   "id": "9ecf04ad",
   "metadata": {},
   "outputs": [],
   "source": [
    "spinx = \"  31   29   27   25   23   21   19   17   15   13   11    9    7    5    3    1\"\n",
    "hamBx = \"0000 1110 0000 0111 0100 0110 0100 1001 0111 0000 0100 0111 0110 1110 0100 0110\"\n",
    "\n",
    "spinB = \"  30   28   26   24   22   20   18   16   14   12   10    8    6    4    2    0\"\n",
    "ct_x1 = \"0000 0001 0000 0001 0000 0001 0000 0000 0001 0000 0000 0001 0001 0001 0000 0001\"\n",
    "\n",
    "ct_x2 = \"0000 0001 0010 0001 0000 0001 0010 0010 0001 0000 0010 0001 0001 0001 0000 0001\"\n",
    "\n",
    "sd_x1 = \"0000 0000 0000 0000 0000 0000 0000 0000 0000 0000 0000 0000 0000 0000 0000 0010\"\n",
    "\n",
    "spiny = \"  63   61   59   57   55   53   51   49   47   45   43   41   39   37   35   33\"\n",
    "hamBy = \"1001 1101 1111 0101 1001 0101 1110 1011 0000 1111 1111 0110 0010 0011 1001 0111\"\n",
    "\n",
    "spinb = \"  62   60   58   56   54   52   50   48   46   44   42   40   38   36   34   32\"\n",
    "ct_y1 = \"0000 0000 0001 0000 0000 0000 0001 0001 0000 0001 0001 0001 0001 0001 0000 0001\"\n",
    "\n",
    "ct_y2 = \"0000 0000 0001 0000 0000 0000 0001 0001 0000 0001 0001 0001 0001 0001 0000 0001\"\n",
    "\n",
    "ct_y3 = \"0010 0010 0011 0010 0010 0000 0011 0001 0010 0011 0001 0001 0011 0011 0010 0001\""
   ]
  },
  {
   "cell_type": "code",
   "execution_count": 32,
   "id": "e6b89b8b",
   "metadata": {},
   "outputs": [
    {
     "name": "stdout",
     "output_type": "stream",
     "text": [
      "1\n"
     ]
    }
   ],
   "source": [
    "readBack = 1\n",
    "\n",
    "if (not readBack):\n",
    "    print(\"HELLO\")\n",
    "else:\n",
    "    print(1)"
   ]
  },
  {
   "cell_type": "code",
   "execution_count": 76,
   "id": "b910960a",
   "metadata": {},
   "outputs": [
    {
     "data": {
      "text/plain": [
       "array([ 0,  1,  2,  3,  4,  5,  6,  7,  8,  9, 10, 11, 12, 13, 14, 15, 16,\n",
       "       17, 18, 19, 20, 21, 22, 23, 24, 25, 26, 27, 28, 29, 30, 31])"
      ]
     },
     "execution_count": 76,
     "metadata": {},
     "output_type": "execute_result"
    }
   ],
   "source": [
    "np.arange(32)"
   ]
  },
  {
   "cell_type": "code",
   "execution_count": 79,
   "id": "ca9bb473",
   "metadata": {},
   "outputs": [],
   "source": [
    "s_b = \"  30   28   26   24   22   20   18   16   14   12   10    8    6    4    2    0\"\n",
    "i_x = \"0100100101100101100001011110101001010000111011010101000110001011\"\n",
    "\n",
    "s_w = \"  31   29   27   25   23   21   19   17   15   13   11    9    7    5    3    1\"\n",
    "i_y = \"0000111000000111010001100100100101110000010001110110111001000110\"\n",
    "\n",
    "for s in range(len(i_x)):\n",
    "    '''\n",
    "    if s%4 == 2:\n",
    "        check = i_x[s] == i_y[s+5]\n",
    "        if check == False:\n",
    "            print(s)\n",
    "    '''\n",
    "    if s%4 == 3:\n",
    "        check = i_x[s] == i_y[s-1]\n",
    "        if check == False:\n",
    "            print(s)\n",
    "        "
   ]
  },
  {
   "cell_type": "code",
   "execution_count": null,
   "id": "208e32a3",
   "metadata": {},
   "outputs": [],
   "source": []
  },
  {
   "cell_type": "markdown",
   "id": "682fe321",
   "metadata": {},
   "source": [
    "### Indices"
   ]
  },
  {
   "cell_type": "code",
   "execution_count": 19,
   "id": "4401dabd",
   "metadata": {},
   "outputs": [],
   "source": [
    "X = 6\n",
    "Y = 6\n",
    "Y2 = int(Y/2)\n",
    "\n",
    "lattice = np.arange(X*Y).reshape(X,Y)\n",
    "\n",
    "lattice_b = np.zeros((X,Y2))\n",
    "lattice_w = np.zeros((X,Y2))\n",
    "\n",
    "for i in range(X):\n",
    "    if i%2 == 0:\n",
    "        lattice_b[i,:] = lattice[i,0::2]\n",
    "        lattice_w[i,:] = lattice[i,1::2]\n",
    "    else:\n",
    "        lattice_b[i,:] = lattice[i,1::2]\n",
    "        lattice_w[i,:] = lattice[i,0::2]\n",
    "        \n",
    "interactions = np.arange(2*X*Y)\n",
    "interactions_reshaped = interactions.reshape((2*X,Y))"
   ]
  },
  {
   "cell_type": "code",
   "execution_count": 20,
   "id": "78340096",
   "metadata": {},
   "outputs": [],
   "source": [
    "is_black = False"
   ]
  },
  {
   "cell_type": "code",
   "execution_count": 21,
   "id": "e7db0af8",
   "metadata": {
    "scrolled": true
   },
   "outputs": [
    {
     "name": "stdout",
     "output_type": "stream",
     "text": [
      "Spin of interest: 1.0\n",
      "Up neighbor: 31.0 with 67\n",
      "Down neighbor: 7.0 with 37\n",
      "Right neighbor: 0.0 with 0\n",
      "Left neighbor: 2.0 with 1\n",
      "----------------------------------\n",
      "Spin of interest: 3.0\n",
      "Up neighbor: 33.0 with 69\n",
      "Down neighbor: 9.0 with 39\n",
      "Right neighbor: 2.0 with 2\n",
      "Left neighbor: 4.0 with 3\n",
      "----------------------------------\n",
      "Spin of interest: 5.0\n",
      "Up neighbor: 35.0 with 71\n",
      "Down neighbor: 11.0 with 41\n",
      "Right neighbor: 4.0 with 4\n",
      "Left neighbor: 0.0 with 5\n",
      "----------------------------------\n",
      "Spin of interest: 6.0\n",
      "Up neighbor: 0.0 with 36\n",
      "Down neighbor: 12.0 with 42\n",
      "Right neighbor: 7.0 with 6\n",
      "Left neighbor: 11.0 with 11\n",
      "----------------------------------\n",
      "Spin of interest: 8.0\n",
      "Up neighbor: 2.0 with 38\n",
      "Down neighbor: 14.0 with 44\n",
      "Right neighbor: 9.0 with 8\n",
      "Left neighbor: 7.0 with 7\n",
      "----------------------------------\n",
      "Spin of interest: 10.0\n",
      "Up neighbor: 4.0 with 40\n",
      "Down neighbor: 16.0 with 46\n",
      "Right neighbor: 11.0 with 10\n",
      "Left neighbor: 9.0 with 9\n",
      "----------------------------------\n",
      "Spin of interest: 13.0\n",
      "Up neighbor: 7.0 with 43\n",
      "Down neighbor: 19.0 with 49\n",
      "Right neighbor: 12.0 with 12\n",
      "Left neighbor: 14.0 with 13\n",
      "----------------------------------\n",
      "Spin of interest: 15.0\n",
      "Up neighbor: 9.0 with 45\n",
      "Down neighbor: 21.0 with 51\n",
      "Right neighbor: 14.0 with 14\n",
      "Left neighbor: 16.0 with 15\n",
      "----------------------------------\n",
      "Spin of interest: 17.0\n",
      "Up neighbor: 11.0 with 47\n",
      "Down neighbor: 23.0 with 53\n",
      "Right neighbor: 16.0 with 16\n",
      "Left neighbor: 12.0 with 17\n",
      "----------------------------------\n",
      "Spin of interest: 18.0\n",
      "Up neighbor: 12.0 with 48\n",
      "Down neighbor: 24.0 with 54\n",
      "Right neighbor: 19.0 with 18\n",
      "Left neighbor: 23.0 with 23\n",
      "----------------------------------\n",
      "Spin of interest: 20.0\n",
      "Up neighbor: 14.0 with 50\n",
      "Down neighbor: 26.0 with 56\n",
      "Right neighbor: 21.0 with 20\n",
      "Left neighbor: 19.0 with 19\n",
      "----------------------------------\n",
      "Spin of interest: 22.0\n",
      "Up neighbor: 16.0 with 52\n",
      "Down neighbor: 28.0 with 58\n",
      "Right neighbor: 23.0 with 22\n",
      "Left neighbor: 21.0 with 21\n",
      "----------------------------------\n",
      "Spin of interest: 25.0\n",
      "Up neighbor: 19.0 with 55\n",
      "Down neighbor: 31.0 with 61\n",
      "Right neighbor: 24.0 with 24\n",
      "Left neighbor: 26.0 with 25\n",
      "----------------------------------\n",
      "Spin of interest: 27.0\n",
      "Up neighbor: 21.0 with 57\n",
      "Down neighbor: 33.0 with 63\n",
      "Right neighbor: 26.0 with 26\n",
      "Left neighbor: 28.0 with 27\n",
      "----------------------------------\n",
      "Spin of interest: 29.0\n",
      "Up neighbor: 23.0 with 59\n",
      "Down neighbor: 35.0 with 65\n",
      "Right neighbor: 28.0 with 28\n",
      "Left neighbor: 24.0 with 29\n",
      "----------------------------------\n",
      "Spin of interest: 30.0\n",
      "Up neighbor: 24.0 with 60\n",
      "Down neighbor: 0.0 with 66\n",
      "Right neighbor: 31.0 with 30\n",
      "Left neighbor: 35.0 with 35\n",
      "----------------------------------\n",
      "Spin of interest: 32.0\n",
      "Up neighbor: 26.0 with 62\n",
      "Down neighbor: 2.0 with 68\n",
      "Right neighbor: 33.0 with 32\n",
      "Left neighbor: 31.0 with 31\n",
      "----------------------------------\n",
      "Spin of interest: 34.0\n",
      "Up neighbor: 28.0 with 64\n",
      "Down neighbor: 4.0 with 70\n",
      "Right neighbor: 35.0 with 34\n",
      "Left neighbor: 33.0 with 33\n",
      "----------------------------------\n"
     ]
    }
   ],
   "source": [
    "for tid in range(X*Y2):\n",
    "    \n",
    "        i = int(tid/Y2)\n",
    "        j = tid % Y2\n",
    "\n",
    "        ipp = (i + 1) if (i + 1 < X) else 0\n",
    "        inn = (i - 1) if (i - 1 >= 0) else X - 1\n",
    "        jpp = (j + 1) if (j + 1 < Y2) else 0\n",
    "        jnn = (j - 1) if (j - 1 >= 0) else Y2 - 1\n",
    "\n",
    "        if (is_black):\n",
    "            \n",
    "            icpp = 2*(X-1)*Y2 + 2*(Y2*(i+1) + j) + i%2\n",
    "            \n",
    "            icnn = 2*(X-1)*Y2 + 2*(Y2*(inn+1) + j) + i%2\n",
    "\n",
    "            joff = jpp if (i%2) else jnn\n",
    "            \n",
    "            if (i % 2):\n",
    "                if (j+1 >= Y2):\n",
    "                    jcoff = 2*(i*Y2 + j + 1) - 1\n",
    "                \n",
    "                else:\n",
    "                    jcoff = 2*(i*Y2 + joff) - 1\n",
    "            else:\n",
    "                jcoff = 2 * (i*Y2 + joff) + 1\n",
    "\n",
    "                \n",
    "            print(\"Spin of interest:\", lattice_b[i,j])\n",
    "            print(\"Up neighbor:\", lattice_w[inn,j], \"with\", interactions[icnn])\n",
    "            print(\"Down neighbor:\", lattice_w[ipp,j], \"with\", interactions[icpp])\n",
    "            print(\"Right neighbor:\", lattice_w[i,j], \"with\", interactions[2*(i*Y2+j)])\n",
    "            print(\"Left neighbor:\", lattice_w[i, joff], \"with\", interactions[jcoff])\n",
    "            print(\"----------------------------------\")\n",
    "    \n",
    "        else:\n",
    "        \n",
    "            icpp = 2*(X - 1)*Y2 + 2*(Y2*(i+1) + j) + (i+1)%2\n",
    "            icnn = 2*(X - 1)*Y2 + 2*(Y2*(inn+1) + j) + (i+1)%2\n",
    "\n",
    "            joff = jnn if (i%2) else jpp\n",
    "\n",
    "            if (i%2):\n",
    "                jcoff = 2*(i*Y2 + joff) + 1\n",
    "            else:\n",
    "                if (j+1 >= Y2):\n",
    "                    jcoff = 2*(i*Y2 + j + 1) - 1\n",
    "                else:\n",
    "                    jcoff = 2*(i*Y2 + joff) - 1\n",
    "\n",
    "            print(\"Spin of interest:\", lattice_w[i,j])\n",
    "            print(\"Up neighbor:\", lattice_b[inn,j], \"with\", interactions[icnn])\n",
    "            print(\"Down neighbor:\", lattice_b[ipp,j], \"with\", interactions[icpp])\n",
    "            print(\"Right neighbor:\", lattice_b[i,j], \"with\", interactions[2*(i*Y2+j)])\n",
    "            print(\"Left neighbor:\", lattice_b[i, joff], \"with\", interactions[jcoff])\n",
    "            print(\"----------------------------------\")"
   ]
  },
  {
   "cell_type": "code",
   "execution_count": 19,
   "id": "297a72de",
   "metadata": {},
   "outputs": [
    {
     "data": {
      "text/plain": [
       "array([[ 0,  1,  2,  3,  4,  5],\n",
       "       [ 6,  7,  8,  9, 10, 11],\n",
       "       [12, 13, 14, 15, 16, 17],\n",
       "       [18, 19, 20, 21, 22, 23],\n",
       "       [24, 25, 26, 27, 28, 29],\n",
       "       [30, 31, 32, 33, 34, 35]])"
      ]
     },
     "execution_count": 19,
     "metadata": {},
     "output_type": "execute_result"
    }
   ],
   "source": [
    "lattice"
   ]
  },
  {
   "cell_type": "code",
   "execution_count": 21,
   "id": "9cb95f06",
   "metadata": {},
   "outputs": [
    {
     "data": {
      "text/plain": [
       "array([[ 0,  1,  2,  3,  4,  5],\n",
       "       [ 6,  7,  8,  9, 10, 11],\n",
       "       [12, 13, 14, 15, 16, 17],\n",
       "       [18, 19, 20, 21, 22, 23],\n",
       "       [24, 25, 26, 27, 28, 29],\n",
       "       [30, 31, 32, 33, 34, 35]])"
      ]
     },
     "execution_count": 21,
     "metadata": {},
     "output_type": "execute_result"
    }
   ],
   "source": [
    "interactions_reshaped[:6,:]"
   ]
  },
  {
   "cell_type": "code",
   "execution_count": 81,
   "id": "cb2d3cb6",
   "metadata": {},
   "outputs": [
    {
     "data": {
      "text/plain": [
       "array([[36, 37, 38, 39, 40, 41],\n",
       "       [42, 43, 44, 45, 46, 47],\n",
       "       [48, 49, 50, 51, 52, 53],\n",
       "       [54, 55, 56, 57, 58, 59],\n",
       "       [60, 61, 62, 63, 64, 65],\n",
       "       [66, 67, 68, 69, 70, 71]])"
      ]
     },
     "execution_count": 81,
     "metadata": {},
     "output_type": "execute_result"
    }
   ],
   "source": [
    "interactions_reshaped[6:,:]"
   ]
  },
  {
   "cell_type": "code",
   "execution_count": null,
   "id": "3256a4dd",
   "metadata": {},
   "outputs": [],
   "source": []
  }
 ],
 "metadata": {
  "kernelspec": {
   "display_name": "OG",
   "language": "python",
   "name": "og"
  },
  "language_info": {
   "codemirror_mode": {
    "name": "ipython",
    "version": 3
   },
   "file_extension": ".py",
   "mimetype": "text/x-python",
   "name": "python",
   "nbconvert_exporter": "python",
   "pygments_lexer": "ipython3",
   "version": "3.9.5"
  }
 },
 "nbformat": 4,
 "nbformat_minor": 5
}
