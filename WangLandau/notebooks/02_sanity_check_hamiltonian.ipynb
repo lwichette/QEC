{
 "cells": [
  {
   "cell_type": "code",
   "execution_count": 1,
   "metadata": {},
   "outputs": [],
   "source": [
    "import numpy as np\n",
    "import os"
   ]
  },
  {
   "cell_type": "code",
   "execution_count": 2,
   "metadata": {},
   "outputs": [],
   "source": [
    "interactions_data = np.loadtxt('../init/open/prob_0.400000/X_12_Y_12/seed_44/error_class_I/interactions/interactions.txt')\n",
    "lattice_data = np.loadtxt('../init/open/prob_0.400000/X_12_Y_12/seed_44/error_class_I/lattice/lattice_-18.txt')\n",
    "\n",
    "nx = 12\n",
    "ny = 12\n",
    "\n",
    "flat_lattice_data = lattice_data.flatten()\n",
    "flat_interaction_data = interactions_data.flatten()"
   ]
  },
  {
   "cell_type": "markdown",
   "metadata": {},
   "source": [
    "This is calc for open boundary energy taken from wang landau utils"
   ]
  },
  {
   "cell_type": "code",
   "execution_count": 3,
   "metadata": {},
   "outputs": [],
   "source": [
    "energy=0\n",
    "for i in range(nx): \n",
    "    for j in range(ny):\n",
    "        s_ij = lattice_data[i][j]\n",
    "        s_up = lattice_data[i - 1][ j] if (i > 0) else 0\n",
    "        s_left = lattice_data[i][j - 1] if (j > 0) else 0\n",
    "        inn =  nx + i - 1 if (i > 0) else 0\n",
    "        jnn =  (j - 1) if (j > 0) else 0\n",
    "        energy += s_ij * (s_up * interactions_data[inn][j] + s_left * interactions_data[i][jnn])\n"
   ]
  },
  {
   "cell_type": "code",
   "execution_count": 4,
   "metadata": {},
   "outputs": [
    {
     "name": "stdout",
     "output_type": "stream",
     "text": [
      "-18.0\n"
     ]
    }
   ],
   "source": [
    "print(energy)"
   ]
  },
  {
   "cell_type": "markdown",
   "metadata": {},
   "source": [
    "This is calc taken from indices open periodic"
   ]
  },
  {
   "cell_type": "code",
   "execution_count": 5,
   "metadata": {},
   "outputs": [],
   "source": [
    "lattice = np.arange(nx*ny).reshape(nx,ny)\n",
    "\n",
    "Y2 = int(ny/2)\n",
    "\n",
    "lattice_b = np.zeros((nx,Y2))\n",
    "lattice_w = np.zeros((nx,Y2))"
   ]
  },
  {
   "cell_type": "code",
   "execution_count": 6,
   "metadata": {},
   "outputs": [],
   "source": [
    "# Get black and white lattices\n",
    "for i in range(nx):\n",
    "    if i%2 == 0:\n",
    "        lattice_b[i,:] = lattice[i,0::2]\n",
    "        lattice_w[i,:] = lattice[i,1::2]\n",
    "    else:\n",
    "        lattice_b[i,:] = lattice[i,1::2]\n",
    "        lattice_w[i,:] = lattice[i,0::2]"
   ]
  },
  {
   "cell_type": "code",
   "execution_count": 7,
   "metadata": {},
   "outputs": [],
   "source": [
    "# Get interactions\n",
    "interactions = np.arange(2*nx*ny)\n",
    "interactions_reshaped = interactions.reshape((2*nx,ny))"
   ]
  },
  {
   "cell_type": "markdown",
   "metadata": {},
   "source": [
    "PERIODIC"
   ]
  },
  {
   "cell_type": "code",
   "execution_count": 8,
   "metadata": {},
   "outputs": [],
   "source": [
    "# is_black = True\n",
    "\n",
    "# energy = 0\n",
    "\n",
    "# for tid in range(nx*Y2):\n",
    "    \n",
    "#         i = int(tid//Y2)\n",
    "#         j = tid % Y2\n",
    "\n",
    "#         ipp = (i + 1) if (i + 1 < nx) else 0\n",
    "#         inn = (i - 1) if (i - 1 >= 0) else nx - 1\n",
    "#         jpp = (j + 1) if (j + 1 < Y2) else 0\n",
    "#         jnn = (j - 1) if (j - 1 >= 0) else Y2 - 1\n",
    "\n",
    "#         if (is_black):\n",
    "            \n",
    "#             icpp = 2*(nx-1)*Y2 + 2*(Y2*(i+1) + j) + i%2\n",
    "            \n",
    "#             icnn = 2*(nx-1)*Y2 + 2*(Y2*(inn+1) + j) + i%2\n",
    "\n",
    "#             joff = jpp if (i%2) else jnn\n",
    "            \n",
    "#             if (i % 2):\n",
    "#                 if (j+1 >= Y2):\n",
    "#                     jcoff = 2*(i*Y2 + j + 1) - 1\n",
    "                \n",
    "#                 else:\n",
    "#                     jcoff = 2*(i*Y2 + joff) - 1\n",
    "#             else:\n",
    "#                 jcoff = 2 * (i*Y2 + joff) + 1\n",
    "\n",
    "#             energy += flat_lattice_data[int(lattice_b[i,j])] * ( \\\n",
    "#                 flat_lattice_data[int(lattice_w[inn,j])]*flat_interaction_data[int(interactions[icnn])] \\\n",
    "#                 + flat_lattice_data[int(lattice_w[ipp,j])]*flat_interaction_data[int(interactions[icpp])] \\\n",
    "#                 + flat_lattice_data[int(lattice_w[i,j])]*flat_interaction_data[int(interactions[2*(i*Y2+j)])] \\\n",
    "#                 + flat_lattice_data[int(lattice_w[i, joff])]*flat_interaction_data[int(interactions[jcoff])] \\\n",
    "#             )\n",
    "\n",
    "#             print(\"Spin of interest:\", lattice_b[i,j], \": \", flat_lattice_data[int(lattice_b[i,j])])\n",
    "#             print(\"Up neighbor:\", lattice_w[inn,j], \": \", flat_lattice_data[int(lattice_w[inn,j])], \"with\", interactions[icnn], \": \", flat_interaction_data[int(interactions[icnn])])\n",
    "#             print(\"Down neighbor:\", lattice_w[ipp,j], \": \", flat_lattice_data[int(lattice_w[ipp,j])],  \"with\", interactions[icpp], \": \", flat_interaction_data[int(interactions[2*(i*Y2+j)])])\n",
    "#             print(\"Right neighbor:\", lattice_w[i,j], \": \", flat_lattice_data[int(lattice_w[i,j])], \"with\", interactions[2*(i*Y2+j)], \": \", flat_interaction_data[int(interactions[2*(i*Y2+j)])])\n",
    "#             print(\"Left neighbor:\", lattice_w[i, joff], \": \", flat_lattice_data[int(lattice_w[i, joff])], \"with\", interactions[jcoff], \": \", flat_interaction_data[int(interactions[jcoff])])\n",
    "#             print(\"----------------------------------\")\n",
    "\n",
    "\n",
    "\n",
    "# print(energy, \"\\n\")\n",
    "\n",
    "            \n"
   ]
  },
  {
   "cell_type": "markdown",
   "metadata": {},
   "source": [
    "OPEN"
   ]
  },
  {
   "cell_type": "markdown",
   "metadata": {},
   "source": []
  },
  {
   "cell_type": "code",
   "execution_count": 9,
   "metadata": {},
   "outputs": [],
   "source": [
    "is_black = True\n",
    "\n",
    "energy = 0\n",
    "\n",
    "for tid in range(nx*Y2):\n",
    "    \n",
    "        i = int(tid/Y2)\n",
    "        j = tid % Y2\n",
    "\n",
    "        ipp = (i + 1) if (i + 1 < nx) else 0\n",
    "        inn = (i - 1) if (i - 1 >= 0) else nx - 1\n",
    "        jpp = (j + 1) if (j + 1 < Y2) else 0\n",
    "        jnn = (j - 1) if (j - 1 >= 0) else Y2 - 1\n",
    "        \n",
    "        c_up = 1-int(inn/(nx-1))\n",
    "        c_down = 1-int((i+1)/nx)\n",
    "        \n",
    "        if (is_black):\n",
    "            \n",
    "            icpp = 2*(nx-1)*Y2 + 2*(Y2*(i+1) + j) + i%2\n",
    "            \n",
    "            icnn = 2*(nx-1)*Y2 + 2*(Y2*(inn+1) + j) + i%2\n",
    "\n",
    "            joff = jpp if (i%2) else jnn\n",
    "            \n",
    "            if (i % 2):\n",
    "                c_side = 1-int((j+1)/Y2)\n",
    "                \n",
    "                if (j+1 >= Y2):\n",
    "                    jcoff = 2*(i*Y2 + j + 1) - 1\n",
    "                \n",
    "                else:\n",
    "                    jcoff = 2*(i*Y2 + joff) - 1\n",
    "            else:\n",
    "                c_side = 1-int(jnn/(Y2-1))\n",
    "                \n",
    "                jcoff = 2 * (i*Y2 + joff) + 1\n",
    "\n",
    "            energy += flat_lattice_data[int(lattice_b[i,j])] * ( \\\n",
    "                c_up * flat_lattice_data[int(lattice_w[inn,j])] * flat_interaction_data[int(interactions[icnn])] \\\n",
    "                + c_down * flat_lattice_data[int(lattice_w[ipp,j])] * flat_interaction_data[int(interactions[icpp])] \\\n",
    "                + flat_lattice_data[int(lattice_w[i,j])]*flat_interaction_data[int(interactions[2*(i*Y2+j)])] \\\n",
    "                + c_side * flat_lattice_data[int(lattice_w[i, joff])]*flat_interaction_data[int(interactions[jcoff])] \\\n",
    "            )\n",
    "\n",
    "                \n",
    "            # print(\"Spin of interest:\", lattice_b[i,j])\n",
    "            # print(\"Up neighbor:\", lattice_w[inn,j], \"with\", c_up, \"and interaction\", interactions[icnn])\n",
    "            # print(\"Down neighbor:\", lattice_w[ipp,j], \"with\", c_down, \"and interaction\", interactions[icpp])\n",
    "            # print(\"Right neighbor:\", lattice_w[i,j], \"with\", 1, \"and interaction\", interactions[2*(i*Y2+j)])\n",
    "            # print(\"Left neighbor:\", lattice_w[i, joff], \"with\", c_side, \"and interaction\", interactions[jcoff])\n",
    "            # print(\"----------------------------------\")\n"
   ]
  },
  {
   "cell_type": "code",
   "execution_count": 10,
   "metadata": {},
   "outputs": [
    {
     "name": "stdout",
     "output_type": "stream",
     "text": [
      "-18.0\n"
     ]
    }
   ],
   "source": [
    "print(energy)"
   ]
  }
 ],
 "metadata": {
  "kernelspec": {
   "display_name": "Python 3 (ipykernel)",
   "language": "python",
   "name": "python3"
  },
  "language_info": {
   "codemirror_mode": {
    "name": "ipython",
    "version": 3
   },
   "file_extension": ".py",
   "mimetype": "text/x-python",
   "name": "python",
   "nbconvert_exporter": "python",
   "pygments_lexer": "ipython3",
   "version": "3.10.12"
  }
 },
 "nbformat": 4,
 "nbformat_minor": 4
}
