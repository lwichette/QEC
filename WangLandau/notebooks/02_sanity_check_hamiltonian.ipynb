{
 "cells": [
  {
   "cell_type": "code",
   "execution_count": 1,
   "metadata": {},
   "outputs": [],
   "source": [
    "import numpy as np\n",
    "import os"
   ]
  },
  {
   "cell_type": "code",
   "execution_count": 2,
   "metadata": {},
   "outputs": [],
   "source": [
    "os.chdir('..')"
   ]
  },
  {
   "cell_type": "markdown",
   "metadata": {},
   "source": [
    "### Periodic energies"
   ]
  },
  {
   "cell_type": "code",
   "execution_count": 3,
   "metadata": {},
   "outputs": [],
   "source": [
    "def calc_periodic_energy(lattice, interactions):\n",
    "    energy = 0\n",
    "    \n",
    "    nx = lattice.shape[0]\n",
    "    ny = lattice.shape[1]\n",
    "    \n",
    "    for i in range(lattice.shape[0]):\n",
    "        for j in range(lattice.shape[1]):\n",
    "            inn =  i - 1 if (i - 1 >= 0) else lattice.shape[0] - 1\n",
    "            jnn =  j - 1 if (j - 1 >= 0) else lattice.shape[1] - 1\n",
    "\n",
    "            energy += lattice[i,j] * (lattice[inn,j] * interactions[nx + inn,j] + lattice[i,jnn] * interactions[i, jnn])\n",
    "            \n",
    "    return energy\n",
    "            "
   ]
  },
  {
   "cell_type": "code",
   "execution_count": 5,
   "metadata": {},
   "outputs": [],
   "source": [
    "path = \"init/periodic/prob_0.000000/X_10_Y_10/seed_\"\n",
    "seed = 42\n",
    "\n",
    "for i in range(42,52):\n",
    "    run_path = path + f\"{i}/error_class_I\"\n",
    "    interactions = np.loadtxt(f\"{run_path}/interactions/interactions.txt\")\n",
    "    \n",
    "    lattice_names = os.listdir(f'{run_path}/lattice/')\n",
    "\n",
    "    for ln in lattice_names:\n",
    "        energy = ln.split('_')[1].split('.')[0]\n",
    "        lattice = np.loadtxt(f\"{run_path}/lattice/{ln}\")\n",
    "        calc_energy = calc_periodic_energy(lattice, interactions)\n",
    "        \n",
    "        if (int(energy) - calc_energy) != 0:\n",
    "            print(calc_energy - int(energy))"
   ]
  },
  {
   "cell_type": "markdown",
   "metadata": {},
   "source": [
    "### Open boundary"
   ]
  },
  {
   "cell_type": "code",
   "execution_count": 17,
   "metadata": {},
   "outputs": [],
   "source": [
    "def calc_open_energy(lattice_data, interactions_data, nx, ny):\n",
    "    \n",
    "    energy=0\n",
    "    \n",
    "    for i in range(nx): \n",
    "        for j in range(ny):\n",
    "            s_ij = lattice_data[i][j]\n",
    "            s_up = lattice_data[i - 1][j] if (i > 0) else 0\n",
    "            s_left = lattice_data[i][j - 1] if (j > 0) else 0\n",
    "            inn =  nx + i - 1 if (i > 0) else 0\n",
    "            jnn =  (j - 1) if (j > 0) else 0\n",
    "                \n",
    "            energy += s_ij * (s_up * interactions_data[inn][j] + s_left * interactions_data[i][jnn])\n",
    "    return energy"
   ]
  },
  {
   "cell_type": "code",
   "execution_count": 19,
   "metadata": {},
   "outputs": [],
   "source": [
    "for i in range(10):\n",
    "    interactions = np.loadtxt(f\"interactions/interactions_{i}/interactions.txt\")\n",
    "    \n",
    "    lattice_names = os.listdir(f'lattice/lattice_{i}')\n",
    "    \n",
    "    for ln in lattice_names:\n",
    "        energy = ln.split('_')[1].split('.')[0]\n",
    "        lattice = np.loadtxt(f\"lattice/lattice_{i}/{ln}\")\n",
    "        \n",
    "        calc_energy = calc_open_energy(lattice, interactions, lattice.shape[0], lattice.shape[1])\n",
    "        \n",
    "        if (int(energy) - calc_energy) != 0:\n",
    "            print(calc_energy - int(energy))"
   ]
  },
  {
   "cell_type": "code",
   "execution_count": 2,
   "metadata": {},
   "outputs": [
    {
     "ename": "FileNotFoundError",
     "evalue": "../error_lattice.txt not found.",
     "output_type": "error",
     "traceback": [
      "\u001b[0;31m---------------------------------------------------------------------------\u001b[0m",
      "\u001b[0;31mFileNotFoundError\u001b[0m                         Traceback (most recent call last)",
      "Cell \u001b[0;32mIn[2], line 2\u001b[0m\n\u001b[1;32m      1\u001b[0m interactions_data \u001b[38;5;241m=\u001b[39m np\u001b[38;5;241m.\u001b[39mloadtxt(\u001b[38;5;124m'\u001b[39m\u001b[38;5;124m../init/open/prob_0.400000/X_12_Y_12/seed_44/error_class_I/interactions/interactions.txt\u001b[39m\u001b[38;5;124m'\u001b[39m)\n\u001b[0;32m----> 2\u001b[0m lattice_data \u001b[38;5;241m=\u001b[39m \u001b[43mnp\u001b[49m\u001b[38;5;241;43m.\u001b[39;49m\u001b[43mloadtxt\u001b[49m\u001b[43m(\u001b[49m\u001b[38;5;124;43m'\u001b[39;49m\u001b[38;5;124;43m../error_lattice.txt\u001b[39;49m\u001b[38;5;124;43m'\u001b[39;49m\u001b[43m)\u001b[49m\n\u001b[1;32m      4\u001b[0m nx \u001b[38;5;241m=\u001b[39m \u001b[38;5;241m12\u001b[39m\n\u001b[1;32m      5\u001b[0m ny \u001b[38;5;241m=\u001b[39m \u001b[38;5;241m12\u001b[39m\n",
      "File \u001b[0;32m~/envs/og/lib/python3.9/site-packages/numpy/lib/npyio.py:1338\u001b[0m, in \u001b[0;36mloadtxt\u001b[0;34m(fname, dtype, comments, delimiter, converters, skiprows, usecols, unpack, ndmin, encoding, max_rows, quotechar, like)\u001b[0m\n\u001b[1;32m   1335\u001b[0m \u001b[38;5;28;01mif\u001b[39;00m \u001b[38;5;28misinstance\u001b[39m(delimiter, \u001b[38;5;28mbytes\u001b[39m):\n\u001b[1;32m   1336\u001b[0m     delimiter \u001b[38;5;241m=\u001b[39m delimiter\u001b[38;5;241m.\u001b[39mdecode(\u001b[38;5;124m'\u001b[39m\u001b[38;5;124mlatin1\u001b[39m\u001b[38;5;124m'\u001b[39m)\n\u001b[0;32m-> 1338\u001b[0m arr \u001b[38;5;241m=\u001b[39m \u001b[43m_read\u001b[49m\u001b[43m(\u001b[49m\u001b[43mfname\u001b[49m\u001b[43m,\u001b[49m\u001b[43m \u001b[49m\u001b[43mdtype\u001b[49m\u001b[38;5;241;43m=\u001b[39;49m\u001b[43mdtype\u001b[49m\u001b[43m,\u001b[49m\u001b[43m \u001b[49m\u001b[43mcomment\u001b[49m\u001b[38;5;241;43m=\u001b[39;49m\u001b[43mcomment\u001b[49m\u001b[43m,\u001b[49m\u001b[43m \u001b[49m\u001b[43mdelimiter\u001b[49m\u001b[38;5;241;43m=\u001b[39;49m\u001b[43mdelimiter\u001b[49m\u001b[43m,\u001b[49m\n\u001b[1;32m   1339\u001b[0m \u001b[43m            \u001b[49m\u001b[43mconverters\u001b[49m\u001b[38;5;241;43m=\u001b[39;49m\u001b[43mconverters\u001b[49m\u001b[43m,\u001b[49m\u001b[43m \u001b[49m\u001b[43mskiplines\u001b[49m\u001b[38;5;241;43m=\u001b[39;49m\u001b[43mskiprows\u001b[49m\u001b[43m,\u001b[49m\u001b[43m \u001b[49m\u001b[43musecols\u001b[49m\u001b[38;5;241;43m=\u001b[39;49m\u001b[43musecols\u001b[49m\u001b[43m,\u001b[49m\n\u001b[1;32m   1340\u001b[0m \u001b[43m            \u001b[49m\u001b[43munpack\u001b[49m\u001b[38;5;241;43m=\u001b[39;49m\u001b[43munpack\u001b[49m\u001b[43m,\u001b[49m\u001b[43m \u001b[49m\u001b[43mndmin\u001b[49m\u001b[38;5;241;43m=\u001b[39;49m\u001b[43mndmin\u001b[49m\u001b[43m,\u001b[49m\u001b[43m \u001b[49m\u001b[43mencoding\u001b[49m\u001b[38;5;241;43m=\u001b[39;49m\u001b[43mencoding\u001b[49m\u001b[43m,\u001b[49m\n\u001b[1;32m   1341\u001b[0m \u001b[43m            \u001b[49m\u001b[43mmax_rows\u001b[49m\u001b[38;5;241;43m=\u001b[39;49m\u001b[43mmax_rows\u001b[49m\u001b[43m,\u001b[49m\u001b[43m \u001b[49m\u001b[43mquote\u001b[49m\u001b[38;5;241;43m=\u001b[39;49m\u001b[43mquotechar\u001b[49m\u001b[43m)\u001b[49m\n\u001b[1;32m   1343\u001b[0m \u001b[38;5;28;01mreturn\u001b[39;00m arr\n",
      "File \u001b[0;32m~/envs/og/lib/python3.9/site-packages/numpy/lib/npyio.py:975\u001b[0m, in \u001b[0;36m_read\u001b[0;34m(fname, delimiter, comment, quote, imaginary_unit, usecols, skiplines, max_rows, converters, ndmin, unpack, dtype, encoding)\u001b[0m\n\u001b[1;32m    973\u001b[0m     fname \u001b[38;5;241m=\u001b[39m os\u001b[38;5;241m.\u001b[39mfspath(fname)\n\u001b[1;32m    974\u001b[0m \u001b[38;5;28;01mif\u001b[39;00m \u001b[38;5;28misinstance\u001b[39m(fname, \u001b[38;5;28mstr\u001b[39m):\n\u001b[0;32m--> 975\u001b[0m     fh \u001b[38;5;241m=\u001b[39m \u001b[43mnp\u001b[49m\u001b[38;5;241;43m.\u001b[39;49m\u001b[43mlib\u001b[49m\u001b[38;5;241;43m.\u001b[39;49m\u001b[43m_datasource\u001b[49m\u001b[38;5;241;43m.\u001b[39;49m\u001b[43mopen\u001b[49m\u001b[43m(\u001b[49m\u001b[43mfname\u001b[49m\u001b[43m,\u001b[49m\u001b[43m \u001b[49m\u001b[38;5;124;43m'\u001b[39;49m\u001b[38;5;124;43mrt\u001b[39;49m\u001b[38;5;124;43m'\u001b[39;49m\u001b[43m,\u001b[49m\u001b[43m \u001b[49m\u001b[43mencoding\u001b[49m\u001b[38;5;241;43m=\u001b[39;49m\u001b[43mencoding\u001b[49m\u001b[43m)\u001b[49m\n\u001b[1;32m    976\u001b[0m     \u001b[38;5;28;01mif\u001b[39;00m encoding \u001b[38;5;129;01mis\u001b[39;00m \u001b[38;5;28;01mNone\u001b[39;00m:\n\u001b[1;32m    977\u001b[0m         encoding \u001b[38;5;241m=\u001b[39m \u001b[38;5;28mgetattr\u001b[39m(fh, \u001b[38;5;124m'\u001b[39m\u001b[38;5;124mencoding\u001b[39m\u001b[38;5;124m'\u001b[39m, \u001b[38;5;124m'\u001b[39m\u001b[38;5;124mlatin1\u001b[39m\u001b[38;5;124m'\u001b[39m)\n",
      "File \u001b[0;32m~/envs/og/lib/python3.9/site-packages/numpy/lib/_datasource.py:193\u001b[0m, in \u001b[0;36mopen\u001b[0;34m(path, mode, destpath, encoding, newline)\u001b[0m\n\u001b[1;32m    156\u001b[0m \u001b[38;5;250m\u001b[39m\u001b[38;5;124;03m\"\"\"\u001b[39;00m\n\u001b[1;32m    157\u001b[0m \u001b[38;5;124;03mOpen `path` with `mode` and return the file object.\u001b[39;00m\n\u001b[1;32m    158\u001b[0m \n\u001b[0;32m   (...)\u001b[0m\n\u001b[1;32m    189\u001b[0m \n\u001b[1;32m    190\u001b[0m \u001b[38;5;124;03m\"\"\"\u001b[39;00m\n\u001b[1;32m    192\u001b[0m ds \u001b[38;5;241m=\u001b[39m DataSource(destpath)\n\u001b[0;32m--> 193\u001b[0m \u001b[38;5;28;01mreturn\u001b[39;00m \u001b[43mds\u001b[49m\u001b[38;5;241;43m.\u001b[39;49m\u001b[43mopen\u001b[49m\u001b[43m(\u001b[49m\u001b[43mpath\u001b[49m\u001b[43m,\u001b[49m\u001b[43m \u001b[49m\u001b[43mmode\u001b[49m\u001b[43m,\u001b[49m\u001b[43m \u001b[49m\u001b[43mencoding\u001b[49m\u001b[38;5;241;43m=\u001b[39;49m\u001b[43mencoding\u001b[49m\u001b[43m,\u001b[49m\u001b[43m \u001b[49m\u001b[43mnewline\u001b[49m\u001b[38;5;241;43m=\u001b[39;49m\u001b[43mnewline\u001b[49m\u001b[43m)\u001b[49m\n",
      "File \u001b[0;32m~/envs/og/lib/python3.9/site-packages/numpy/lib/_datasource.py:533\u001b[0m, in \u001b[0;36mDataSource.open\u001b[0;34m(self, path, mode, encoding, newline)\u001b[0m\n\u001b[1;32m    530\u001b[0m     \u001b[38;5;28;01mreturn\u001b[39;00m _file_openers[ext](found, mode\u001b[38;5;241m=\u001b[39mmode,\n\u001b[1;32m    531\u001b[0m                               encoding\u001b[38;5;241m=\u001b[39mencoding, newline\u001b[38;5;241m=\u001b[39mnewline)\n\u001b[1;32m    532\u001b[0m \u001b[38;5;28;01melse\u001b[39;00m:\n\u001b[0;32m--> 533\u001b[0m     \u001b[38;5;28;01mraise\u001b[39;00m \u001b[38;5;167;01mFileNotFoundError\u001b[39;00m(\u001b[38;5;124mf\u001b[39m\u001b[38;5;124m\"\u001b[39m\u001b[38;5;132;01m{\u001b[39;00mpath\u001b[38;5;132;01m}\u001b[39;00m\u001b[38;5;124m not found.\u001b[39m\u001b[38;5;124m\"\u001b[39m)\n",
      "\u001b[0;31mFileNotFoundError\u001b[0m: ../error_lattice.txt not found."
     ]
    }
   ],
   "source": [
    "interactions_data = np.loadtxt('../init/open/prob_0.400000/X_12_Y_12/seed_44/error_class_I/interactions/interactions.txt')\n",
    "lattice_data = np.loadtxt('../error_lattice.txt')\n",
    "\n",
    "nx = 12\n",
    "ny = 12\n",
    "\n",
    "flat_lattice_data = lattice_data.flatten()\n",
    "flat_interaction_data = interactions_data.flatten()"
   ]
  },
  {
   "cell_type": "code",
   "execution_count": 3,
   "metadata": {},
   "outputs": [
    {
     "ename": "NameError",
     "evalue": "name 'flat_interaction_data' is not defined",
     "output_type": "error",
     "traceback": [
      "\u001b[0;31m---------------------------------------------------------------------------\u001b[0m",
      "\u001b[0;31mNameError\u001b[0m                                 Traceback (most recent call last)",
      "Cell \u001b[0;32mIn[3], line 1\u001b[0m\n\u001b[0;32m----> 1\u001b[0m \u001b[43mflat_interaction_data\u001b[49m\n",
      "\u001b[0;31mNameError\u001b[0m: name 'flat_interaction_data' is not defined"
     ]
    }
   ],
   "source": [
    "flat_interaction_data"
   ]
  },
  {
   "cell_type": "markdown",
   "metadata": {},
   "source": [
    "This is calc for open boundary energy taken from wang landau utils"
   ]
  },
  {
   "cell_type": "code",
   "execution_count": 1,
   "metadata": {},
   "outputs": [],
   "source": [
    "import numpy as np\n",
    "import os"
   ]
  },
  {
   "cell_type": "code",
   "execution_count": 6,
   "metadata": {},
   "outputs": [],
   "source": [
    "def calc_energy(lattice_data, interactions_data, nx, ny):\n",
    "    \n",
    "    energy=0\n",
    "    \n",
    "    for i in range(nx): \n",
    "        for j in range(ny):\n",
    "            s_ij = lattice_data[i][j]\n",
    "            s_up = lattice_data[i - 1][j] if (i > 0) else 0\n",
    "            s_left = lattice_data[i][j - 1] if (j > 0) else 0\n",
    "            inn =  nx + i - 1 if (i > 0) else 0\n",
    "            jnn =  (j - 1) if (j > 0) else 0\n",
    "                \n",
    "            energy += s_ij * (s_up * interactions_data[inn][j] + s_left * interactions_data[i][jnn])\n",
    "    return energy\n"
   ]
  },
  {
   "cell_type": "code",
   "execution_count": 22,
   "metadata": {},
   "outputs": [],
   "source": [
    "names = os.listdir('../error')\n",
    "interactions_data = np.loadtxt('../error/interactions_.txt')\n",
    "\n",
    "before_energies = {}\n",
    "before_name_energies = {}\n",
    "\n",
    "after_energies = {}\n",
    "after_name_energies = {}\n",
    "\n",
    "for n in os.listdir(\"../error\"):\n",
    "    if \"before\" in n:\n",
    "        walker = n.split('_')[2]\n",
    "        energy = n.split('_')[3]\n",
    "        lattice = np.loadtxt(f\"../error/{n}\")\n",
    "        \n",
    "        before_name_energies[walker] = int(energy.split('.')[0])\n",
    "        before_energies[walker] = calc_energy(lattice, interactions_data, 12, 12)\n",
    "        \n",
    "    elif \"after\" in n:\n",
    "        walker = n.split('_')[2]\n",
    "        energy = n.split('_')[3]\n",
    "        lattice = np.loadtxt(f\"../error/{n}\")\n",
    "        \n",
    "        after_name_energies[walker] = int(energy.split('.')[0])\n",
    "        after_energies[walker] = calc_energy(lattice, interactions_data, 12, 12)"
   ]
  },
  {
   "cell_type": "code",
   "execution_count": 23,
   "metadata": {},
   "outputs": [
    {
     "name": "stdout",
     "output_type": "stream",
     "text": [
      "Walker 5 with energy diff before -12.0\n",
      "Walker 5 with energy diff after -12.0\n",
      "Walker 6 with energy diff before -4.0\n",
      "Walker 6 with energy diff after -4.0\n",
      "Walker 7 with energy diff before 12.0\n",
      "Walker 7 with energy diff after 12.0\n",
      "Walker 8 with energy diff before 14.0\n",
      "Walker 8 with energy diff after 14.0\n",
      "Walker 9 with energy diff before 2.0\n",
      "Walker 9 with energy diff after 2.0\n",
      "Walker 10 with energy diff before 2.0\n",
      "Walker 10 with energy diff after 2.0\n",
      "Walker 11 with energy diff before 18.0\n",
      "Walker 11 with energy diff after 20.0\n",
      "Walker 12 with energy diff before 8.0\n",
      "Walker 12 with energy diff after 8.0\n",
      "Walker 13 with energy diff before 6.0\n",
      "Walker 13 with energy diff after 6.0\n",
      "Walker 14 with energy diff before -2.0\n",
      "Walker 14 with energy diff after -2.0\n",
      "Walker 15 with energy diff before 4.0\n",
      "Walker 15 with energy diff after 4.0\n",
      "Walker 16 with energy diff before -2.0\n",
      "Walker 17 with energy diff before 10.0\n",
      "Walker 17 with energy diff after 10.0\n",
      "Walker 18 with energy diff after 2.0\n",
      "Walker 19 with energy diff before -2.0\n",
      "Walker 19 with energy diff after -2.0\n",
      "Walker 20 with energy diff before -20.0\n",
      "Walker 20 with energy diff after -18.0\n",
      "Walker 21 with energy diff before 4.0\n",
      "Walker 21 with energy diff after 4.0\n",
      "Walker 23 with energy diff before -16.0\n",
      "Walker 23 with energy diff after -16.0\n",
      "Walker 24 with energy diff before 12.0\n",
      "Walker 24 with energy diff after 12.0\n",
      "Walker 25 with energy diff before 14.0\n",
      "Walker 25 with energy diff after 14.0\n",
      "Walker 27 with energy diff before 14.0\n",
      "Walker 27 with energy diff after 14.0\n",
      "Walker 28 with energy diff before 12.0\n",
      "Walker 28 with energy diff after 14.0\n",
      "Walker 29 with energy diff before 2.0\n",
      "Walker 29 with energy diff after 2.0\n",
      "Walker 30 with energy diff before 2.0\n",
      "Walker 30 with energy diff after 2.0\n",
      "Walker 31 with energy diff before -2.0\n",
      "Walker 31 with energy diff after -2.0\n",
      "Walker 32 with energy diff before -2.0\n",
      "Walker 32 with energy diff after -2.0\n",
      "Walker 33 with energy diff before 6.0\n",
      "Walker 33 with energy diff after 6.0\n",
      "Walker 34 with energy diff before 10.0\n",
      "Walker 34 with energy diff after 8.0\n",
      "Walker 36 with energy diff before 14.0\n",
      "Walker 36 with energy diff after 14.0\n",
      "Walker 37 with energy diff before -10.0\n",
      "Walker 37 with energy diff after -10.0\n",
      "Walker 38 with energy diff before -8.0\n",
      "Walker 38 with energy diff after -8.0\n",
      "Walker 39 with energy diff before -2.0\n",
      "Walker 39 with energy diff after -4.0\n",
      "Walker 40 with energy diff before -4.0\n",
      "Walker 40 with energy diff after -4.0\n",
      "Walker 41 with energy diff before -2.0\n",
      "Walker 42 with energy diff before -4.0\n",
      "Walker 42 with energy diff after -2.0\n",
      "Walker 43 with energy diff before -22.0\n",
      "Walker 43 with energy diff after -22.0\n",
      "Walker 44 with energy diff before -6.0\n",
      "Walker 44 with energy diff after -6.0\n"
     ]
    }
   ],
   "source": [
    "for i in range(50):\n",
    "    energy_diff_before = before_energies[str(i)] - before_name_energies[str(i)]\n",
    "    energy_diff_after = after_energies[str(i)] - after_name_energies[(str(i))]\n",
    "    \n",
    "    if (energy_diff_before!=0):\n",
    "        print(f\"Walker {i} with energy diff before {energy_diff_before}\")\n",
    "    if (energy_diff_after!=0):\n",
    "        print(f\"Walker {i} with energy diff after {energy_diff_after}\")"
   ]
  },
  {
   "cell_type": "code",
   "execution_count": 52,
   "metadata": {},
   "outputs": [
    {
     "name": "stdout",
     "output_type": "stream",
     "text": [
      "up  -1.0 left 1.0 spin -1.0\n",
      "up interaction -1.0 left interaction -1.0\n",
      "-150.0\n",
      "up  -1.0 left -1.0 spin -1.0\n",
      "up interaction -1.0 left interaction -1.0\n",
      "-148.0\n",
      "[[0. 0. 0. 0. 0. 0. 0. 0. 0. 0. 0. 0.]\n",
      " [0. 0. 0. 0. 0. 0. 0. 0. 0. 0. 0. 0.]\n",
      " [0. 0. 0. 0. 0. 0. 0. 0. 0. 0. 0. 0.]\n",
      " [0. 0. 0. 0. 0. 0. 0. 0. 0. 0. 0. 0.]\n",
      " [0. 0. 0. 0. 0. 0. 0. 0. 0. 0. 0. 0.]\n",
      " [0. 0. 0. 0. 0. 0. 0. 0. 0. 0. 0. 0.]\n",
      " [0. 0. 0. 0. 0. 0. 0. 0. 0. 0. 0. 0.]\n",
      " [0. 0. 0. 0. 0. 0. 0. 0. 0. 0. 0. 0.]\n",
      " [2. 0. 0. 0. 0. 0. 0. 0. 0. 0. 0. 0.]\n",
      " [0. 0. 0. 0. 0. 0. 0. 0. 0. 0. 0. 0.]\n",
      " [0. 0. 0. 0. 0. 0. 0. 0. 0. 0. 0. 0.]\n",
      " [0. 0. 0. 0. 0. 0. 0. 0. 0. 0. 0. 0.]]\n"
     ]
    }
   ],
   "source": [
    "lattice5b = np.loadtxt('../error/lattice_before_5_-162.txt')\n",
    "lattice5a = np.loadtxt('../error/lattice_after_5_-158.txt')\n",
    "\n",
    "print(calc_energy(lattice5b, interactions_data, 12, 12))\n",
    "print(calc_energy(lattice5a, interactions_data, 12, 12))\n",
    "\n",
    "print(lattice5b - lattice5a )"
   ]
  },
  {
   "cell_type": "code",
   "execution_count": 58,
   "metadata": {},
   "outputs": [],
   "source": [
    "nx = 12\n",
    "ny = 12\n",
    "\n",
    "lattice = np.ones((12,12))\n",
    "interactions = np.ones((24,12))\n",
    "\n",
    "i = 3\n",
    "j = 3\n",
    "\n",
    "ipp = (i + 1) if (i + 1 < nx) else 0\n",
    "inn = (i - 1) if (i - 1 >= 0) else nx - 1\n",
    "jpp = (j + 1) if (j + 1 < ny) else 0\n",
    "jnn = (j - 1) if (j - 1 >= 0) else ny - 1\n",
    "\n",
    "old_energy = -1*lattice[i,j]*(lattice[inn, j]*interactions[nx + inn, j] + lattice[i,jnn]*interactions[i,jnn] + lattice[ipp,j]*interactions[nx + i,j] + lattice[i,jpp]*interactions[i,j])\n",
    "new_energy = -1*old_energy"
   ]
  },
  {
   "cell_type": "code",
   "execution_count": 59,
   "metadata": {},
   "outputs": [
    {
     "name": "stdout",
     "output_type": "stream",
     "text": [
      "-4.0\n",
      "4.0\n"
     ]
    }
   ],
   "source": [
    "print(old_energy)\n",
    "print(new_energy)"
   ]
  },
  {
   "cell_type": "markdown",
   "metadata": {},
   "source": [
    "This is calc taken from indices open periodic"
   ]
  },
  {
   "cell_type": "code",
   "execution_count": 7,
   "metadata": {},
   "outputs": [],
   "source": [
    "lattice = np.arange(nx*ny).reshape(nx,ny)\n",
    "\n",
    "Y2 = int(ny/2)\n",
    "\n",
    "lattice_b = np.zeros((nx,Y2))\n",
    "lattice_w = np.zeros((nx,Y2))"
   ]
  },
  {
   "cell_type": "code",
   "execution_count": 8,
   "metadata": {},
   "outputs": [],
   "source": [
    "# Get black and white lattices\n",
    "for i in range(nx):\n",
    "    if i%2 == 0:\n",
    "        lattice_b[i,:] = lattice[i,0::2]\n",
    "        lattice_w[i,:] = lattice[i,1::2]\n",
    "    else:\n",
    "        lattice_b[i,:] = lattice[i,1::2]\n",
    "        lattice_w[i,:] = lattice[i,0::2]"
   ]
  },
  {
   "cell_type": "code",
   "execution_count": 14,
   "metadata": {},
   "outputs": [],
   "source": [
    "interactions = np.arange(2*nx*ny)"
   ]
  },
  {
   "cell_type": "markdown",
   "metadata": {},
   "source": [
    "PERIODIC"
   ]
  },
  {
   "cell_type": "code",
   "execution_count": 8,
   "metadata": {},
   "outputs": [],
   "source": [
    "# is_black = True\n",
    "\n",
    "# energy = 0\n",
    "\n",
    "# for tid in range(nx*Y2):\n",
    "    \n",
    "#         i = int(tid//Y2)\n",
    "#         j = tid % Y2\n",
    "\n",
    "#         ipp = (i + 1) if (i + 1 < nx) else 0\n",
    "#         inn = (i - 1) if (i - 1 >= 0) else nx - 1\n",
    "#         jpp = (j + 1) if (j + 1 < Y2) else 0\n",
    "#         jnn = (j - 1) if (j - 1 >= 0) else Y2 - 1\n",
    "\n",
    "#         if (is_black):\n",
    "            \n",
    "#             icpp = 2*(nx-1)*Y2 + 2*(Y2*(i+1) + j) + i%2\n",
    "            \n",
    "#             icnn = 2*(nx-1)*Y2 + 2*(Y2*(inn+1) + j) + i%2\n",
    "\n",
    "#             joff = jpp if (i%2) else jnn\n",
    "            \n",
    "#             if (i % 2):\n",
    "#                 if (j+1 >= Y2):\n",
    "#                     jcoff = 2*(i*Y2 + j + 1) - 1\n",
    "                \n",
    "#                 else:\n",
    "#                     jcoff = 2*(i*Y2 + joff) - 1\n",
    "#             else:\n",
    "#                 jcoff = 2 * (i*Y2 + joff) + 1\n",
    "\n",
    "#             energy += flat_lattice_data[int(lattice_b[i,j])] * ( \\\n",
    "#                 flat_lattice_data[int(lattice_w[inn,j])]*flat_interaction_data[int(interactions[icnn])] \\\n",
    "#                 + flat_lattice_data[int(lattice_w[ipp,j])]*flat_interaction_data[int(interactions[icpp])] \\\n",
    "#                 + flat_lattice_data[int(lattice_w[i,j])]*flat_interaction_data[int(interactions[2*(i*Y2+j)])] \\\n",
    "#                 + flat_lattice_data[int(lattice_w[i, joff])]*flat_interaction_data[int(interactions[jcoff])] \\\n",
    "#             )\n",
    "\n",
    "#             print(\"Spin of interest:\", lattice_b[i,j], \": \", flat_lattice_data[int(lattice_b[i,j])])\n",
    "#             print(\"Up neighbor:\", lattice_w[inn,j], \": \", flat_lattice_data[int(lattice_w[inn,j])], \"with\", interactions[icnn], \": \", flat_interaction_data[int(interactions[icnn])])\n",
    "#             print(\"Down neighbor:\", lattice_w[ipp,j], \": \", flat_lattice_data[int(lattice_w[ipp,j])],  \"with\", interactions[icpp], \": \", flat_interaction_data[int(interactions[2*(i*Y2+j)])])\n",
    "#             print(\"Right neighbor:\", lattice_w[i,j], \": \", flat_lattice_data[int(lattice_w[i,j])], \"with\", interactions[2*(i*Y2+j)], \": \", flat_interaction_data[int(interactions[2*(i*Y2+j)])])\n",
    "#             print(\"Left neighbor:\", lattice_w[i, joff], \": \", flat_lattice_data[int(lattice_w[i, joff])], \"with\", interactions[jcoff], \": \", flat_interaction_data[int(interactions[jcoff])])\n",
    "#             print(\"----------------------------------\")\n",
    "\n",
    "\n",
    "\n",
    "# print(energy, \"\\n\")\n",
    "\n",
    "            \n"
   ]
  },
  {
   "cell_type": "markdown",
   "metadata": {},
   "source": [
    "OPEN"
   ]
  },
  {
   "cell_type": "markdown",
   "metadata": {},
   "source": []
  },
  {
   "cell_type": "code",
   "execution_count": 15,
   "metadata": {},
   "outputs": [],
   "source": [
    "is_black = True\n",
    "\n",
    "energy = 0\n",
    "\n",
    "for tid in range(nx*Y2):\n",
    "    \n",
    "        i = int(tid/Y2)\n",
    "        j = tid % Y2\n",
    "\n",
    "        ipp = (i + 1) if (i + 1 < nx) else 0\n",
    "        inn = (i - 1) if (i - 1 >= 0) else nx - 1\n",
    "        jpp = (j + 1) if (j + 1 < Y2) else 0\n",
    "        jnn = (j - 1) if (j - 1 >= 0) else Y2 - 1\n",
    "        \n",
    "        c_up = 1-int(inn/(nx-1))\n",
    "        c_down = 1-int((i+1)/nx)\n",
    "        \n",
    "        if (is_black):\n",
    "            \n",
    "            icpp = 2*(nx-1)*Y2 + 2*(Y2*(i+1) + j) + i%2\n",
    "            \n",
    "            icnn = 2*(nx-1)*Y2 + 2*(Y2*(inn+1) + j) + i%2\n",
    "\n",
    "            joff = jpp if (i%2) else jnn\n",
    "            \n",
    "            if (i % 2):\n",
    "                c_side = 1-int((j+1)/Y2)\n",
    "                \n",
    "                if (j+1 >= Y2):\n",
    "                    jcoff = 2*(i*Y2 + j + 1) - 1\n",
    "                \n",
    "                else:\n",
    "                    jcoff = 2*(i*Y2 + joff) - 1\n",
    "            else:\n",
    "                c_side = 1-int(jnn/(Y2-1))\n",
    "                \n",
    "                jcoff = 2 * (i*Y2 + joff) + 1\n",
    "\n",
    "            energy += flat_lattice_data[int(lattice_b[i,j])] * ( \\\n",
    "                c_up * flat_lattice_data[int(lattice_w[inn,j])] * flat_interaction_data[int(interactions[icnn])] \\\n",
    "                + c_down * flat_lattice_data[int(lattice_w[ipp,j])] * flat_interaction_data[int(interactions[icpp])] \\\n",
    "                + flat_lattice_data[int(lattice_w[i,j])]*flat_interaction_data[int(interactions[2*(i*Y2+j)])] \\\n",
    "                + c_side * flat_lattice_data[int(lattice_w[i, joff])]*flat_interaction_data[int(interactions[jcoff])] \\\n",
    "            )\n",
    "\n",
    "                \n",
    "            # print(\"Spin of interest:\", lattice_b[i,j])\n",
    "            # print(\"Up neighbor:\", lattice_w[inn,j], \"with\", c_up, \"and interaction\", interactions[icnn])\n",
    "            # print(\"Down neighbor:\", lattice_w[ipp,j], \"with\", c_down, \"and interaction\", interactions[icpp])\n",
    "            # print(\"Right neighbor:\", lattice_w[i,j], \"with\", 1, \"and interaction\", interactions[2*(i*Y2+j)])\n",
    "            # print(\"Left neighbor:\", lattice_w[i, joff], \"with\", c_side, \"and interaction\", interactions[jcoff])\n",
    "            # print(\"----------------------------------\")\n"
   ]
  },
  {
   "cell_type": "code",
   "execution_count": 17,
   "metadata": {},
   "outputs": [
    {
     "name": "stdout",
     "output_type": "stream",
     "text": [
      "176.0\n"
     ]
    }
   ],
   "source": [
    "print(energy)"
   ]
  },
  {
   "cell_type": "code",
   "execution_count": null,
   "metadata": {},
   "outputs": [],
   "source": []
  }
 ],
 "metadata": {
  "kernelspec": {
   "display_name": "Python 3 (ipykernel)",
   "language": "python",
   "name": "python3"
  },
  "language_info": {
   "codemirror_mode": {
    "name": "ipython",
    "version": 3
   },
   "file_extension": ".py",
   "mimetype": "text/x-python",
   "name": "python",
   "nbconvert_exporter": "python",
   "pygments_lexer": "ipython3",
   "version": "3.9.5"
  }
 },
 "nbformat": 4,
 "nbformat_minor": 4
}
