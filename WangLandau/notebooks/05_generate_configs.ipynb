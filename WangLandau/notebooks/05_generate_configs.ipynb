{
 "cells": [
  {
   "cell_type": "code",
   "execution_count": 1,
   "metadata": {},
   "outputs": [],
   "source": [
    "import os\n",
    "os.chdir('..')"
   ]
  },
  {
   "cell_type": "code",
   "execution_count": 2,
   "metadata": {},
   "outputs": [],
   "source": [
    "import pandas as pd\n",
    "from tabulate import tabulate\n",
    "import numpy as np"
   ]
  },
  {
   "cell_type": "markdown",
   "metadata": {},
   "source": [
    "### Prerun"
   ]
  },
  {
   "cell_type": "code",
   "execution_count": 3,
   "metadata": {},
   "outputs": [],
   "source": [
    "X = [12, 14, 18]\n",
    "Y = [12, 14, 18]\n",
    "\n",
    "p = [0.06, 0.1]\n",
    "niters = 1e05\n",
    "loop = 1000\n",
    "inter = 100\n",
    "walker = 5000\n",
    "\n",
    "seed = np.arange(43,48)\n",
    "\n",
    "boundary = [0, 1]\n",
    "logical_error_type = ['I', 'X']"
   ]
  },
  {
   "cell_type": "code",
   "execution_count": 4,
   "metadata": {},
   "outputs": [],
   "source": [
    "### Adjust based on runs you want to have\n",
    "rows = []\n",
    "array_task = 1\n",
    "\n",
    "for b in boundary:\n",
    "    for prob in p:\n",
    "        for e in logical_error_type:\n",
    "            for i in range(len(X)):\n",
    "                for s in seed:    \n",
    "                    rows.append([array_task, X[i], Y[i], prob, niters, loop, walker, s, inter, e, b])\n",
    "                    array_task += 1"
   ]
  },
  {
   "cell_type": "code",
   "execution_count": 5,
   "metadata": {},
   "outputs": [],
   "source": [
    "df = pd.DataFrame(rows, columns=[\"ArrayTaskID\", \"X\", \"Y\", \"prob\", \"num_iterations\", \"loops\", \"walker\", \"seed\", \"intervals\", \"error\", \"boundary\"])"
   ]
  },
  {
   "cell_type": "code",
   "execution_count": 6,
   "metadata": {},
   "outputs": [],
   "source": [
    "table_string = tabulate(df, headers=\"keys\", tablefmt='plain', showindex=False)"
   ]
  },
  {
   "cell_type": "code",
   "execution_count": 7,
   "metadata": {},
   "outputs": [],
   "source": [
    "with open('configs/prerun.txt', 'w') as f:\n",
    "    f.write(table_string)"
   ]
  },
  {
   "cell_type": "markdown",
   "metadata": {},
   "source": [
    "### Wang Landau"
   ]
  },
  {
   "cell_type": "code",
   "execution_count": 8,
   "metadata": {},
   "outputs": [],
   "source": [
    "X = [12, 14, 18]\n",
    "Y = [12, 14, 18]\n",
    "\n",
    "p = [0.06, 0.1]\n",
    "\n",
    "num_iterations = 10000\n",
    "alpha = 0.8\n",
    "beta = 1e-08\n",
    "\n",
    "intervals = 20\n",
    "\n",
    "walker = 5\n",
    "\n",
    "overlap = 0.25\n",
    "seed_hist = np.arange(43, 48)\n",
    "seed_run = 42\n",
    "\n",
    "error = ['I', 'X']\n",
    "boundary = [0, 1]"
   ]
  },
  {
   "cell_type": "code",
   "execution_count": 18,
   "metadata": {},
   "outputs": [],
   "source": [
    "row = []\n",
    "array_task = 1\n",
    "\n",
    "for b in boundary:\n",
    "    for prob in p:\n",
    "        for e in error:\n",
    "            for sh in seed_hist:\n",
    "                for i in range(len(X)):\n",
    "                    row.append(\n",
    "                        [array_task, X[i], Y[i], num_iterations, prob, alpha, beta, intervals, walker, overlap, sh, seed_run, e, b]\n",
    "                        )\n",
    "                    array_task += 1"
   ]
  },
  {
   "cell_type": "code",
   "execution_count": 19,
   "metadata": {},
   "outputs": [],
   "source": [
    "df = pd.DataFrame(row, columns = [\"ArrayTaskID\", \"X\", \"Y\", \"num_iterations\", \"p\", \"alpha\", \"beta\", \"intervals\", \"walker\", \"overlap\", \"seed_hist\", \"seed_run\", \"error\", \"boundary\"])"
   ]
  },
  {
   "cell_type": "code",
   "execution_count": 20,
   "metadata": {},
   "outputs": [],
   "source": [
    "table_string = tabulate(df, headers=\"keys\", tablefmt='plain', showindex=False)\n",
    "\n",
    "with open('configs/main.txt', 'w') as f:\n",
    "    f.write(table_string)"
   ]
  },
  {
   "cell_type": "code",
   "execution_count": null,
   "metadata": {},
   "outputs": [],
   "source": []
  }
 ],
 "metadata": {
  "kernelspec": {
   "display_name": "og",
   "language": "python",
   "name": "python3"
  },
  "language_info": {
   "codemirror_mode": {
    "name": "ipython",
    "version": 3
   },
   "file_extension": ".py",
   "mimetype": "text/x-python",
   "name": "python",
   "nbconvert_exporter": "python",
   "pygments_lexer": "ipython3",
   "version": "3.10.14"
  }
 },
 "nbformat": 4,
 "nbformat_minor": 2
}
