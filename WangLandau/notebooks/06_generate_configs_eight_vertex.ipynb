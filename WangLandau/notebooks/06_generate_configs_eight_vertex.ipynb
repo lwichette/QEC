{
 "cells": [
  {
   "cell_type": "code",
   "execution_count": 1,
   "metadata": {},
   "outputs": [],
   "source": [
    "import os\n",
    "os.chdir('..')"
   ]
  },
  {
   "cell_type": "code",
   "execution_count": 2,
   "metadata": {},
   "outputs": [],
   "source": [
    "import pandas as pd\n",
    "from tabulate import tabulate\n",
    "import numpy as np\n",
    "import itertools"
   ]
  },
  {
   "cell_type": "markdown",
   "metadata": {},
   "source": [
    "### Configs through combinations for prerun and main run"
   ]
  },
  {
   "cell_type": "code",
   "execution_count": 3,
   "metadata": {},
   "outputs": [],
   "source": [
    "alpha=0.8\n",
    "\n",
    "beta=0.00000001\n",
    "\n",
    "walker_wl=4\n",
    "\n",
    "overlap_wl=0.25\n",
    "\n",
    "seed_hist=501\n",
    "\n",
    "seed_run=1\n",
    "\n",
    "num_interactions=5000\n",
    "\n",
    "replica_exchange_steps=20\n",
    "\n",
    "intervals_main=16\n",
    "\n",
    "iterations=1000\n",
    "\n",
    "time_limit=10000\n",
    "\n",
    "histogram_scale=1\n",
    "\n",
    "qubit_specific_noise=0\n",
    "\n",
    "num_loops = 1000\n",
    "\n",
    "num_walker_prerun = 512\n",
    "\n",
    "num_intervals_prerun = 64\n",
    "\n",
    "error_mean = 0\n",
    "\n",
    "error_variance = 0"
   ]
  },
  {
   "cell_type": "code",
   "execution_count": 4,
   "metadata": {},
   "outputs": [],
   "source": [
    "prob_x_err = [0.03, 0.05, 0.06, 0.08]\n",
    "prob_y_err = [0.03, 0.05, 0.06, 0.08]\n",
    "prob_z_err = [0.03, 0.05, 0.06, 0.08]\n",
    "\n",
    "x = [4, 6]\n",
    "y = [4, 6]\n",
    "\n",
    "xh_err = [0, 1]\n",
    "xv_err = [0, 1]\n",
    "zh_err = [0, 1]\n",
    "zv_err = [0, 1]\n",
    "\n",
    "# Combine all lists into a single list of lists\n",
    "all_lists = [\n",
    "    prob_x_err,\n",
    "    prob_y_err,\n",
    "    prob_z_err,\n",
    "    x,\n",
    "    y,\n",
    "    xh_err,\n",
    "    xv_err,\n",
    "    zh_err,\n",
    "    zv_err\n",
    "]\n",
    "\n",
    "# Use itertools.product to get all combinations\n",
    "combinations = list(itertools.product(*all_lists))\n"
   ]
  },
  {
   "cell_type": "code",
   "execution_count": 7,
   "metadata": {},
   "outputs": [],
   "source": [
    "# Use itertools.product to get all combinations\n",
    "combinations = list(itertools.product(*all_lists))\n",
    "\n",
    "# Create a DataFrame from the combinations\n",
    "df_combinations = pd.DataFrame(combinations, columns=[\n",
    "    'prob_x_err', 'prob_y_err', 'prob_z_err', 'x', 'y',\n",
    "    'xh_err', 'xv_err', 'zh_err', 'zv_err'\n",
    "])\n",
    "\n",
    "df_combinations = df_combinations[df_combinations['x']==df_combinations['y']]\n",
    "df_combinations = df_combinations[df_combinations[['prob_x_err', 'prob_y_err' ,'prob_z_err']].apply(lambda row: row.nunique() == 1, axis=1)]\n",
    "df_combinations.reset_index(inplace=True, drop=True)"
   ]
  },
  {
   "cell_type": "code",
   "execution_count": 8,
   "metadata": {},
   "outputs": [],
   "source": [
    "# Create a DataFrame for the parameters\n",
    "params = pd.DataFrame({\n",
    "    'ArrayTaskID': np.arange(1, len(df_combinations)+1),\n",
    "    'alpha': [alpha] * len(df_combinations),\n",
    "    'beta': [beta] * len(df_combinations),\n",
    "    'walker_wl': [walker_wl] * len(df_combinations),\n",
    "    'overlap_wl': [overlap_wl] * len(df_combinations),\n",
    "    'seed_hist': [seed_hist] * len(df_combinations),\n",
    "    'seed_run': range(seed_run, seed_run + len(df_combinations)),\n",
    "    'num_interactions': [num_interactions] * len(df_combinations),\n",
    "    'replica_exchange_steps': [replica_exchange_steps] * len(df_combinations),\n",
    "    'intervals_main': [intervals_main] * len(df_combinations),\n",
    "    'iterations': [iterations] * len(df_combinations),\n",
    "    'time_limit': [time_limit] * len(df_combinations),\n",
    "    'histogram_scale': [histogram_scale] * len(df_combinations),\n",
    "    'qubit_specific_noise': [qubit_specific_noise] * len(df_combinations),\n",
    "    'num_loops': [num_loops] * len(df_combinations),\n",
    "    'num_walker_prerun': [num_walker_prerun] * len(df_combinations),\n",
    "    'num_intervals_prerun': [num_intervals_prerun] * len(df_combinations),\n",
    "    'error_mean': [error_mean] * len(df_combinations),\n",
    "    'error_variance': [error_variance]*len(df_combinations)\n",
    "})\n"
   ]
  },
  {
   "cell_type": "markdown",
   "metadata": {},
   "source": [
    "#### Important Columns always need to be in the same order as right now"
   ]
  },
  {
   "cell_type": "code",
   "execution_count": 9,
   "metadata": {},
   "outputs": [],
   "source": [
    "df_final = pd.concat([params, df_combinations], axis=1)"
   ]
  },
  {
   "cell_type": "code",
   "execution_count": 11,
   "metadata": {},
   "outputs": [],
   "source": [
    "df_final.loc[df_final['x'] == 8, 'seed_hist'] = 1\n",
    "df_final.loc[df_final['x'] == 8, 'num_interactions'] = 6000\n",
    "df_final.loc[df_final['x'] == 8, 'intervals_main'] = 20"
   ]
  },
  {
   "cell_type": "code",
   "execution_count": 12,
   "metadata": {},
   "outputs": [],
   "source": [
    "table_string = tabulate(df_final, headers=\"keys\", tablefmt='plain', showindex=False)\n",
    "\n",
    "with open('configs/eight_vertex.txt', 'w') as f:\n",
    "    f.write(table_string)"
   ]
  },
  {
   "cell_type": "markdown",
   "metadata": {},
   "source": [
    "### With for loops"
   ]
  },
  {
   "cell_type": "code",
   "execution_count": 4,
   "metadata": {},
   "outputs": [],
   "source": [
    "rows = []\n",
    "array_task = 1\n",
    "\n",
    "for prob in [0.05]:\n",
    "    for x in [4]:\n",
    "        for y in [4]:\n",
    "            if x==y:\n",
    "                for xh_err in [0]:\n",
    "                    for xv_err in [0]:\n",
    "                        for zh_err in [0]:\n",
    "                            for zv_err in [0]:\n",
    "                                rows.append([\n",
    "                                    array_task, alpha, beta, walker_wl, overlap_wl, seed_hist, seed_run, num_interactions, replica_exchange_steps,\n",
    "                                    intervals_main, iterations, time_limit, num_loops, num_walker_prerun, num_intervals_prerun, prob, x, y,\n",
    "                                    xh_err, xv_err, zh_err, zv_err, histogram_scale, qubit_specific_noise\n",
    "                                ])\n",
    "\n",
    "                                array_task += 1\n",
    "                                seed_run += 1\n"
   ]
  },
  {
   "cell_type": "code",
   "execution_count": 5,
   "metadata": {},
   "outputs": [],
   "source": [
    "df = pd.DataFrame(rows, columns=[\"ArrayTaskID\", \"alpha\", \"beta\", \"walker_wl\", \"overlap\", \"seed_hist\", \"seed_run\",\n",
    "                                \"num_interactions\", \"replica_exchange_offset\", \"intervals_wl\", \"iterations\",\n",
    "                                \"time_limit\", \"num_loops\", \"num_walker_prerun\", \"num_intervals_prerun\", \"probability\",\n",
    "                                \"x\", \"y\", \"xh_err\", \"xv_err\", \"zh_err\", \"zv_err\", \"hist_scale\", \"qubit_specific_noise\"])"
   ]
  },
  {
   "cell_type": "code",
   "execution_count": 8,
   "metadata": {},
   "outputs": [],
   "source": [
    "# table_string = tabulate(df, headers=\"keys\", tablefmt='plain', showindex=False)\n",
    "\n",
    "# with open('configs/eight_vertex.txt', 'w') as f:\n",
    "#     f.write(table_string)"
   ]
  }
 ],
 "metadata": {
  "kernelspec": {
   "display_name": "og",
   "language": "python",
   "name": "python3"
  },
  "language_info": {
   "codemirror_mode": {
    "name": "ipython",
    "version": 3
   },
   "file_extension": ".py",
   "mimetype": "text/x-python",
   "name": "python",
   "nbconvert_exporter": "python",
   "pygments_lexer": "ipython3",
   "version": "3.9.5"
  }
 },
 "nbformat": 4,
 "nbformat_minor": 2
}
