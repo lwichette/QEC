{
 "cells": [
  {
   "cell_type": "code",
   "execution_count": 1,
   "metadata": {},
   "outputs": [],
   "source": [
    "import matplotlib.pyplot as plt\n",
    "import mpmath as mp\n",
    "mp.mp.dps = 30 #higher precision\n",
    "import pandas as pd\n",
    "from PyMatching import *\n",
    "import scipy"
   ]
  },
  {
   "cell_type": "code",
   "execution_count": 2,
   "metadata": {},
   "outputs": [],
   "source": [
    "boundary_type = \"periodic\"\n",
    "batch_results = []\n",
    "probabilities = [0.1, 0.11, 0.12, 0.13]\n",
    "sizes = [4, 6]\n",
    "intervals = 10\n",
    "iterations = 1000\n",
    "overlap = 0.25\n",
    "walkers = 8\n",
    "alpha = 0.8\n",
    "beta = 1e-8\n",
    "exchange = 20"
   ]
  },
  {
   "cell_type": "code",
   "execution_count": 3,
   "metadata": {},
   "outputs": [],
   "source": [
    "low_temp_dict = {}\n",
    "nish_temp_dict = {}\n",
    "\n",
    "for size in sizes:\n",
    "\n",
    "    low_temp_dict[size] = {}\n",
    "    nish_temp_dict[size] = {}\n",
    "\n",
    "    for p in probabilities:\n",
    "        filename = f\"../results_curves/periodic/X_{size}_Y_{size}/prob_{p:.6f}/free_energies_intervals_{intervals}_iterations_{iterations}_overlap_{overlap:.6f}_walkers_{walkers}_alpha_{alpha:.6f}_beta_{beta:.10f}_exchange_offset_{exchange}.pickle\"\n",
    "\n",
    "        df = pd.read_pickle(filename)\n",
    "\n",
    "        nish_curve = mp.mpf(1)\n",
    "        low_temp_curve = mp.mpf(1)\n",
    "\n",
    "        # Group by 'histogram_seed' to avoid explicit loops\n",
    "        grouped_df = df.groupby('histogram_seed')\n",
    "\n",
    "        for _, df_run in grouped_df:\n",
    "            # Vectorized comparison for 'free_energy_nish_temp'\n",
    "            free_energy_I_nish = df_run.loc[df_run['error'] == 'I', 'free_energy_nish_temp'].values[0]\n",
    "            other_errors_nish = df_run.loc[df_run['error'] != 'I', 'free_energy_nish_temp']\n",
    "\n",
    "            nish_curve -= mp.mpf(int((free_energy_I_nish < other_errors_nish).any())) / mp.mpf(len(grouped_df))\n",
    "\n",
    "            # Vectorized comparison for 'free_energy_low_temp'\n",
    "            free_energy_I_low = df_run.loc[df_run['error'] == 'I', 'free_energy_low_temp'].values[0]\n",
    "            other_errors_low = df_run.loc[df_run['error'] != 'I', 'free_energy_low_temp']\n",
    "\n",
    "            low_temp_curve -= mp.mpf(int((free_energy_I_low < other_errors_low).any())) / mp.mpf(len(grouped_df))\n",
    "\n",
    "        number_success_nish = round(len(grouped_df) * nish_curve)\n",
    "        number_success_low_temp = round(len(grouped_df) * low_temp_curve)\n",
    "\n",
    "        number_failure_nish = len(grouped_df) - number_success_nish\n",
    "        number_failure_low_temp = len(grouped_df) - number_success_low_temp\n",
    "\n",
    "        lower_bound_nish = nish_curve - scipy.stats.beta.ppf(0.025, 0.5 + number_success_nish, 0.5 + number_failure_nish)\n",
    "        lower_bound_low_temp = low_temp_curve - scipy.stats.beta.ppf(0.025, 0.5 + number_success_low_temp, 0.5 + number_failure_low_temp)\n",
    "\n",
    "        upper_bound_nish = scipy.stats.beta.ppf(0.975, 0.5 + number_success_nish, 0.5 + number_failure_nish) - nish_curve\n",
    "        upper_bound_low_temp = scipy.stats.beta.ppf(0.975, 0.5 + number_success_low_temp, 0.5 + number_failure_low_temp) - low_temp_curve\n",
    "\n",
    "        low_temp_dict[size][p] = [low_temp_curve, lower_bound_low_temp, upper_bound_low_temp]\n",
    "        nish_temp_dict[size][p] = [nish_curve, lower_bound_nish, upper_bound_nish]"
   ]
  },
  {
   "cell_type": "code",
   "execution_count": null,
   "metadata": {},
   "outputs": [],
   "source": []
  },
  {
   "cell_type": "code",
   "execution_count": 4,
   "metadata": {},
   "outputs": [
    {
     "data": {
      "text/plain": [
       "{4: {0.1: [mpf('0.741391627375339334190598657022038'),\n",
       "   mpf('0.0103566104487493253117374304731317'),\n",
       "   mpf('0.0101570121630441330495248795903347')],\n",
       "  0.11: [mpf('0.698571428571428571428571428541943'),\n",
       "   mpf('0.0108301211393237511210989915620645'),\n",
       "   mpf('0.0106659523122795636090082943060792')],\n",
       "  0.12: [mpf('0.656571428571428571428571428537835'),\n",
       "   mpf('0.0111868424782492914865932626579892'),\n",
       "   mpf('0.0110573968563601032449079347262155')],\n",
       "  0.13: [mpf('0.615428571428571428571428571390953'),\n",
       "   mpf('0.0114424335352861709884970358105248'),\n",
       "   mpf('0.0113470026868116653823952739769255')]},\n",
       " 6: {0.1: [mpf('0.768857142857142857142857142834533'),\n",
       "   mpf('0.00998537240146541587344180305938211'),\n",
       "   mpf('0.00976309620789022465053059414510641')],\n",
       "  0.11: [mpf('0.709571428571428571428571428543019'),\n",
       "   mpf('0.0107194963658037674442929138527877'),\n",
       "   mpf('0.0105462334148894203116648376529877')],\n",
       "  0.12: [mpf('0.650142857142857142857142857108635'),\n",
       "   mpf('0.0112326974191063838150382382519512'),\n",
       "   mpf('0.0111085665945027573440841349583151')],\n",
       "  0.13: [mpf('0.600142857142857142857142857103744'),\n",
       "   mpf('0.0115151475824171716867892557663331'),\n",
       "   mpf('0.0114323542026242858580888294066349')]}}"
      ]
     },
     "execution_count": 4,
     "metadata": {},
     "output_type": "execute_result"
    }
   ],
   "source": [
    "low_temp_dict"
   ]
  },
  {
   "cell_type": "code",
   "execution_count": null,
   "metadata": {},
   "outputs": [],
   "source": []
  }
 ],
 "metadata": {
  "kernelspec": {
   "display_name": "og",
   "language": "python",
   "name": "python3"
  },
  "language_info": {
   "codemirror_mode": {
    "name": "ipython",
    "version": 3
   },
   "file_extension": ".py",
   "mimetype": "text/x-python",
   "name": "python",
   "nbconvert_exporter": "python",
   "pygments_lexer": "ipython3",
   "version": "3.9.5"
  }
 },
 "nbformat": 4,
 "nbformat_minor": 2
}
