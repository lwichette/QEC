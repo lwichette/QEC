{
 "cells": [
  {
   "cell_type": "code",
   "execution_count": 42,
   "metadata": {},
   "outputs": [],
   "source": [
    "import os\n",
    "import numpy as np\n",
    "import json"
   ]
  },
  {
   "cell_type": "markdown",
   "metadata": {},
   "source": [
    "### Check if histograms share the same energy"
   ]
  },
  {
   "cell_type": "code",
   "execution_count": 28,
   "metadata": {},
   "outputs": [],
   "source": [
    "def read_results_file(path):\n",
    "\n",
    "    with open(path, 'r') as file:\n",
    "        content = file.read()\n",
    "\n",
    "    content = content.strip().rstrip(',')\n",
    "\n",
    "    corrected_json = f'[{content}]'\n",
    "\n",
    "    try:\n",
    "        data = json.loads(corrected_json)\n",
    "    except json.JSONDecodeError as e:\n",
    "        print(f\"Failed to parse JSON: {e}\")\n",
    "\n",
    "    return data\n",
    "\n",
    "def has_duplicates(input_list):\n",
    "    seen = set()\n",
    "    for item in input_list:\n",
    "        if item in seen:\n",
    "            return True  # Found a duplicate\n",
    "        seen.add(item)\n",
    "    return False  # No duplicates found\n"
   ]
  },
  {
   "cell_type": "code",
   "execution_count": 29,
   "metadata": {},
   "outputs": [],
   "source": [
    "filename = f\"../results/periodic/prob_0.100000/X_4_Y_4/error_class_I/StitchedHistogram_intervals_10_iterations_1000_overlap_0.250000_walkers_8_alpha_0.800000_beta_0.0000010000_exchange_offset50.txt\"\n",
    "results = read_results_file(filename)\n",
    "\n",
    "for seed in range(1000, 2000):\n",
    "\n",
    "    # Prerun results\n",
    "    histogram_energy = []\n",
    "\n",
    "    with open(f\"../init/periodic/prob_0.100000/X_4_Y_4/error_class_I/seed_{seed}/histogram/histogram.txt\", \"r\") as file:\n",
    "        for line in file:\n",
    "            parts = line.split()\n",
    "            if int(parts[1]) == 1:\n",
    "                histogram_energy.append(int(parts[0]))\n",
    "\n",
    "    for res in results:\n",
    "        if int(res[\"histogram_seed\"]) == seed:\n",
    "            keys_as_int = list(map(int, res[\"results\"].keys()))\n",
    "            break\n",
    "\n",
    "    if keys_as_int != histogram_energy:\n",
    "        print(seed)\n",
    "\n"
   ]
  },
  {
   "cell_type": "markdown",
   "metadata": {},
   "source": [
    "### Check duplicates"
   ]
  },
  {
   "cell_type": "code",
   "execution_count": 32,
   "metadata": {},
   "outputs": [],
   "source": [
    "filename = f\"../results/periodic/prob_0.100000/X_4_Y_4/error_class_I/StitchedHistogram_intervals_10_iterations_1000_overlap_0.250000_walkers_8_alpha_0.800000_beta_0.0000010000_exchange_offset50.txt\"\n",
    "results = read_results_file(filename)\n",
    "\n",
    "for res in results:\n",
    "    keys_as_int = list(map(int, res[\"results\"].keys()))\n",
    "    if has_duplicates(keys_as_int):\n",
    "        print(res)"
   ]
  },
  {
   "cell_type": "markdown",
   "metadata": {},
   "source": [
    "### Reproducability"
   ]
  },
  {
   "cell_type": "code",
   "execution_count": 33,
   "metadata": {},
   "outputs": [],
   "source": [
    "filename = f\"../results/periodic/prob_0.100000/X_4_Y_4/error_class_I/StitchedHistogram_intervals_10_iterations_1000_overlap_0.250000_walkers_8_alpha_0.800000_beta_0.0000010000_exchange_offset50.txt\"\n",
    "results = read_results_file(filename)\n",
    "\n",
    "filename_reproduce = f\"../results/periodic_reproduce/prob_0.100000/X_4_Y_4/error_class_I/StitchedHistogram_intervals_10_iterations_1000_overlap_0.250000_walkers_8_alpha_0.800000_beta_0.0000010000_exchange_offset50.txt\"\n",
    "results_reproduce = read_results_file(filename_reproduce)"
   ]
  },
  {
   "cell_type": "code",
   "execution_count": 44,
   "metadata": {},
   "outputs": [],
   "source": [
    "diffs = []\n",
    "\n",
    "for res in results:\n",
    "    hist_seed = res['histogram_seed']\n",
    "    log_g_result = res['results']\n",
    "\n",
    "    for rep in results_reproduce:\n",
    "        if rep['histogram_seed'] == hist_seed:\n",
    "            results_rep = rep['results']\n",
    "            diff = [log_g_result[key] - results_rep[key] for key in log_g_result]\n",
    "            diffs.append(np.max(np.abs(diff)))"
   ]
  },
  {
   "cell_type": "code",
   "execution_count": null,
   "metadata": {},
   "outputs": [],
   "source": []
  }
 ],
 "metadata": {
  "kernelspec": {
   "display_name": "og",
   "language": "python",
   "name": "python3"
  },
  "language_info": {
   "codemirror_mode": {
    "name": "ipython",
    "version": 3
   },
   "file_extension": ".py",
   "mimetype": "text/x-python",
   "name": "python",
   "nbconvert_exporter": "python",
   "pygments_lexer": "ipython3",
   "version": "3.9.5"
  }
 },
 "nbformat": 4,
 "nbformat_minor": 2
}
