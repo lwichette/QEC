{
 "cells": [
  {
   "cell_type": "code",
   "execution_count": 1,
   "metadata": {},
   "outputs": [],
   "source": [
    "import pickle\n",
    "import numpy as np"
   ]
  },
  {
   "cell_type": "markdown",
   "metadata": {},
   "source": [
    "### Filtered Results"
   ]
  },
  {
   "cell_type": "code",
   "execution_count": 2,
   "metadata": {},
   "outputs": [],
   "source": [
    "with open('filtered_results.pkl', 'rb') as f:\n",
    "    filtered_results = pickle.load(f)"
   ]
  },
  {
   "cell_type": "code",
   "execution_count": 3,
   "metadata": {},
   "outputs": [],
   "source": [
    "with open('filtered_results_without.pkl', 'rb') as f:\n",
    "    filtered_results_without = pickle.load(f)"
   ]
  },
  {
   "cell_type": "code",
   "execution_count": 5,
   "metadata": {},
   "outputs": [
    {
     "name": "stdout",
     "output_type": "stream",
     "text": [
      "4.25807115903308e-11\n"
     ]
    }
   ],
   "source": [
    "diffs = []\n",
    "\n",
    "for key in filtered_results:\n",
    "    for seed in range(1000):\n",
    "        for error in range(4):\n",
    "            for i in range(2):\n",
    "                diff = [filtered_results[key][seed][error][i][j] - filtered_results_without[key][seed][error][i][j] for j in range(len(filtered_results_without[key][seed][error][i]))]\n",
    "                diffs.append(diff)\n",
    "\n",
    "max_diffs = []\n",
    "\n",
    "for d in diffs:\n",
    "    max_diffs.append(np.max(np.abs(d)))\n",
    "\n",
    "print(np.max(max_diffs))"
   ]
  },
  {
   "cell_type": "markdown",
   "metadata": {},
   "source": [
    "### Free energies batch"
   ]
  },
  {
   "cell_type": "code",
   "execution_count": 6,
   "metadata": {},
   "outputs": [],
   "source": [
    "with open('free_energies_batch.pkl', 'rb') as f:\n",
    "    free_energies_batch = pickle.load(f)"
   ]
  },
  {
   "cell_type": "code",
   "execution_count": null,
   "metadata": {},
   "outputs": [],
   "source": []
  },
  {
   "cell_type": "code",
   "execution_count": 7,
   "metadata": {},
   "outputs": [],
   "source": [
    "with open('free_energies_batch_without.pkl', 'rb') as f:\n",
    "    free_energies_batch_without = pickle.load(f)"
   ]
  },
  {
   "cell_type": "code",
   "execution_count": 14,
   "metadata": {},
   "outputs": [
    {
     "data": {
      "text/plain": [
       "mpf('8.5243764920160174')"
      ]
     },
     "execution_count": 14,
     "metadata": {},
     "output_type": "execute_result"
    }
   ],
   "source": [
    "diffs = []\n",
    "for p in range(3):\n",
    "    for size in range(2):\n",
    "        for seed in range(1000):\n",
    "            for error in range(4):\n",
    "                diff = [free_energies_batch[p][size][seed][error][i] - free_energies_batch_without[p][size][seed][error][i] for i in range(len(free_energies_batch[p][size][seed][error]))]\n",
    "                diffs.append(diff)\n",
    "\n",
    "max_diffs = []\n",
    "\n",
    "for d in diffs:\n",
    "    max_diffs.append(np.max(np.abs(d)))\n",
    "\n",
    "np.max(max_diffs)\n"
   ]
  },
  {
   "cell_type": "code",
   "execution_count": 17,
   "metadata": {},
   "outputs": [
    {
     "data": {
      "text/plain": [
       "[mpf('5.0e+21'), mpf('54.771892083365179'), mpf('24.953298500158031')]"
      ]
     },
     "execution_count": 17,
     "metadata": {},
     "output_type": "execute_result"
    }
   ],
   "source": [
    "free_energies_batch[p][size][seed][error]"
   ]
  },
  {
   "cell_type": "code",
   "execution_count": 18,
   "metadata": {},
   "outputs": [
    {
     "data": {
      "text/plain": [
       "[mpf('5.0e+21'), mpf('54.771892083348788'), mpf('24.95329850014164')]"
      ]
     },
     "execution_count": 18,
     "metadata": {},
     "output_type": "execute_result"
    }
   ],
   "source": [
    "free_energies_batch_without[p][size][seed][error]"
   ]
  },
  {
   "cell_type": "code",
   "execution_count": null,
   "metadata": {},
   "outputs": [],
   "source": []
  }
 ],
 "metadata": {
  "kernelspec": {
   "display_name": "og",
   "language": "python",
   "name": "python3"
  },
  "language_info": {
   "codemirror_mode": {
    "name": "ipython",
    "version": 3
   },
   "file_extension": ".py",
   "mimetype": "text/x-python",
   "name": "python",
   "nbconvert_exporter": "python",
   "pygments_lexer": "ipython3",
   "version": "3.9.5"
  }
 },
 "nbformat": 4,
 "nbformat_minor": 2
}
