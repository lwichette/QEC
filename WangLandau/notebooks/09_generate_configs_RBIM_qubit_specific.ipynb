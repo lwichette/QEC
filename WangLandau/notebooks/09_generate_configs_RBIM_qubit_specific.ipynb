{
 "cells": [
  {
   "cell_type": "code",
   "execution_count": 1,
   "metadata": {},
   "outputs": [],
   "source": [
    "import os\n",
    "os.chdir('..')"
   ]
  },
  {
   "cell_type": "code",
   "execution_count": 2,
   "metadata": {},
   "outputs": [],
   "source": [
    "import pandas as pd\n",
    "from tabulate import tabulate\n",
    "import numpy as np\n",
    "import itertools"
   ]
  },
  {
   "cell_type": "code",
   "execution_count": 16,
   "metadata": {},
   "outputs": [],
   "source": [
    "alpha = 0.8\n",
    "\n",
    "beta = 1e-08\n",
    "\n",
    "walker_wl = 4\n",
    "\n",
    "overlap = 0.25\n",
    "\n",
    "seed_hist = 1\n",
    "\n",
    "seed_run = 1\n",
    "\n",
    "num_interactions = 5000\n",
    "\n",
    "replica_exchange_offset = 10\n",
    "\n",
    "boundary_type = 0\n",
    "\n",
    "intervals_wl = 10\n",
    "\n",
    "iterations = 1000\n",
    "\n",
    "time_limit = 3600\n",
    "\n",
    "num_loops = 1000\n",
    "\n",
    "num_walker_prerun = 500\n",
    "\n",
    "num_intervals_prerun = 20\n",
    "\n",
    "hist_scale = 1\n",
    "\n",
    "error_variance = 0.0001"
   ]
  },
  {
   "cell_type": "code",
   "execution_count": 17,
   "metadata": {},
   "outputs": [],
   "source": [
    "error_mean = [0.1, 0.11, 0.12, 0.13]\n",
    "\n",
    "X = [4, 6]\n",
    "Y = [4, 6]\n",
    "\n",
    "error = [\"I\", \"X\", \"Y\", \"Z\"]\n",
    "\n",
    "all_lists = [\n",
    "    error_mean,\n",
    "    X,\n",
    "    Y,\n",
    "    error\n",
    "]"
   ]
  },
  {
   "cell_type": "code",
   "execution_count": 18,
   "metadata": {},
   "outputs": [],
   "source": [
    "# Use itertools.product to get all combinations\n",
    "combinations = list(itertools.product(*all_lists))\n",
    "\n",
    "# Create a DataFrame from the combinations\n",
    "df_combinations = pd.DataFrame(combinations, columns=[\n",
    "    'error_mean', 'x', 'y', 'error_type'\n",
    "])\n",
    "\n",
    "# Filter on same lattice sizes\n",
    "df_combinations = df_combinations[df_combinations['x']==df_combinations['y']]\n",
    "df_combinations.reset_index(inplace=True, drop=True)"
   ]
  },
  {
   "cell_type": "code",
   "execution_count": 19,
   "metadata": {},
   "outputs": [],
   "source": [
    "# Create a DataFrame for the parameters\n",
    "params = pd.DataFrame({\n",
    "    'ArrayTaskID': np.arange(1, len(df_combinations)+1),\n",
    "    'alpha': [alpha] * len(df_combinations),\n",
    "    'beta': [beta] * len(df_combinations),\n",
    "    'walker_wl': [walker_wl] * len(df_combinations),\n",
    "    'overlap': [overlap] * len(df_combinations),\n",
    "    'seed_hist': [seed_hist] * len(df_combinations),\n",
    "    'seed_run': range(seed_run, seed_run + len(df_combinations)),\n",
    "    'num_interactions': [num_interactions] * len(df_combinations),\n",
    "    'replica_exchange_offset': [replica_exchange_offset] * len(df_combinations),\n",
    "    'boundary_type': [boundary_type] * len(df_combinations),\n",
    "    'intervals_wl': [intervals_wl] * len(df_combinations),\n",
    "    'iterations': [iterations] * len(df_combinations),\n",
    "    'time_limit': [time_limit] * len(df_combinations),\n",
    "    'num_loops': [num_loops] * len(df_combinations),\n",
    "    'num_walker_prerun': [num_walker_prerun] * len(df_combinations),\n",
    "    'num_intervals_prerun': [num_intervals_prerun] * len(df_combinations),\n",
    "    'hist_scale': [hist_scale]*len(df_combinations),\n",
    "    'error_variance': [error_variance]*len(df_combinations)\n",
    "})"
   ]
  },
  {
   "cell_type": "code",
   "execution_count": 20,
   "metadata": {},
   "outputs": [],
   "source": [
    "df_final = pd.concat([params, df_combinations], axis=1)"
   ]
  },
  {
   "cell_type": "code",
   "execution_count": 21,
   "metadata": {},
   "outputs": [],
   "source": [
    "table_string = tabulate(df_final, headers=\"keys\", tablefmt='plain', showindex=False)\n",
    "\n",
    "with open('configs/rbim_qubit_specific.txt', 'w') as f:\n",
    "    f.write(table_string)"
   ]
  },
  {
   "cell_type": "code",
   "execution_count": null,
   "metadata": {},
   "outputs": [],
   "source": []
  }
 ],
 "metadata": {
  "kernelspec": {
   "display_name": "og",
   "language": "python",
   "name": "python3"
  },
  "language_info": {
   "codemirror_mode": {
    "name": "ipython",
    "version": 3
   },
   "file_extension": ".py",
   "mimetype": "text/x-python",
   "name": "python",
   "nbconvert_exporter": "python",
   "pygments_lexer": "ipython3",
   "version": "3.9.5"
  }
 },
 "nbformat": 4,
 "nbformat_minor": 2
}
