{
   "cells": [
      {
         "cell_type": "code",
         "execution_count": 1,
         "id": "0822ba51",
         "metadata": {},
         "outputs": [],
         "source": [
            "import matplotlib.pyplot as plt\n",
            "import numpy as np\n",
            "import mpmath as mp\n",
            "mp.mp.dps = 30 #higher precision\n",
            "import csv\n",
            "import json\n",
            "from PyMatching import *"
         ]
      },
      {
         "cell_type": "code",
         "execution_count": null,
         "id": "470407c0",
         "metadata": {},
         "outputs": [],
         "source": [
            "# #pymatching to compare to\n",
            "# Ls = [4,6,8,10]\n",
            "# ps = np.linspace(0.01, 0.12, 12)\n",
            "# np.random.seed(2)\n",
            "\n",
            "# for num_shots in range(2000, 30000, 2000):\n",
            "#     log_errors_all_L = []\n",
            "#     for L in Ls:\n",
            "#         # print(\"Simulating L={}...\".format(L))\n",
            "#         Hx = toric_code_x_stabilisers(L)\n",
            "#         logX = toric_code_x_logicals(L)\n",
            "#         log_errors = []\n",
            "#         for error_probability in ps:\n",
            "#             num_errors = num_decoding_failures_vectorised(Hx, logX, error_probability, num_shots)\n",
            "#             log_errors.append(num_errors/num_shots)\n",
            "#         log_errors_all_L.append(np.array(log_errors))\n",
            "\n",
            "#     plt.figure()\n",
            "#     for L, logical_errors in zip(Ls, log_errors_all_L):\n",
            "#         std_err = (logical_errors*(1-logical_errors)/num_shots)**0.5\n",
            "#         plt.errorbar(ps, logical_errors, yerr=std_err, label=\"PyMatching for L={}\".format(L))\n",
            "#     plt.legend()\n",
            "#     plt.title(f\"Num shots: {num_shots}\")\n",
            "#     plt.show()"
         ]
      },
      {
         "cell_type": "code",
         "execution_count": 3,
         "id": "9bf705cc",
         "metadata": {},
         "outputs": [],
         "source": [
            "#Log sum exp with arbitrary precision governed by mp\n",
            "#In particular this gives infinite temperature version of the free energy, for scaling\n",
            "def log_sum_exp(to_sum):\n",
            "    maxval = max(to_sum)\n",
            "    exp_sum = 0\n",
            "    for value in to_sum:\n",
            "        exp_sum += mp.exp(value-maxval)\n",
            "    res = maxval + mp.log(exp_sum)\n",
            "    return res\n",
            "\n",
            "#Free energy given histogram and temperature, arbitrary precision governed by mp\n",
            "def free_energy(E_list, log_g_list,  T):\n",
            "    to_sum = []\n",
            "    for i, log_g in enumerate(log_g_list):\n",
            "        to_sum.append(log_g - E_list[i]/T)\n",
            "    maxval = max(to_sum)\n",
            "    exp_sum = 0\n",
            "    for value in to_sum:\n",
            "        exp_sum += mp.exp(value-maxval)\n",
            "    res = maxval + mp.log(exp_sum)\n",
            "    return -T*res\n",
            "\n",
            "#Run over batch of results, structured by seed, then by class\n",
            "def get_free_energies(rescaled_results,temperatures):\n",
            "    free_energies = []\n",
            "    for seed_results in rescaled_results:\n",
            "        free_energy_classes = []\n",
            "        for error_result in seed_results:\n",
            "            f_values = []\n",
            "            for T in temperatures:\n",
            "                f_values.append(free_energy(error_result[0], error_result[1], T)/(-T))\n",
            "            free_energy_classes.append(f_values)\n",
            "        free_energies.append(free_energy_classes)\n",
            "    return free_energies\n",
            "\n",
            "#For comparisons to MWPM algorithms\n",
            "def get_lowest_energies(rescaled_results):\n",
            "    lowest_energies = []\n",
            "    for seed_results in rescaled_results:\n",
            "        lowest_energy_classes = []\n",
            "        for error_result in seed_results:\n",
            "            e_values = min(error_result[0])\n",
            "            lowest_energy_classes.append(e_values)\n",
            "        lowest_energies.append(lowest_energy_classes)\n",
            "    return lowest_energies\n",
            "\n",
            "#For comparisons to MWPM algorithms\n",
            "def get_lowest_g(rescaled_results):\n",
            "    lowest_g = []\n",
            "    for seed_results in rescaled_results:\n",
            "        lowest_g_classes = []\n",
            "        for error_result in seed_results:\n",
            "            g_values = min(error_result[1])\n",
            "            lowest_g_classes.append(g_values)\n",
            "        lowest_g.append(lowest_g_classes)\n",
            "    return lowest_g"
         ]
      },
      {
         "cell_type": "markdown",
         "id": "03ed13ed",
         "metadata": {},
         "source": [
            "Here starts the processing of data inside json like txt files "
         ]
      },
      {
         "cell_type": "code",
         "execution_count": 4,
         "id": "df6faa78",
         "metadata": {},
         "outputs": [],
         "source": [
            "import re\n",
            "\n",
            "def read_results_file(path):\n",
            "\n",
            "    with open(path, 'r') as file:\n",
            "        content = file.read()\n",
            "\n",
            "    content = content.strip().rstrip(',')\n",
            "\n",
            "    corrected_json = f'[{content}]'\n",
            "\n",
            "    try:\n",
            "        data = json.loads(corrected_json)\n",
            "    except json.JSONDecodeError as e:\n",
            "        print(f\"Failed to parse JSON: {e}\")\n",
            "\n",
            "    return data\n",
            "\n",
            "def parse_file(filename):\n",
            "    data = []\n",
            "    try:\n",
            "        with open(filename, 'r') as file:\n",
            "            content = file.read()\n",
            "            # print(\"file content printout (for debugging):\")\n",
            "            # print(content)\n",
            "    except FileNotFoundError:\n",
            "        return\n",
            "\n",
            "    # Split content into individual blocks\n",
            "    blocks = content.split('}\\n{')  # Assuming blocks are separated by double newlines\n",
            "\n",
            "    for block in blocks:\n",
            "        # Extract histogram_seed, run_seed, and results\n",
            "        histogram_seed_match = re.search(r'\"histogram_seed\": \"(\\d+)\"', block)\n",
            "        run_seed_match = re.search(r'\"run_seed\": \"(\\d+)\"', block)\n",
            "        results_match = re.search(r'\"results\": \\[([^]]*)\\]', block)\n",
            "\n",
            "        if histogram_seed_match and run_seed_match and results_match:\n",
            "            histogram_seed = histogram_seed_match.group(1)\n",
            "            run_seed = run_seed_match.group(1)\n",
            "            results_str = results_match.group(1)\n",
            "\n",
            "            # Process results\n",
            "            results = {}\n",
            "            results_items = results_str.split(',')\n",
            "            for item in results_items:\n",
            "                key_value = item.split(':')\n",
            "                if len(key_value) == 2:\n",
            "                    key = key_value[0].strip().strip('\"')\n",
            "                    value = float(key_value[1].strip())\n",
            "                    results[key] = value\n",
            "\n",
            "            data.append({\n",
            "                \"histogram_seed\": histogram_seed,\n",
            "                \"run_seed\": run_seed,\n",
            "                \"results\": results\n",
            "            })\n",
            "\n",
            "    return data\n",
            "\n",
            "def process_data(data, batch_results, p, size, error):\n",
            "    for entry in data:\n",
            "        histogram_seed = entry[\"histogram_seed\"]\n",
            "        run_seed = entry[\"run_seed\"]\n",
            "        results = entry[\"results\"]\n",
            "\n",
            "        E_list = []\n",
            "        log_g_list = []\n",
            "\n",
            "        # Process the results\n",
            "        for key, value in results.items():\n",
            "            E_list.append(int(key))\n",
            "            log_g_list.append(float(value))\n",
            "\n",
            "        batch_results.append({\n",
            "                'prob': p,\n",
            "                'size': size,\n",
            "                'error': error,\n",
            "                'histogram_seed': histogram_seed,\n",
            "                'run_seed': run_seed,\n",
            "                'E': E_list,\n",
            "                'log_g': log_g_list\n",
            "            })\n",
            "        # offset = log_sum_exp(log_g_list)\n",
            "        # print('deviation from sqrt(2)xy: ', mp.log(2)*size*size - offset, ' log sum exp:', offset)"
         ]
      },
      {
         "cell_type": "code",
         "execution_count": 5,
         "id": "f0bd9095",
         "metadata": {
            "scrolled": true
         },
         "outputs": [
            {
               "name": "stdout",
               "output_type": "stream",
               "text": [
                  "223999\n"
               ]
            }
         ],
         "source": [
            "boundary_type = \"periodic\"\n",
            "batch_results = []\n",
            "probabilities = [0.1, 0.11, 0.12, 0.13]\n",
            "sizes = [4, 6]\n",
            "intervals = 10\n",
            "iterations = 1000\n",
            "overlap = 0.25\n",
            "walkers = 8\n",
            "alpha = 0.8\n",
            "beta = 1e-8\n",
            "exchange = 20\n",
            "\n",
            "batch_results = []\n",
            "\n",
            "for p in probabilities:\n",
            "    for size in sizes:\n",
            "        for error in [\"I\", \"X\", \"Y\", \"Z\"]:\n",
            "            filename = f\"../results/periodic/prob_{p:.6f}/X_{size}_Y_{size}/error_class_{error}/StitchedHistogram_intervals_{intervals}_iterations_{iterations}_overlap_{overlap:.6f}_walkers_{walkers}_alpha_{alpha:.6f}_beta_{beta:.10f}_exchange_offset{exchange}.txt\"\n",
            "            if size == 8:\n",
            "                filename = f\"../results/periodic/prob_{p:.6f}/X_{size}_Y_{size}/error_class_{error}/StitchedHistogram_intervals_20_iterations_{iterations}_overlap_{overlap:.6f}_walkers_{walkers}_alpha_{alpha:.6f}_beta_{beta:.10f}_exchange_offset{exchange}.txt\"\n",
            "            if size == 10:\n",
            "                filename = f\"../results/periodic/prob_{p:.6f}/X_{size}_Y_{size}/error_class_{error}/StitchedHistogram_intervals_40_iterations_{iterations}_overlap_{overlap:.6f}_walkers_{walkers}_alpha_{alpha:.6f}_beta_{beta:.10f}_exchange_offset{exchange}.txt\"\n",
            "            # if size == 10 and p == 0.13:\n",
            "            #     filename = f\"../results/periodic/prob_{p:.6f}/X_{size}_Y_{size}/error_class_{error}/StitchedHistogram_intervals_40_iterations_{iterations}_overlap_{overlap:.6f}_walkers_{walkers}_alpha_{alpha:.6f}_beta_{beta:.10f}_exchange_offset{exchange}.txt\"\n",
            "\n",
            "            data = read_results_file(filename)\n",
            "\n",
            "            if data:\n",
            "                process_data(data, batch_results, p, size, error)\n",
            "print(len(batch_results))"
         ]
      },
      {
         "cell_type": "code",
         "execution_count": 6,
         "id": "92fa917d",
         "metadata": {
            "scrolled": true
         },
         "outputs": [],
         "source": [
            "from collections import defaultdict\n",
            "\n",
            "# only keep results which come with all different error types:\n",
            "#Changing structure to match postprocessing and plotting\n",
            "\n",
            "# grouped dictionary with keys prob size and hist seed\n",
            "grouped_results = defaultdict(list)\n",
            "for result in batch_results:\n",
            "    key = (result['prob'], result['size'], result['histogram_seed'])\n",
            "    grouped_results[key].append(result)"
         ]
      },
      {
         "cell_type": "code",
         "execution_count": 7,
         "id": "c79f085c",
         "metadata": {},
         "outputs": [
            {
               "name": "stdout",
               "output_type": "stream",
               "text": [
                  "has issue with an error class prob: 0.1 size: 4 interaction seed: 763 available errors: {'X', 'Y', 'Z'}\n"
               ]
            }
         ],
         "source": [
            "filtered_results = defaultdict(list)\n",
            "for key, results in grouped_results.items():\n",
            "    newkey = (key[0],key[1])\n",
            "    errors = set(result['error'] for result in results)\n",
            "    if errors == {'I', 'X', 'Y', 'Z'}:\n",
            "        # To be removed once normalization is properly handled in c\n",
            "        for result in results:\n",
            "            log_g_list = result['log_g']\n",
            "            offset = log_sum_exp(log_g_list)\n",
            "            rescaled_log_g_list = [res + mp.log(2)*key[1]*key[1] - offset for res in log_g_list]\n",
            "            result['log_g'] = rescaled_log_g_list\n",
            "        filtered_results[newkey].append([[result['E'], result['log_g']] for result in results])\n",
            "    else:\n",
            "        print(f\"has issue with an error class prob: {key[0]} size: {key[1]} interaction seed: {key[2]} available errors: {errors}\")"
         ]
      },
      {
         "cell_type": "code",
         "execution_count": 8,
         "id": "2975cfdf",
         "metadata": {},
         "outputs": [
            {
               "name": "stdout",
               "output_type": "stream",
               "text": [
                  "Number of seeds at p 0.1 , size 4 : 6999\n",
                  "Number of seeds at p 0.1 , size 6 : 7000\n",
                  "Number of seeds at p 0.11 , size 4 : 7000\n",
                  "Number of seeds at p 0.11 , size 6 : 7000\n",
                  "Number of seeds at p 0.12 , size 4 : 7000\n",
                  "Number of seeds at p 0.12 , size 6 : 7000\n",
                  "Number of seeds at p 0.13 , size 4 : 7000\n",
                  "Number of seeds at p 0.13 , size 6 : 7000\n"
               ]
            }
         ],
         "source": [
            "free_energies_batch = []\n",
            "for p in probabilities:\n",
            "    T_Nish = 1/(mp.log((1-p)/p)/2)\n",
            "    temperatures = [1e-15,T_Nish,1e15]\n",
            "    free_energies_size = []\n",
            "    for size in sizes:\n",
            "        batch_res = filtered_results[(p,size)]\n",
            "        free_energies = get_free_energies(batch_res,temperatures)\n",
            "        free_energies_size.append(free_energies)\n",
            "        print('Number of seeds at p',p,', size',size,':', len(free_energies))\n",
            "    free_energies_batch.append(free_energies_size)"
         ]
      },
      {
         "cell_type": "code",
         "execution_count": 9,
         "id": "8390810a",
         "metadata": {},
         "outputs": [],
         "source": [
            "import scipy\n",
            "\n",
            "optimal_curves = []\n",
            "T0_curves = []\n",
            "\n",
            "lower_bounds_T0 = []\n",
            "upper_bounds_T0 = []\n",
            "\n",
            "for i, p in enumerate(probabilities):\n",
            "    optimal_curve = []\n",
            "    T0_curve = []\n",
            "    lower_bound_T0 = []\n",
            "    upper_bound_T0 = []\n",
            "    for j in range(len(sizes)):\n",
            "\n",
            "       free_energies = free_energies_batch[i][j]\n",
            "\n",
            "       if len(free_energies) == 0:\n",
            "              continue\n",
            "\n",
            "       #TO CHECK: if there is ever any significant difference between <= and < here\n",
            "       #if so, should take degeneracy into account, and count with fraction if <=\n",
            "       #Seems not to be an issue though\n",
            "       temp = 1 #Nishimori temp\n",
            "       res =  1 - mp.fsum([f_class[0][temp] < f_class[1][temp]\\\n",
            "              or f_class[0][temp] < f_class[2][temp]\\\n",
            "              or f_class[0][temp] < f_class[3][temp] for f_class in free_energies])/(len(free_energies))\n",
            "       optimal_curve.append(res)\n",
            "\n",
            "       temp = 0 #Low temp\n",
            "       res =  1 - mp.fsum([f_class[0][temp] < f_class[1][temp]\\\n",
            "              or f_class[0][temp] < f_class[2][temp]\\\n",
            "              or f_class[0][temp] < f_class[3][temp] for f_class in free_energies])/(len(free_energies))\n",
            "       T0_curve.append(res)\n",
            "\n",
            "       number_success = round(len(free_energies) * res)\n",
            "       number_failure = len(free_energies) - number_success\n",
            "\n",
            "       lower_bound_T0.append(res-scipy.stats.beta.ppf(0.025, 0.5 + number_success, 0.5 + number_failure))\n",
            "       upper_bound_T0.append(scipy.stats.beta.ppf(0.975, 0.5 + number_success, 0.5 + number_failure)-res)\n",
            "\n",
            "    lower_bounds_T0.append(lower_bound_T0)\n",
            "    upper_bounds_T0.append(upper_bound_T0)\n",
            "    optimal_curves.append(optimal_curve)\n",
            "    T0_curves.append(T0_curve)"
         ]
      },
      {
         "cell_type": "code",
         "execution_count": 10,
         "id": "3131107e",
         "metadata": {},
         "outputs": [
            {
               "data": {
                  "image/png": "[encoded data removed]",
                  "text/plain": [
                     "<Figure size 640x480 with 1 Axes>"
                  ]
               },
               "metadata": {},
               "output_type": "display_data"
            }
         ],
         "source": [
            "# plt.figure()\n",
            "# for L, logical_errors in zip(Ls, log_errors_all_L):\n",
            "#     std_err = (logical_errors*(1-logical_errors)/num_shots)**0.5\n",
            "#     plt.errorbar(ps, logical_errors, yerr=std_err, label=\"PyMatching for L={}\".format(L))\n",
            "\n",
            "\n",
            "for i, size in enumerate(sizes):\n",
            "    plt.plot(probabilities, [1-optimal_curves[j][i] for j in range(len(probabilities))],\".-\",label=r\"Optimal decoding for L=%d\"%size)\n",
            "    plt.plot(probabilities, [1-T0_curves[j][i] for j in range(len(probabilities))],\"+--\",label=r\"T=$10^{-20}$ free energy decoding for L=%d\"%size)\n",
            "    plt.errorbar(probabilities, [1 - T0_curves[j][i] for j in range(len(probabilities))],\n",
            "                 yerr=[[ upper_bounds_T0[j][i]  for j in range(len(probabilities))], [lower_bounds_T0[j][i] for j in range(len(probabilities))]],\n",
            "                 fmt='+--', label=r\"T=$10^{-20}$ free energy decoding for L=%d\" % size, capsize=5)\n",
            "\n",
            "\n",
            "plt.axvline(x=0.1031,color=\"gray\",label=\"Expected MWPM threshold\",linestyle=\"dotted\")\n",
            "\n",
            "plt.xlabel(\"Physical error rate\")\n",
            "plt.ylabel(\"Logical error rate\")\n",
            "\n",
            "#plt.xscale('log')\n",
            "#plt.yscale('log')\n",
            "plt.ylim(bottom=1e-4, top=None)\n",
            "plt.title(beta)\n",
            "plt.legend(loc='center left', bbox_to_anchor=(1, 0.5))\n",
            "plt.show()"
         ]
      },
      {
         "cell_type": "code",
         "execution_count": 11,
         "id": "8674dc80",
         "metadata": {},
         "outputs": [
            {
               "data": {
                  "text/plain": [
                     "[[mpf('0.0103566104487493253117374304021342'),\n",
                     "  mpf('0.00998537240146541587344180308196325')],\n",
                     " [mpf('0.0108301211393237511210989915915482'),\n",
                     "  mpf('0.0107194963658037674442929138811867')],\n",
                     " [mpf('0.0111868424782492914865932626915158'),\n",
                     "  mpf('0.011232697419106383815038238286168')],\n",
                     " [mpf('0.0114424335352861709884970358481929'),\n",
                     "  mpf('0.0115151475824171716867892558053817')]]"
                  ]
               },
               "execution_count": 11,
               "metadata": {},
               "output_type": "execute_result"
            }
         ],
         "source": [
            "lower_bounds_T0"
         ]
      },
      {
         "cell_type": "code",
         "execution_count": 13,
         "id": "66d352c5",
         "metadata": {},
         "outputs": [
            {
               "data": {
                  "text/plain": [
                     "[[mpf('0.0101570121630441330495248796613322'),\n",
                     "  mpf('0.00976309620789022465053059412252526')],\n",
                     " [mpf('0.0106659523122795636090082942765955'),\n",
                     "  mpf('0.0105462334148894203116648376245887')],\n",
                     " [mpf('0.0110573968563601032449079346926889'),\n",
                     "  mpf('0.0111085665945027573440841349240982')],\n",
                     " [mpf('0.0113470026868116653823952739392574'),\n",
                     "  mpf('0.0114323542026242858580888293675863')]]"
                  ]
               },
               "execution_count": 13,
               "metadata": {},
               "output_type": "execute_result"
            }
         ],
         "source": [
            "upper_bounds_T0"
         ]
      },
      {
         "cell_type": "code",
         "execution_count": 12,
         "id": "7c24afc4",
         "metadata": {},
         "outputs": [
            {
               "data": {
                  "text/plain": [
                     "[[mpf('0.741391627375339334190598656951041'),\n",
                     "  mpf('0.768857142857142857142857142857114')],\n",
                     " [mpf('0.698571428571428571428571428571427'),\n",
                     "  mpf('0.709571428571428571428571428571418')],\n",
                     " [mpf('0.656571428571428571428571428571361'),\n",
                     "  mpf('0.650142857142857142857142857142851')],\n",
                     " [mpf('0.615428571428571428571428571428621'),\n",
                     "  mpf('0.600142857142857142857142857142792')]]"
                  ]
               },
               "execution_count": 12,
               "metadata": {},
               "output_type": "execute_result"
            }
         ],
         "source": [
            "T0_curves"
         ]
      },
      {
         "cell_type": "code",
         "execution_count": null,
         "id": "7ed98caf",
         "metadata": {},
         "outputs": [],
         "source": []
      }
   ],
   "metadata": {
      "kernelspec": {
         "display_name": "og",
         "language": "python",
         "name": "python3"
      },
      "language_info": {
         "codemirror_mode": {
            "name": "ipython",
            "version": 3
         },
         "file_extension": ".py",
         "mimetype": "text/x-python",
         "name": "python",
         "nbconvert_exporter": "python",
         "pygments_lexer": "ipython3",
         "version": "3.9.5"
      }
   },
   "nbformat": 4,
   "nbformat_minor": 5
}
