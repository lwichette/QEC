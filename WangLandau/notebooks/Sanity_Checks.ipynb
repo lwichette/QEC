{
 "cells": [
  {
   "cell_type": "code",
   "execution_count": 7,
   "id": "8f594540-b13e-4b3e-9e87-7caee24d67a5",
   "metadata": {},
   "outputs": [],
   "source": [
    "import numpy as np\n",
    "import os"
   ]
  },
  {
   "cell_type": "code",
   "execution_count": 12,
   "id": "91920957-4d30-4f7d-815e-30111c53219d",
   "metadata": {},
   "outputs": [
    {
     "name": "stdout",
     "output_type": "stream",
     "text": [
      "(-288, -110.76923076923077)\n",
      "(-243.69230769230768, -66.46153846153845)\n",
      "(-199.38461538461536, -22.153846153846132)\n",
      "(-155.07692307692304, 22.15384615384619)\n",
      "(-110.76923076923073, 66.4615384615385)\n",
      "(-66.46153846153842, 110.7692307692308)\n",
      "(-22.153846153846118, 155.0769230769231)\n",
      "(22.15384615384619, 199.38461538461542)\n",
      "(66.4615384615385, 243.69230769230774)\n",
      "(110.7692307692308, 288.0)\n"
     ]
    }
   ],
   "source": [
    "def generate_intervals(E_min, E_max, N):\n",
    "    R = E_max - E_min\n",
    "    L = R / (1 + 0.25 * (N - 1))\n",
    "    step_size = 0.25 * L\n",
    "    \n",
    "    intervals = []\n",
    "    start = E_min\n",
    "    \n",
    "    for _ in range(N):\n",
    "        end = start + L\n",
    "        intervals.append((start, end))\n",
    "        start += step_size\n",
    "    \n",
    "    return intervals\n",
    "\n",
    "# Example usage:\n",
    "E_min = -288\n",
    "E_max = 288\n",
    "N = 10  # number of intervals\n",
    "\n",
    "intervals = generate_intervals(E_min, E_max, N)\n",
    "for interval in intervals:\n",
    "    print(interval)"
   ]
  },
  {
   "cell_type": "code",
   "execution_count": 10,
   "id": "a508eb48-8aac-481c-a781-c5e3780546e1",
   "metadata": {},
   "outputs": [
    {
     "data": {
      "text/plain": [
       "0.75"
      ]
     },
     "execution_count": 10,
     "metadata": {},
     "output_type": "execute_result"
    }
   ],
   "source": [
    "3.75/5"
   ]
  },
  {
   "cell_type": "code",
   "execution_count": 17,
   "id": "c13cdd09-7c73-4b7b-b055-f478f4733437",
   "metadata": {},
   "outputs": [],
   "source": [
    "l_names = [f\"lattice_{i}.txt\" for i in range(16)]\n",
    "i_names = [f\"interactions_{i}.txt\" for i in range(1)]"
   ]
  },
  {
   "cell_type": "code",
   "execution_count": 18,
   "id": "4fe0ae1c-bfb1-4518-85ee-9eee54841b89",
   "metadata": {},
   "outputs": [
    {
     "name": "stdout",
     "output_type": "stream",
     "text": [
      "0.0\n",
      "-8.0\n",
      "-12.0\n",
      "-12.0\n",
      "-4.0\n",
      "28.0\n",
      "-16.0\n",
      "-24.0\n",
      "-40.0\n",
      "-4.0\n",
      "4.0\n",
      "28.0\n",
      "-20.0\n",
      "-16.0\n",
      "-20.0\n",
      "4.0\n"
     ]
    }
   ],
   "source": [
    "is_black = True\n",
    "\n",
    "for l in range(16):\n",
    "    lattice = np.loadtxt(f'../{l_names[l]}')\n",
    "    interactions = np.loadtxt(f'../{i_names[0]}')\n",
    "    interactions = interactions.reshape(-1)\n",
    "    \n",
    "    X = lattice.shape[0]\n",
    "    Y = lattice.shape[1]\n",
    "    Y2 = int(Y/2)\n",
    "    \n",
    "    lattice_b = np.zeros((X,Y2))\n",
    "    lattice_w = np.zeros((X,Y2))\n",
    "\n",
    "    lattice_b[0::2,:] = lattice[0::2,0::2]\n",
    "    lattice_b[1::2,:] = lattice[1::2,1::2]\n",
    "    \n",
    "    lattice_w[0::2,:] = lattice[0::2,1::2]\n",
    "    lattice_w[1::2,:] = lattice[1::2,0::2]\n",
    "\n",
    "    energy = 0 \n",
    "    \n",
    "    for tid in range(X*Y2):\n",
    "    \n",
    "        i = int(tid/Y2)\n",
    "        j = tid % Y2\n",
    "\n",
    "        ipp = (i + 1) if (i + 1 < X) else 0\n",
    "        inn = (i - 1) if (i - 1 >= 0) else X - 1\n",
    "        jpp = (j + 1) if (j + 1 < Y2) else 0\n",
    "        jnn = (j - 1) if (j - 1 >= 0) else Y2 - 1\n",
    "\n",
    "        if (is_black):\n",
    "            \n",
    "            icpp = 2*(X-1)*Y2 + 2*(Y2*(i+1) + j) + i%2\n",
    "            \n",
    "            icnn = 2*(X-1)*Y2 + 2*(Y2*(inn+1) + j) + i%2\n",
    "\n",
    "            joff = jpp if (i%2) else jnn\n",
    "            \n",
    "            if (i % 2):\n",
    "                if (j+1 >= Y2):\n",
    "                    jcoff = 2*(i*Y2 + j + 1) - 1\n",
    "                \n",
    "                else:\n",
    "                    jcoff = 2*(i*Y2 + joff) - 1\n",
    "            else:\n",
    "                jcoff = 2 * (i*Y2 + joff) + 1\n",
    "\n",
    "            energy += lattice_b[i,j]*(lattice_w[inn,j]*interactions[icnn] + lattice_w[ipp,j]*interactions[icpp] + \n",
    "                                      lattice_w[i,j]*interactions[2*(i*Y2+j)] + lattice_w[i, joff]*interactions[jcoff])\n",
    "    print(energy)"
   ]
  },
  {
   "cell_type": "code",
   "execution_count": 10,
   "id": "ba65a536-fd68-46e1-b626-d0c5327a8f60",
   "metadata": {},
   "outputs": [
    {
     "data": {
      "text/plain": [
       "array([[-1.,  1., -1., -1.,  1., -1.],\n",
       "       [-1., -1., -1.,  1.,  1., -1.],\n",
       "       [-1.,  1., -1.,  1.,  1., -1.],\n",
       "       [ 1., -1., -1., -1., -1.,  1.],\n",
       "       [-1.,  1., -1., -1., -1., -1.],\n",
       "       [ 1., -1.,  1., -1., -1., -1.],\n",
       "       [ 1., -1., -1., -1., -1., -1.],\n",
       "       [-1.,  1.,  1., -1.,  1.,  1.],\n",
       "       [-1., -1.,  1., -1.,  1., -1.],\n",
       "       [-1., -1.,  1.,  1., -1., -1.],\n",
       "       [ 1., -1.,  1.,  1., -1.,  1.],\n",
       "       [ 1., -1.,  1.,  1., -1.,  1.]])"
      ]
     },
     "execution_count": 10,
     "metadata": {},
     "output_type": "execute_result"
    }
   ],
   "source": [
    "lattice_w"
   ]
  },
  {
   "cell_type": "code",
   "execution_count": 5,
   "id": "58f507a2-7f97-4152-9702-596328dadfbb",
   "metadata": {},
   "outputs": [
    {
     "data": {
      "text/plain": [
       "array([[ 1., -1.,  1.,  1., -1., -1.,  1., -1.,  1.,  1., -1., -1.],\n",
       "       [-1.,  1., -1.,  1., -1.,  1.,  1.,  1.,  1.,  1., -1.,  1.],\n",
       "       [ 1., -1., -1.,  1., -1., -1., -1.,  1.,  1.,  1.,  1., -1.],\n",
       "       [ 1., -1., -1., -1., -1.,  1., -1., -1., -1., -1.,  1., -1.],\n",
       "       [-1., -1.,  1.,  1.,  1., -1.,  1., -1., -1., -1., -1., -1.],\n",
       "       [ 1.,  1., -1.,  1.,  1.,  1., -1.,  1., -1.,  1., -1.,  1.],\n",
       "       [ 1.,  1., -1., -1., -1., -1., -1., -1.,  1., -1.,  1., -1.],\n",
       "       [-1., -1.,  1.,  1.,  1., -1., -1., -1.,  1.,  1.,  1.,  1.],\n",
       "       [-1., -1., -1., -1., -1.,  1.,  1., -1., -1.,  1., -1., -1.],\n",
       "       [-1.,  1., -1.,  1.,  1.,  1.,  1., -1., -1., -1., -1.,  1.],\n",
       "       [ 1.,  1., -1., -1.,  1.,  1., -1.,  1., -1., -1.,  1.,  1.],\n",
       "       [ 1., -1., -1.,  1.,  1., -1.,  1.,  1., -1., -1.,  1.,  1.]])"
      ]
     },
     "execution_count": 5,
     "metadata": {},
     "output_type": "execute_result"
    }
   ],
   "source": [
    "lattice"
   ]
  },
  {
   "cell_type": "code",
   "execution_count": 6,
   "id": "9552eb7b-898f-481a-868b-da76155e42dc",
   "metadata": {},
   "outputs": [
    {
     "data": {
      "text/plain": [
       "(array([-1.,  1.]), array([141, 147]))"
      ]
     },
     "execution_count": 6,
     "metadata": {},
     "output_type": "execute_result"
    }
   ],
   "source": [
    "np.unique(interactions,return_counts=True)"
   ]
  },
  {
   "cell_type": "code",
   "execution_count": 7,
   "id": "eb5fade3-1d46-4dd6-8824-ea72971e4739",
   "metadata": {},
   "outputs": [
    {
     "data": {
      "text/plain": [
       "array([[-1.,  1.,  1., -1., -1.,  1., -1.,  1.,  1., -1.,  1., -1.],\n",
       "       [-1., -1., -1., -1.,  1., -1.,  1.,  1.,  1., -1., -1., -1.],\n",
       "       [-1., -1., -1.,  1., -1.,  1., -1.,  1.,  1.,  1., -1., -1.],\n",
       "       [ 1.,  1., -1.,  1., -1., -1.,  1., -1., -1., -1., -1.,  1.],\n",
       "       [ 1., -1., -1.,  1., -1., -1.,  1., -1.,  1.,  1., -1., -1.],\n",
       "       [ 1., -1.,  1., -1.,  1., -1., -1., -1., -1.,  1., -1.,  1.],\n",
       "       [ 1.,  1., -1.,  1.,  1., -1.,  1., -1.,  1., -1., -1., -1.],\n",
       "       [ 1.,  1., -1.,  1., -1.,  1., -1., -1.,  1., -1.,  1., -1.],\n",
       "       [ 1., -1.,  1.,  1.,  1., -1., -1.,  1.,  1., -1.,  1.,  1.],\n",
       "       [ 1., -1., -1.,  1.,  1.,  1., -1., -1., -1., -1., -1.,  1.],\n",
       "       [ 1.,  1.,  1., -1., -1.,  1., -1.,  1.,  1., -1.,  1.,  1.],\n",
       "       [-1.,  1., -1.,  1.,  1., -1.,  1., -1.,  1., -1.,  1.,  1.],\n",
       "       [ 1.,  1., -1., -1., -1., -1., -1., -1., -1.,  1.,  1., -1.],\n",
       "       [-1., -1.,  1.,  1., -1.,  1.,  1., -1.,  1.,  1.,  1.,  1.],\n",
       "       [ 1.,  1., -1., -1., -1., -1.,  1.,  1., -1.,  1., -1., -1.],\n",
       "       [-1.,  1.,  1., -1.,  1.,  1.,  1., -1., -1.,  1.,  1.,  1.],\n",
       "       [-1., -1., -1.,  1., -1.,  1., -1.,  1.,  1., -1., -1., -1.],\n",
       "       [ 1., -1.,  1., -1., -1., -1., -1., -1., -1.,  1., -1.,  1.],\n",
       "       [ 1.,  1., -1.,  1.,  1., -1.,  1., -1.,  1.,  1.,  1., -1.],\n",
       "       [ 1.,  1.,  1.,  1.,  1.,  1., -1.,  1., -1.,  1.,  1.,  1.],\n",
       "       [ 1.,  1.,  1.,  1., -1., -1., -1.,  1.,  1., -1.,  1., -1.],\n",
       "       [-1.,  1., -1.,  1.,  1., -1.,  1., -1., -1.,  1., -1.,  1.],\n",
       "       [-1.,  1.,  1.,  1., -1., -1., -1., -1.,  1.,  1., -1., -1.],\n",
       "       [-1.,  1.,  1., -1.,  1.,  1., -1.,  1.,  1.,  1.,  1., -1.]])"
      ]
     },
     "execution_count": 7,
     "metadata": {},
     "output_type": "execute_result"
    }
   ],
   "source": [
    "interactions.reshape(2*X,Y)"
   ]
  },
  {
   "cell_type": "code",
   "execution_count": 8,
   "id": "9cfbc019-c217-48fc-acdb-f05b7b519128",
   "metadata": {},
   "outputs": [
    {
     "data": {
      "text/plain": [
       "array([[ 1.,  1., -1., -1., -1., -1., -1., -1., -1.,  1.,  1., -1.],\n",
       "       [-1., -1.,  1.,  1., -1.,  1.,  1., -1.,  1.,  1.,  1.,  1.],\n",
       "       [ 1.,  1., -1., -1., -1., -1.,  1.,  1., -1.,  1., -1., -1.],\n",
       "       [-1.,  1.,  1., -1.,  1.,  1.,  1., -1., -1.,  1.,  1.,  1.],\n",
       "       [-1., -1., -1.,  1., -1.,  1., -1.,  1.,  1., -1., -1., -1.],\n",
       "       [ 1., -1.,  1., -1., -1., -1., -1., -1., -1.,  1., -1.,  1.],\n",
       "       [ 1.,  1., -1.,  1.,  1., -1.,  1., -1.,  1.,  1.,  1., -1.],\n",
       "       [ 1.,  1.,  1.,  1.,  1.,  1., -1.,  1., -1.,  1.,  1.,  1.],\n",
       "       [ 1.,  1.,  1.,  1., -1., -1., -1.,  1.,  1., -1.,  1., -1.],\n",
       "       [-1.,  1., -1.,  1.,  1., -1.,  1., -1., -1.,  1., -1.,  1.],\n",
       "       [-1.,  1.,  1.,  1., -1., -1., -1., -1.,  1.,  1., -1., -1.],\n",
       "       [-1.,  1.,  1., -1.,  1.,  1., -1.,  1.,  1.,  1.,  1., -1.]])"
      ]
     },
     "execution_count": 8,
     "metadata": {},
     "output_type": "execute_result"
    }
   ],
   "source": [
    "interactions.reshape(2*X,Y)[12:,:]"
   ]
  },
  {
   "cell_type": "code",
   "execution_count": null,
   "id": "18140728-8e85-461e-a048-59b4d052a0d2",
   "metadata": {},
   "outputs": [],
   "source": []
  }
 ],
 "metadata": {
  "kernelspec": {
   "display_name": "OG",
   "language": "python",
   "name": "og"
  },
  "language_info": {
   "codemirror_mode": {
    "name": "ipython",
    "version": 3
   },
   "file_extension": ".py",
   "mimetype": "text/x-python",
   "name": "python",
   "nbconvert_exporter": "python",
   "pygments_lexer": "ipython3",
   "version": "3.9.5"
  }
 },
 "nbformat": 4,
 "nbformat_minor": 5
}
