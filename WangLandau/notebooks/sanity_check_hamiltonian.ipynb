{
 "cells": [
  {
   "cell_type": "code",
   "execution_count": 1,
   "metadata": {},
   "outputs": [],
   "source": [
    "import numpy as np\n",
    "import os"
   ]
  },
  {
   "cell_type": "code",
   "execution_count": 2,
   "metadata": {},
   "outputs": [],
   "source": [
    "interactions = np.loadtxt('../init/prob_0.100000/X_20_Y_20/boundary_o/seed_42/error_class_I/interactions/interactions.txt')\n",
    "lattice = np.loadtxt('../init/prob_0.100000/X_20_Y_20/boundary_o/seed_42/error_class_I/lattice/lattice_500.txt')"
   ]
  },
  {
   "cell_type": "code",
   "execution_count": 3,
   "metadata": {},
   "outputs": [],
   "source": [
    "nx = 20\n",
    "ny = 20"
   ]
  },
  {
   "cell_type": "code",
   "execution_count": 4,
   "metadata": {},
   "outputs": [],
   "source": [
    "energy=0\n",
    "for i in range(nx): \n",
    "    for j in range(ny):\n",
    "        s_ij = lattice[i][j]\n",
    "        s_up = lattice[i - 1][ j] if (i > 0) else 0\n",
    "        s_left = lattice[i][j - 1] if (j > 0) else 0\n",
    "        inn =  nx + i - 1 if (i > 0) else 0\n",
    "        jnn =  (j - 1) if (j > 0) else 0\n",
    "        energy += s_ij * (s_up * interactions[inn][j] + s_left * interactions[i][jnn])\n"
   ]
  },
  {
   "cell_type": "code",
   "execution_count": 5,
   "metadata": {},
   "outputs": [
    {
     "name": "stdout",
     "output_type": "stream",
     "text": [
      "500.0\n"
     ]
    }
   ],
   "source": [
    "print(energy)"
   ]
  },
  {
   "cell_type": "code",
   "execution_count": null,
   "metadata": {},
   "outputs": [],
   "source": []
  },
  {
   "cell_type": "code",
   "execution_count": null,
   "metadata": {},
   "outputs": [],
   "source": []
  }
 ],
 "metadata": {
  "kernelspec": {
   "display_name": "Python 3 (ipykernel)",
   "language": "python",
   "name": "python3"
  },
  "language_info": {
   "codemirror_mode": {
    "name": "ipython",
    "version": 3
   },
   "file_extension": ".py",
   "mimetype": "text/x-python",
   "name": "python",
   "nbconvert_exporter": "python",
   "pygments_lexer": "ipython3",
   "version": "3.10.12"
  }
 },
 "nbformat": 4,
 "nbformat_minor": 4
}
