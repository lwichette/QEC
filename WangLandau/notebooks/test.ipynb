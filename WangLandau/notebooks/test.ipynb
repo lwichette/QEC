{
 "cells": [
  {
   "cell_type": "code",
   "execution_count": 1,
   "metadata": {},
   "outputs": [],
   "source": [
    "from plotDensity import *\n",
    "import mpmath as mp"
   ]
  },
  {
   "cell_type": "code",
   "execution_count": 2,
   "metadata": {},
   "outputs": [],
   "source": [
    "def log_sum_exp(to_sum):\n",
    "    maxval = max(to_sum)\n",
    "    exp_sum = 0\n",
    "    for value in to_sum:\n",
    "        exp_sum += mp.exp(value-maxval)\n",
    "    res = maxval + mp.log(exp_sum)\n",
    "    return res"
   ]
  },
  {
   "cell_type": "markdown",
   "metadata": {},
   "source": [
    "Accuracy is set to e-10"
   ]
  },
  {
   "cell_type": "code",
   "execution_count": 3,
   "metadata": {},
   "outputs": [],
   "source": [
    "X, Y = (4,4)\n",
    "\n",
    "interval_data = {\n",
    "  \"-22\": 627.1095947266,\n",
    "  \"-18\": 628.8754638672,\n",
    "  \"-14\": 630.9088623047,\n",
    "  \"-10\": 632.5491699219,\n",
    "  \"-6\": 633.5110107422,\n",
    "  \"-14\": 404.7702880859,\n",
    "  \"-10\": 406.3506591797,\n",
    "  \"-6\": 407.3104492188,\n",
    "  \"-2\": 407.8216796875,\n",
    "  \"2\": 407.8045410156,\n",
    "  \"-10\": 404.0828857422,\n",
    "  \"-6\": 405.1276611328,\n",
    "  \"-2\": 405.6312011719,\n",
    "  \"2\": 405.6431152344,\n",
    "  \"6\": 405.1499023438,\n",
    "  \"-6\": 401.4141113281,\n",
    "  \"-2\": 401.9133789062,\n",
    "  \"2\": 401.9149902344,\n",
    "  \"6\": 401.4306152344,\n",
    "  \"10\": 400.5290527344,\n",
    "  \"-2\": 402.1429199219,\n",
    "  \"2\": 402.1175537109,\n",
    "  \"6\": 401.6156250000,\n",
    "  \"10\": 400.6624267578,\n",
    "  \"14\": 399.0767089844,\n",
    "  \"6\": 613.2126708984,\n",
    "  \"10\": 612.2446777344,\n",
    "  \"14\": 610.6416259766,\n",
    "  \"18\": 608.6352050781,\n",
    "  \"22\": 606.9015625000\n",
    "}\n",
    "\n",
    "min_rescaled_data = [\n",
    "  0.0000000000,\n",
    "  1.7658691406,\n",
    "  3.7992675781,\n",
    "  5.4395751953,\n",
    "  6.4014160156,\n",
    "  0.0000000000,\n",
    "  1.5803710938,\n",
    "  2.5401611328,\n",
    "  3.0513916016,\n",
    "  3.0342529297,\n",
    "  0.0000000000,\n",
    "  1.0447753906,\n",
    "  1.5483154297,\n",
    "  1.5602294922,\n",
    "  1.0670166016,\n",
    "  0.8850585938,\n",
    "  1.3843261719,\n",
    "  1.3859375000,\n",
    "  0.9015625000,\n",
    "  0.0000000000,\n",
    "  3.0662109375,\n",
    "  3.0408447266,\n",
    "  2.5389160156,\n",
    "  1.5857177734,\n",
    "  0.0000000000,\n",
    "  6.3111083984,\n",
    "  5.3431152344,\n",
    "  3.7400634766,\n",
    "  1.7336425781,\n",
    "  0.0000000000\n",
    "]\n",
    "\n",
    "stitched_data = [\n",
    "  0.0000000000,\n",
    "  1.7658691406,\n",
    "  3.7992675781,\n",
    "  5.4395751953,\n",
    "  6.4014160156,\n",
    "  3.8592041016,\n",
    "  5.4395751953,\n",
    "  6.3993652344,\n",
    "  6.9105957031,\n",
    "  6.8934570313,\n",
    "  5.3545898438,\n",
    "  6.3993652344,\n",
    "  6.9029052734,\n",
    "  6.9148193359,\n",
    "  6.4216064453,\n",
    "  6.3993652344,\n",
    "  6.8986328125,\n",
    "  6.9002441406,\n",
    "  6.4158691406,\n",
    "  5.5143066406,\n",
    "  6.9256103516,\n",
    "  6.9002441406,\n",
    "  6.3983154297,\n",
    "  5.4451171875,\n",
    "  3.8593994141,\n",
    "  6.3983154297,\n",
    "  5.4303222656,\n",
    "  3.8272705078,\n",
    "  1.8208496094,\n",
    "  0.0872070313\n",
    "]\n",
    "\n",
    "cut_data = {\n",
    "  \"-22\": 0.0000000000,\n",
    "  \"-18\": 1.7658691406,\n",
    "  \"-14\": 3.7992675781,\n",
    "  \"-10\": 5.4395751953,\n",
    "  \"-6\": 6.3993652344,\n",
    "  \"-2\": 6.8986328125,\n",
    "  \"2\": 6.9002441406,\n",
    "  \"6\": 6.3983154297,\n",
    "  \"10\": 5.4303222656,\n",
    "  \"14\": 3.8272705078,\n",
    "  \"18\": 1.8208496094,\n",
    "  \"22\": 0.0872070312\n",
    "}\n",
    "\n",
    "normalized_data = {\n",
    "  \"-22\": 2.8611055117,\n",
    "  \"-18\": 4.6269746524,\n",
    "  \"-14\": 6.6603730899,\n",
    "  \"-10\": 8.3006807071,\n",
    "  \"-6\": 9.2604707461,\n",
    "  \"-2\": 9.7597383242,\n",
    "  \"2\": 9.7613496524,\n",
    "  \"6\": 9.2594209414,\n",
    "  \"10\": 8.2914277774,\n",
    "  \"14\": 6.6883760196,\n",
    "  \"18\": 4.6819551211,\n",
    "  \"22\": 2.9483125430\n",
    "}\n"
   ]
  },
  {
   "cell_type": "code",
   "execution_count": 4,
   "metadata": {},
   "outputs": [],
   "source": [
    "old_result_handling_out = read_data_from_file(\"../results/test/test_intervals6.txt\")"
   ]
  },
  {
   "cell_type": "code",
   "execution_count": 5,
   "metadata": {},
   "outputs": [
    {
     "data": {
      "text/plain": [
       "[{-22: 627.1095947266,\n",
       "  -18: 628.8754638672,\n",
       "  -14: 630.9088623047,\n",
       "  -10: 632.5491699219,\n",
       "  -6: 633.5110107422},\n",
       " {-22: 627.1095947266,\n",
       "  -18: 628.8754638672,\n",
       "  -14: 630.9088623047,\n",
       "  -10: 632.5491699219,\n",
       "  -6: 633.5110107422},\n",
       " {-22: 627.1095947266,\n",
       "  -18: 628.8754638672,\n",
       "  -14: 630.9088623047,\n",
       "  -10: 632.5491699219,\n",
       "  -6: 633.5110107422},\n",
       " {-22: 627.1095947266,\n",
       "  -18: 628.8754638672,\n",
       "  -14: 630.9088623047,\n",
       "  -10: 632.5491699219,\n",
       "  -6: 633.5110107422},\n",
       " {-22: 627.1095947266,\n",
       "  -18: 628.8754638672,\n",
       "  -14: 630.9088623047,\n",
       "  -10: 632.5491699219,\n",
       "  -6: 633.5110107422},\n",
       " {-14: 404.7702880859,\n",
       "  -10: 406.3506591797,\n",
       "  -6: 407.3104492188,\n",
       "  -2: 407.8216796875,\n",
       "  2: 407.8045410156},\n",
       " {-14: 404.7702880859,\n",
       "  -10: 406.3506591797,\n",
       "  -6: 407.3104492188,\n",
       "  -2: 407.8216796875,\n",
       "  2: 407.8045410156},\n",
       " {-14: 404.7702880859,\n",
       "  -10: 406.3506591797,\n",
       "  -6: 407.3104492188,\n",
       "  -2: 407.8216796875,\n",
       "  2: 407.8045410156},\n",
       " {-14: 404.7702880859,\n",
       "  -10: 406.3506591797,\n",
       "  -6: 407.3104492188,\n",
       "  -2: 407.8216796875,\n",
       "  2: 407.8045410156},\n",
       " {-14: 404.7702880859,\n",
       "  -10: 406.3506591797,\n",
       "  -6: 407.3104492188,\n",
       "  -2: 407.8216796875,\n",
       "  2: 407.8045410156},\n",
       " {-10: 404.0828857422,\n",
       "  -6: 405.1276611328,\n",
       "  -2: 405.6312011719,\n",
       "  2: 405.6431152344,\n",
       "  6: 405.1499023438},\n",
       " {-10: 404.0828857422,\n",
       "  -6: 405.1276611328,\n",
       "  -2: 405.6312011719,\n",
       "  2: 405.6431152344,\n",
       "  6: 405.1499023438},\n",
       " {-10: 404.0828857422,\n",
       "  -6: 405.1276611328,\n",
       "  -2: 405.6312011719,\n",
       "  2: 405.6431152344,\n",
       "  6: 405.1499023438},\n",
       " {-10: 404.0828857422,\n",
       "  -6: 405.1276611328,\n",
       "  -2: 405.6312011719,\n",
       "  2: 405.6431152344,\n",
       "  6: 405.1499023438},\n",
       " {-10: 404.0828857422,\n",
       "  -6: 405.1276611328,\n",
       "  -2: 405.6312011719,\n",
       "  2: 405.6431152344,\n",
       "  6: 405.1499023438},\n",
       " {-6: 401.4141113281,\n",
       "  -2: 401.9133789062,\n",
       "  2: 401.9149902344,\n",
       "  6: 401.4306152344,\n",
       "  10: 400.5290527344},\n",
       " {-6: 401.4141113281,\n",
       "  -2: 401.9133789062,\n",
       "  2: 401.9149902344,\n",
       "  6: 401.4306152344,\n",
       "  10: 400.5290527344},\n",
       " {-6: 401.4141113281,\n",
       "  -2: 401.9133789062,\n",
       "  2: 401.9149902344,\n",
       "  6: 401.4306152344,\n",
       "  10: 400.5290527344},\n",
       " {-6: 401.4141113281,\n",
       "  -2: 401.9133789062,\n",
       "  2: 401.9149902344,\n",
       "  6: 401.4306152344,\n",
       "  10: 400.5290527344},\n",
       " {-6: 401.4141113281,\n",
       "  -2: 401.9133789062,\n",
       "  2: 401.9149902344,\n",
       "  6: 401.4306152344,\n",
       "  10: 400.5290527344},\n",
       " {-2: 402.1429199219,\n",
       "  2: 402.1175537109,\n",
       "  6: 401.615625,\n",
       "  10: 400.6624267578,\n",
       "  14: 399.0767089844},\n",
       " {-2: 402.1429199219,\n",
       "  2: 402.1175537109,\n",
       "  6: 401.615625,\n",
       "  10: 400.6624267578,\n",
       "  14: 399.0767089844},\n",
       " {-2: 402.1429199219,\n",
       "  2: 402.1175537109,\n",
       "  6: 401.615625,\n",
       "  10: 400.6624267578,\n",
       "  14: 399.0767089844},\n",
       " {-2: 402.1429199219,\n",
       "  2: 402.1175537109,\n",
       "  6: 401.615625,\n",
       "  10: 400.6624267578,\n",
       "  14: 399.0767089844},\n",
       " {-2: 402.1429199219,\n",
       "  2: 402.1175537109,\n",
       "  6: 401.615625,\n",
       "  10: 400.6624267578,\n",
       "  14: 399.0767089844},\n",
       " {6: 613.2126708984,\n",
       "  10: 612.2446777344,\n",
       "  14: 610.6416259766,\n",
       "  18: 608.6352050781,\n",
       "  22: 606.9015625},\n",
       " {6: 613.2126708984,\n",
       "  10: 612.2446777344,\n",
       "  14: 610.6416259766,\n",
       "  18: 608.6352050781,\n",
       "  22: 606.9015625},\n",
       " {6: 613.2126708984,\n",
       "  10: 612.2446777344,\n",
       "  14: 610.6416259766,\n",
       "  18: 608.6352050781,\n",
       "  22: 606.9015625},\n",
       " {6: 613.2126708984,\n",
       "  10: 612.2446777344,\n",
       "  14: 610.6416259766,\n",
       "  18: 608.6352050781,\n",
       "  22: 606.9015625},\n",
       " {6: 613.2126708984,\n",
       "  10: 612.2446777344,\n",
       "  14: 610.6416259766,\n",
       "  18: 608.6352050781,\n",
       "  22: 606.9015625}]"
      ]
     },
     "execution_count": 5,
     "metadata": {},
     "output_type": "execute_result"
    }
   ],
   "source": [
    "old_result_handling_out"
   ]
  },
  {
   "cell_type": "code",
   "execution_count": null,
   "metadata": {},
   "outputs": [],
   "source": []
  },
  {
   "cell_type": "code",
   "execution_count": 6,
   "metadata": {},
   "outputs": [],
   "source": [
    "\"\"\"Reducing to single walker resutl per interval\"\"\"\n",
    "walker_results = average_matching_keys(old_result_handling_out)"
   ]
  },
  {
   "cell_type": "code",
   "execution_count": 7,
   "metadata": {},
   "outputs": [
    {
     "data": {
      "text/plain": [
       "[{-22: 627.1095947266,\n",
       "  -18: 628.8754638672,\n",
       "  -14: 630.9088623047,\n",
       "  -10: 632.5491699219,\n",
       "  -6: 633.5110107422},\n",
       " {-14: 404.7702880859,\n",
       "  -10: 406.3506591797,\n",
       "  -6: 407.3104492188,\n",
       "  -2: 407.8216796875,\n",
       "  2: 407.8045410156},\n",
       " {-10: 404.0828857422,\n",
       "  -6: 405.1276611328,\n",
       "  -2: 405.6312011719,\n",
       "  2: 405.6431152344,\n",
       "  6: 405.1499023438},\n",
       " {-6: 401.4141113281,\n",
       "  -2: 401.9133789062,\n",
       "  2: 401.9149902344,\n",
       "  6: 401.4306152344,\n",
       "  10: 400.5290527344},\n",
       " {-2: 402.1429199219,\n",
       "  2: 402.1175537109,\n",
       "  6: 401.615625,\n",
       "  10: 400.6624267578,\n",
       "  14: 399.0767089844},\n",
       " {6: 613.2126708984,\n",
       "  10: 612.2446777344,\n",
       "  14: 610.6416259766,\n",
       "  18: 608.6352050781,\n",
       "  22: 606.9015625}]"
      ]
     },
     "execution_count": 7,
     "metadata": {},
     "output_type": "execute_result"
    }
   ],
   "source": [
    "walker_results"
   ]
  },
  {
   "cell_type": "code",
   "execution_count": 8,
   "metadata": {},
   "outputs": [],
   "source": [
    "\"\"\"minimum rescaling of results per interval\"\"\"\n",
    "old_result_handling_min_rescaled =  get_renormalized_log_g_values(walker_results)"
   ]
  },
  {
   "cell_type": "markdown",
   "metadata": {},
   "source": [
    "DEVIATION MIN RESCALE"
   ]
  },
  {
   "cell_type": "code",
   "execution_count": 9,
   "metadata": {},
   "outputs": [
    {
     "data": {
      "text/plain": [
       "9.998180061643325e-11"
      ]
     },
     "execution_count": 9,
     "metadata": {},
     "output_type": "execute_result"
    }
   ],
   "source": [
    "max(np.concatenate(old_result_handling_min_rescaled[1])- np.array(min_rescaled_data))"
   ]
  },
  {
   "cell_type": "code",
   "execution_count": 10,
   "metadata": {},
   "outputs": [],
   "source": [
    "\"\"\"calculate stitchign points\"\"\"\n",
    "energy_deriv = get_derivative_wrt_e(walker_results)\n",
    "minimum_deviation_energies = find_lowest_inverse_temp_deviation(energy_deriv)"
   ]
  },
  {
   "cell_type": "code",
   "execution_count": 11,
   "metadata": {},
   "outputs": [
    {
     "name": "stdout",
     "output_type": "stream",
     "text": [
      "[{-22: 627.1095947266, -18: 628.8754638672, -14: 630.9088623047, -10: 632.5491699219, -6: 633.5110107422}, {-14: 630.9687988281, -10: 632.5491699219, -6: 633.508959961, -2: 634.0201904297, 2: 634.0030517578}, {-10: 632.4641845704, -6: 633.508959961, -2: 634.0125000001, 2: 634.0244140626, 6: 633.531201172}, {-6: 633.508959961, -2: 634.0082275391001, 2: 634.0098388673, 6: 633.5254638673, 10: 632.6239013673}, {-2: 634.0352050783, 2: 634.0098388673, 6: 633.5079101564, 10: 632.5547119142, 14: 630.9689941408001}, {6: 633.5079101564, 10: 632.5399169924001, 14: 630.9368652346001, 18: 628.9304443361, 22: 627.196801758}]\n"
     ]
    }
   ],
   "source": [
    "\"\"\"rescale and concatenate\"\"\"\n",
    "results_x = []\n",
    "results_y = []\n",
    "for result in walker_results:\n",
    "    results_y.append(np.array(list(result.values())))\n",
    "    results_x.append(np.array(list(result.keys())))\n",
    "rescale_results_for_concatenation(results_x, results_y, minimum_deviation_energies)\n",
    "\n",
    "\"\"\"build dict list out of it for min rescaling\"\"\"\n",
    "list_of_concat_rescale_dicts = []\n",
    "for keys, values in zip(results_x, results_y):\n",
    "    # Combine keys and values into a dictionary\n",
    "    dict_from_arrays = {k: v for k, v in zip(keys, values)}\n",
    "    list_of_concat_rescale_dicts.append(dict_from_arrays)\n",
    "\n",
    "# Output the list of dictionaries\n",
    "print(list_of_concat_rescale_dicts)"
   ]
  },
  {
   "cell_type": "code",
   "execution_count": 12,
   "metadata": {},
   "outputs": [],
   "source": [
    "\"\"\"concatenate_rescale than min\"\"\"\n",
    "concatenated_min_rescaled = get_renormalized_log_g_values(list_of_concat_rescale_dicts)"
   ]
  },
  {
   "cell_type": "markdown",
   "metadata": {},
   "source": [
    "DEVIATION CONCATENATE AND MIN RESCALE"
   ]
  },
  {
   "cell_type": "code",
   "execution_count": 13,
   "metadata": {},
   "outputs": [
    {
     "data": {
      "text/plain": [
       "5.728750807065808e-14"
      ]
     },
     "execution_count": 13,
     "metadata": {},
     "output_type": "execute_result"
    }
   ],
   "source": [
    "max(np.concatenate(concatenated_min_rescaled[1])- np.array(stitched_data))"
   ]
  },
  {
   "cell_type": "code",
   "execution_count": 14,
   "metadata": {},
   "outputs": [],
   "source": [
    "\"\"\"Cut overlapping parts\"\"\"\n",
    "results_x = concatenated_min_rescaled[0]\n",
    "results_y = concatenated_min_rescaled[1]\n",
    "\n",
    "\n",
    "x_max = -1 -2*X*Y\n",
    "unique_x = []\n",
    "unique_y = []\n",
    "for i in range(len(results_x)):\n",
    "    for j in range(len(results_x[i])):\n",
    "        if results_x[i][j] > x_max: #avoid double counting\n",
    "            x_max = results_x[i][j]\n",
    "            unique_x.append(results_x[i][j])\n",
    "            unique_y.append(results_y[i][j])"
   ]
  },
  {
   "cell_type": "markdown",
   "metadata": {},
   "source": [
    "DEVIATION CUT OVERLAP"
   ]
  },
  {
   "cell_type": "code",
   "execution_count": 15,
   "metadata": {},
   "outputs": [
    {
     "data": {
      "text/plain": [
       "0.002050781200034102"
      ]
     },
     "execution_count": 15,
     "metadata": {},
     "output_type": "execute_result"
    }
   ],
   "source": [
    "max(np.array(unique_y) - np.array(list(cut_data.values())))"
   ]
  },
  {
   "cell_type": "markdown",
   "metadata": {},
   "source": [
    "THIS IMPLIES PROBLEM WITH NAIVE CUT OF OVERLAP IN PYTHON"
   ]
  },
  {
   "cell_type": "markdown",
   "metadata": {},
   "source": [
    "ASSUMING NOW INPUT FOR LOG SUM EXP RESCALING WHICH GOES INTO C CODE"
   ]
  },
  {
   "cell_type": "code",
   "execution_count": 16,
   "metadata": {},
   "outputs": [],
   "source": [
    "cut_data_input = np.array(list(cut_data.values()))"
   ]
  },
  {
   "cell_type": "code",
   "execution_count": 17,
   "metadata": {},
   "outputs": [
    {
     "name": "stdout",
     "output_type": "stream",
     "text": [
      "[mpf('2.8611055117440856'), mpf('4.6269746523440851'), mpf('6.6603730898440858'), mpf('8.3006807070440853'), mpf('9.2604707461440849'), mpf('9.7597383242440845'), mpf('9.7613496523440855'), mpf('9.2594209414440858'), mpf('8.2914277773440848'), mpf('6.6883760195440853'), mpf('4.6819551211440853'), mpf('2.9483125429440857')]\n"
     ]
    }
   ],
   "source": [
    "offset = log_sum_exp(cut_data_input)\n",
    "rescaled_y = [res + mp.log(2)*16 - offset for res in cut_data_input]\n",
    "print(rescaled_y)"
   ]
  },
  {
   "cell_type": "markdown",
   "metadata": {},
   "source": [
    "DEVIATION LOG SUM EXP RESCALING FOR SAME INPUT"
   ]
  },
  {
   "cell_type": "code",
   "execution_count": 18,
   "metadata": {},
   "outputs": [
    {
     "data": {
      "text/plain": [
       "mpf('4.4085624040235416e-11')"
      ]
     },
     "execution_count": 18,
     "metadata": {},
     "output_type": "execute_result"
    }
   ],
   "source": [
    "max(np.array(rescaled_y) - np.array(list(normalized_data.values())))"
   ]
  },
  {
   "cell_type": "code",
   "execution_count": null,
   "metadata": {},
   "outputs": [],
   "source": []
  }
 ],
 "metadata": {
  "kernelspec": {
   "display_name": ".venv",
   "language": "python",
   "name": "python3"
  },
  "language_info": {
   "codemirror_mode": {
    "name": "ipython",
    "version": 3
   },
   "file_extension": ".py",
   "mimetype": "text/x-python",
   "name": "python",
   "nbconvert_exporter": "python",
   "pygments_lexer": "ipython3",
   "version": "3.10.12"
  }
 },
 "nbformat": 4,
 "nbformat_minor": 2
}
