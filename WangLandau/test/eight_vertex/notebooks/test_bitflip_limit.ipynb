{
 "cells": [
  {
   "cell_type": "code",
   "execution_count": 41,
   "metadata": {},
   "outputs": [],
   "source": [
    "import os\n",
    "import statistics\n",
    "import numpy as np\n",
    "\n",
    "def calc_periodic_energy(lattice, interactions):\n",
    "    energy = 0\n",
    "\n",
    "    nx = lattice.shape[0]\n",
    "    ny = lattice.shape[1]\n",
    "\n",
    "    for i in range(lattice.shape[0]):\n",
    "        for j in range(lattice.shape[1]):\n",
    "            inn =  i - 1 if (i - 1 >= 0) else lattice.shape[0] - 1\n",
    "            jnn =  j - 1 if (j - 1 >= 0) else lattice.shape[1] - 1\n",
    "\n",
    "            energy += lattice[i,j] * (lattice[inn,j] * interactions[nx + inn,j] + lattice[i,jnn] * interactions[i, jnn])\n",
    "\n",
    "    return energy"
   ]
  },
  {
   "cell_type": "code",
   "execution_count": 42,
   "metadata": {},
   "outputs": [
    {
     "name": "stdout",
     "output_type": "stream",
     "text": [
      "[0.0, 0.0, 0.03125, 0.0625, 0.1875, 0.0625, 0.09375, 0.09375, 0.0, 0.125, 0.125, 0.15625, 0.03125, 0.03125, 0.09375, 0.0625, 0.125, 0.0, 0.03125, 0.03125, 0.0625, 0.125, 0.0625, 0.09375, 0.125, 0.09375]\n",
      "Mean of ratios: 0.0733\n",
      "Variance of ratios: 0.0027\n"
     ]
    }
   ],
   "source": [
    "\n",
    "\n",
    "# Define the root directory\n",
    "root_dir = '../../../init/task_id_1/eight_vertex/periodic/qubit_specific_noise_0/prob_X_0.080000_prob_Y_0.000010_prob_Z_0.000010/X_4_Y_4/error_class_0000'\n",
    "ratio_flipped_interactions = []\n",
    "\n",
    "# Iterate over all folders in the root directory\n",
    "for seed_folder in os.listdir(root_dir):\n",
    "    seed_path = os.path.join(root_dir, seed_folder)\n",
    "    if os.path.isdir(seed_path) and seed_folder.startswith('seed_'):\n",
    "        interactions_path = os.path.join(seed_path, 'interactions', 'interactions_r.txt')\n",
    "        if os.path.exists(interactions_path):\n",
    "            with open(interactions_path, 'r') as file:\n",
    "                data = file.readlines()\n",
    "                # Initialize counters\n",
    "                count_plus_one = 0\n",
    "                total_values = 0\n",
    "\n",
    "                for line in data:\n",
    "                    values = list(map(float, line.split()))\n",
    "                    count_plus_one += values.count(1.0)\n",
    "                    total_values += len(values)\n",
    "\n",
    "                if total_values > 0:\n",
    "                    ratio_flipped_interactions.append(count_plus_one / total_values)\n",
    "                else:\n",
    "                    raise RuntimeError(\"file handling didnt work\")\n",
    "        else:\n",
    "            print(f\"File not found: {interactions_path}\")\n",
    "\n",
    "print(ratio_flipped_interactions)\n",
    "\n",
    "\n",
    "if ratio_flipped_interactions:\n",
    "    mean_ratio = statistics.mean(ratio_flipped_interactions)\n",
    "    variance_ratio = statistics.variance(ratio_flipped_interactions)\n",
    "    print(f\"Mean of ratios: {mean_ratio:.4f}\")\n",
    "    print(f\"Variance of ratios: {variance_ratio:.4f}\")\n",
    "else:\n",
    "    print(\"No ratios to calculate.\")"
   ]
  },
  {
   "cell_type": "code",
   "execution_count": null,
   "metadata": {},
   "outputs": [],
   "source": []
  },
  {
   "cell_type": "code",
   "execution_count": 43,
   "metadata": {},
   "outputs": [
    {
     "name": "stdout",
     "output_type": "stream",
     "text": [
      "[0.125, 0.0625, 0.09375, 0.0, 0.0625, 0.09375, 0.03125, 0.125, 0.125, 0.125, 0.0, 0.09375, 0.03125, 0.09375, 0.125, 0.0625, 0.15625, 0.09375, 0.0625, 0.0625]\n",
      "Mean of ratios: 0.0813\n",
      "Variance of ratios: 0.0019\n"
     ]
    }
   ],
   "source": [
    "# Define the root directory\n",
    "root_dir =        '../../../init/task_id_1/periodic/prob_0.080000/X_4_Y_4/error_class_I'\n",
    "ratio_flipped_interactions = []\n",
    "\n",
    "# Iterate over all folders in the root directory\n",
    "for seed_folder in os.listdir(root_dir):\n",
    "    seed_path = os.path.join(root_dir, seed_folder)\n",
    "    if os.path.isdir(seed_path) and seed_folder.startswith('seed_'):\n",
    "        interactions_path = os.path.join(seed_path, 'interactions', 'interactions.txt')\n",
    "        if os.path.exists(interactions_path):\n",
    "            with open(interactions_path, 'r') as file:\n",
    "                data = file.readlines()\n",
    "                # Initialize counters\n",
    "                count_minus_one = 0\n",
    "                total_values = 0\n",
    "\n",
    "                for line in data:\n",
    "                    values = list(map(float, line.split()))\n",
    "                    count_minus_one += values.count(-1.0)\n",
    "                    total_values += len(values)\n",
    "\n",
    "                if total_values > 0:\n",
    "                    ratio_flipped_interactions.append(count_minus_one / total_values)\n",
    "                else:\n",
    "                    raise RuntimeError(\"file handling didnt work\")\n",
    "        else:\n",
    "            print(f\"File not found: {interactions_path}\")\n",
    "\n",
    "print(ratio_flipped_interactions)\n",
    "\n",
    "if ratio_flipped_interactions:\n",
    "    mean_ratio = statistics.mean(ratio_flipped_interactions)\n",
    "    variance_ratio = statistics.variance(ratio_flipped_interactions)\n",
    "    print(f\"Mean of ratios: {mean_ratio:.4f}\")\n",
    "    print(f\"Variance of ratios: {variance_ratio:.4f}\")\n",
    "else:\n",
    "    print(\"No ratios to calculate.\")"
   ]
  },
  {
   "cell_type": "code",
   "execution_count": 48,
   "metadata": {},
   "outputs": [
    {
     "data": {
      "text/plain": [
       "-30.0"
      ]
     },
     "execution_count": 48,
     "metadata": {},
     "output_type": "execute_result"
    }
   ],
   "source": [
    "lattice = np.loadtxt(\"../../../init/task_id_1/eight_vertex/periodic/qubit_specific_noise_0/prob_X_0.080000_prob_Y_0.000010_prob_Z_0.000010/X_4_Y_4/error_class_0000/seed_10/lattice/lattice_r_energy_-30.000000.txt\")\n",
    "interaction = np.loadtxt(\"../../../init/task_id_1/eight_vertex/periodic/qubit_specific_noise_0/prob_X_0.080000_prob_Y_0.000010_prob_Z_0.000010/X_4_Y_4/error_class_0000/seed_10/interactions/interactions_r.txt\")\n",
    "calc_periodic_energy(lattice, interaction)"
   ]
  },
  {
   "cell_type": "code",
   "execution_count": 57,
   "metadata": {},
   "outputs": [],
   "source": [
    "root_dir = '../../../init/task_id_1/eight_vertex/periodic/qubit_specific_noise_0/prob_X_0.080000_prob_Y_0.000010_prob_Z_0.000010/X_4_Y_4/error_class_1100'\n",
    "\n",
    "# Iterate over all folders in the root directory\n",
    "for seed_folder in os.listdir(root_dir):\n",
    "    seed_path = os.path.join(root_dir, seed_folder)\n",
    "    if os.path.isdir(seed_path) and seed_folder.startswith('seed_'):\n",
    "        interactions_path = os.path.join(seed_path, 'interactions', 'interactions_r.txt')\n",
    "        lattice_path = os.path.join(seed_path, 'lattice')\n",
    "        for filename in os.listdir(lattice_path):\n",
    "            if filename.startswith('lattice_r_energy_') and filename.endswith('.txt'):\n",
    "                    energy_str = filename.split('_')[-1].replace('.txt', '')\n",
    "                    energy_value = float(energy_str)\n",
    "                    lattice_file_path = os.path.join(lattice_path, filename)\n",
    "\n",
    "                    lattice = np.loadtxt(lattice_file_path)\n",
    "                    interaction = np.loadtxt(interactions_path)\n",
    "\n",
    "                    energy_result = calc_periodic_energy(lattice, interaction)\n",
    "\n",
    "                    if energy_result == energy_value:\n",
    "                        # print(f\"{filename} energy checked\")\n",
    "                        continue\n",
    "                    else:\n",
    "                        assert ValueError(f\"{filename}: Function result ({energy_result}) does not match the energy value ({energy_value})\")\n"
   ]
  },
  {
   "cell_type": "code",
   "execution_count": null,
   "metadata": {},
   "outputs": [],
   "source": []
  }
 ],
 "metadata": {
  "kernelspec": {
   "display_name": "qec",
   "language": "python",
   "name": "python3"
  },
  "language_info": {
   "codemirror_mode": {
    "name": "ipython",
    "version": 3
   },
   "file_extension": ".py",
   "mimetype": "text/x-python",
   "name": "python",
   "nbconvert_exporter": "python",
   "pygments_lexer": "ipython3",
   "version": "3.9.5"
  }
 },
 "nbformat": 4,
 "nbformat_minor": 2
}
