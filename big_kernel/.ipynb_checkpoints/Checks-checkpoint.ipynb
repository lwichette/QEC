{
 "cells": [
  {
   "cell_type": "code",
   "execution_count": 1,
   "id": "237aa01e",
   "metadata": {},
   "outputs": [],
   "source": [
    "import os\n",
    "import numpy as np"
   ]
  },
  {
   "cell_type": "markdown",
   "id": "cf926b45",
   "metadata": {},
   "source": [
    "### Energy"
   ]
  },
  {
   "cell_type": "code",
   "execution_count": 5,
   "id": "ac824fc1",
   "metadata": {},
   "outputs": [],
   "source": [
    "bonds = np.loadtxt(\"bonds/final_bonds_0_0.txt\")"
   ]
  },
  {
   "cell_type": "code",
   "execution_count": 6,
   "id": "fe51ba92",
   "metadata": {},
   "outputs": [],
   "source": [
    "lattice = np.loadtxt(\"lattices/0/final_lattice_0.txt\")"
   ]
  },
  {
   "cell_type": "code",
   "execution_count": null,
   "id": "f761d636",
   "metadata": {},
   "outputs": [],
   "source": [
    "for i in range(lattice.shape[0]):\n",
    "    for j in range(lattice.shape[1]):\n",
    "        inn = i-1 if i-1 >= 0 else lattice.shape[0]-1\n",
    "        jnn = j-1 if j-1 >= 0 else lattice.shape[1]-1"
   ]
  },
  {
   "cell_type": "markdown",
   "id": "12181f04",
   "metadata": {},
   "source": [
    "### B2"
   ]
  },
  {
   "cell_type": "code",
   "execution_count": 2,
   "id": "12db9cde",
   "metadata": {},
   "outputs": [],
   "source": [
    "os.chdir('lattices')"
   ]
  },
  {
   "cell_type": "code",
   "execution_count": 3,
   "id": "bf74404f",
   "metadata": {},
   "outputs": [],
   "source": [
    "def calc_weighted_B2(lattice, wave_vector):\n",
    "    sum_lattice = 0\n",
    "    \n",
    "    for i in range(lattice.shape[0]):\n",
    "        for j in range(lattice.shape[1]):\n",
    "            dot = wave_vector[0]*i + wave_vector[1]*j\n",
    "            sum_lattice += lattice[i,j]*np.exp(1j*dot)\n",
    "    \n",
    "    return sum_lattice"
   ]
  },
  {
   "cell_type": "code",
   "execution_count": 4,
   "id": "77ee7ca7",
   "metadata": {},
   "outputs": [],
   "source": [
    "nis = 2\n",
    "num_lattices = 3\n",
    "\n",
    "L = 12"
   ]
  },
  {
   "cell_type": "code",
   "execution_count": 5,
   "id": "4e206e22",
   "metadata": {},
   "outputs": [],
   "source": [
    "wave_vector = np.array((2*np.pi/L,0))"
   ]
  },
  {
   "cell_type": "code",
   "execution_count": 6,
   "id": "35e5cf98",
   "metadata": {},
   "outputs": [
    {
     "name": "stdout",
     "output_type": "stream",
     "text": [
      "(-1.8038475772933662+11.660254037844389j)\n",
      "(7.732050807568874+2.4641016151377535j)\n",
      "(4.732050807568874-8.196152422706636j)\n",
      "(7.464101615137753-14.928203230275514j)\n",
      "(-5.196152422706634+3.000000000000001j)\n",
      "(-0.5358983848622483-6.000000000000002j)\n"
     ]
    }
   ],
   "source": [
    "for i in range(nis):\n",
    "    for j in range(num_lattices):\n",
    "        lattice = np.loadtxt(f\"{str(i)}/final_lattice_{str(j)}.txt\")\n",
    "        print(calc_weighted_B2(lattice, wave_vector))"
   ]
  },
  {
   "cell_type": "code",
   "execution_count": 7,
   "id": "98f120ab",
   "metadata": {},
   "outputs": [
    {
     "data": {
      "text/plain": [
       "['final_lattice_2.txt', 'final_lattice_0.txt', 'final_lattice_1.txt']"
      ]
     },
     "execution_count": 7,
     "metadata": {},
     "output_type": "execute_result"
    }
   ],
   "source": [
    "os.listdir('0')"
   ]
  },
  {
   "cell_type": "code",
   "execution_count": null,
   "id": "67d495f5",
   "metadata": {},
   "outputs": [],
   "source": []
  }
 ],
 "metadata": {
  "kernelspec": {
   "display_name": "OG",
   "language": "python",
   "name": "og"
  },
  "language_info": {
   "codemirror_mode": {
    "name": "ipython",
    "version": 3
   },
   "file_extension": ".py",
   "mimetype": "text/x-python",
   "name": "python",
   "nbconvert_exporter": "python",
   "pygments_lexer": "ipython3",
   "version": "3.9.5"
  }
 },
 "nbformat": 4,
 "nbformat_minor": 5
}
