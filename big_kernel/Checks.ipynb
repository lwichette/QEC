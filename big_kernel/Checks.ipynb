{
 "cells": [
  {
   "cell_type": "code",
   "execution_count": 1,
   "id": "237aa01e",
   "metadata": {},
   "outputs": [],
   "source": [
    "import os\n",
    "import numpy as np"
   ]
  },
  {
   "cell_type": "code",
   "execution_count": 2,
   "id": "3892ada8",
   "metadata": {},
   "outputs": [],
   "source": [
    "def calc_weighted_B2(lattice, wave_vector):\n",
    "    sum_lattice = 0\n",
    "    \n",
    "    for i in range(lattice.shape[0]):\n",
    "        for j in range(lattice.shape[1]):\n",
    "            dot = wave_vector[0]*i + wave_vector[1]*j\n",
    "            sum_lattice += lattice[i,j]*np.exp(1j*dot)\n",
    "    \n",
    "    return sum_lattice"
   ]
  },
  {
   "cell_type": "code",
   "execution_count": 3,
   "id": "074034db",
   "metadata": {},
   "outputs": [],
   "source": [
    "def calc_energy(lattice, bonds, cc):\n",
    "    nx = lattice.shape[0]\n",
    "    ny = lattice.shape[1]\n",
    "\n",
    "    energy = 0 \n",
    "\n",
    "    for i in range(lattice.shape[0]):\n",
    "        for j in range(lattice.shape[1]):\n",
    "            inn = i-1 if i-1 >= 0 else lattice.shape[0]-1\n",
    "            jnn = j-1 if j-1 >= 0 else lattice.shape[1]-1\n",
    "\n",
    "            i_down = nx + i - 1 if i-1>= 0 else nx*2-1\n",
    "            j_side = jnn\n",
    "\n",
    "            energy += cc*lattice[i,j]*lattice[inn,j]*bonds[i_down,j] + cc*lattice[i,j]*lattice[i,jnn]*bonds[i,j_side]\n",
    "\n",
    "    return -energy"
   ]
  },
  {
   "cell_type": "markdown",
   "id": "95a0e3b0",
   "metadata": {},
   "source": [
    "### Energy"
   ]
  },
  {
   "cell_type": "code",
   "execution_count": 7,
   "id": "55d6afe7",
   "metadata": {},
   "outputs": [],
   "source": [
    "cc = [1,2,3]\n",
    "\n",
    "nis = 2\n",
    "num_lattices = 3\n",
    "nie = 3\n",
    "\n",
    "L= 12\n",
    "\n",
    "wave_vector = np.array((2*np.pi/L,0))"
   ]
  },
  {
   "cell_type": "code",
   "execution_count": 8,
   "id": "9609e937",
   "metadata": {},
   "outputs": [],
   "source": [
    "energy = np.zeros((3,2))\n",
    "sum_0 = np.zeros((3,2))\n",
    "sum_k = np.zeros((3,2),dtype=np.complex_)\n",
    "weighted_energies_0 = np.zeros((num_lattices, nis))\n",
    "weighted_energies_k = np.zeros((num_lattices, nis))"
   ]
  },
  {
   "cell_type": "code",
   "execution_count": 9,
   "id": "3c2dcc19",
   "metadata": {},
   "outputs": [],
   "source": [
    "final_result_0 = np.zeros((num_lattices, nie))\n",
    "final_result_k = np.zeros((num_lattices, nie))"
   ]
  },
  {
   "cell_type": "code",
   "execution_count": 10,
   "id": "6221cda8",
   "metadata": {},
   "outputs": [
    {
     "name": "stderr",
     "output_type": "stream",
     "text": [
      "/tmp/ipykernel_260268/1348851089.py:22: ComplexWarning: Casting complex values to real discards the imaginary part\n",
      "  weighted_energies_k[s,e] = energy[s,e]*sum_k[s,e]/partition_function[s]\n"
     ]
    }
   ],
   "source": [
    "for n in range(nie):\n",
    "    for s in range(num_lattices):\n",
    "        for e in range(nis):\n",
    "            bonds = np.loadtxt(f\"bonds/final_bonds_{n}_{s}.txt\")\n",
    "            lattice = np.loadtxt(f\"lattices/{e}/final_lattice_{n}_{s}.txt\") \n",
    "\n",
    "            energy[s,e] = calc_energy(lattice, bonds, cc[s])\n",
    "            sum_0[s,e] = np.sum(lattice)\n",
    "            sum_k[s,e] = calc_weighted_B2(lattice, wave_vector)\n",
    "    \n",
    "    for s in range(num_lattices):\n",
    "        for e in range(nis):\n",
    "            sum_0[s,e] = abs(sum_0[s,e])**2\n",
    "            sum_k[s,e] = abs(sum_k[s,e])**2\n",
    "            energy[s,e] = np.exp(-cc[s]*energy[s,e]/L**2)\n",
    "            \n",
    "    partition_function = np.sum(energy, axis=1)\n",
    "    \n",
    "    for s in range(num_lattices):\n",
    "        for e in range(nis):\n",
    "            weighted_energies_0[s,e] = energy[s,e]*sum_0[s,e]/partition_function[s]\n",
    "            weighted_energies_k[s,e] = energy[s,e]*sum_k[s,e]/partition_function[s]\n",
    "    \n",
    "    final_result_0[n,:] = np.sum(weighted_energies_0, axis=1)\n",
    "    final_result_k[n,:] = np.sum(weighted_energies_k, axis=1)"
   ]
  },
  {
   "cell_type": "code",
   "execution_count": 12,
   "id": "493104c9",
   "metadata": {},
   "outputs": [
    {
     "name": "stdout",
     "output_type": "stream",
     "text": [
      "[368.21799592 406.34125924 201.17617146]\n",
      "[911.95489356 344.73464696 491.3074685 ]\n"
     ]
    }
   ],
   "source": [
    "print(np.sum(final_result_0,axis=0))\n",
    "print(np.sum(final_result_k,axis=0))"
   ]
  },
  {
   "cell_type": "code",
   "execution_count": 15,
   "id": "3e354ece",
   "metadata": {},
   "outputs": [
    {
     "data": {
      "text/plain": [
       "0.0680555776834362"
      ]
     },
     "execution_count": 15,
     "metadata": {},
     "output_type": "execute_result"
    }
   ],
   "source": [
    "np.sqrt(406.34125924/344.73464696-1)*(1/(2*np.sin(np.pi/L)))/L"
   ]
  },
  {
   "cell_type": "code",
   "execution_count": 9,
   "id": "49b0f633",
   "metadata": {},
   "outputs": [],
   "source": []
  },
  {
   "cell_type": "code",
   "execution_count": 10,
   "id": "f42d5430",
   "metadata": {},
   "outputs": [],
   "source": []
  },
  {
   "cell_type": "code",
   "execution_count": 11,
   "id": "110edfe7",
   "metadata": {},
   "outputs": [],
   "source": []
  },
  {
   "cell_type": "code",
   "execution_count": 13,
   "id": "32070a24",
   "metadata": {},
   "outputs": [
    {
     "data": {
      "text/plain": [
       "array([248.2820654 , 168.11434861,  10.74611801])"
      ]
     },
     "execution_count": 13,
     "metadata": {},
     "output_type": "execute_result"
    }
   ],
   "source": []
  },
  {
   "cell_type": "markdown",
   "id": "6319825d",
   "metadata": {},
   "source": [
    "### B2"
   ]
  },
  {
   "cell_type": "code",
   "execution_count": 2,
   "id": "12db9cde",
   "metadata": {},
   "outputs": [],
   "source": [
    "os.chdir('lattices')"
   ]
  },
  {
   "cell_type": "code",
   "execution_count": 3,
   "id": "bf74404f",
   "metadata": {},
   "outputs": [],
   "source": []
  },
  {
   "cell_type": "code",
   "execution_count": 4,
   "id": "77ee7ca7",
   "metadata": {},
   "outputs": [],
   "source": [
    "nis = 2\n",
    "num_lattices = 3\n",
    "\n",
    "L = 12"
   ]
  },
  {
   "cell_type": "code",
   "execution_count": 5,
   "id": "4e206e22",
   "metadata": {},
   "outputs": [],
   "source": [
    "wave_vector = np.array((2*np.pi/L,0))"
   ]
  },
  {
   "cell_type": "code",
   "execution_count": 6,
   "id": "35e5cf98",
   "metadata": {},
   "outputs": [
    {
     "name": "stdout",
     "output_type": "stream",
     "text": [
      "(-1.8038475772933662+11.660254037844389j)\n",
      "(7.732050807568874+2.4641016151377535j)\n",
      "(4.732050807568874-8.196152422706636j)\n",
      "(7.464101615137753-14.928203230275514j)\n",
      "(-5.196152422706634+3.000000000000001j)\n",
      "(-0.5358983848622483-6.000000000000002j)\n"
     ]
    }
   ],
   "source": [
    "for i in range(nis):\n",
    "    for j in range(num_lattices):\n",
    "        lattice = np.loadtxt(f\"{str(i)}/final_lattice_{str(j)}.txt\")\n",
    "        print(calc_weighted_B2(lattice, wave_vector))"
   ]
  },
  {
   "cell_type": "code",
   "execution_count": 7,
   "id": "98f120ab",
   "metadata": {},
   "outputs": [
    {
     "data": {
      "text/plain": [
       "['final_lattice_2.txt', 'final_lattice_0.txt', 'final_lattice_1.txt']"
      ]
     },
     "execution_count": 7,
     "metadata": {},
     "output_type": "execute_result"
    }
   ],
   "source": [
    "os.listdir('0')"
   ]
  },
  {
   "cell_type": "code",
   "execution_count": null,
   "id": "67d495f5",
   "metadata": {},
   "outputs": [],
   "source": []
  }
 ],
 "metadata": {
  "kernelspec": {
   "display_name": "OG",
   "language": "python",
   "name": "og"
  },
  "language_info": {
   "codemirror_mode": {
    "name": "ipython",
    "version": 3
   },
   "file_extension": ".py",
   "mimetype": "text/x-python",
   "name": "python",
   "nbconvert_exporter": "python",
   "pygments_lexer": "ipython3",
   "version": "3.9.5"
  }
 },
 "nbformat": 4,
 "nbformat_minor": 5
}
