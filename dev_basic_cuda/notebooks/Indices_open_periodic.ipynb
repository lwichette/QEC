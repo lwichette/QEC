{
 "cells": [
  {
   "cell_type": "code",
   "execution_count": 1,
   "id": "9a9d2347",
   "metadata": {},
   "outputs": [],
   "source": [
    "import numpy as np\n",
    "import os"
   ]
  },
  {
   "cell_type": "code",
   "execution_count": 2,
   "id": "9413fced",
   "metadata": {},
   "outputs": [],
   "source": [
    "os.chdir('..')"
   ]
  },
  {
   "cell_type": "code",
   "execution_count": 10,
   "id": "1f5f5473",
   "metadata": {},
   "outputs": [
    {
     "name": "stdout",
     "output_type": "stream",
     "text": [
      "682.6973485926736\n",
      "4.000000000000057\n",
      "14.928203230275438\n",
      "376.4204710660615\n",
      "4700.660895063402\n",
      "447.8460969082651\n",
      "3189.2765074303393\n",
      "2443.9381426862833\n"
     ]
    }
   ],
   "source": [
    "for i in range(8):\n",
    "    lattice = np.loadtxt(f'lattice_{i}.txt')\n",
    "    \n",
    "    wave_vector = 2*np.pi/lattice.shape[0]\n",
    "    \n",
    "    c_sum = 0\n",
    "    \n",
    "    for k in range(lattice.shape[0]):\n",
    "        for j in range(lattice.shape[1]):\n",
    "            c_sum += np.exp(k*1j*wave_vector)*lattice[k,j]\n",
    "    print(np.abs(c_sum)**2)"
   ]
  },
  {
   "cell_type": "code",
   "execution_count": 9,
   "id": "cd84cf5d",
   "metadata": {},
   "outputs": [],
   "source": [
    "# Lattice sizes\n",
    "X = 8\n",
    "Y = 8\n",
    "Y2 = int(Y/2)"
   ]
  },
  {
   "cell_type": "code",
   "execution_count": 10,
   "id": "532c0437",
   "metadata": {},
   "outputs": [],
   "source": [
    "# Create lattice\n",
    "lattice = np.arange(X*Y).reshape(X,Y)\n",
    "\n",
    "lattice_b = np.zeros((X,Y2))\n",
    "lattice_w = np.zeros((X,Y2))"
   ]
  },
  {
   "cell_type": "code",
   "execution_count": 11,
   "id": "8604311b",
   "metadata": {},
   "outputs": [],
   "source": [
    "# Get black and white lattices\n",
    "for i in range(X):\n",
    "    if i%2 == 0:\n",
    "        lattice_b[i,:] = lattice[i,0::2]\n",
    "        lattice_w[i,:] = lattice[i,1::2]\n",
    "    else:\n",
    "        lattice_b[i,:] = lattice[i,1::2]\n",
    "        lattice_w[i,:] = lattice[i,0::2]"
   ]
  },
  {
   "cell_type": "code",
   "execution_count": 12,
   "id": "9f2977d3",
   "metadata": {},
   "outputs": [],
   "source": [
    "# Get interactions\n",
    "interactions = np.arange(2*X*Y)\n",
    "interactions_reshaped = interactions.reshape((2*X,Y))"
   ]
  },
  {
   "cell_type": "markdown",
   "id": "783864cf",
   "metadata": {},
   "source": [
    "### 1. Periodic Boundary Conditions"
   ]
  },
  {
   "cell_type": "code",
   "execution_count": 22,
   "id": "1a162124",
   "metadata": {},
   "outputs": [],
   "source": [
    "# Check whether \n",
    "is_black = False"
   ]
  },
  {
   "cell_type": "code",
   "execution_count": 24,
   "id": "063f7928",
   "metadata": {},
   "outputs": [
    {
     "name": "stdout",
     "output_type": "stream",
     "text": [
      "Spin of interest: 24.0\n",
      "Up neighbor: 16.0 with 80\n",
      "Down neighbor: 32.0 with 88\n",
      "Right neighbor: 25.0 with 24\n",
      "Left neighbor: 31.0 with 31\n",
      "----------------------------------\n"
     ]
    }
   ],
   "source": [
    "for tid in range(X*Y2):\n",
    "    \n",
    "        i = int(tid/Y2)\n",
    "        j = tid % Y2\n",
    "\n",
    "        ipp = (i + 1) if (i + 1 < X) else 0\n",
    "        inn = (i - 1) if (i - 1 >= 0) else X - 1\n",
    "        jpp = (j + 1) if (j + 1 < Y2) else 0\n",
    "        jnn = (j - 1) if (j - 1 >= 0) else Y2 - 1\n",
    "\n",
    "        if (is_black):\n",
    "            \n",
    "            icpp = 2*(X-1)*Y2 + 2*(Y2*(i+1) + j) + i%2\n",
    "            \n",
    "            icnn = 2*(X-1)*Y2 + 2*(Y2*(inn+1) + j) + i%2\n",
    "\n",
    "            joff = jpp if (i%2) else jnn\n",
    "            \n",
    "            if (i % 2):\n",
    "                if (j+1 >= Y2):\n",
    "                    jcoff = 2*(i*Y2 + j + 1) - 1\n",
    "                \n",
    "                else:\n",
    "                    jcoff = 2*(i*Y2 + joff) - 1\n",
    "            else:\n",
    "                jcoff = 2 * (i*Y2 + joff) + 1\n",
    "\n",
    "            if tid == 14:\n",
    "                print(\"Spin of interest:\", lattice_b[i,j])\n",
    "                print(\"Up neighbor:\", lattice_w[inn,j], \"with\", interactions[icnn])\n",
    "                print(\"Down neighbor:\", lattice_w[ipp,j], \"with\", interactions[icpp])\n",
    "                print(\"Right neighbor:\", lattice_w[i,j], \"with\", interactions[2*(i*Y2+j)])\n",
    "                print(\"Left neighbor:\", lattice_w[i, joff], \"with\", interactions[jcoff])\n",
    "                print(\"----------------------------------\")\n",
    "    \n",
    "        else:\n",
    "        \n",
    "            icpp = 2*(X - 1)*Y2 + 2*(Y2*(i+1) + j) + (i+1)%2\n",
    "            icnn = 2*(X - 1)*Y2 + 2*(Y2*(inn+1) + j) + (i+1)%2\n",
    "\n",
    "            joff = jnn if (i%2) else jpp\n",
    "\n",
    "            if (i%2):\n",
    "                jcoff = 2*(i*Y2 + joff) + 1\n",
    "            else:\n",
    "                if (j+1 >= Y2):\n",
    "                    jcoff = 2*(i*Y2 + j + 1) - 1\n",
    "                else:\n",
    "                    jcoff = 2*(i*Y2 + joff) - 1\n",
    "            \n",
    "            if tid == 12:\n",
    "                print(\"Spin of interest:\", lattice_w[i,j])\n",
    "                print(\"Up neighbor:\", lattice_b[inn,j], \"with\", interactions[icnn])\n",
    "                print(\"Down neighbor:\", lattice_b[ipp,j], \"with\", interactions[icpp])\n",
    "                print(\"Right neighbor:\", lattice_b[i,j], \"with\", interactions[2*(i*Y2+j)])\n",
    "                print(\"Left neighbor:\", lattice_b[i, joff], \"with\", interactions[jcoff])\n",
    "                print(\"----------------------------------\")"
   ]
  },
  {
   "cell_type": "code",
   "execution_count": 34,
   "id": "240d9649",
   "metadata": {},
   "outputs": [
    {
     "data": {
      "text/plain": [
       "array([[ 0,  1,  2,  3,  4,  5,  6,  7],\n",
       "       [ 8,  9, 10, 11, 12, 13, 14, 15],\n",
       "       [16, 17, 18, 19, 20, 21, 22, 23],\n",
       "       [24, 25, 26, 27, 28, 29, 30, 31],\n",
       "       [32, 33, 34, 35, 36, 37, 38, 39],\n",
       "       [40, 41, 42, 43, 44, 45, 46, 47]])"
      ]
     },
     "execution_count": 34,
     "metadata": {},
     "output_type": "execute_result"
    }
   ],
   "source": [
    "lattice"
   ]
  },
  {
   "cell_type": "code",
   "execution_count": 35,
   "id": "09d3d588",
   "metadata": {},
   "outputs": [
    {
     "data": {
      "text/plain": [
       "array([[ 0,  1,  2,  3,  4,  5,  6,  7],\n",
       "       [ 8,  9, 10, 11, 12, 13, 14, 15],\n",
       "       [16, 17, 18, 19, 20, 21, 22, 23],\n",
       "       [24, 25, 26, 27, 28, 29, 30, 31],\n",
       "       [32, 33, 34, 35, 36, 37, 38, 39],\n",
       "       [40, 41, 42, 43, 44, 45, 46, 47]])"
      ]
     },
     "execution_count": 35,
     "metadata": {},
     "output_type": "execute_result"
    }
   ],
   "source": [
    "interactions_reshaped[:X,:]"
   ]
  },
  {
   "cell_type": "code",
   "execution_count": 36,
   "id": "529a91cd",
   "metadata": {},
   "outputs": [
    {
     "data": {
      "text/plain": [
       "array([[48, 49, 50, 51, 52, 53, 54, 55],\n",
       "       [56, 57, 58, 59, 60, 61, 62, 63],\n",
       "       [64, 65, 66, 67, 68, 69, 70, 71],\n",
       "       [72, 73, 74, 75, 76, 77, 78, 79],\n",
       "       [80, 81, 82, 83, 84, 85, 86, 87],\n",
       "       [88, 89, 90, 91, 92, 93, 94, 95]])"
      ]
     },
     "execution_count": 36,
     "metadata": {},
     "output_type": "execute_result"
    }
   ],
   "source": [
    "interactions_reshaped[-X:,:]"
   ]
  },
  {
   "cell_type": "markdown",
   "id": "d91181ec",
   "metadata": {},
   "source": [
    "### 2. Open Boundary Conditions"
   ]
  },
  {
   "cell_type": "code",
   "execution_count": 8,
   "id": "6621bbc8",
   "metadata": {},
   "outputs": [],
   "source": [
    "# Check whether \n",
    "is_black = True"
   ]
  },
  {
   "cell_type": "code",
   "execution_count": 9,
   "id": "a20625cf",
   "metadata": {},
   "outputs": [
    {
     "name": "stdout",
     "output_type": "stream",
     "text": [
      "Spin of interest: 0.0\n",
      "Up neighbor: 30.0 with 0\n",
      "Down neighbor: 6.0 with 1\n",
      "Right neighbor: 1.0 with 1\n",
      "Left neighbor: 5.0 with 0\n",
      "----------------------------------\n",
      "Spin of interest: 2.0\n",
      "Up neighbor: 32.0 with 0\n",
      "Down neighbor: 8.0 with 1\n",
      "Right neighbor: 3.0 with 1\n",
      "Left neighbor: 1.0 with 1\n",
      "----------------------------------\n",
      "Spin of interest: 4.0\n",
      "Up neighbor: 34.0 with 0\n",
      "Down neighbor: 10.0 with 1\n",
      "Right neighbor: 5.0 with 1\n",
      "Left neighbor: 3.0 with 1\n",
      "----------------------------------\n",
      "Spin of interest: 7.0\n",
      "Up neighbor: 1.0 with 1\n",
      "Down neighbor: 13.0 with 1\n",
      "Right neighbor: 6.0 with 1\n",
      "Left neighbor: 8.0 with 1\n",
      "----------------------------------\n",
      "Spin of interest: 9.0\n",
      "Up neighbor: 3.0 with 1\n",
      "Down neighbor: 15.0 with 1\n",
      "Right neighbor: 8.0 with 1\n",
      "Left neighbor: 10.0 with 1\n",
      "----------------------------------\n",
      "Spin of interest: 11.0\n",
      "Up neighbor: 5.0 with 1\n",
      "Down neighbor: 17.0 with 1\n",
      "Right neighbor: 10.0 with 1\n",
      "Left neighbor: 6.0 with 0\n",
      "----------------------------------\n",
      "Spin of interest: 12.0\n",
      "Up neighbor: 6.0 with 1\n",
      "Down neighbor: 18.0 with 1\n",
      "Right neighbor: 13.0 with 1\n",
      "Left neighbor: 17.0 with 0\n",
      "----------------------------------\n",
      "Spin of interest: 14.0\n",
      "Up neighbor: 8.0 with 1\n",
      "Down neighbor: 20.0 with 1\n",
      "Right neighbor: 15.0 with 1\n",
      "Left neighbor: 13.0 with 1\n",
      "----------------------------------\n",
      "Spin of interest: 16.0\n",
      "Up neighbor: 10.0 with 1\n",
      "Down neighbor: 22.0 with 1\n",
      "Right neighbor: 17.0 with 1\n",
      "Left neighbor: 15.0 with 1\n",
      "----------------------------------\n",
      "Spin of interest: 19.0\n",
      "Up neighbor: 13.0 with 1\n",
      "Down neighbor: 25.0 with 1\n",
      "Right neighbor: 18.0 with 1\n",
      "Left neighbor: 20.0 with 1\n",
      "----------------------------------\n",
      "Spin of interest: 21.0\n",
      "Up neighbor: 15.0 with 1\n",
      "Down neighbor: 27.0 with 1\n",
      "Right neighbor: 20.0 with 1\n",
      "Left neighbor: 22.0 with 1\n",
      "----------------------------------\n",
      "Spin of interest: 23.0\n",
      "Up neighbor: 17.0 with 1\n",
      "Down neighbor: 29.0 with 1\n",
      "Right neighbor: 22.0 with 1\n",
      "Left neighbor: 18.0 with 0\n",
      "----------------------------------\n",
      "Spin of interest: 24.0\n",
      "Up neighbor: 18.0 with 1\n",
      "Down neighbor: 30.0 with 1\n",
      "Right neighbor: 25.0 with 1\n",
      "Left neighbor: 29.0 with 0\n",
      "----------------------------------\n",
      "Spin of interest: 26.0\n",
      "Up neighbor: 20.0 with 1\n",
      "Down neighbor: 32.0 with 1\n",
      "Right neighbor: 27.0 with 1\n",
      "Left neighbor: 25.0 with 1\n",
      "----------------------------------\n",
      "Spin of interest: 28.0\n",
      "Up neighbor: 22.0 with 1\n",
      "Down neighbor: 34.0 with 1\n",
      "Right neighbor: 29.0 with 1\n",
      "Left neighbor: 27.0 with 1\n",
      "----------------------------------\n",
      "Spin of interest: 31.0\n",
      "Up neighbor: 25.0 with 1\n",
      "Down neighbor: 1.0 with 0\n",
      "Right neighbor: 30.0 with 1\n",
      "Left neighbor: 32.0 with 1\n",
      "----------------------------------\n",
      "Spin of interest: 33.0\n",
      "Up neighbor: 27.0 with 1\n",
      "Down neighbor: 3.0 with 0\n",
      "Right neighbor: 32.0 with 1\n",
      "Left neighbor: 34.0 with 1\n",
      "----------------------------------\n",
      "Spin of interest: 35.0\n",
      "Up neighbor: 29.0 with 1\n",
      "Down neighbor: 5.0 with 0\n",
      "Right neighbor: 34.0 with 1\n",
      "Left neighbor: 30.0 with 0\n",
      "----------------------------------\n"
     ]
    }
   ],
   "source": [
    "for tid in range(X*Y2):\n",
    "    \n",
    "        i = int(tid/Y2)\n",
    "        j = tid % Y2\n",
    "\n",
    "        ipp = (i + 1) if (i + 1 < X) else 0\n",
    "        inn = (i - 1) if (i - 1 >= 0) else X - 1\n",
    "        jpp = (j + 1) if (j + 1 < Y2) else 0\n",
    "        jnn = (j - 1) if (j - 1 >= 0) else Y2 - 1\n",
    "        \n",
    "        c_up = 1-int(inn/(X-1))\n",
    "        c_down = 1-int((i+1)/X)\n",
    "        \n",
    "        if (is_black):\n",
    "            \n",
    "            icpp = 2*(X-1)*Y2 + 2*(Y2*(i+1) + j) + i%2\n",
    "            \n",
    "            icnn = 2*(X-1)*Y2 + 2*(Y2*(inn+1) + j) + i%2\n",
    "\n",
    "            joff = jpp if (i%2) else jnn\n",
    "            \n",
    "            if (i % 2):\n",
    "                c_side = 1-int((j+1)/Y2)\n",
    "                \n",
    "                if (j+1 >= Y2):\n",
    "                    jcoff = 2*(i*Y2 + j + 1) - 1\n",
    "                \n",
    "                else:\n",
    "                    jcoff = 2*(i*Y2 + joff) - 1\n",
    "            else:\n",
    "                c_side = 1-int(jnn/(Y2-1))\n",
    "                \n",
    "                jcoff = 2 * (i*Y2 + joff) + 1\n",
    "\n",
    "                \n",
    "            print(\"Spin of interest:\", lattice_b[i,j])\n",
    "            print(\"Up neighbor:\", lattice_w[inn,j], \"with\", c_up)\n",
    "            print(\"Down neighbor:\", lattice_w[ipp,j], \"with\", c_down)\n",
    "            print(\"Right neighbor:\", lattice_w[i,j], \"with\", 1)\n",
    "            print(\"Left neighbor:\", lattice_w[i, joff], \"with\", c_side)\n",
    "            print(\"----------------------------------\")\n",
    "    \n",
    "        else:\n",
    "        \n",
    "            icpp = 2*(X - 1)*Y2 + 2*(Y2*(i+1) + j) + (i+1)%2\n",
    "            icnn = 2*(X - 1)*Y2 + 2*(Y2*(inn+1) + j) + (i+1)%2\n",
    "\n",
    "            joff = jnn if (i%2) else jpp\n",
    "\n",
    "            if (i%2):\n",
    "                c_side = 1-int(jnn/(Y2-1))\n",
    "                \n",
    "                jcoff = 2*(i*Y2 + joff) + 1\n",
    "            else:\n",
    "                \n",
    "                c_side = 1-int((j+1)/Y2)\n",
    "                \n",
    "                \n",
    "                if (j+1 >= Y2):\n",
    "                    jcoff = 2*(i*Y2 + j + 1) - 1\n",
    "                else:\n",
    "                    jcoff = 2*(i*Y2 + joff) - 1\n",
    "\n",
    "            print(\"Spin of interest:\", lattice_w[i,j])\n",
    "            print(\"Up neighbor:\", lattice_b[inn,j], \"with\", c_up)\n",
    "            print(\"Down neighbor:\", lattice_b[ipp,j], \"with\", c_down)\n",
    "            print(\"Left neighbor:\", lattice_b[i,j], \"with\", 1)\n",
    "            print(\"Right neighbor:\", lattice_b[i, joff], \"with\", c_side)\n",
    "            print(\"----------------------------------\")"
   ]
  },
  {
   "cell_type": "code",
   "execution_count": 12,
   "id": "0666c70e",
   "metadata": {},
   "outputs": [
    {
     "data": {
      "text/plain": [
       "array([[ 0,  1,  2,  3,  4,  5],\n",
       "       [ 6,  7,  8,  9, 10, 11],\n",
       "       [12, 13, 14, 15, 16, 17],\n",
       "       [18, 19, 20, 21, 22, 23],\n",
       "       [24, 25, 26, 27, 28, 29],\n",
       "       [30, 31, 32, 33, 34, 35]])"
      ]
     },
     "execution_count": 12,
     "metadata": {},
     "output_type": "execute_result"
    }
   ],
   "source": [
    "lattice"
   ]
  },
  {
   "cell_type": "code",
   "execution_count": null,
   "id": "c7928919",
   "metadata": {},
   "outputs": [],
   "source": []
  }
 ],
 "metadata": {
  "kernelspec": {
   "display_name": "OG",
   "language": "python",
   "name": "og"
  },
  "language_info": {
   "codemirror_mode": {
    "name": "ipython",
    "version": 3
   },
   "file_extension": ".py",
   "mimetype": "text/x-python",
   "name": "python",
   "nbconvert_exporter": "python",
   "pygments_lexer": "ipython3",
   "version": "3.9.5"
  }
 },
 "nbformat": 4,
 "nbformat_minor": 5
}
