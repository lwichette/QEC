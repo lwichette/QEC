{
 "cells": [
  {
   "cell_type": "code",
   "execution_count": 11,
   "id": "a3c05ecc",
   "metadata": {},
   "outputs": [],
   "source": [
    "import os\n",
    "import numpy as np\n",
    "import matplotlib.pyplot as plt\n",
    "import math as m"
   ]
  },
  {
   "cell_type": "code",
   "execution_count": 12,
   "id": "f9d9aeb3",
   "metadata": {},
   "outputs": [
    {
     "data": {
      "text/plain": [
       "'/home/dfki.uni-bremen.de/lpwichette/Desktop/Repos/qec/dev_open_boundary/results'"
      ]
     },
     "execution_count": 12,
     "metadata": {},
     "output_type": "execute_result"
    }
   ],
   "source": [
    "\n",
    "os.getcwd()"
   ]
  },
  {
   "cell_type": "code",
   "execution_count": 13,
   "id": "2b6c3c93",
   "metadata": {},
   "outputs": [
    {
     "ename": "FileNotFoundError",
     "evalue": "[Errno 2] No such file or directory: './results/dev_open_boundary_magnetization_evolution_multiple_temps/'",
     "output_type": "error",
     "traceback": [
      "\u001b[0;31m---------------------------------------------------------------------------\u001b[0m",
      "\u001b[0;31mFileNotFoundError\u001b[0m                         Traceback (most recent call last)",
      "Cell \u001b[0;32mIn[13], line 1\u001b[0m\n\u001b[0;32m----> 1\u001b[0m \u001b[43mos\u001b[49m\u001b[38;5;241;43m.\u001b[39;49m\u001b[43mchdir\u001b[49m\u001b[43m(\u001b[49m\u001b[38;5;124;43m'\u001b[39;49m\u001b[38;5;124;43m./results/dev_open_boundary_magnetization_evolution_multiple_temps/\u001b[39;49m\u001b[38;5;124;43m'\u001b[39;49m\u001b[43m)\u001b[49m\n\u001b[1;32m      2\u001b[0m os\u001b[38;5;241m.\u001b[39mgetcwd()\n\u001b[1;32m      3\u001b[0m res_dict\u001b[38;5;241m=\u001b[39m{}\n",
      "\u001b[0;31mFileNotFoundError\u001b[0m: [Errno 2] No such file or directory: './results/dev_open_boundary_magnetization_evolution_multiple_temps/'"
     ]
    }
   ],
   "source": [
    "os.chdir('./dev_open_boundary_magnetization_evolution_multiple_temps/')\n",
    "os.getcwd()\n",
    "res_dict={}\n",
    "\n",
    "for l in os.listdir():\n",
    "    size = int(l.split('_')[2])\n",
    "    res_dict[size] = np.loadtxt(l)\n",
    "\n",
    "res_dict = {k: res_dict[128][k::20] for k in range(20)}\n",
    "\n",
    "plt.figure(figsize=(10,6))\n",
    "\n",
    "for temp in res_dict.keys():\n",
    "    plt.plot(res_dict[temp][:,1], res_dict[temp][:,0], marker = 'o', label = int(temp))\n",
    "\n",
    "plt.xlabel(\"steps * 1000\")\n",
    "plt.ylabel(\" magnetization\")\n",
    "plt.legend()\n",
    "\n",
    "os.chdir('..')"
   ]
  },
  {
   "cell_type": "code",
   "execution_count": null,
   "id": "aace343d",
   "metadata": {},
   "outputs": [],
   "source": [
    "os.chdir('./dev_open_boundary_jan15_with_boltzmann_not_up')\n",
    "os.getcwd()\n",
    "\n",
    "res_dict={}\n",
    "for l in os.listdir():\n",
    "    if \"up\" in l:\n",
    "        size = int(l.split('_')[1])\n",
    "        res_dict[size] = np.loadtxt(l)\n",
    "\n",
    "res_dict = {k: res_dict[k] for k in sorted(res_dict)}\n",
    "\n",
    "plt.figure(figsize=(10,6))\n",
    "\n",
    "for l in res_dict.keys():\n",
    "    plt.plot(res_dict[l][:,1], 1/(l*m.sin(m.pi/l))*res_dict[l][:,0], marker = 'o', label = int(l))\n",
    "\n",
    "\n",
    "plt.xlim([0.9, 2.5])\n",
    "plt.xlabel(\"T\")\n",
    "plt.ylabel(\"$ \\\\zeta $ / L \")\n",
    "plt.legend()\n",
    "os.chdir('..')"
   ]
  },
  {
   "cell_type": "code",
   "execution_count": null,
   "id": "7166b7fc",
   "metadata": {},
   "outputs": [],
   "source": [
    "os.chdir('./dev_open_boundary_jan16_without_boltzmann_not_up')\n",
    "os.getcwd()\n",
    "\n",
    "res_dict={}\n",
    "for l in os.listdir():\n",
    "    if \"up\" in l:\n",
    "        size = int(l.split('_')[1])\n",
    "        res_dict[size] = np.loadtxt(l)\n",
    "\n",
    "res_dict = {k: res_dict[k] for k in sorted(res_dict)}\n",
    "\n",
    "plt.figure(figsize=(10,6))\n",
    "\n",
    "for l in res_dict.keys():\n",
    "    plt.plot(res_dict[l][:,1], 1/(l*m.sin(m.pi/l))*res_dict[l][:,0], marker = 'o', label = int(l))\n",
    "\n",
    "\n",
    "plt.xlim([0.9, 2.5])\n",
    "plt.xlabel(\"T\")\n",
    "plt.ylabel(\"$ \\\\zeta $ / L \")\n",
    "plt.legend()\n",
    "os.chdir('..')"
   ]
  },
  {
   "cell_type": "code",
   "execution_count": null,
   "id": "f99fc90a",
   "metadata": {},
   "outputs": [],
   "source": [
    "os.chdir('./dev_open_boundary_jan16_without_boltzmann_up')\n",
    "os.getcwd()\n",
    "\n",
    "res_dict={}\n",
    "for l in os.listdir():\n",
    "    if \"up\" in l:\n",
    "        size = int(l.split('_')[1])\n",
    "        res_dict[size] = np.loadtxt(l)\n",
    "\n",
    "res_dict = {k: res_dict[k] for k in sorted(res_dict)}\n",
    "\n",
    "plt.figure(figsize=(10,6))\n",
    "\n",
    "for l in res_dict.keys():\n",
    "    plt.plot(res_dict[l][:,1], 1/(l*m.sin(m.pi/l))*res_dict[l][:,0], marker = 'o', label = int(l))\n",
    "\n",
    "\n",
    "plt.xlim([1.2, 2.0])\n",
    "plt.ylim([0, 7])\n",
    "plt.xlabel(\"T\")\n",
    "plt.ylabel(\"$ \\\\zeta $ / L \")\n",
    "plt.legend()\n",
    "os.chdir('..')"
   ]
  },
  {
   "cell_type": "code",
   "execution_count": null,
   "id": "a8294b02",
   "metadata": {},
   "outputs": [],
   "source": [
    "os.chdir('./dev_open_boundary_jan16_without_boltzmann__p10')\n",
    "os.getcwd()\n",
    "\n",
    "res_dict={}\n",
    "for l in os.listdir():\n",
    "    if \"up\" in l:\n",
    "        size = int(l.split('_')[1])\n",
    "        res_dict[size] = np.loadtxt(l)\n",
    "\n",
    "res_dict = {k: res_dict[k] for k in sorted(res_dict)}\n",
    "\n",
    "plt.figure(figsize=(10,6))\n",
    "\n",
    "for l in res_dict.keys():\n",
    "    plt.plot(res_dict[l][:,1], 1/(l*m.sin(m.pi/l))*res_dict[l][:,0], marker = 'o', label = int(l))\n",
    "\n",
    "\n",
    "# plt.xlim([1.0, 2.0])\n",
    "plt.ylim([0, 3])\n",
    "plt.xlabel(\"T\")\n",
    "plt.ylabel(\"$ \\\\zeta $ / L \")\n",
    "plt.legend()\n",
    "os.chdir('..')"
   ]
  },
  {
   "cell_type": "code",
   "execution_count": null,
   "id": "6142d0b1",
   "metadata": {},
   "outputs": [],
   "source": [
    "os.chdir('./dev_open_boundary_jan17_without_boltzmann__p10')\n",
    "os.getcwd()\n",
    "\n",
    "res_dict={}\n",
    "for l in os.listdir():\n",
    "    if \"up\" in l:\n",
    "        size = int(l.split('_')[1])\n",
    "        res_dict[size] = np.loadtxt(l)\n",
    "\n",
    "res_dict = {k: res_dict[k] for k in sorted(res_dict)}\n",
    "\n",
    "plt.figure(figsize=(10,6))\n",
    "\n",
    "for l in res_dict.keys():\n",
    "    plt.plot(res_dict[l][:,1], 1/(l*m.sin(m.pi/l))*res_dict[l][:,0], marker = 'o', label = int(l))\n",
    "\n",
    "\n",
    "# plt.xlim([1.0, 2.0])\n",
    "plt.ylim([0, 3])\n",
    "plt.xlabel(\"T\")\n",
    "plt.ylabel(\"$ \\\\zeta $ / L \")\n",
    "plt.legend()\n",
    "os.chdir('..')"
   ]
  },
  {
   "cell_type": "code",
   "execution_count": null,
   "id": "f9e234c6",
   "metadata": {},
   "outputs": [],
   "source": [
    "os.chdir('./dev_open_boundary_jan17_without_boltzmann__p10_nw_200000')\n",
    "os.getcwd()\n",
    "\n",
    "res_dict={}\n",
    "for l in os.listdir():\n",
    "    if \"up\" in l:\n",
    "        size = int(l.split('_')[1])\n",
    "        res_dict[size] = np.loadtxt(l)\n",
    "\n",
    "res_dict = {k: res_dict[k] for k in sorted(res_dict)}\n",
    "\n",
    "plt.figure(figsize=(10,6))\n",
    "\n",
    "for l in res_dict.keys():\n",
    "    plt.plot(res_dict[l][:,1], 1/(l*m.sin(m.pi/l))*res_dict[l][:,0], marker = 'o', label = int(l))\n",
    "\n",
    "\n",
    "# plt.xlim([1.0, 2.0])\n",
    "# plt.ylim([0, 3])\n",
    "plt.xlabel(\"T\")\n",
    "plt.ylabel(\"$ \\\\zeta $ / L \")\n",
    "plt.legend()\n",
    "os.chdir('..')"
   ]
  },
  {
   "cell_type": "code",
   "execution_count": null,
   "id": "a4dad703",
   "metadata": {},
   "outputs": [],
   "source": [
    "os.chdir('./dev_open_boundary_jan16_E_evolution')\n",
    "os.getcwd()\n",
    "res_dict={}\n",
    "\n",
    "for l in os.listdir():\n",
    "    size = int(l.split('_')[2])\n",
    "    res_dict[size] = np.loadtxt(l)\n",
    "\n",
    "res_dict = {k: res_dict[14][k::4] for k in range(4)}\n",
    "\n",
    "print(res_dict)\n",
    "plt.figure(figsize=(10,6))\n",
    "\n",
    "for temp in res_dict.keys():\n",
    "    plt.plot(  res_dict[temp][:,1], res_dict[temp][:,0]/(temp/2+1), marker = 'o', label = int(temp))\n",
    "\n",
    "plt.xlabel(\"steps\")\n",
    "plt.ylabel(\"Energy\")\n",
    "plt.legend()\n",
    "\n",
    "os.chdir('..')"
   ]
  },
  {
   "cell_type": "code",
   "execution_count": null,
   "id": "12f18fc8",
   "metadata": {},
   "outputs": [],
   "source": []
  }
 ],
 "metadata": {
  "kernelspec": {
   "display_name": ".venv",
   "language": "python",
   "name": "python3"
  },
  "language_info": {
   "codemirror_mode": {
    "name": "ipython",
    "version": 3
   },
   "file_extension": ".py",
   "mimetype": "text/x-python",
   "name": "python",
   "nbconvert_exporter": "python",
   "pygments_lexer": "ipython3",
   "version": "3.10.12"
  }
 },
 "nbformat": 4,
 "nbformat_minor": 5
}
