{
 "cells": [
  {
   "cell_type": "code",
   "execution_count": null,
   "id": "a3c05ecc",
   "metadata": {},
   "outputs": [
    {
     "ename": "",
     "evalue": "",
     "output_type": "error",
     "traceback": [
      "\u001b[1;31mRunning cells with '/bin/python3' requires the ipykernel package.\n",
      "\u001b[1;31mRun the following command to install 'ipykernel' into the Python environment. \n",
      "\u001b[1;31mCommand: '/bin/python3 -m pip install ipykernel -U --user --force-reinstall'"
     ]
    }
   ],
   "source": [
    "import os\n",
    "import numpy as np\n",
    "import matplotlib.pyplot as plt\n",
    "import math as m"
   ]
  },
  {
   "cell_type": "code",
   "execution_count": null,
   "id": "f9d9aeb3",
   "metadata": {},
   "outputs": [
    {
     "ename": "",
     "evalue": "",
     "output_type": "error",
     "traceback": [
      "\u001b[1;31mRunning cells with '/bin/python3' requires the ipykernel package.\n",
      "\u001b[1;31mRun the following command to install 'ipykernel' into the Python environment. \n",
      "\u001b[1;31mCommand: '/bin/python3 -m pip install ipykernel -U --user --force-reinstall'"
     ]
    }
   ],
   "source": [
    "\n",
    "os.getcwd()"
   ]
  },
  {
   "cell_type": "code",
   "execution_count": null,
   "id": "2b6c3c93",
   "metadata": {},
   "outputs": [
    {
     "ename": "",
     "evalue": "",
     "output_type": "error",
     "traceback": [
      "\u001b[1;31mRunning cells with '/bin/python3' requires the ipykernel package.\n",
      "\u001b[1;31mRun the following command to install 'ipykernel' into the Python environment. \n",
      "\u001b[1;31mCommand: '/bin/python3 -m pip install ipykernel -U --user --force-reinstall'"
     ]
    }
   ],
   "source": [
    "os.chdir('./results/dev_open_boundary_magnetization_evolution_multiple_temps/')\n",
    "os.getcwd()\n",
    "res_dict={}\n",
    "\n",
    "for l in os.listdir():\n",
    "    size = int(l.split('_')[2])\n",
    "    res_dict[size] = np.loadtxt(l)\n",
    "\n",
    "res_dict = {k: res_dict[128][k::20] for k in range(20)}\n",
    "\n",
    "plt.figure(figsize=(10,6))\n",
    "\n",
    "for temp in res_dict.keys():\n",
    "    plt.plot(res_dict[temp][:,1], res_dict[temp][:,0], marker = 'o', label = int(temp))\n",
    "\n",
    "plt.xlabel(\"steps * 1000\")\n",
    "plt.ylabel(\" magnetization\")\n",
    "plt.legend()\n",
    "\n",
    "os.chdir('..')"
   ]
  },
  {
   "cell_type": "code",
   "execution_count": null,
   "id": "aace343d",
   "metadata": {},
   "outputs": [
    {
     "ename": "",
     "evalue": "",
     "output_type": "error",
     "traceback": [
      "\u001b[1;31mRunning cells with '/bin/python3' requires the ipykernel package.\n",
      "\u001b[1;31mRun the following command to install 'ipykernel' into the Python environment. \n",
      "\u001b[1;31mCommand: '/bin/python3 -m pip install ipykernel -U --user --force-reinstall'"
     ]
    }
   ],
   "source": [
    "os.chdir('./dev_open_boundary_jan15_with_boltzmann_not_up')\n",
    "os.getcwd()\n",
    "\n",
    "res_dict={}\n",
    "for l in os.listdir():\n",
    "    if \"up\" in l:\n",
    "        size = int(l.split('_')[1])\n",
    "        res_dict[size] = np.loadtxt(l)\n",
    "\n",
    "res_dict = {k: res_dict[k] for k in sorted(res_dict)}\n",
    "\n",
    "plt.figure(figsize=(10,6))\n",
    "\n",
    "for l in res_dict.keys():\n",
    "    plt.plot(res_dict[l][:,1], 1/(l*m.sin(m.pi/l))*res_dict[l][:,0], marker = 'o', label = int(l))\n",
    "\n",
    "\n",
    "plt.xlim([0.9, 2.5])\n",
    "plt.xlabel(\"T\")\n",
    "plt.ylabel(\"$ \\\\zeta $ / L \")\n",
    "plt.legend()\n",
    "os.chdir('..')"
   ]
  },
  {
   "cell_type": "code",
   "execution_count": null,
   "id": "7166b7fc",
   "metadata": {},
   "outputs": [
    {
     "ename": "",
     "evalue": "",
     "output_type": "error",
     "traceback": [
      "\u001b[1;31mRunning cells with '/bin/python3' requires the ipykernel package.\n",
      "\u001b[1;31mRun the following command to install 'ipykernel' into the Python environment. \n",
      "\u001b[1;31mCommand: '/bin/python3 -m pip install ipykernel -U --user --force-reinstall'"
     ]
    }
   ],
   "source": [
    "os.chdir('./dev_open_boundary_jan16_without_boltzmann_not_up')\n",
    "os.getcwd()\n",
    "\n",
    "res_dict={}\n",
    "for l in os.listdir():\n",
    "    if \"up\" in l:\n",
    "        size = int(l.split('_')[1])\n",
    "        res_dict[size] = np.loadtxt(l)\n",
    "\n",
    "res_dict = {k: res_dict[k] for k in sorted(res_dict)}\n",
    "\n",
    "plt.figure(figsize=(10,6))\n",
    "\n",
    "for l in res_dict.keys():\n",
    "    plt.plot(res_dict[l][:,1], 1/(l*m.sin(m.pi/l))*res_dict[l][:,0], marker = 'o', label = int(l))\n",
    "\n",
    "\n",
    "plt.xlim([0.9, 2.5])\n",
    "plt.xlabel(\"T\")\n",
    "plt.ylabel(\"$ \\\\zeta $ / L \")\n",
    "plt.legend()\n",
    "os.chdir('..')"
   ]
  },
  {
   "cell_type": "code",
   "execution_count": null,
   "id": "f99fc90a",
   "metadata": {},
   "outputs": [
    {
     "ename": "",
     "evalue": "",
     "output_type": "error",
     "traceback": [
      "\u001b[1;31mRunning cells with '/bin/python3' requires the ipykernel package.\n",
      "\u001b[1;31mRun the following command to install 'ipykernel' into the Python environment. \n",
      "\u001b[1;31mCommand: '/bin/python3 -m pip install ipykernel -U --user --force-reinstall'"
     ]
    }
   ],
   "source": [
    "os.chdir('./dev_open_boundary_jan16_without_boltzmann_up')\n",
    "os.getcwd()\n",
    "\n",
    "res_dict={}\n",
    "for l in os.listdir():\n",
    "    if \"up\" in l:\n",
    "        size = int(l.split('_')[1])\n",
    "        res_dict[size] = np.loadtxt(l)\n",
    "\n",
    "res_dict = {k: res_dict[k] for k in sorted(res_dict)}\n",
    "\n",
    "plt.figure(figsize=(10,6))\n",
    "\n",
    "for l in res_dict.keys():\n",
    "    plt.plot(res_dict[l][:,1], 1/(l*m.sin(m.pi/l))*res_dict[l][:,0], marker = 'o', label = int(l))\n",
    "\n",
    "\n",
    "plt.xlim([1.2, 2.0])\n",
    "plt.ylim([0, 7])\n",
    "plt.xlabel(\"T\")\n",
    "plt.ylabel(\"$ \\\\zeta $ / L \")\n",
    "plt.legend()\n",
    "os.chdir('..')"
   ]
  },
  {
   "cell_type": "code",
   "execution_count": null,
   "id": "a8294b02",
   "metadata": {},
   "outputs": [
    {
     "ename": "",
     "evalue": "",
     "output_type": "error",
     "traceback": [
      "\u001b[1;31mRunning cells with '/bin/python3' requires the ipykernel package.\n",
      "\u001b[1;31mRun the following command to install 'ipykernel' into the Python environment. \n",
      "\u001b[1;31mCommand: '/bin/python3 -m pip install ipykernel -U --user --force-reinstall'"
     ]
    }
   ],
   "source": [
    "os.chdir('./dev_open_boundary_jan16_without_boltzmann__p10')\n",
    "os.getcwd()\n",
    "\n",
    "res_dict={}\n",
    "for l in os.listdir():\n",
    "    if \"up\" in l:\n",
    "        size = int(l.split('_')[1])\n",
    "        res_dict[size] = np.loadtxt(l)\n",
    "\n",
    "res_dict = {k: res_dict[k] for k in sorted(res_dict)}\n",
    "\n",
    "plt.figure(figsize=(10,6))\n",
    "\n",
    "for l in res_dict.keys():\n",
    "    plt.plot(res_dict[l][:,1], 1/(l*m.sin(m.pi/l))*res_dict[l][:,0], marker = 'o', label = int(l))\n",
    "\n",
    "\n",
    "# plt.xlim([1.0, 2.0])\n",
    "plt.ylim([0, 3])\n",
    "plt.xlabel(\"T\")\n",
    "plt.ylabel(\"$ \\\\zeta $ / L \")\n",
    "plt.legend()\n",
    "os.chdir('..')"
   ]
  },
  {
   "cell_type": "code",
   "execution_count": null,
   "id": "6142d0b1",
   "metadata": {},
   "outputs": [
    {
     "ename": "",
     "evalue": "",
     "output_type": "error",
     "traceback": [
      "\u001b[1;31mRunning cells with '/bin/python3' requires the ipykernel package.\n",
      "\u001b[1;31mRun the following command to install 'ipykernel' into the Python environment. \n",
      "\u001b[1;31mCommand: '/bin/python3 -m pip install ipykernel -U --user --force-reinstall'"
     ]
    }
   ],
   "source": [
    "os.chdir('./dev_open_boundary_jan17_without_boltzmann__p10')\n",
    "os.getcwd()\n",
    "\n",
    "res_dict={}\n",
    "for l in os.listdir():\n",
    "    if \"up\" in l:\n",
    "        size = int(l.split('_')[1])\n",
    "        res_dict[size] = np.loadtxt(l)\n",
    "\n",
    "res_dict = {k: res_dict[k] for k in sorted(res_dict)}\n",
    "\n",
    "plt.figure(figsize=(10,6))\n",
    "\n",
    "for l in res_dict.keys():\n",
    "    plt.plot(res_dict[l][:,1], 1/(l*m.sin(m.pi/l))*res_dict[l][:,0], marker = 'o', label = int(l))\n",
    "\n",
    "\n",
    "# plt.xlim([1.0, 2.0])\n",
    "plt.ylim([0, 3])\n",
    "plt.xlabel(\"T\")\n",
    "plt.ylabel(\"$ \\\\zeta $ / L \")\n",
    "plt.legend()\n",
    "os.chdir('..')"
   ]
  },
  {
   "cell_type": "code",
   "execution_count": null,
   "id": "f9e234c6",
   "metadata": {},
   "outputs": [
    {
     "ename": "",
     "evalue": "",
     "output_type": "error",
     "traceback": [
      "\u001b[1;31mRunning cells with '/bin/python3' requires the ipykernel package.\n",
      "\u001b[1;31mRun the following command to install 'ipykernel' into the Python environment. \n",
      "\u001b[1;31mCommand: '/bin/python3 -m pip install ipykernel -U --user --force-reinstall'"
     ]
    }
   ],
   "source": [
    "os.chdir('./dev_open_boundary_jan17_without_boltzmann__p10_nw_200000')\n",
    "os.getcwd()\n",
    "\n",
    "res_dict={}\n",
    "for l in os.listdir():\n",
    "    if \"up\" in l:\n",
    "        size = int(l.split('_')[1])\n",
    "        res_dict[size] = np.loadtxt(l)\n",
    "\n",
    "res_dict = {k: res_dict[k] for k in sorted(res_dict)}\n",
    "\n",
    "plt.figure(figsize=(10,6))\n",
    "\n",
    "for l in res_dict.keys():\n",
    "    plt.plot(res_dict[l][:,1], 1/(l*m.sin(m.pi/l))*res_dict[l][:,0], marker = 'o', label = int(l))\n",
    "\n",
    "\n",
    "# plt.xlim([1.0, 2.0])\n",
    "plt.ylim([0, 1.75])\n",
    "plt.xlabel(\"T\")\n",
    "plt.ylabel(\"$ \\\\zeta $ / L \")\n",
    "plt.legend()\n",
    "os.chdir('..')"
   ]
  },
  {
   "cell_type": "code",
   "execution_count": null,
   "id": "44277ff5",
   "metadata": {},
   "outputs": [
    {
     "ename": "",
     "evalue": "",
     "output_type": "error",
     "traceback": [
      "\u001b[1;31mRunning cells with '/bin/python3' requires the ipykernel package.\n",
      "\u001b[1;31mRun the following command to install 'ipykernel' into the Python environment. \n",
      "\u001b[1;31mCommand: '/bin/python3 -m pip install ipykernel -U --user --force-reinstall'"
     ]
    }
   ],
   "source": [
    "os.chdir('./dev_open_boundary_jan19_without_boltzmann__p10')\n",
    "os.getcwd()\n",
    "\n",
    "res_dict={}\n",
    "for l in os.listdir():\n",
    "    if \"up\" in l:\n",
    "        size = int(l.split('_')[1])\n",
    "        res_dict[size] = np.loadtxt(l)\n",
    "\n",
    "res_dict = {k: res_dict[k] for k in sorted(res_dict)}\n",
    "\n",
    "plt.figure(figsize=(10,6))\n",
    "\n",
    "for l in res_dict.keys():\n",
    "    plt.plot(res_dict[l][:,1], 1/(l*m.sin(m.pi/l))*res_dict[l][:,0], marker = 'o', label = int(l))\n",
    "\n",
    "\n",
    "# plt.xlim([1.0, 2.0])\n",
    "plt.ylim([0, 1.75])\n",
    "plt.xlabel(\"T\")\n",
    "plt.ylabel(\"$ \\\\zeta $ / L \")\n",
    "plt.legend()\n",
    "os.chdir('..')"
   ]
  },
  {
   "cell_type": "code",
   "execution_count": null,
   "id": "4b27973f",
   "metadata": {},
   "outputs": [
    {
     "ename": "",
     "evalue": "",
     "output_type": "error",
     "traceback": [
      "\u001b[1;31mRunning cells with '/bin/python3' requires the ipykernel package.\n",
      "\u001b[1;31mRun the following command to install 'ipykernel' into the Python environment. \n",
      "\u001b[1;31mCommand: '/bin/python3 -m pip install ipykernel -U --user --force-reinstall'"
     ]
    }
   ],
   "source": [
    "os.chdir('./dev_open_boundary_jan20_p10')\n",
    "os.getcwd()\n",
    "\n",
    "res_dict={}\n",
    "for l in os.listdir():\n",
    "    if \"up\" in l:\n",
    "        size = int(l.split('_')[1])\n",
    "        res_dict[size] = np.loadtxt(l)\n",
    "\n",
    "res_dict = {k: res_dict[k] for k in sorted(res_dict)}\n",
    "\n",
    "plt.figure(figsize=(10,6))\n",
    "\n",
    "for l in res_dict.keys():\n",
    "    plt.plot(res_dict[l][:,1], 1/(l*m.sin(m.pi/l))*res_dict[l][:,0], marker = 'o', label = int(l))\n",
    "\n",
    "\n",
    "# plt.xlim([1.0, 2.0])\n",
    "plt.ylim([0, 1.75])\n",
    "plt.xlabel(\"T\")\n",
    "plt.ylabel(\"$ \\\\zeta $ / L \")\n",
    "plt.legend()\n",
    "os.chdir('..')"
   ]
  },
  {
   "cell_type": "code",
   "execution_count": null,
   "id": "0cf58824",
   "metadata": {},
   "outputs": [
    {
     "ename": "",
     "evalue": "",
     "output_type": "error",
     "traceback": [
      "\u001b[1;31mRunning cells with '/bin/python3' requires the ipykernel package.\n",
      "\u001b[1;31mRun the following command to install 'ipykernel' into the Python environment. \n",
      "\u001b[1;31mCommand: '/bin/python3 -m pip install ipykernel -U --user --force-reinstall'"
     ]
    }
   ],
   "source": [
    "os.chdir('./dev_open_boundary_jan22_p10')\n",
    "os.getcwd()\n",
    "\n",
    "res_dict={}\n",
    "for l in os.listdir():\n",
    "    if \"up\" in l:\n",
    "        size = int(l.split('_')[1])\n",
    "        res_dict[size] = np.loadtxt(l)\n",
    "\n",
    "res_dict = {k: res_dict[k] for k in sorted(res_dict)}\n",
    "\n",
    "plt.figure(figsize=(10,6))\n",
    "\n",
    "for l in res_dict.keys():\n",
    "    plt.plot(res_dict[l][:,1], 1/(l*m.sin(m.pi/l))*res_dict[l][:,0], marker = 'o', label = int(l))\n",
    "\n",
    "\n",
    "# plt.xlim([1.0, 2.0])\n",
    "plt.ylim([0, 1.75])\n",
    "plt.xlabel(\"T\")\n",
    "plt.ylabel(\"$ \\\\zeta $ / L \")\n",
    "plt.legend()\n",
    "os.chdir('..')"
   ]
  },
  {
   "cell_type": "code",
   "execution_count": null,
   "id": "a4dad703",
   "metadata": {},
   "outputs": [
    {
     "ename": "",
     "evalue": "",
     "output_type": "error",
     "traceback": [
      "\u001b[1;31mRunning cells with '/bin/python3' requires the ipykernel package.\n",
      "\u001b[1;31mRun the following command to install 'ipykernel' into the Python environment. \n",
      "\u001b[1;31mCommand: '/bin/python3 -m pip install ipykernel -U --user --force-reinstall'"
     ]
    }
   ],
   "source": [
    "os.chdir('./dev_open_boundary_jan16_E_evolution')\n",
    "os.getcwd()\n",
    "res_dict={}\n",
    "\n",
    "for l in os.listdir():\n",
    "    size = int(l.split('_')[2])\n",
    "    res_dict[size] = np.loadtxt(l)\n",
    "\n",
    "res_dict = {k: res_dict[14][k::4] for k in range(4)}\n",
    "\n",
    "print(res_dict)\n",
    "plt.figure(figsize=(10,6))\n",
    "\n",
    "for temp in res_dict.keys():\n",
    "    plt.plot(  res_dict[temp][:,1], res_dict[temp][:,0]/(temp/2+1), marker = 'o', label = int(temp))\n",
    "\n",
    "plt.xlabel(\"steps\")\n",
    "plt.ylabel(\"Energy\")\n",
    "plt.legend()\n",
    "\n",
    "os.chdir('..')"
   ]
  },
  {
   "cell_type": "code",
   "execution_count": null,
   "id": "3e7818ed",
   "metadata": {},
   "outputs": [
    {
     "ename": "",
     "evalue": "",
     "output_type": "error",
     "traceback": [
      "\u001b[1;31mRunning cells with '/bin/python3' requires the ipykernel package.\n",
      "\u001b[1;31mRun the following command to install 'ipykernel' into the Python environment. \n",
      "\u001b[1;31mCommand: '/bin/python3 -m pip install ipykernel -U --user --force-reinstall'"
     ]
    }
   ],
   "source": [
    "os.chdir('./leave_out_comparison')\n",
    "os.getcwd()\n",
    "\n",
    "res_dict={}\n",
    "for l in os.listdir():\n",
    "    if \"up\" in l:\n",
    "        size = int(l.split('_')[1])\n",
    "        res_dict[l] = np.loadtxt(l)\n",
    "\n",
    "res_dict = {k: res_dict[k] for k in sorted(res_dict)}\n",
    "\n",
    "plt.figure(figsize=(10,6))\n",
    "\n",
    "for l in res_dict.keys():\n",
    "    plt.plot(res_dict[l][:,1], 1/(l*m.sin(m.pi/int(l.split('_')[1])))*res_dict[l][:,0], marker = 'o', label = int(l))\n",
    "\n",
    "\n",
    "# plt.xlim([1.0, 2.0])\n",
    "# plt.ylim([0, 1.75])\n",
    "plt.xlabel(\"T\")\n",
    "plt.ylabel(\"$ \\\\zeta $ / L \")\n",
    "plt.legend()\n",
    "os.chdir('..')"
   ]
  },
  {
   "cell_type": "code",
   "execution_count": null,
   "id": "12f18fc8",
   "metadata": {},
   "outputs": [
    {
     "ename": "",
     "evalue": "",
     "output_type": "error",
     "traceback": [
      "\u001b[1;31mRunning cells with '/bin/python3' requires the ipykernel package.\n",
      "\u001b[1;31mRun the following command to install 'ipykernel' into the Python environment. \n",
      "\u001b[1;31mCommand: '/bin/python3 -m pip install ipykernel -U --user --force-reinstall'"
     ]
    }
   ],
   "source": []
  }
 ],
 "metadata": {
  "kernelspec": {
   "display_name": ".venv",
   "language": "python",
   "name": "python3"
  },
  "language_info": {
   "codemirror_mode": {
    "name": "ipython",
    "version": 3
   },
   "file_extension": ".py",
   "mimetype": "text/x-python",
   "name": "python",
   "nbconvert_exporter": "python",
   "pygments_lexer": "ipython3",
   "version": "3.8.10"
  }
 },
 "nbformat": 4,
 "nbformat_minor": 5
}
