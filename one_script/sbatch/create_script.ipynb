{
 "cells": [
  {
   "cell_type": "code",
   "execution_count": 1,
   "id": "9e0d7f5c",
   "metadata": {},
   "outputs": [],
   "source": [
    "import os\n",
    "import numpy as np"
   ]
  },
  {
   "cell_type": "code",
   "execution_count": 2,
   "id": "eeb96b89",
   "metadata": {},
   "outputs": [],
   "source": [
    "# GPU and CPU configuration\n",
    "sbatch_name = \"test\"\n",
    "time = \"14-00:00:00\"\n",
    "nodes = 1\n",
    "memory = \"64G\"\n",
    "cpus = 24\n",
    "gpus = 1"
   ]
  },
  {
   "cell_type": "code",
   "execution_count": 3,
   "id": "b279c0b6",
   "metadata": {},
   "outputs": [],
   "source": [
    "# experimental setup\n",
    "open_boundary = \"false\"\n",
    "prob = 0.06\n",
    "temp = 1.2\n",
    "step = 0.1\n",
    "up = \"false\"\n",
    "nie = 200\n",
    "nis = 200\n",
    "nit = 1000\n",
    "nw = 100\n",
    "nl = 11\n",
    "nrt = 1\n",
    "lattice = \"12 14 18\"\n",
    "folder = str(prob)"
   ]
  },
  {
   "cell_type": "code",
   "execution_count": 4,
   "id": "08ae405d",
   "metadata": {},
   "outputs": [],
   "source": [
    "# Several probabilities\n",
    "prob_diff = 0.01\n",
    "num_reps_prob = 2\n",
    "\n",
    "probs = [np.round(prob + i*prob_diff,8) for i in range(num_reps_prob)]"
   ]
  },
  {
   "cell_type": "code",
   "execution_count": 8,
   "id": "ec2ef375",
   "metadata": {},
   "outputs": [],
   "source": [
    "with open(sbatch_name + '.slr', 'w') as file:\n",
    "    file.write(\"#!/bin/bash \\n\")\n",
    "    file.write(\"\\n\")\n",
    "    file.write(\"#SBATCH --job-name=qec \\n\")\n",
    "    file.write(\"#SBATCH --partition=qc \\n\")\n",
    "    file.write(\"#SBATCH --account=quxki \\n\")\n",
    "    file.write(\"\\n\")\n",
    "    file.write(\"#SBATCH --mail-type=BEGIN,END,FAIL \\n\")\n",
    "    file.write(\"#SBATCH --mail-user=marius.beuerle@dfki.de \\n\")\n",
    "    file.write(\"\\n\")\n",
    "    file.write(f\"#SBATCH --time={time} \\n\")\n",
    "    file.write(f\"#SBATCH -N {nodes} \\n\")\n",
    "    file.write(f\"#SBATCH --mem={memory} \\n\")\n",
    "    file.write(f\"#SBATCH --cpus-per-task={cpus}  \\n\")\n",
    "    file.write(f\"#SBATCH --gres=gpu:{gpus} \\n\")\n",
    "    file.write(\"\\n\")\n",
    "    file.write(\"#SBATCH -D /mnt/beegfs/data/QuDA-KI/qec \\n\")\n",
    "    file.write(\"\\n\")\n",
    "    file.write(\"singularity exec --home /mnt/beegfs/data/QuDA-KI/qec --nv /mnt/beegfs/public/images/boost.sif /bin/bash -c \\\"\\n\")\n",
    "    file.write(\"cd one_script && make \\\\\\n\")\n",
    "    \n",
    "    for p in range(len(probs)):\n",
    "        if p == (len(probs)-1):\n",
    "            file.write(f\"&& ./randomBond --open {open_boundary} --p {probs[p]} --temp {temp} --step {step} --up {up} --nie {nie} --nis {nis} --nit {nit} --nw {nw} --nl {nl} --nrt {nrt} --L {lattice} --folder {probs[p]}\\\"\\n\")\n",
    "        else:\n",
    "            file.write(f\"&& ./randomBond --open {open_boundary} --p {probs[p]} --temp {temp} --step {step} --up {up} --nie {nie} --nis {nis} --nit {nit} --nw {nw} --nl {nl} --nrt {nrt} --L {lattice} --folder {probs[p]} \\\\\\n\")"
   ]
  },
  {
   "cell_type": "code",
   "execution_count": null,
   "id": "974518c8",
   "metadata": {},
   "outputs": [],
   "source": []
  }
 ],
 "metadata": {
  "kernelspec": {
   "display_name": "OG",
   "language": "python",
   "name": "og"
  },
  "language_info": {
   "codemirror_mode": {
    "name": "ipython",
    "version": 3
   },
   "file_extension": ".py",
   "mimetype": "text/x-python",
   "name": "python",
   "nbconvert_exporter": "python",
   "pygments_lexer": "ipython3",
   "version": "3.9.5"
  }
 },
 "nbformat": 4,
 "nbformat_minor": 5
}
