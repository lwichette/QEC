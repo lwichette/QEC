{
 "cells": [
  {
   "cell_type": "code",
   "execution_count": 16,
   "id": "2e97b352",
   "metadata": {},
   "outputs": [],
   "source": [
    "import os\n",
    "import numpy as np"
   ]
  },
  {
   "cell_type": "code",
   "execution_count": 12,
   "id": "4d26a618",
   "metadata": {},
   "outputs": [],
   "source": [
    "prob = 0.109\n",
    "start_temp = 0.9\n",
    "step = 0.05\n",
    "up = \"true\"\n",
    "nie = 500\n",
    "nis = 10\n",
    "nit = 200000\n",
    "nw = 100\n",
    "nl = 16\n",
    "num_rep_temp = 1\n",
    "lattice = \"64 128 256\"\n",
    "folder = str(prob)"
   ]
  },
  {
   "cell_type": "code",
   "execution_count": 13,
   "id": "06f5ecde",
   "metadata": {},
   "outputs": [],
   "source": [
    "prob_diff = 0.0001\n",
    "num_reps_prob = 10"
   ]
  },
  {
   "cell_type": "code",
   "execution_count": 21,
   "id": "2f7501de",
   "metadata": {},
   "outputs": [
    {
     "name": "stdout",
     "output_type": "stream",
     "text": [
      "./open_boundary --p 0.109 --temp 0.9 --step 0.05 --up true --nie 500 --nis 10 --nit 200000 --nw 100 --nl 16 --nrt 1 --L 64 128 256 --folder 0.109\n",
      "./open_boundary --p 0.1091 --temp 0.9 --step 0.05 --up true --nie 500 --nis 10 --nit 200000 --nw 100 --nl 16 --nrt 1 --L 64 128 256 --folder 0.1091\n",
      "./open_boundary --p 0.1092 --temp 0.9 --step 0.05 --up true --nie 500 --nis 10 --nit 200000 --nw 100 --nl 16 --nrt 1 --L 64 128 256 --folder 0.1092\n",
      "./open_boundary --p 0.1093 --temp 0.9 --step 0.05 --up true --nie 500 --nis 10 --nit 200000 --nw 100 --nl 16 --nrt 1 --L 64 128 256 --folder 0.1093\n",
      "./open_boundary --p 0.1094 --temp 0.9 --step 0.05 --up true --nie 500 --nis 10 --nit 200000 --nw 100 --nl 16 --nrt 1 --L 64 128 256 --folder 0.1094\n",
      "./open_boundary --p 0.1095 --temp 0.9 --step 0.05 --up true --nie 500 --nis 10 --nit 200000 --nw 100 --nl 16 --nrt 1 --L 64 128 256 --folder 0.1095\n",
      "./open_boundary --p 0.1096 --temp 0.9 --step 0.05 --up true --nie 500 --nis 10 --nit 200000 --nw 100 --nl 16 --nrt 1 --L 64 128 256 --folder 0.1096\n",
      "./open_boundary --p 0.1097 --temp 0.9 --step 0.05 --up true --nie 500 --nis 10 --nit 200000 --nw 100 --nl 16 --nrt 1 --L 64 128 256 --folder 0.1097\n",
      "./open_boundary --p 0.1098 --temp 0.9 --step 0.05 --up true --nie 500 --nis 10 --nit 200000 --nw 100 --nl 16 --nrt 1 --L 64 128 256 --folder 0.1098\n",
      "./open_boundary --p 0.1099 --temp 0.9 --step 0.05 --up true --nie 500 --nis 10 --nit 200000 --nw 100 --nl 16 --nrt 1 --L 64 128 256 --folder 0.1099\n"
     ]
    }
   ],
   "source": [
    "for i in range(num_reps_prob):\n",
    "    print(f\"./open_boundary --p {prob+i*prob_diff} --temp {start_temp} --step {step} --up {up} --nie {nie} --nis {nis} --nit {nit} --nw {nw} --nl {16} --nrt 1 --L {lattice} --folder {prob+i*prob_diff}\")"
   ]
  },
  {
   "cell_type": "code",
   "execution_count": 20,
   "id": "f26bbcee",
   "metadata": {},
   "outputs": [
    {
     "name": "stdout",
     "output_type": "stream",
     "text": [
      "0.9519292187936232\n",
      "0.95229399352812\n",
      "0.9526586724069322\n",
      "0.9530232555856464\n",
      "0.9533877432194632\n",
      "0.9537521354631999\n",
      "0.9541164324712907\n",
      "0.9544806343977882\n",
      "0.9548447413963645\n",
      "0.9552087536203138\n"
     ]
    }
   ],
   "source": [
    "## Calc Temperature\n",
    "for i in range(num_reps_prob):\n",
    "    beta = 1/2*np.log((1-prob+i*prob_diff)/(prob+i*prob_diff))\n",
    "    print(1/beta)"
   ]
  },
  {
   "cell_type": "code",
   "execution_count": null,
   "id": "0367b679",
   "metadata": {},
   "outputs": [],
   "source": []
  }
 ],
 "metadata": {
  "kernelspec": {
   "display_name": "OG",
   "language": "python",
   "name": "og"
  },
  "language_info": {
   "codemirror_mode": {
    "name": "ipython",
    "version": 3
   },
   "file_extension": ".py",
   "mimetype": "text/x-python",
   "name": "python",
   "nbconvert_exporter": "python",
   "pygments_lexer": "ipython3",
   "version": "3.9.5"
  }
 },
 "nbformat": 4,
 "nbformat_minor": 5
}
