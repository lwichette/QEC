{
 "cells": [
  {
   "cell_type": "code",
   "execution_count": 1,
   "id": "2e97b352",
   "metadata": {},
   "outputs": [],
   "source": [
    "import os\n",
    "import numpy as np\n",
    "import pandas as pd"
   ]
  },
  {
   "cell_type": "code",
   "execution_count": 14,
   "id": "4d26a618",
   "metadata": {},
   "outputs": [],
   "source": [
    "prob = 0.10913\n",
    "start_temp = 0.9\n",
    "up = \"true\"\n",
    "nie = 200\n",
    "nis = 10\n",
    "nit = 500000\n",
    "nw = 100\n",
    "nl = 16\n",
    "num_rep_temp = 1\n",
    "step = 0.04\n",
    "lattice = \"64\"\n",
    "folder = str(prob)"
   ]
  },
  {
   "cell_type": "code",
   "execution_count": 15,
   "id": "06f5ecde",
   "metadata": {},
   "outputs": [],
   "source": [
    "prob_diff = 0.00001\n",
    "num_reps_prob = 9"
   ]
  },
  {
   "cell_type": "code",
   "execution_count": 16,
   "id": "3bfe3c49",
   "metadata": {},
   "outputs": [],
   "source": [
    "probs = [np.round(prob + i*prob_diff,8) for i in range(num_reps_prob)]\n",
    "\n",
    "results = list(zip(probs[0::2], probs[1::2]))\n",
    "\n",
    "if len(probs) % 2 != 0:\n",
    "    results.append((probs[-1],))"
   ]
  },
  {
   "cell_type": "code",
   "execution_count": 17,
   "id": "8da4731e",
   "metadata": {},
   "outputs": [
    {
     "name": "stdout",
     "output_type": "stream",
     "text": [
      "&& (CUDA_VISIBLE_DEVICES=0 ./open_boundary --p 0.10913 --temp 0.9 --step 0.04 --up true --nie 200 --nis 10 --nit 500000 --nw 100 --nl 16 --nrt 1 --L 64 --folder 0.10913 &\\ \n",
      "CUDA_VISIBLE_DEVICES=1 ./open_boundary --p 0.10914 --temp 0.9 --step 0.04 --up true --nie 200 --nis 10 --nit 500000 --nw 100 --nl 16 --nrt 1 --L 64 --folder 0.10914) \\ \n",
      "&& (CUDA_VISIBLE_DEVICES=0 ./open_boundary --p 0.10915 --temp 0.9 --step 0.04 --up true --nie 200 --nis 10 --nit 500000 --nw 100 --nl 16 --nrt 1 --L 64 --folder 0.10915 &\\ \n",
      "CUDA_VISIBLE_DEVICES=1 ./open_boundary --p 0.10916 --temp 0.9 --step 0.04 --up true --nie 200 --nis 10 --nit 500000 --nw 100 --nl 16 --nrt 1 --L 64 --folder 0.10916) \\ \n",
      "&& (CUDA_VISIBLE_DEVICES=0 ./open_boundary --p 0.10917 --temp 0.9 --step 0.04 --up true --nie 200 --nis 10 --nit 500000 --nw 100 --nl 16 --nrt 1 --L 64 --folder 0.10917 &\\ \n",
      "CUDA_VISIBLE_DEVICES=1 ./open_boundary --p 0.10918 --temp 0.9 --step 0.04 --up true --nie 200 --nis 10 --nit 500000 --nw 100 --nl 16 --nrt 1 --L 64 --folder 0.10918) \\ \n",
      "&& (CUDA_VISIBLE_DEVICES=0 ./open_boundary --p 0.10919 --temp 0.9 --step 0.04 --up true --nie 200 --nis 10 --nit 500000 --nw 100 --nl 16 --nrt 1 --L 64 --folder 0.10919 &\\ \n",
      "CUDA_VISIBLE_DEVICES=1 ./open_boundary --p 0.1092 --temp 0.9 --step 0.04 --up true --nie 200 --nis 10 --nit 500000 --nw 100 --nl 16 --nrt 1 --L 64 --folder 0.1092) \\ \n",
      "&& CUDA_VISIBLE_DEVICES=0 ./open_boundary --p 0.10921 --temp 0.9 --step 0.04 --up true --nie 200 --nis 10 --nit 500000 --nw 100 --nl 16 --nrt 1 --L 64 --folder 0.10921\"\n"
     ]
    }
   ],
   "source": [
    "for i in range(len(results)):\n",
    "    if (i == len(results)-1) & (len(results[i]) == 1):\n",
    "        print(f\"&& CUDA_VISIBLE_DEVICES=0 ./open_boundary --p {results[i][0]} --temp {start_temp} --step {step} --up {up} --nie {nie} --nis {nis} --nit {nit} --nw {nw} --nl {nl} --nrt 1 --L {lattice} --folder {results[i][0]}\\\"\")\n",
    "    else:\n",
    "        print(f\"&& (CUDA_VISIBLE_DEVICES=0 ./open_boundary --p {results[i][0]} --temp {start_temp} --step {step} --up {up} --nie {nie} --nis {nis} --nit {nit} --nw {nw} --nl {nl} --nrt 1 --L {lattice} --folder {results[i][0]} &\\ \")\n",
    "        print(f\"CUDA_VISIBLE_DEVICES=1 ./open_boundary --p {results[i][1]} --temp {start_temp} --step {step} --up {up} --nie {nie} --nis {nis} --nit {nit} --nw {nw} --nl {nl} --nrt 1 --L {lattice} --folder {results[i][1]}) \\ \")     "
   ]
  },
  {
   "cell_type": "code",
   "execution_count": 18,
   "id": "30cc53fa",
   "metadata": {},
   "outputs": [],
   "source": [
    "# Assuming 'results' is defined and contains data\n",
    "\n",
    "file_path = 'output.txt'  # Define the file path where you want to save the output\n",
    "\n",
    "with open(file_path, 'w') as file:\n",
    "    for i in range(len(results)):\n",
    "        if (i == len(results) - 1) and (len(results[i]) == 1):\n",
    "            print(f\"&& CUDA_VISIBLE_DEVICES=0 ./open_boundary --p {results[i][0]} --temp {start_temp} --step {step} --up {up} --nie {nie} --nis {nis} --nit {nit} --nw {nw} --nl {nl} --nrt 1 --L {lattice} --folder {results[i][0]}\", file=file)\n",
    "        else:\n",
    "            print(f\"&& (CUDA_VISIBLE_DEVICES=0 ./open_boundary --p {results[i][0]} --temp {start_temp} --step {step} --up {up} --nie {nie} --nis {nis} --nit {nit} --nw {nw} --nl {nl} --nrt 1 --L {lattice} --folder {results[i][0]} &\", file=file)\n",
    "            print(f\"CUDA_VISIBLE_DEVICES=1 ./open_boundary --p {results[i][1]} --temp {start_temp} --step {step} --up {up} --nie {nie} --nis {nis} --nit {nit} --nw {nw} --nl {nl} --nrt 1 --L {lattice} --folder {results[i][1]}) \\ \", file=file)\n"
   ]
  },
  {
   "cell_type": "code",
   "execution_count": 142,
   "id": "dca7eb3a",
   "metadata": {},
   "outputs": [
    {
     "name": "stdout",
     "output_type": "stream",
     "text": [
      "0.9523957848624852\n",
      "0.952432263716307\n",
      "0.9524687416116724\n",
      "0.952505218548737\n",
      "0.9525416945276566\n",
      "0.9525781695485868\n",
      "0.9526146436116837\n",
      "0.952651116717102\n",
      "0.9526875888649979\n",
      "0.9527240600555269\n",
      "0.9527605302888441\n",
      "0.9527969995651051\n"
     ]
    }
   ],
   "source": [
    "## Calc Temperature\n",
    "for i in range(num_reps_prob):\n",
    "    beta = 1/2*np.log((1-prob+i*prob_diff)/(prob+i*prob_diff))\n",
    "    print(1/beta)"
   ]
  },
  {
   "cell_type": "code",
   "execution_count": 144,
   "id": "03f12982",
   "metadata": {},
   "outputs": [
    {
     "data": {
      "text/plain": [
       "[0.9,\n",
       " 0.9167000000000001,\n",
       " 0.9334,\n",
       " 0.9501000000000001,\n",
       " 0.9668,\n",
       " 0.9835,\n",
       " 1.0002,\n",
       " 1.0169000000000001,\n",
       " 1.0336,\n",
       " 1.0503,\n",
       " 1.067,\n",
       " 1.0837,\n",
       " 1.1004]"
      ]
     },
     "execution_count": 144,
     "metadata": {},
     "output_type": "execute_result"
    }
   ],
   "source": [
    "temp_range = [start_temp + i*step for i in range(nl)]\n",
    "temp_range"
   ]
  },
  {
   "cell_type": "code",
   "execution_count": null,
   "id": "ed568656",
   "metadata": {},
   "outputs": [],
   "source": []
  }
 ],
 "metadata": {
  "kernelspec": {
   "display_name": "OG",
   "language": "python",
   "name": "og"
  },
  "language_info": {
   "codemirror_mode": {
    "name": "ipython",
    "version": 3
   },
   "file_extension": ".py",
   "mimetype": "text/x-python",
   "name": "python",
   "nbconvert_exporter": "python",
   "pygments_lexer": "ipython3",
   "version": "3.9.5"
  }
 },
 "nbformat": 4,
 "nbformat_minor": 5
}
