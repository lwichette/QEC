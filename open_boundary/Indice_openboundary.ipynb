{
 "cells": [
  {
   "cell_type": "code",
   "execution_count": 1,
   "id": "9a9d2347",
   "metadata": {},
   "outputs": [],
   "source": [
    "import numpy as np"
   ]
  },
  {
   "cell_type": "code",
   "execution_count": 2,
   "id": "04aa643e",
   "metadata": {},
   "outputs": [],
   "source": [
    "nx = 6\n",
    "ny = 6\n",
    "ny2 = int(ny/2)"
   ]
  },
  {
   "cell_type": "code",
   "execution_count": 3,
   "id": "bd2fc866",
   "metadata": {},
   "outputs": [],
   "source": [
    "lattice = np.arange(nx*ny).reshape((nx,ny))"
   ]
  },
  {
   "cell_type": "code",
   "execution_count": 4,
   "id": "52231db6",
   "metadata": {},
   "outputs": [],
   "source": [
    "lattice_b = np.zeros((nx,ny2))\n",
    "lattice_w = np.zeros((nx,ny2))\n",
    "\n",
    "for i in range(nx):\n",
    "    if i%2==0:\n",
    "        lattice_b[i,:] = lattice[i,1::2]\n",
    "        lattice_w[i,:] = lattice[i,0::2]\n",
    "    else:\n",
    "        lattice_b[i,:] = lattice[i,0::2]\n",
    "        lattice_w[i,:] = lattice[i,1::2]"
   ]
  },
  {
   "cell_type": "code",
   "execution_count": 5,
   "id": "873d4268",
   "metadata": {},
   "outputs": [],
   "source": [
    "interactions = np.arange(2*nx*ny).reshape((2*nx,ny))"
   ]
  },
  {
   "cell_type": "code",
   "execution_count": 52,
   "id": "efa83e96",
   "metadata": {},
   "outputs": [],
   "source": [
    "is_black = False"
   ]
  },
  {
   "cell_type": "code",
   "execution_count": 63,
   "id": "c55da75a",
   "metadata": {
    "scrolled": true
   },
   "outputs": [
    {
     "name": "stdout",
     "output_type": "stream",
     "text": [
      "spin of interest 0.0\n",
      "Down neighbor 6.0\n",
      "Left neighbor 1.0\n",
      "----------------------------\n",
      "spin of interest 2.0\n",
      "Up neighbor 8.0\n",
      "Left neighbor 3.0\n",
      "Right neighbor 1.0\n",
      "----------------------------\n",
      "spin of interest 4.0\n",
      "Up neighbor 10.0\n",
      "Left neighbor 5.0\n",
      "Right neighbor 3.0\n",
      "----------------------------\n",
      "spin of interest 7.0\n",
      "Up neighbor 1.0\n",
      "Left neighbor 6.0\n",
      "Down neighbor 13.0\n",
      "Right neighbor 8.0\n",
      "----------------------------\n",
      "spin of interest 9.0\n",
      "Up neighbor 3.0\n",
      "Left neighbor 8.0\n",
      "Down neighbor 15.0\n",
      "Right neighbor 10.0\n",
      "----------------------------\n",
      "spin of interest 11.0\n",
      "Up neighbor 5.0\n",
      "Left neighbor 10.0\n",
      "Down neighbor 17.0\n",
      "----------------------------\n",
      "spin of interest 12.0\n",
      "Up neighbor 6.0\n",
      "Left neighbor 13.0\n",
      "Down neighbor 18.0\n",
      "----------------------------\n",
      "spin of interest 14.0\n",
      "Up neighbor 8.0\n",
      "Left neighbor 15.0\n",
      "Down neighbor 20.0\n",
      "Right neighbor 13.0\n",
      "----------------------------\n",
      "spin of interest 16.0\n",
      "Up neighbor 10.0\n",
      "Left neighbor 17.0\n",
      "Down neighbor 22.0\n",
      "Right neighbor 15.0\n",
      "----------------------------\n",
      "spin of interest 19.0\n",
      "Up neighbor 13.0\n",
      "Left neighbor 18.0\n",
      "Down neighbor 25.0\n",
      "Right neighbor 20.0\n",
      "----------------------------\n",
      "spin of interest 21.0\n",
      "Up neighbor 15.0\n",
      "Left neighbor 20.0\n",
      "Down neighbor 27.0\n",
      "Right neighbor 22.0\n",
      "----------------------------\n",
      "spin of interest 23.0\n",
      "Up neighbor 17.0\n",
      "Left neighbor 22.0\n",
      "Down neighbor 29.0\n",
      "----------------------------\n",
      "spin of interest 24.0\n",
      "Up neighbor 18.0\n",
      "Left neighbor 25.0\n",
      "Down neighbor 30.0\n",
      "----------------------------\n",
      "spin of interest 26.0\n",
      "Up neighbor 20.0\n",
      "Left neighbor 27.0\n",
      "Down neighbor 32.0\n",
      "Right neighbor 25.0\n",
      "----------------------------\n",
      "spin of interest 28.0\n",
      "Up neighbor 22.0\n",
      "Left neighbor 29.0\n",
      "Down neighbor 34.0\n",
      "Right neighbor 27.0\n",
      "----------------------------\n",
      "spin of interest 31.0\n",
      "Left neighbor 30.0\n",
      "Right neighbor 32.0\n",
      "Up neighbor 25.0\n",
      "----------------------------\n",
      "spin of interest 33.0\n",
      "Left neighbor 32.0\n",
      "Right neighbor 34.0\n",
      "Up neighbor 27.0\n",
      "----------------------------\n",
      "spin of interest 35.0\n",
      "Left neighbor 34.0\n",
      "Up neighbor 29.0\n",
      "----------------------------\n"
     ]
    }
   ],
   "source": [
    "for tid in range(nx*ny2):\n",
    "    i = int(tid/ny2)\n",
    "    j = int(tid%ny2)\n",
    "\n",
    "    ipp = i+1 if (i + 1 < nx) else 0;\n",
    "    inn = i-1 if (i - 1 >= 0) else nx - 1;\n",
    "    jpp = j+1 if (j + 1 < ny2) else 0;\n",
    "    jnn = j-1 if (j - 1 >= 0) else ny2 - 1;\n",
    "\n",
    "    if is_black:\n",
    "        icouplingpp = 2*(nx-1)*ny2 + 2*(ny2*(i+1) + j) + (i+1)%2;\n",
    "        icouplingnn = 2*(nx-1)*ny2 + 2*(ny2*(inn+1) + j) + (i+1)%2;\n",
    "\n",
    "        joff = jnn if (i%2) else jpp;\n",
    "\n",
    "        if (i % 2):\n",
    "            jcouplingoff = 2 * (i * ny2 + joff) + 1;\n",
    "        else:\n",
    "            if (j + 1 >= ny):\n",
    "                jcouplingoff = 2 * (i * ny2 + j + 1) - 1;\n",
    "            else:\n",
    "                jcouplingoff = 2 * (i * ny2 + joff) - 1;\n",
    "        \n",
    "        if (1 <= i < nx-1):\n",
    "            if (i%2):\n",
    "                if (j-1 < 0):\n",
    "                    print(f\"spin of interest {lattice_b[i,j]}\")\n",
    "                    print(f\"Up neighbor {lattice_w[inn,j]}\")\n",
    "                    print(f\"Left neighbor {lattice_w[i,j]}\")\n",
    "                    print(f\"Down neighbor {lattice_w[ipp,j]}\")\n",
    "                    print(\"----------------------------\")\n",
    "                \n",
    "                else:\n",
    "                    print(f\"spin of interest {lattice_b[i,j]}\")\n",
    "                    print(f\"Up neighbor {lattice_w[inn,j]}\")\n",
    "                    print(f\"Left neighbor {lattice_w[i,j]}\")\n",
    "                    print(f\"Down neighbor {lattice_w[ipp,j]}\")\n",
    "                    print(f\"Right neighbor {lattice_w[i,joff]}\")\n",
    "                    print(\"----------------------------\")\n",
    "            else:\n",
    "                if (j+1==ny2):\n",
    "                    print(f\"spin of interest {lattice_b[i,j]}\")\n",
    "                    print(f\"Up neighbor {lattice_w[inn,j]}\")\n",
    "                    print(f\"Left neighbor {lattice_w[i,j]}\")\n",
    "                    print(f\"Down neighbor {lattice_w[ipp,j]}\")\n",
    "                    print(\"----------------------------\")\n",
    "                else:\n",
    "                    print(f\"spin of interest {lattice_b[i,j]}\")\n",
    "                    print(f\"Up neighbor {lattice_w[inn,j]}\")\n",
    "                    print(f\"Left neighbor {lattice_w[i,j]}\")\n",
    "                    print(f\"Down neighbor {lattice_w[ipp,j]}\")\n",
    "                    print(f\"Right neighbor {lattice_w[i,joff]}\")\n",
    "                    print(\"----------------------------\")\n",
    "                           \n",
    "        if (i+1==nx):\n",
    "            if (j-1<0):\n",
    "                print(f\"spin of interest {lattice_b[i,j]}\")\n",
    "                print(f\"Up neighbor {lattice_w[inn,j]}\")\n",
    "                print(f\"Left neighbor {lattice_w[i,j]}\")\n",
    "                print(\"----------------------------\")\n",
    "            \n",
    "            else:\n",
    "                print(f\"spin of interest {lattice_b[i,j]}\")\n",
    "                print(f\"Up neighbor {lattice_w[inn,j]}\")\n",
    "                print(f\"Left neighbor {lattice_w[i,j]}\")\n",
    "                print(f\"Right neighbor {lattice_w[i,joff]}\")\n",
    "                print(\"----------------------------\")\n",
    "                \n",
    "        if (i-1<0):\n",
    "            if (j+1>=ny2):\n",
    "                print(f\"spin of interest {lattice_b[i,j]}\")\n",
    "                print(f\"Left neighbor {lattice_w[i,j]}\")\n",
    "                print(f\"Down neighbor {lattice_w[ipp,j]}\")\n",
    "                print(\"----------------------------\")\n",
    "            \n",
    "            else:\n",
    "                print(f\"spin of interest {lattice_b[i,j]}\")\n",
    "                print(f\"Left neighbor {lattice_w[i,j]}\")\n",
    "                print(f\"Down neighbor {lattice_w[ipp,j]}\")\n",
    "                print(f\"Right neighbor {lattice_w[i,joff]}\")\n",
    "                print(\"----------------------------\")\n",
    "    \n",
    "    # White Lattice\n",
    "    else:\n",
    "        icouplingpp = 2*(nx-1)*ny2 + 2*(ny2*(i+1) + j) + i%2;\n",
    "        icouplingnn = 2*(nx-1)*ny2 + 2*(ny2*(inn+1) + j) + i%2;\n",
    "        \n",
    "        joff = jpp if (i % 2) else jnn;\n",
    "\n",
    "        if (i % 2):\n",
    "            if (j+1 >= ny2):\n",
    "                jcouplingoff = 2 * (i * ny2 + j + 1) - 1;\n",
    "            else:\n",
    "                jcouplingoff = 2 * (i * ny2 + joff) - 1;\n",
    "        else:\n",
    "            jcouplingoff = 2 * (i * ny2 + joff) + 1;\n",
    "            \n",
    "        if (1 <= i < nx-1):\n",
    "            if (i%2):\n",
    "                if (j+1==ny2):\n",
    "                    print(f\"spin of interest {lattice_w[i,j]}\")\n",
    "                    print(f\"Up neighbor {lattice_b[inn,j]}\")\n",
    "                    print(f\"Left neighbor {lattice_b[i,j]}\")\n",
    "                    print(f\"Down neighbor {lattice_b[ipp,j]}\")\n",
    "                    print(\"----------------------------\")\n",
    "                \n",
    "                else:\n",
    "                    print(f\"spin of interest {lattice_w[i,j]}\")\n",
    "                    print(f\"Up neighbor {lattice_b[inn,j]}\")\n",
    "                    print(f\"Left neighbor {lattice_b[i,j]}\")\n",
    "                    print(f\"Down neighbor {lattice_b[ipp,j]}\")\n",
    "                    print(f\"Right neighbor {lattice_b[i,joff]}\")\n",
    "                    print(\"----------------------------\")\n",
    "            \n",
    "            else:\n",
    "                if (j-1 < 0):\n",
    "                    print(f\"spin of interest {lattice_w[i,j]}\")\n",
    "                    print(f\"Up neighbor {lattice_b[inn,j]}\")\n",
    "                    print(f\"Left neighbor {lattice_b[i,j]}\")\n",
    "                    print(f\"Down neighbor {lattice_b[ipp,j]}\")\n",
    "                    print(\"----------------------------\")\n",
    "                \n",
    "                else:\n",
    "                    print(f\"spin of interest {lattice_w[i,j]}\")\n",
    "                    print(f\"Up neighbor {lattice_b[inn,j]}\")\n",
    "                    print(f\"Left neighbor {lattice_b[i,j]}\")\n",
    "                    print(f\"Down neighbor {lattice_b[ipp,j]}\")\n",
    "                    print(f\"Right neighbor {lattice_b[i,joff]}\")\n",
    "                    print(\"----------------------------\")\n",
    "        \n",
    "        if (i+1==nx):\n",
    "            if (j+1==ny2):\n",
    "                print(f\"spin of interest {lattice_w[i,j]}\")\n",
    "                print(f\"Left neighbor {lattice_b[i,j]}\")\n",
    "                print(f\"Up neighbor {lattice_b[inn,j]}\")\n",
    "                print(\"----------------------------\")\n",
    "            else:\n",
    "                print(f\"spin of interest {lattice_w[i,j]}\")\n",
    "                print(f\"Left neighbor {lattice_b[i,j]}\")\n",
    "                print(f\"Right neighbor {lattice_b[i,joff]}\")\n",
    "                print(f\"Up neighbor {lattice_b[inn,j]}\")\n",
    "                print(\"----------------------------\")\n",
    "        \n",
    "        if (i-1<0):\n",
    "            if (j-1<0):\n",
    "                print(f\"spin of interest {lattice_w[i,j]}\")\n",
    "                print(f\"Down neighbor {lattice_b[ipp,j]}\")\n",
    "                print(f\"Left neighbor {lattice_b[i,j]}\")\n",
    "                print(\"----------------------------\")\n",
    "            \n",
    "            else:\n",
    "                print(f\"spin of interest {lattice_w[i,j]}\")\n",
    "                print(f\"Up neighbor {lattice_b[ipp,j]}\")\n",
    "                print(f\"Left neighbor {lattice_b[i,j]}\")\n",
    "                print(f\"Right neighbor {lattice_b[i,joff]}\")\n",
    "                print(\"----------------------------\")"
   ]
  },
  {
   "cell_type": "code",
   "execution_count": 19,
   "id": "4fcab134",
   "metadata": {},
   "outputs": [
    {
     "data": {
      "text/plain": [
       "array([[ 0,  1,  2,  3,  4,  5],\n",
       "       [ 6,  7,  8,  9, 10, 11],\n",
       "       [12, 13, 14, 15, 16, 17],\n",
       "       [18, 19, 20, 21, 22, 23],\n",
       "       [24, 25, 26, 27, 28, 29],\n",
       "       [30, 31, 32, 33, 34, 35]])"
      ]
     },
     "execution_count": 19,
     "metadata": {},
     "output_type": "execute_result"
    }
   ],
   "source": [
    "print(f\"spin of interest {lattice_b[i,j]}\")\n",
    "print(f\"Up neighbor {lattice_w[inn,j]}\")\n",
    "print(f\"Left neighbor {lattice_w[i,j]}\")\n",
    "print(f\"Down neighbor {lattice_w[ipp,j]}\")\n",
    "print(f\"Right neighbor {lattice_w[i,joff]}\")\n",
    "print(\"----------------------------\")"
   ]
  },
  {
   "cell_type": "code",
   "execution_count": 43,
   "id": "cec64a56",
   "metadata": {},
   "outputs": [],
   "source": [
    "i = 5"
   ]
  },
  {
   "cell_type": "code",
   "execution_count": 44,
   "id": "b7bae081",
   "metadata": {},
   "outputs": [],
   "source": [
    "test = jnn if (i%2) else jpp;"
   ]
  },
  {
   "cell_type": "code",
   "execution_count": 45,
   "id": "c26f3660",
   "metadata": {},
   "outputs": [
    {
     "name": "stdout",
     "output_type": "stream",
     "text": [
      "1\n"
     ]
    }
   ],
   "source": [
    "print(test)"
   ]
  },
  {
   "cell_type": "code",
   "execution_count": 46,
   "id": "34c4bef1",
   "metadata": {},
   "outputs": [
    {
     "name": "stdout",
     "output_type": "stream",
     "text": [
      "hello\n"
     ]
    }
   ],
   "source": [
    "if (i%2):\n",
    "    print(\"hello\")"
   ]
  },
  {
   "cell_type": "code",
   "execution_count": 41,
   "id": "d958fccc",
   "metadata": {},
   "outputs": [
    {
     "data": {
      "text/plain": [
       "1"
      ]
     },
     "execution_count": 41,
     "metadata": {},
     "output_type": "execute_result"
    }
   ],
   "source": [
    "jnn"
   ]
  },
  {
   "cell_type": "code",
   "execution_count": null,
   "id": "86a62e49",
   "metadata": {},
   "outputs": [],
   "source": []
  }
 ],
 "metadata": {
  "kernelspec": {
   "display_name": "OG",
   "language": "python",
   "name": "og"
  },
  "language_info": {
   "codemirror_mode": {
    "name": "ipython",
    "version": 3
   },
   "file_extension": ".py",
   "mimetype": "text/x-python",
   "name": "python",
   "nbconvert_exporter": "python",
   "pygments_lexer": "ipython3",
   "version": "3.9.5"
  }
 },
 "nbformat": 4,
 "nbformat_minor": 5
}
