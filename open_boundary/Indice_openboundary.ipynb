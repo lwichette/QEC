{
 "cells": [
  {
   "cell_type": "code",
   "execution_count": 1,
   "id": "9a9d2347",
   "metadata": {},
   "outputs": [],
   "source": [
    "import numpy as np\n",
    "import os"
   ]
  },
  {
   "cell_type": "code",
   "execution_count": 2,
   "id": "973d9c28",
   "metadata": {},
   "outputs": [],
   "source": [
    "os.chdir('lattice')"
   ]
  },
  {
   "cell_type": "code",
   "execution_count": 6,
   "id": "63569a85",
   "metadata": {},
   "outputs": [],
   "source": [
    "lattice = np.ones((512,512))"
   ]
  },
  {
   "cell_type": "code",
   "execution_count": 7,
   "id": "4b1973d6",
   "metadata": {},
   "outputs": [
    {
     "data": {
      "text/plain": [
       "(6.441513988875158e-13+1.8821992575634994e-12j)"
      ]
     },
     "execution_count": 7,
     "metadata": {},
     "output_type": "execute_result"
    }
   ],
   "source": [
    "calc_B2(lattice)"
   ]
  },
  {
   "cell_type": "code",
   "execution_count": 3,
   "id": "a2dfcbce",
   "metadata": {},
   "outputs": [],
   "source": [
    "def calc_B2(lattice):\n",
    "    nx = lattice.shape[0]\n",
    "    wave_vector = np.array([2*np.pi/nx,0])\n",
    "    \n",
    "    s = 0\n",
    "    \n",
    "    for i in range(nx):\n",
    "        for j in range(nx):\n",
    "            dot = wave_vector[0]*i + wave_vector[1]*j\n",
    "            s += lattice[i,j]*np.exp(1j*dot)\n",
    "    \n",
    "    return s"
   ]
  },
  {
   "cell_type": "code",
   "execution_count": 4,
   "id": "fce7d55b",
   "metadata": {},
   "outputs": [
    {
     "name": "stdout",
     "output_type": "stream",
     "text": [
      "23951236.0\n",
      "43766457.007022604\n",
      "4900.0\n",
      "1983536.3439475277\n",
      "1106704.0\n",
      "40175879.245998494\n",
      "3415104.0\n",
      "328754.0130144923\n",
      "2316484.0\n",
      "15374329.002352415\n"
     ]
    }
   ],
   "source": [
    "for i in range(5):\n",
    "    lattice = np.loadtxt(f'lattice_{i}0.txt')\n",
    "    print(np.abs(np.sum(lattice))**2)\n",
    "    print(np.abs(calc_B2(lattice))**2)"
   ]
  },
  {
   "cell_type": "code",
   "execution_count": 14,
   "id": "04aa643e",
   "metadata": {},
   "outputs": [],
   "source": [
    "nx = 12\n",
    "ny = 12\n",
    "ny2 = int(ny/2)"
   ]
  },
  {
   "cell_type": "code",
   "execution_count": 15,
   "id": "bd2fc866",
   "metadata": {},
   "outputs": [],
   "source": [
    "lattice = np.loadtxt(\"final_lattice_0.txt\")"
   ]
  },
  {
   "cell_type": "code",
   "execution_count": 16,
   "id": "52231db6",
   "metadata": {},
   "outputs": [],
   "source": [
    "lattice_b = np.zeros((nx,ny2))\n",
    "lattice_w = np.zeros((nx,ny2))\n",
    "\n",
    "for i in range(nx):\n",
    "    if i%2==0:\n",
    "        lattice_b[i,:] = lattice[i,1::2]\n",
    "        lattice_w[i,:] = lattice[i,0::2]\n",
    "    else:\n",
    "        lattice_b[i,:] = lattice[i,0::2]\n",
    "        lattice_w[i,:] = lattice[i,1::2]"
   ]
  },
  {
   "cell_type": "code",
   "execution_count": 17,
   "id": "873d4268",
   "metadata": {},
   "outputs": [],
   "source": [
    "interactions = np.loadtxt(\"final_bonds_0.txt\")"
   ]
  },
  {
   "cell_type": "code",
   "execution_count": 22,
   "id": "189006b9",
   "metadata": {},
   "outputs": [],
   "source": [
    "interactions = interactions.reshape(-1)"
   ]
  },
  {
   "cell_type": "code",
   "execution_count": 19,
   "id": "efa83e96",
   "metadata": {},
   "outputs": [],
   "source": [
    "is_black = True"
   ]
  },
  {
   "cell_type": "code",
   "execution_count": 23,
   "id": "96d3bdc8",
   "metadata": {},
   "outputs": [],
   "source": [
    "nn_sum = 0\n",
    "\n",
    "for tid in range(nx*ny2):\n",
    "    i = int(tid/ny2)\n",
    "    j = int(tid%ny2)\n",
    "\n",
    "    ipp = i+1 if (i + 1 < nx) else 0;\n",
    "    inn = i-1 if (i - 1 >= 0) else nx - 1;\n",
    "    jpp = j+1 if (j + 1 < ny2) else 0;\n",
    "    jnn = j-1 if (j - 1 >= 0) else ny2 - 1;\n",
    "    \n",
    "    c_up = 1-int(inn/(nx-1))\n",
    "    c_down = 1-int((i+1)/nx)\n",
    "    \n",
    "    if is_black:\n",
    "        icouplingpp = 2*(nx-1)*ny2 + 2*(ny2*(i+1) + j) + (i+1)%2;\n",
    "        icouplingnn = 2*(nx-1)*ny2 + 2*(ny2*(inn+1) + j) + (i+1)%2;\n",
    "\n",
    "        joff = jnn if (i%2) else jpp;\n",
    "\n",
    "        if (i % 2):\n",
    "            jcouplingoff = 2 * (i * ny2 + joff) + 1;\n",
    "            c_side = 1-int(jnn/(ny2-1))\n",
    "        \n",
    "        else:\n",
    "            c_side = 1-int((j+1)/ny2)\n",
    "            \n",
    "            if (j + 1 >= ny):\n",
    "                jcouplingoff = 2 * (i * ny2 + j + 1) - 1;\n",
    "            else:\n",
    "                jcouplingoff = 2 * (i * ny2 + joff) - 1;\n",
    "        \n",
    "        nn_sum += lattice_b[i,j]*(lattice_w[inn,j]*c_up*interactions[icouplingnn] + lattice_w[i,j]*interactions[2*(i*ny2+j)] + \n",
    "                                  lattice_w[ipp,j]*c_down*interactions[icouplingpp] + lattice_w[i,joff]*c_side*interactions[jcouplingoff])\n",
    "\n",
    "    # White Lattice\n",
    "    else:\n",
    "        icouplingpp = 2*(nx-1)*ny2 + 2*(ny2*(i+1) + j) + i%2;\n",
    "        icouplingnn = 2*(nx-1)*ny2 + 2*(ny2*(inn+1) + j) + i%2;\n",
    "        \n",
    "        joff = jpp if (i % 2) else jnn;\n",
    "\n",
    "        if (i % 2):\n",
    "            c_side = 1-int((j+1)/ny2)\n",
    "            \n",
    "            if (j+1 >= ny2):\n",
    "                jcouplingoff = 2 * (i * ny2 + j + 1) - 1;\n",
    "            else:\n",
    "                jcouplingoff = 2 * (i * ny2 + joff) - 1;\n",
    "        else:\n",
    "            c_side = 1-int(jnn/(ny2-1))\n",
    "            \n",
    "            jcouplingoff = 2 * (i * ny2 + joff) + 1;\n",
    "        \n",
    "\n",
    "        print(f\"spin of interest {lattice_w[i,j]}\")\n",
    "        print(f\"Up neighbor {lattice_b[inn,j]} multiplied with {c_up}\")\n",
    "        print(f\"Left neighbor {lattice_b[i,j]} multiplied with 1\")\n",
    "        print(f\"Down neighbor {lattice_b[ipp,j]} multiplied with {c_down}\")\n",
    "        print(f\"Right neighbor {lattice_b[i,joff]} multiplied with {c_side}\")\n",
    "        print(\"--------------------------\")"
   ]
  },
  {
   "cell_type": "markdown",
   "id": "b487235b",
   "metadata": {},
   "source": [
    "### Logic "
   ]
  },
  {
   "cell_type": "code",
   "execution_count": 30,
   "id": "fb07f443",
   "metadata": {},
   "outputs": [],
   "source": [
    "nx = ny = 6\n",
    "ny2 = int(ny/2)"
   ]
  },
  {
   "cell_type": "code",
   "execution_count": 31,
   "id": "c67e1801",
   "metadata": {},
   "outputs": [],
   "source": [
    "lattice = np.arange(nx*ny).reshape((nx,ny))"
   ]
  },
  {
   "cell_type": "code",
   "execution_count": 33,
   "id": "85e643f4",
   "metadata": {},
   "outputs": [],
   "source": [
    "interactions = np.arange(2*nx*ny).reshape((2*nx*ny))"
   ]
  },
  {
   "cell_type": "code",
   "execution_count": 35,
   "id": "07574713",
   "metadata": {},
   "outputs": [],
   "source": [
    "lattice_b = np.zeros((nx,ny2))\n",
    "lattice_w = np.zeros((nx,ny2))\n",
    "\n",
    "for i in range(nx):\n",
    "    if i%2==0:\n",
    "        lattice_b[i,:] = lattice[i,1::2]\n",
    "        lattice_w[i,:] = lattice[i,0::2]\n",
    "    else:\n",
    "        lattice_b[i,:] = lattice[i,0::2]\n",
    "        lattice_w[i,:] = lattice[i,1::2]"
   ]
  },
  {
   "cell_type": "code",
   "execution_count": 36,
   "id": "5518aa9b",
   "metadata": {},
   "outputs": [
    {
     "name": "stdout",
     "output_type": "stream",
     "text": [
      "spin of interest 1.0\n",
      "Up neighbor 31.0 multiplied with 0\n",
      "Left neighbor 0.0 multiplied with 1\n",
      "Down neighbor 7.0 multiplied with 1\n",
      "Right neighbor 2.0 multiplied with 1\n",
      "--------------------------\n",
      "spin of interest 3.0\n",
      "Up neighbor 33.0 multiplied with 0\n",
      "Left neighbor 2.0 multiplied with 1\n",
      "Down neighbor 9.0 multiplied with 1\n",
      "Right neighbor 4.0 multiplied with 1\n",
      "--------------------------\n",
      "spin of interest 5.0\n",
      "Up neighbor 35.0 multiplied with 0\n",
      "Left neighbor 4.0 multiplied with 1\n",
      "Down neighbor 11.0 multiplied with 1\n",
      "Right neighbor 0.0 multiplied with 0\n",
      "--------------------------\n",
      "spin of interest 6.0\n",
      "Up neighbor 0.0 multiplied with 1\n",
      "Left neighbor 7.0 multiplied with 1\n",
      "Down neighbor 12.0 multiplied with 1\n",
      "Right neighbor 11.0 multiplied with 0\n",
      "--------------------------\n",
      "spin of interest 8.0\n",
      "Up neighbor 2.0 multiplied with 1\n",
      "Left neighbor 9.0 multiplied with 1\n",
      "Down neighbor 14.0 multiplied with 1\n",
      "Right neighbor 7.0 multiplied with 1\n",
      "--------------------------\n",
      "spin of interest 10.0\n",
      "Up neighbor 4.0 multiplied with 1\n",
      "Left neighbor 11.0 multiplied with 1\n",
      "Down neighbor 16.0 multiplied with 1\n",
      "Right neighbor 9.0 multiplied with 1\n",
      "--------------------------\n",
      "spin of interest 13.0\n",
      "Up neighbor 7.0 multiplied with 1\n",
      "Left neighbor 12.0 multiplied with 1\n",
      "Down neighbor 19.0 multiplied with 1\n",
      "Right neighbor 14.0 multiplied with 1\n",
      "--------------------------\n",
      "spin of interest 15.0\n",
      "Up neighbor 9.0 multiplied with 1\n",
      "Left neighbor 14.0 multiplied with 1\n",
      "Down neighbor 21.0 multiplied with 1\n",
      "Right neighbor 16.0 multiplied with 1\n",
      "--------------------------\n",
      "spin of interest 17.0\n",
      "Up neighbor 11.0 multiplied with 1\n",
      "Left neighbor 16.0 multiplied with 1\n",
      "Down neighbor 23.0 multiplied with 1\n",
      "Right neighbor 12.0 multiplied with 0\n",
      "--------------------------\n",
      "spin of interest 18.0\n",
      "Up neighbor 12.0 multiplied with 1\n",
      "Left neighbor 19.0 multiplied with 1\n",
      "Down neighbor 24.0 multiplied with 1\n",
      "Right neighbor 23.0 multiplied with 0\n",
      "--------------------------\n",
      "spin of interest 20.0\n",
      "Up neighbor 14.0 multiplied with 1\n",
      "Left neighbor 21.0 multiplied with 1\n",
      "Down neighbor 26.0 multiplied with 1\n",
      "Right neighbor 19.0 multiplied with 1\n",
      "--------------------------\n",
      "spin of interest 22.0\n",
      "Up neighbor 16.0 multiplied with 1\n",
      "Left neighbor 23.0 multiplied with 1\n",
      "Down neighbor 28.0 multiplied with 1\n",
      "Right neighbor 21.0 multiplied with 1\n",
      "--------------------------\n",
      "spin of interest 25.0\n",
      "Up neighbor 19.0 multiplied with 1\n",
      "Left neighbor 24.0 multiplied with 1\n",
      "Down neighbor 31.0 multiplied with 1\n",
      "Right neighbor 26.0 multiplied with 1\n",
      "--------------------------\n",
      "spin of interest 27.0\n",
      "Up neighbor 21.0 multiplied with 1\n",
      "Left neighbor 26.0 multiplied with 1\n",
      "Down neighbor 33.0 multiplied with 1\n",
      "Right neighbor 28.0 multiplied with 1\n",
      "--------------------------\n",
      "spin of interest 29.0\n",
      "Up neighbor 23.0 multiplied with 1\n",
      "Left neighbor 28.0 multiplied with 1\n",
      "Down neighbor 35.0 multiplied with 1\n",
      "Right neighbor 24.0 multiplied with 0\n",
      "--------------------------\n",
      "spin of interest 30.0\n",
      "Up neighbor 24.0 multiplied with 1\n",
      "Left neighbor 31.0 multiplied with 1\n",
      "Down neighbor 0.0 multiplied with 0\n",
      "Right neighbor 35.0 multiplied with 0\n",
      "--------------------------\n",
      "spin of interest 32.0\n",
      "Up neighbor 26.0 multiplied with 1\n",
      "Left neighbor 33.0 multiplied with 1\n",
      "Down neighbor 2.0 multiplied with 0\n",
      "Right neighbor 31.0 multiplied with 1\n",
      "--------------------------\n",
      "spin of interest 34.0\n",
      "Up neighbor 28.0 multiplied with 1\n",
      "Left neighbor 35.0 multiplied with 1\n",
      "Down neighbor 4.0 multiplied with 0\n",
      "Right neighbor 33.0 multiplied with 1\n",
      "--------------------------\n"
     ]
    }
   ],
   "source": [
    "for tid in range(nx*ny2):\n",
    "    i = int(tid/ny2)\n",
    "    j = int(tid%ny2)\n",
    "\n",
    "    ipp = i+1 if (i + 1 < nx) else 0;\n",
    "    inn = i-1 if (i - 1 >= 0) else nx - 1;\n",
    "    jpp = j+1 if (j + 1 < ny2) else 0;\n",
    "    jnn = j-1 if (j - 1 >= 0) else ny2 - 1;\n",
    "    \n",
    "    c_up = 1-int(inn/(nx-1))\n",
    "    c_down = 1-int((i+1)/nx)\n",
    "    \n",
    "    if is_black:\n",
    "        icouplingpp = 2*(nx-1)*ny2 + 2*(ny2*(i+1) + j) + (i+1)%2;\n",
    "        icouplingnn = 2*(nx-1)*ny2 + 2*(ny2*(inn+1) + j) + (i+1)%2;\n",
    "\n",
    "        joff = jnn if (i%2) else jpp;\n",
    "\n",
    "        if (i % 2):\n",
    "            jcouplingoff = 2 * (i * ny2 + joff) + 1;\n",
    "            c_side = 1-int(jnn/(ny2-1))\n",
    "        \n",
    "        else:\n",
    "            c_side = 1-int((j+1)/ny2)\n",
    "            \n",
    "            if (j + 1 >= ny):\n",
    "                jcouplingoff = 2 * (i * ny2 + j + 1) - 1;\n",
    "            else:\n",
    "                jcouplingoff = 2 * (i * ny2 + joff) - 1;\n",
    "            \n",
    "        print(f\"spin of interest {lattice_b[i,j]}\")\n",
    "        print(f\"Up neighbor {lattice_w[inn,j]} multiplied with {c_up}\")\n",
    "        print(f\"Left neighbor {lattice_w[i,j]} multiplied with 1\")\n",
    "        print(f\"Down neighbor {lattice_w[ipp,j]} multiplied with {c_down}\")\n",
    "        print(f\"Right neighbor {lattice_w[i,joff]} multiplied with {c_side}\")\n",
    "        print(\"--------------------------\")\n",
    "                    \n",
    "    # White Lattice\n",
    "    else:\n",
    "        icouplingpp = 2*(nx-1)*ny2 + 2*(ny2*(i+1) + j) + i%2;\n",
    "        icouplingnn = 2*(nx-1)*ny2 + 2*(ny2*(inn+1) + j) + i%2;\n",
    "        \n",
    "        joff = jpp if (i % 2) else jnn;\n",
    "\n",
    "        if (i % 2):\n",
    "            c_side = 1-int((j+1)/ny2)\n",
    "            \n",
    "            if (j+1 >= ny2):\n",
    "                jcouplingoff = 2 * (i * ny2 + j + 1) - 1;\n",
    "            else:\n",
    "                jcouplingoff = 2 * (i * ny2 + joff) - 1;\n",
    "        else:\n",
    "            c_side = 1-int(jnn/(ny2-1))\n",
    "            \n",
    "            jcouplingoff = 2 * (i * ny2 + joff) + 1;\n",
    "        \n",
    "\n",
    "        print(f\"spin of interest {lattice_w[i,j]}\")\n",
    "        print(f\"Up neighbor {lattice_b[inn,j]} multiplied with {c_up}\")\n",
    "        print(f\"Left neighbor {lattice_b[i,j]} multiplied with 1\")\n",
    "        print(f\"Down neighbor {lattice_b[ipp,j]} multiplied with {c_down}\")\n",
    "        print(f\"Right neighbor {lattice_b[i,joff]} multiplied with {c_side}\")\n",
    "        print(\"--------------------------\")"
   ]
  },
  {
   "cell_type": "code",
   "execution_count": 24,
   "id": "0dc1f9e5",
   "metadata": {},
   "outputs": [],
   "source": [
    "coupling = 1/1.2"
   ]
  },
  {
   "cell_type": "code",
   "execution_count": 26,
   "id": "e596781c",
   "metadata": {},
   "outputs": [
    {
     "data": {
      "text/plain": [
       "3.3333333333333335"
      ]
     },
     "execution_count": 26,
     "metadata": {},
     "output_type": "execute_result"
    }
   ],
   "source": [
    "nn_sum*(-1)*coupling"
   ]
  },
  {
   "cell_type": "code",
   "execution_count": null,
   "id": "a23aaa74",
   "metadata": {},
   "outputs": [],
   "source": []
  },
  {
   "cell_type": "code",
   "execution_count": 22,
   "id": "1bc026f2",
   "metadata": {},
   "outputs": [
    {
     "data": {
      "text/plain": [
       "array([[ 0,  1,  2,  3,  4,  5],\n",
       "       [ 6,  7,  8,  9, 10, 11],\n",
       "       [12, 13, 14, 15, 16, 17],\n",
       "       [18, 19, 20, 21, 22, 23],\n",
       "       [24, 25, 26, 27, 28, 29],\n",
       "       [30, 31, 32, 33, 34, 35]])"
      ]
     },
     "execution_count": 22,
     "metadata": {},
     "output_type": "execute_result"
    }
   ],
   "source": [
    "lattice"
   ]
  },
  {
   "cell_type": "code",
   "execution_count": 42,
   "id": "72005752",
   "metadata": {},
   "outputs": [],
   "source": [
    "i = j = 0"
   ]
  },
  {
   "cell_type": "code",
   "execution_count": 43,
   "id": "3d82ff35",
   "metadata": {},
   "outputs": [],
   "source": [
    "ipp = i+1 if (i + 1 < nx) else 0;\n",
    "inn = i-1 if (i - 1 >= 0) else nx - 1;\n",
    "jpp = j+1 if (j + 1 < ny2) else 0;\n",
    "jnn = j-1 if (j - 1 >= 0) else ny2 - 1;"
   ]
  },
  {
   "cell_type": "code",
   "execution_count": 46,
   "id": "a4644ca7",
   "metadata": {},
   "outputs": [
    {
     "name": "stdout",
     "output_type": "stream",
     "text": [
      "30.0 0\n",
      "1.0\n",
      "6.0 1\n",
      "5.0 0\n"
     ]
    }
   ],
   "source": [
    "print(lattice_b[inn,j], 1-int(inn/(nx-1)))\n",
    "print(lattice_b[i,j])\n",
    "print(lattice_b[ipp,j], 1-int((i+1)/nx))\n",
    "print(lattice_b[i,joff], (1-int((j+1)/ny2))*(1-int(jnn/(ny2-1))))"
   ]
  },
  {
   "cell_type": "code",
   "execution_count": 36,
   "id": "78f887a6",
   "metadata": {},
   "outputs": [
    {
     "data": {
      "text/plain": [
       "0.8333333333333334"
      ]
     },
     "execution_count": 36,
     "metadata": {},
     "output_type": "execute_result"
    }
   ],
   "source": []
  },
  {
   "cell_type": "code",
   "execution_count": null,
   "id": "932db440",
   "metadata": {},
   "outputs": [],
   "source": []
  }
 ],
 "metadata": {
  "kernelspec": {
   "display_name": "OG",
   "language": "python",
   "name": "og"
  },
  "language_info": {
   "codemirror_mode": {
    "name": "ipython",
    "version": 3
   },
   "file_extension": ".py",
   "mimetype": "text/x-python",
   "name": "python",
   "nbconvert_exporter": "python",
   "pygments_lexer": "ipython3",
   "version": "3.9.5"
  }
 },
 "nbformat": 4,
 "nbformat_minor": 5
}
