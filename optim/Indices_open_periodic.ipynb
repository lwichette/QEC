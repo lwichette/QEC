{
 "cells": [
  {
   "cell_type": "code",
   "execution_count": 1,
   "id": "9a9d2347",
   "metadata": {},
   "outputs": [],
   "source": [
    "import numpy as np\n",
    "import os"
   ]
  },
  {
   "cell_type": "markdown",
   "id": "4c5891c7",
   "metadata": {},
   "source": [
    "## PLEASE DO NOT CHANGE THIS NOTEBOOK"
   ]
  },
  {
   "cell_type": "code",
   "execution_count": 2,
   "id": "cd84cf5d",
   "metadata": {},
   "outputs": [],
   "source": [
    "# Lattice sizes\n",
    "X = 8\n",
    "Y = 8\n",
    "Y2 = int(Y/2)"
   ]
  },
  {
   "cell_type": "code",
   "execution_count": 3,
   "id": "532c0437",
   "metadata": {},
   "outputs": [],
   "source": [
    "# Create lattice\n",
    "lattice = np.arange(X*Y).reshape(X,Y)\n",
    "\n",
    "lattice_b = np.zeros((X,Y2))\n",
    "lattice_w = np.zeros((X,Y2))"
   ]
  },
  {
   "cell_type": "code",
   "execution_count": 4,
   "id": "8604311b",
   "metadata": {},
   "outputs": [],
   "source": [
    "# Get black and white lattices\n",
    "for i in range(X):\n",
    "    if i%2 == 0:\n",
    "        lattice_b[i,:] = lattice[i,0::2]\n",
    "        lattice_w[i,:] = lattice[i,1::2]\n",
    "    else:\n",
    "        lattice_b[i,:] = lattice[i,1::2]\n",
    "        lattice_w[i,:] = lattice[i,0::2]"
   ]
  },
  {
   "cell_type": "code",
   "execution_count": 5,
   "id": "9f2977d3",
   "metadata": {},
   "outputs": [],
   "source": [
    "# Get interactions\n",
    "interactions = np.arange(2*X*Y)\n",
    "interactions_reshaped = interactions.reshape((2*X,Y))"
   ]
  },
  {
   "cell_type": "markdown",
   "id": "783864cf",
   "metadata": {},
   "source": [
    "### 1. Periodic Boundary Conditions"
   ]
  },
  {
   "cell_type": "markdown",
   "id": "d34d9d2d",
   "metadata": {},
   "source": [
    "This part covers the periodic boundary conditions. Below we loop over all black/white lattice indices and print the corresponding interactions and spins of the opposite lattice for periodic boundary conditions."
   ]
  },
  {
   "cell_type": "code",
   "execution_count": 6,
   "id": "1a162124",
   "metadata": {},
   "outputs": [],
   "source": [
    "# Check whether \n",
    "is_black = True"
   ]
  },
  {
   "cell_type": "code",
   "execution_count": 24,
   "id": "063f7928",
   "metadata": {},
   "outputs": [
    {
     "name": "stdout",
     "output_type": "stream",
     "text": [
      "Spin of interest: 24.0\n",
      "Up neighbor: 16.0 with 80\n",
      "Down neighbor: 32.0 with 88\n",
      "Right neighbor: 25.0 with 24\n",
      "Left neighbor: 31.0 with 31\n",
      "----------------------------------\n"
     ]
    }
   ],
   "source": [
    "for tid in range(X*Y2):\n",
    "    \n",
    "        i = int(tid/Y2)\n",
    "        j = tid % Y2\n",
    "\n",
    "        ipp = (i + 1) if (i + 1 < X) else 0\n",
    "        inn = (i - 1) if (i - 1 >= 0) else X - 1\n",
    "        jpp = (j + 1) if (j + 1 < Y2) else 0\n",
    "        jnn = (j - 1) if (j - 1 >= 0) else Y2 - 1\n",
    "\n",
    "        if (is_black):\n",
    "            \n",
    "            icpp = 2*(X-1)*Y2 + 2*(Y2*(i+1) + j) + i%2\n",
    "            \n",
    "            icnn = 2*(X-1)*Y2 + 2*(Y2*(inn+1) + j) + i%2\n",
    "\n",
    "            joff = jpp if (i%2) else jnn\n",
    "            \n",
    "            if (i % 2):\n",
    "                if (j+1 >= Y2):\n",
    "                    jcoff = 2*(i*Y2 + j + 1) - 1\n",
    "                \n",
    "                else:\n",
    "                    jcoff = 2*(i*Y2 + joff) - 1\n",
    "            else:\n",
    "                jcoff = 2 * (i*Y2 + joff) + 1\n",
    "\n",
    "            print(\"Spin of interest:\", lattice_b[i,j])\n",
    "            print(\"Up neighbor:\", lattice_w[inn,j], \"with\", interactions[icnn])\n",
    "            print(\"Down neighbor:\", lattice_w[ipp,j], \"with\", interactions[icpp])\n",
    "            print(\"Right neighbor:\", lattice_w[i,j], \"with\", interactions[2*(i*Y2+j)])\n",
    "            print(\"Left neighbor:\", lattice_w[i, joff], \"with\", interactions[jcoff])\n",
    "            print(\"----------------------------------\")\n",
    "    \n",
    "        else:\n",
    "        \n",
    "            icpp = 2*(X - 1)*Y2 + 2*(Y2*(i+1) + j) + (i+1)%2\n",
    "            icnn = 2*(X - 1)*Y2 + 2*(Y2*(inn+1) + j) + (i+1)%2\n",
    "\n",
    "            joff = jnn if (i%2) else jpp\n",
    "\n",
    "            if (i%2):\n",
    "                jcoff = 2*(i*Y2 + joff) + 1\n",
    "            else:\n",
    "                if (j+1 >= Y2):\n",
    "                    jcoff = 2*(i*Y2 + j + 1) - 1\n",
    "                else:\n",
    "                    jcoff = 2*(i*Y2 + joff) - 1\n",
    "            \n",
    "            print(\"Spin of interest:\", lattice_w[i,j])\n",
    "            print(\"Up neighbor:\", lattice_b[inn,j], \"with\", interactions[icnn])\n",
    "            print(\"Down neighbor:\", lattice_b[ipp,j], \"with\", interactions[icpp])\n",
    "            print(\"Right neighbor:\", lattice_b[i,j], \"with\", interactions[2*(i*Y2+j)])\n",
    "            print(\"Left neighbor:\", lattice_b[i, joff], \"with\", interactions[jcoff])\n",
    "            print(\"----------------------------------\")"
   ]
  },
  {
   "cell_type": "code",
   "execution_count": 34,
   "id": "240d9649",
   "metadata": {},
   "outputs": [
    {
     "data": {
      "text/plain": [
       "array([[ 0,  1,  2,  3,  4,  5,  6,  7],\n",
       "       [ 8,  9, 10, 11, 12, 13, 14, 15],\n",
       "       [16, 17, 18, 19, 20, 21, 22, 23],\n",
       "       [24, 25, 26, 27, 28, 29, 30, 31],\n",
       "       [32, 33, 34, 35, 36, 37, 38, 39],\n",
       "       [40, 41, 42, 43, 44, 45, 46, 47]])"
      ]
     },
     "execution_count": 34,
     "metadata": {},
     "output_type": "execute_result"
    }
   ],
   "source": [
    "lattice"
   ]
  },
  {
   "cell_type": "code",
   "execution_count": 35,
   "id": "09d3d588",
   "metadata": {},
   "outputs": [
    {
     "data": {
      "text/plain": [
       "array([[ 0,  1,  2,  3,  4,  5,  6,  7],\n",
       "       [ 8,  9, 10, 11, 12, 13, 14, 15],\n",
       "       [16, 17, 18, 19, 20, 21, 22, 23],\n",
       "       [24, 25, 26, 27, 28, 29, 30, 31],\n",
       "       [32, 33, 34, 35, 36, 37, 38, 39],\n",
       "       [40, 41, 42, 43, 44, 45, 46, 47]])"
      ]
     },
     "execution_count": 35,
     "metadata": {},
     "output_type": "execute_result"
    }
   ],
   "source": [
    "interactions_reshaped[:X,:]"
   ]
  },
  {
   "cell_type": "code",
   "execution_count": 36,
   "id": "529a91cd",
   "metadata": {},
   "outputs": [
    {
     "data": {
      "text/plain": [
       "array([[48, 49, 50, 51, 52, 53, 54, 55],\n",
       "       [56, 57, 58, 59, 60, 61, 62, 63],\n",
       "       [64, 65, 66, 67, 68, 69, 70, 71],\n",
       "       [72, 73, 74, 75, 76, 77, 78, 79],\n",
       "       [80, 81, 82, 83, 84, 85, 86, 87],\n",
       "       [88, 89, 90, 91, 92, 93, 94, 95]])"
      ]
     },
     "execution_count": 36,
     "metadata": {},
     "output_type": "execute_result"
    }
   ],
   "source": [
    "interactions_reshaped[-X:,:]"
   ]
  },
  {
   "cell_type": "markdown",
   "id": "d91181ec",
   "metadata": {},
   "source": [
    "### 2. Open Boundary Conditions"
   ]
  },
  {
   "cell_type": "markdown",
   "id": "b097ea78",
   "metadata": {},
   "source": [
    "This part covers the open boundary conditions. Below we loop over all black/white lattice indices and print the weight of the corresponding interaction, the interaction itself and the spin of the opposite lattice for open boundary conditions."
   ]
  },
  {
   "cell_type": "code",
   "execution_count": 15,
   "id": "6621bbc8",
   "metadata": {},
   "outputs": [],
   "source": [
    "# Check whether \n",
    "is_black = False"
   ]
  },
  {
   "cell_type": "code",
   "execution_count": 16,
   "id": "a20625cf",
   "metadata": {},
   "outputs": [
    {
     "name": "stdout",
     "output_type": "stream",
     "text": [
      "Spin of interest: 1.0\n",
      "Up neighbor: 57.0 with 0 and interaction 121\n",
      "Down neighbor: 9.0 with 1 and interaction 65\n",
      "Left neighbor: 0.0 with 1 and interaction 0\n",
      "Right neighbor: 2.0 with 1 and interaction 1\n",
      "----------------------------------\n",
      "Spin of interest: 3.0\n",
      "Up neighbor: 59.0 with 0 and interaction 123\n",
      "Down neighbor: 11.0 with 1 and interaction 67\n",
      "Left neighbor: 2.0 with 1 and interaction 2\n",
      "Right neighbor: 4.0 with 1 and interaction 3\n",
      "----------------------------------\n",
      "Spin of interest: 5.0\n",
      "Up neighbor: 61.0 with 0 and interaction 125\n",
      "Down neighbor: 13.0 with 1 and interaction 69\n",
      "Left neighbor: 4.0 with 1 and interaction 4\n",
      "Right neighbor: 6.0 with 1 and interaction 5\n",
      "----------------------------------\n",
      "Spin of interest: 7.0\n",
      "Up neighbor: 63.0 with 0 and interaction 127\n",
      "Down neighbor: 15.0 with 1 and interaction 71\n",
      "Left neighbor: 6.0 with 1 and interaction 6\n",
      "Right neighbor: 0.0 with 0 and interaction 7\n",
      "----------------------------------\n",
      "Spin of interest: 8.0\n",
      "Up neighbor: 0.0 with 1 and interaction 64\n",
      "Down neighbor: 16.0 with 1 and interaction 72\n",
      "Left neighbor: 9.0 with 1 and interaction 8\n",
      "Right neighbor: 15.0 with 0 and interaction 15\n",
      "----------------------------------\n",
      "Spin of interest: 10.0\n",
      "Up neighbor: 2.0 with 1 and interaction 66\n",
      "Down neighbor: 18.0 with 1 and interaction 74\n",
      "Left neighbor: 11.0 with 1 and interaction 10\n",
      "Right neighbor: 9.0 with 1 and interaction 9\n",
      "----------------------------------\n",
      "Spin of interest: 12.0\n",
      "Up neighbor: 4.0 with 1 and interaction 68\n",
      "Down neighbor: 20.0 with 1 and interaction 76\n",
      "Left neighbor: 13.0 with 1 and interaction 12\n",
      "Right neighbor: 11.0 with 1 and interaction 11\n",
      "----------------------------------\n",
      "Spin of interest: 14.0\n",
      "Up neighbor: 6.0 with 1 and interaction 70\n",
      "Down neighbor: 22.0 with 1 and interaction 78\n",
      "Left neighbor: 15.0 with 1 and interaction 14\n",
      "Right neighbor: 13.0 with 1 and interaction 13\n",
      "----------------------------------\n",
      "Spin of interest: 17.0\n",
      "Up neighbor: 9.0 with 1 and interaction 73\n",
      "Down neighbor: 25.0 with 1 and interaction 81\n",
      "Left neighbor: 16.0 with 1 and interaction 16\n",
      "Right neighbor: 18.0 with 1 and interaction 17\n",
      "----------------------------------\n",
      "Spin of interest: 19.0\n",
      "Up neighbor: 11.0 with 1 and interaction 75\n",
      "Down neighbor: 27.0 with 1 and interaction 83\n",
      "Left neighbor: 18.0 with 1 and interaction 18\n",
      "Right neighbor: 20.0 with 1 and interaction 19\n",
      "----------------------------------\n",
      "Spin of interest: 21.0\n",
      "Up neighbor: 13.0 with 1 and interaction 77\n",
      "Down neighbor: 29.0 with 1 and interaction 85\n",
      "Left neighbor: 20.0 with 1 and interaction 20\n",
      "Right neighbor: 22.0 with 1 and interaction 21\n",
      "----------------------------------\n",
      "Spin of interest: 23.0\n",
      "Up neighbor: 15.0 with 1 and interaction 79\n",
      "Down neighbor: 31.0 with 1 and interaction 87\n",
      "Left neighbor: 22.0 with 1 and interaction 22\n",
      "Right neighbor: 16.0 with 0 and interaction 23\n",
      "----------------------------------\n",
      "Spin of interest: 24.0\n",
      "Up neighbor: 16.0 with 1 and interaction 80\n",
      "Down neighbor: 32.0 with 1 and interaction 88\n",
      "Left neighbor: 25.0 with 1 and interaction 24\n",
      "Right neighbor: 31.0 with 0 and interaction 31\n",
      "----------------------------------\n",
      "Spin of interest: 26.0\n",
      "Up neighbor: 18.0 with 1 and interaction 82\n",
      "Down neighbor: 34.0 with 1 and interaction 90\n",
      "Left neighbor: 27.0 with 1 and interaction 26\n",
      "Right neighbor: 25.0 with 1 and interaction 25\n",
      "----------------------------------\n",
      "Spin of interest: 28.0\n",
      "Up neighbor: 20.0 with 1 and interaction 84\n",
      "Down neighbor: 36.0 with 1 and interaction 92\n",
      "Left neighbor: 29.0 with 1 and interaction 28\n",
      "Right neighbor: 27.0 with 1 and interaction 27\n",
      "----------------------------------\n",
      "Spin of interest: 30.0\n",
      "Up neighbor: 22.0 with 1 and interaction 86\n",
      "Down neighbor: 38.0 with 1 and interaction 94\n",
      "Left neighbor: 31.0 with 1 and interaction 30\n",
      "Right neighbor: 29.0 with 1 and interaction 29\n",
      "----------------------------------\n",
      "Spin of interest: 33.0\n",
      "Up neighbor: 25.0 with 1 and interaction 89\n",
      "Down neighbor: 41.0 with 1 and interaction 97\n",
      "Left neighbor: 32.0 with 1 and interaction 32\n",
      "Right neighbor: 34.0 with 1 and interaction 33\n",
      "----------------------------------\n",
      "Spin of interest: 35.0\n",
      "Up neighbor: 27.0 with 1 and interaction 91\n",
      "Down neighbor: 43.0 with 1 and interaction 99\n",
      "Left neighbor: 34.0 with 1 and interaction 34\n",
      "Right neighbor: 36.0 with 1 and interaction 35\n",
      "----------------------------------\n",
      "Spin of interest: 37.0\n",
      "Up neighbor: 29.0 with 1 and interaction 93\n",
      "Down neighbor: 45.0 with 1 and interaction 101\n",
      "Left neighbor: 36.0 with 1 and interaction 36\n",
      "Right neighbor: 38.0 with 1 and interaction 37\n",
      "----------------------------------\n",
      "Spin of interest: 39.0\n",
      "Up neighbor: 31.0 with 1 and interaction 95\n",
      "Down neighbor: 47.0 with 1 and interaction 103\n",
      "Left neighbor: 38.0 with 1 and interaction 38\n",
      "Right neighbor: 32.0 with 0 and interaction 39\n",
      "----------------------------------\n",
      "Spin of interest: 40.0\n",
      "Up neighbor: 32.0 with 1 and interaction 96\n",
      "Down neighbor: 48.0 with 1 and interaction 104\n",
      "Left neighbor: 41.0 with 1 and interaction 40\n",
      "Right neighbor: 47.0 with 0 and interaction 47\n",
      "----------------------------------\n",
      "Spin of interest: 42.0\n",
      "Up neighbor: 34.0 with 1 and interaction 98\n",
      "Down neighbor: 50.0 with 1 and interaction 106\n",
      "Left neighbor: 43.0 with 1 and interaction 42\n",
      "Right neighbor: 41.0 with 1 and interaction 41\n",
      "----------------------------------\n",
      "Spin of interest: 44.0\n",
      "Up neighbor: 36.0 with 1 and interaction 100\n",
      "Down neighbor: 52.0 with 1 and interaction 108\n",
      "Left neighbor: 45.0 with 1 and interaction 44\n",
      "Right neighbor: 43.0 with 1 and interaction 43\n",
      "----------------------------------\n",
      "Spin of interest: 46.0\n",
      "Up neighbor: 38.0 with 1 and interaction 102\n",
      "Down neighbor: 54.0 with 1 and interaction 110\n",
      "Left neighbor: 47.0 with 1 and interaction 46\n",
      "Right neighbor: 45.0 with 1 and interaction 45\n",
      "----------------------------------\n",
      "Spin of interest: 49.0\n",
      "Up neighbor: 41.0 with 1 and interaction 105\n",
      "Down neighbor: 57.0 with 1 and interaction 113\n",
      "Left neighbor: 48.0 with 1 and interaction 48\n",
      "Right neighbor: 50.0 with 1 and interaction 49\n",
      "----------------------------------\n",
      "Spin of interest: 51.0\n",
      "Up neighbor: 43.0 with 1 and interaction 107\n",
      "Down neighbor: 59.0 with 1 and interaction 115\n",
      "Left neighbor: 50.0 with 1 and interaction 50\n",
      "Right neighbor: 52.0 with 1 and interaction 51\n",
      "----------------------------------\n",
      "Spin of interest: 53.0\n",
      "Up neighbor: 45.0 with 1 and interaction 109\n",
      "Down neighbor: 61.0 with 1 and interaction 117\n",
      "Left neighbor: 52.0 with 1 and interaction 52\n",
      "Right neighbor: 54.0 with 1 and interaction 53\n",
      "----------------------------------\n",
      "Spin of interest: 55.0\n",
      "Up neighbor: 47.0 with 1 and interaction 111\n",
      "Down neighbor: 63.0 with 1 and interaction 119\n",
      "Left neighbor: 54.0 with 1 and interaction 54\n",
      "Right neighbor: 48.0 with 0 and interaction 55\n",
      "----------------------------------\n",
      "Spin of interest: 56.0\n",
      "Up neighbor: 48.0 with 1 and interaction 112\n",
      "Down neighbor: 0.0 with 0 and interaction 120\n",
      "Left neighbor: 57.0 with 1 and interaction 56\n",
      "Right neighbor: 63.0 with 0 and interaction 63\n",
      "----------------------------------\n",
      "Spin of interest: 58.0\n",
      "Up neighbor: 50.0 with 1 and interaction 114\n",
      "Down neighbor: 2.0 with 0 and interaction 122\n",
      "Left neighbor: 59.0 with 1 and interaction 58\n",
      "Right neighbor: 57.0 with 1 and interaction 57\n",
      "----------------------------------\n",
      "Spin of interest: 60.0\n",
      "Up neighbor: 52.0 with 1 and interaction 116\n",
      "Down neighbor: 4.0 with 0 and interaction 124\n",
      "Left neighbor: 61.0 with 1 and interaction 60\n",
      "Right neighbor: 59.0 with 1 and interaction 59\n",
      "----------------------------------\n",
      "Spin of interest: 62.0\n",
      "Up neighbor: 54.0 with 1 and interaction 118\n",
      "Down neighbor: 6.0 with 0 and interaction 126\n",
      "Left neighbor: 63.0 with 1 and interaction 62\n",
      "Right neighbor: 61.0 with 1 and interaction 61\n",
      "----------------------------------\n"
     ]
    }
   ],
   "source": [
    "for tid in range(X*Y2):\n",
    "    \n",
    "        i = int(tid/Y2)\n",
    "        j = tid % Y2\n",
    "\n",
    "        ipp = (i + 1) if (i + 1 < X) else 0\n",
    "        inn = (i - 1) if (i - 1 >= 0) else X - 1\n",
    "        jpp = (j + 1) if (j + 1 < Y2) else 0\n",
    "        jnn = (j - 1) if (j - 1 >= 0) else Y2 - 1\n",
    "        \n",
    "        c_up = 1-int(inn/(X-1))\n",
    "        c_down = 1-int((i+1)/X)\n",
    "        \n",
    "        if (is_black):\n",
    "            \n",
    "            icpp = 2*(X-1)*Y2 + 2*(Y2*(i+1) + j) + i%2\n",
    "            \n",
    "            icnn = 2*(X-1)*Y2 + 2*(Y2*(inn+1) + j) + i%2\n",
    "\n",
    "            joff = jpp if (i%2) else jnn\n",
    "            \n",
    "            if (i % 2):\n",
    "                c_side = 1-int((j+1)/Y2)\n",
    "                \n",
    "                if (j+1 >= Y2):\n",
    "                    jcoff = 2*(i*Y2 + j + 1) - 1\n",
    "                \n",
    "                else:\n",
    "                    jcoff = 2*(i*Y2 + joff) - 1\n",
    "            else:\n",
    "                c_side = 1-int(jnn/(Y2-1))\n",
    "                \n",
    "                jcoff = 2 * (i*Y2 + joff) + 1\n",
    "\n",
    "                \n",
    "            print(\"Spin of interest:\", lattice_b[i,j])\n",
    "            print(\"Up neighbor:\", lattice_w[inn,j], \"with\", c_up, \"and interaction\", interactions[icnn])\n",
    "            print(\"Down neighbor:\", lattice_w[ipp,j], \"with\", c_down, \"and interaction\", interactions[icpp])\n",
    "            print(\"Right neighbor:\", lattice_w[i,j], \"with\", 1, \"and interaction\", interactions[2*(i*Y2+j)])\n",
    "            print(\"Left neighbor:\", lattice_w[i, joff], \"with\", c_side, \"and interaction\", interactions[jcoff])\n",
    "            print(\"----------------------------------\")\n",
    "    \n",
    "        else:\n",
    "        \n",
    "            icpp = 2*(X - 1)*Y2 + 2*(Y2*(i+1) + j) + (i+1)%2\n",
    "            icnn = 2*(X - 1)*Y2 + 2*(Y2*(inn+1) + j) + (i+1)%2\n",
    "\n",
    "            joff = jnn if (i%2) else jpp\n",
    "\n",
    "            if (i%2):\n",
    "                c_side = 1-int(jnn/(Y2-1))\n",
    "                \n",
    "                jcoff = 2*(i*Y2 + joff) + 1\n",
    "            else:\n",
    "                \n",
    "                c_side = 1-int((j+1)/Y2)\n",
    "                \n",
    "                \n",
    "                if (j+1 >= Y2):\n",
    "                    jcoff = 2*(i*Y2 + j + 1) - 1\n",
    "                else:\n",
    "                    jcoff = 2*(i*Y2 + joff) - 1\n",
    "\n",
    "            print(\"Spin of interest:\", lattice_w[i,j])\n",
    "            print(\"Up neighbor:\", lattice_b[inn,j], \"with\", c_up, \"and interaction\", interactions[icnn])\n",
    "            print(\"Down neighbor:\", lattice_b[ipp,j], \"with\", c_down, \"and interaction\", interactions[icpp])\n",
    "            print(\"Left neighbor:\", lattice_b[i,j], \"with\", 1, \"and interaction\", interactions[2*(i*Y2+j)])\n",
    "            print(\"Right neighbor:\", lattice_b[i, joff], \"with\", c_side, \"and interaction\", interactions[jcoff])\n",
    "            print(\"----------------------------------\")"
   ]
  },
  {
   "cell_type": "code",
   "execution_count": 17,
   "id": "0666c70e",
   "metadata": {},
   "outputs": [
    {
     "data": {
      "text/plain": [
       "array([[ 0,  1,  2,  3,  4,  5,  6,  7],\n",
       "       [ 8,  9, 10, 11, 12, 13, 14, 15],\n",
       "       [16, 17, 18, 19, 20, 21, 22, 23],\n",
       "       [24, 25, 26, 27, 28, 29, 30, 31],\n",
       "       [32, 33, 34, 35, 36, 37, 38, 39],\n",
       "       [40, 41, 42, 43, 44, 45, 46, 47],\n",
       "       [48, 49, 50, 51, 52, 53, 54, 55],\n",
       "       [56, 57, 58, 59, 60, 61, 62, 63]])"
      ]
     },
     "execution_count": 17,
     "metadata": {},
     "output_type": "execute_result"
    }
   ],
   "source": [
    "lattice"
   ]
  },
  {
   "cell_type": "code",
   "execution_count": 10,
   "id": "c7928919",
   "metadata": {},
   "outputs": [
    {
     "data": {
      "text/plain": [
       "array([[ 0,  1,  2,  3,  4,  5,  6,  7],\n",
       "       [ 8,  9, 10, 11, 12, 13, 14, 15],\n",
       "       [16, 17, 18, 19, 20, 21, 22, 23],\n",
       "       [24, 25, 26, 27, 28, 29, 30, 31],\n",
       "       [32, 33, 34, 35, 36, 37, 38, 39],\n",
       "       [40, 41, 42, 43, 44, 45, 46, 47],\n",
       "       [48, 49, 50, 51, 52, 53, 54, 55],\n",
       "       [56, 57, 58, 59, 60, 61, 62, 63]])"
      ]
     },
     "execution_count": 10,
     "metadata": {},
     "output_type": "execute_result"
    }
   ],
   "source": [
    "interactions_reshaped[:X,:]"
   ]
  },
  {
   "cell_type": "code",
   "execution_count": 11,
   "id": "f26317d5",
   "metadata": {},
   "outputs": [
    {
     "data": {
      "text/plain": [
       "array([[ 64,  65,  66,  67,  68,  69,  70,  71],\n",
       "       [ 72,  73,  74,  75,  76,  77,  78,  79],\n",
       "       [ 80,  81,  82,  83,  84,  85,  86,  87],\n",
       "       [ 88,  89,  90,  91,  92,  93,  94,  95],\n",
       "       [ 96,  97,  98,  99, 100, 101, 102, 103],\n",
       "       [104, 105, 106, 107, 108, 109, 110, 111],\n",
       "       [112, 113, 114, 115, 116, 117, 118, 119],\n",
       "       [120, 121, 122, 123, 124, 125, 126, 127]])"
      ]
     },
     "execution_count": 11,
     "metadata": {},
     "output_type": "execute_result"
    }
   ],
   "source": [
    "interactions_reshaped[X:,:]"
   ]
  },
  {
   "cell_type": "code",
   "execution_count": null,
   "id": "d2820903",
   "metadata": {},
   "outputs": [],
   "source": []
  }
 ],
 "metadata": {
  "kernelspec": {
   "display_name": "OG",
   "language": "python",
   "name": "og"
  },
  "language_info": {
   "codemirror_mode": {
    "name": "ipython",
    "version": 3
   },
   "file_extension": ".py",
   "mimetype": "text/x-python",
   "name": "python",
   "nbconvert_exporter": "python",
   "pygments_lexer": "ipython3",
   "version": "3.9.5"
  }
 },
 "nbformat": 4,
 "nbformat_minor": 5
}
