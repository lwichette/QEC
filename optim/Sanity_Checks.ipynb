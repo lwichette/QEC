{
 "cells": [
  {
   "cell_type": "code",
   "execution_count": 1,
   "id": "651c1c62",
   "metadata": {},
   "outputs": [],
   "source": [
    "import sys\n",
    "import numpy as np\n",
    "from matplotlib import pyplot as plt"
   ]
  },
  {
   "cell_type": "code",
   "execution_count": 2,
   "id": "87dc2307",
   "metadata": {},
   "outputs": [],
   "source": [
    "def calc_sublattice(lattice):\n",
    "    c_sum = 0\n",
    "\n",
    "    for i in range(lattice.shape[0]):\n",
    "        for j in range(lattice.shape[1]):\n",
    "            c_sum += np.exp(2j*np.pi/lattice.shape[0]*i)*lattice[i,j]\n",
    "    \n",
    "    return c_sum"
   ]
  },
  {
   "cell_type": "code",
   "execution_count": 3,
   "id": "c87fbccf",
   "metadata": {},
   "outputs": [],
   "source": [
    "X = 2048\n",
    "Y = 2048\n",
    "\n",
    "XSL = 256\n",
    "YSL = 256\n",
    "\n",
    "NSLX = int(X/XSL)\n",
    "NSLY = int(Y/YSL)"
   ]
  },
  {
   "cell_type": "code",
   "execution_count": 4,
   "id": "c0953f79",
   "metadata": {},
   "outputs": [],
   "source": [
    "data = []\n",
    "f=open(f\"lattice_{Y}x{X}_T_1.000000_IT_00000000_0.txt\")\n",
    "for l in f:\n",
    "    data.append([int(c) for c in l.strip(\" \\n\\r\")])"
   ]
  },
  {
   "cell_type": "code",
   "execution_count": 5,
   "id": "92cd7d61",
   "metadata": {},
   "outputs": [],
   "source": [
    "data = np.array(data)"
   ]
  },
  {
   "cell_type": "code",
   "execution_count": 6,
   "id": "f1a466cb",
   "metadata": {},
   "outputs": [],
   "source": [
    "data[data == 0] = -1"
   ]
  },
  {
   "cell_type": "code",
   "execution_count": 11,
   "id": "51f0b2f8",
   "metadata": {},
   "outputs": [],
   "source": [
    "c_sum = []\n",
    "h_sum = []\n",
    "c_sum_abs = []\n",
    "\n",
    "for j in range(NSLY):\n",
    "    for i in range(NSLX):\n",
    "        sublattice = data[j*YSL:(j+1)*YSL, i*XSL:(i+1)*XSL]\n",
    "        #h_sum.append(np.sum(sublattice))\n",
    "        c_sum.append(calc_sublattice(sublattice))\n",
    "        \n",
    "for i in range(NSLX*NSLY):\n",
    "    #print(h_sum[i]**2)\n",
    "    c_sum_abs.append(np.abs(c_sum[i])**2)"
   ]
  },
  {
   "cell_type": "code",
   "execution_count": 12,
   "id": "9258e40f",
   "metadata": {},
   "outputs": [],
   "source": [
    "# Device Reduce\n",
    "dev_red = [274118.656250,\n",
    "96018.812500,\n",
    "55086.890625,\n",
    "27145.669922,\n",
    "972.217773,\n",
    "62591.363281,\n",
    "1456.373901,\n",
    "71580.039062,\n",
    "32981.820312,\n",
    "46857.429688,\n",
    "26779.263672,\n",
    "15152.409180,\n",
    "5313.246582,\n",
    "47466.042969,\n",
    "59494.808594,\n",
    "24400.164062,\n",
    "44471.406250,\n",
    "141138.718750,\n",
    "149758.703125,\n",
    "55575.941406,\n",
    "79248.679688,\n",
    "41305.445312,\n",
    "62714.636719,\n",
    "1080.498291,\n",
    "57327.796875,\n",
    "16826.839844,\n",
    "95231.289062,\n",
    "98523.414062,\n",
    "167569.281250,\n",
    "59649.832031,\n",
    "54897.808594,\n",
    "21541.671875,\n",
    "2676.539795,\n",
    "85305.226562,\n",
    "44609.488281,\n",
    "134130.296875,\n",
    "53504.351562,\n",
    "42898.578125,\n",
    "17765.701172,\n",
    "67146.921875,\n",
    "12049.443359,\n",
    "27552.576172,\n",
    "51450.062500,\n",
    "227914.250000,\n",
    "69080.101562,\n",
    "79903.492188,\n",
    "147447.921875,\n",
    "61504.445312,\n",
    "1286.969360,\n",
    "40801.824219,\n",
    "70047.859375,\n",
    "82959.820312,\n",
    "171646.625000,\n",
    "94686.812500,\n",
    "94894.773438,\n",
    "57895.222656,\n",
    "88896.710938,\n",
    "39652.375000,\n",
    "78343.968750,\n",
    "22374.529297,\n",
    "28618.611328,\n",
    "94,80.013672,\n",
    "31574.703125,\n",
    "9360.308594]"
   ]
  },
  {
   "cell_type": "code",
   "execution_count": 20,
   "id": "4faa04e7",
   "metadata": {},
   "outputs": [],
   "source": [
    "inc_sum = [274118.656250,\n",
    "96018.789062,\n",
    "55086.902344,\n",
    "27145.673828,\n",
    "972.219543,\n",
    "62591.347656,\n",
    "1456.373901,\n",
    "71580.023438,\n",
    "32981.843750,\n",
    "46857.417969,\n",
    "26779.267578,\n",
    "15152.411133,\n",
    "5313.245605,\n",
    "47466.042969,\n",
    "59494.812500,\n",
    "24400.164062,\n",
    "44471.394531,\n",
    "141138.687500,\n",
    "149758.656250,\n",
    "55575.917969,\n",
    "79248.656250,\n",
    "41305.437500,\n",
    "62714.660156,\n",
    "1080.499023,\n",
    "57327.765625,\n",
    "16826.843750,\n",
    "95231.304688,\n",
    "98523.414062,\n",
    "167569.218750,\n",
    "59649.832031,\n",
    "54897.769531,\n",
    "21541.667969,\n",
    "2676.540283,\n",
    "85305.226562,\n",
    "44609.480469,\n",
    "134130.359375,\n",
    "53504.351562,\n",
    "42898.589844,\n",
    "17765.693359,\n",
    "67146.890625,\n",
    "12049.443359,\n",
    "27552.585938,\n",
    "51450.062500,\n",
    "227914.343750,\n",
    "69080.054688,\n",
    "79903.476562,\n",
    "147447.937500,\n",
    "61504.429688,\n",
    "1286.969604,\n",
    "40801.816406,\n",
    "70047.859375,\n",
    "82959.820312,\n",
    "171646.656250,\n",
    "94686.812500,\n",
    "94894.757812,\n",
    "57895.257812,\n",
    "88896.710938,\n",
    "39652.371094,\n",
    "78343.992188,\n",
    "22374.523438,\n",
    "28618.617188,\n",
    "9480.015625,\n",
    "31574.691406,\n",
    "9360.311523]"
   ]
  },
  {
   "cell_type": "code",
   "execution_count": 22,
   "id": "87d58541",
   "metadata": {},
   "outputs": [],
   "source": [
    "error_dev = []\n",
    "error_inc = []\n",
    "\n",
    "for i in range(len(dev_red)):\n",
    "    error_dev.append((dev_red[i]-c_sum_abs[i])/c_sum_abs[i])\n",
    "    error_inc.append((inc_sum[i]-c_sum_abs[i])/c_sum_abs[i])"
   ]
  },
  {
   "cell_type": "code",
   "execution_count": 23,
   "id": "4b0bbeee",
   "metadata": {},
   "outputs": [
    {
     "data": {
      "text/plain": [
       "7.618225520575502e-07"
      ]
     },
     "execution_count": 23,
     "metadata": {},
     "output_type": "execute_result"
    }
   ],
   "source": [
    "np.max(np.abs(error))"
   ]
  },
  {
   "cell_type": "code",
   "execution_count": 18,
   "id": "a82233da",
   "metadata": {},
   "outputs": [
    {
     "ename": "SyntaxError",
     "evalue": "invalid syntax (293487799.py, line 1)",
     "output_type": "error",
     "traceback": [
      "\u001b[0;36m  Cell \u001b[0;32mIn[18], line 1\u001b[0;36m\u001b[0m\n\u001b[0;31m    Time taken: 0.021388 seconds\u001b[0m\n\u001b[0m         ^\u001b[0m\n\u001b[0;31mSyntaxError\u001b[0m\u001b[0;31m:\u001b[0m invalid syntax\n"
     ]
    }
   ],
   "source": [
    "Time taken: 0.021388 seconds"
   ]
  },
  {
   "cell_type": "code",
   "execution_count": 21,
   "id": "376012e8",
   "metadata": {},
   "outputs": [
    {
     "ename": "TypeError",
     "evalue": "unsupported operand type(s) for -: 'list' and 'list'",
     "output_type": "error",
     "traceback": [
      "\u001b[0;31m---------------------------------------------------------------------------\u001b[0m",
      "\u001b[0;31mTypeError\u001b[0m                                 Traceback (most recent call last)",
      "Cell \u001b[0;32mIn[21], line 1\u001b[0m\n\u001b[0;32m----> 1\u001b[0m \u001b[43minc_sum\u001b[49m\u001b[43m \u001b[49m\u001b[38;5;241;43m-\u001b[39;49m\u001b[43m \u001b[49m\u001b[43mdev_red\u001b[49m\n",
      "\u001b[0;31mTypeError\u001b[0m: unsupported operand type(s) for -: 'list' and 'list'"
     ]
    }
   ],
   "source": [
    "inc_sum - dev_red"
   ]
  },
  {
   "cell_type": "code",
   "execution_count": null,
   "id": "021e2d4e",
   "metadata": {},
   "outputs": [],
   "source": []
  }
 ],
 "metadata": {
  "kernelspec": {
   "display_name": "OG",
   "language": "python",
   "name": "og"
  },
  "language_info": {
   "codemirror_mode": {
    "name": "ipython",
    "version": 3
   },
   "file_extension": ".py",
   "mimetype": "text/x-python",
   "name": "python",
   "nbconvert_exporter": "python",
   "pygments_lexer": "ipython3",
   "version": "3.9.5"
  }
 },
 "nbformat": 4,
 "nbformat_minor": 5
}
