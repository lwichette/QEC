{
 "cells": [
  {
   "cell_type": "code",
   "execution_count": 1,
   "metadata": {},
   "outputs": [],
   "source": [
    "import numpy as np\n",
    "import os\n",
    "import math as m\n"
   ]
  },
  {
   "cell_type": "code",
   "execution_count": 2,
   "metadata": {},
   "outputs": [
    {
     "name": "stdout",
     "output_type": "stream",
     "text": [
      "Magnetization counts from lattices: [9490 9332 9550 9234 9422 9512 9416 9610]\n"
     ]
    }
   ],
   "source": [
    "# Directory containing your files\n",
    "directory = './results/test_functionality/test_lattices'  # Replace 'directory_path_here' with the actual directory path\n",
    "\n",
    "# Initialize an empty list to store counts\n",
    "counts = []\n",
    "\n",
    "# Iterate over files in the directory\n",
    "for filename in os.listdir(directory):\n",
    "    # Check if the file is a text file\n",
    "    if filename.endswith(\".txt\"):\n",
    "        # Read data from the file\n",
    "        file_path = os.path.join(directory, filename)\n",
    "        with open(file_path, 'r') as file:\n",
    "            data = file.read().strip()\n",
    "\n",
    "        # Parse the data and convert it into a NumPy array\n",
    "        lines = data.split('\\n')\n",
    "        parsed_data = [[int(bit) for bit in line.strip()] for line in lines]\n",
    "        numpy_array = np.array(parsed_data)\n",
    "\n",
    "        # Count the number of non-zero elements (ones) and append it to the counts list\n",
    "        count_ones = np.count_nonzero(numpy_array)\n",
    "        count_zeros = numpy_array.size - count_ones\n",
    "        count = count_ones - count_zeros\n",
    "        counts.append(count)\n",
    "\n",
    "# Convert the counts list into a NumPy array\n",
    "counts_array = np.array(counts)\n",
    "\n",
    "# Display the counts array\n",
    "print(\"Magnetization counts from lattices:\", counts_array)"
   ]
  },
  {
   "cell_type": "code",
   "execution_count": 3,
   "metadata": {},
   "outputs": [
    {
     "name": "stdout",
     "output_type": "stream",
     "text": [
      "Results from within optim code:  [9234. 9422. 9332. 9416. 9490. 9550. 9512. 9610.]\n"
     ]
    }
   ],
   "source": [
    "file_path = './results/test_functionality/MagBinnings_test_lattices'  # relative path to optim\n",
    "with open(file_path, 'r') as file:\n",
    "    data = file.read().strip()\n",
    "    elements = data.split(',')\n",
    "    data_floats = [float(element.strip()) for element in elements]\n",
    "\n",
    "data_list = data_floats\n",
    "data_array = np.array(data_floats)\n",
    "\n",
    "# Display the flattened array\n",
    "print(\"Results from within optim code: \", data_array[6:14])"
   ]
  },
  {
   "cell_type": "markdown",
   "metadata": {},
   "source": [
    "2 errors sanity check"
   ]
  },
  {
   "cell_type": "code",
   "execution_count": 4,
   "metadata": {},
   "outputs": [
    {
     "name": "stdout",
     "output_type": "stream",
     "text": [
      "Magnetization counts from lattices: [-2459.0, -2354.0, -2401.0, -2402.0, -2357.0, -2449.0, -2442.0, -2396.0]\n"
     ]
    }
   ],
   "source": [
    "# Directory containing your files\n",
    "directory = './results/test_functionality/test_lattices_2errors'  # Replace 'directory_path_here' with the actual directory path\n",
    "\n",
    "# Initialize an empty list to store counts\n",
    "counts = [0]*8\n",
    "\n",
    "# Iterate over files in the directory\n",
    "for filename in os.listdir(directory):\n",
    "    # Check if the file is a text file\n",
    "    if filename.endswith(\".txt\"):\n",
    "        # Read data from the file\n",
    "        j = int(filename.split('_')[6][0])\n",
    "        file_path = os.path.join(directory, filename)\n",
    "        with open(file_path, 'r') as file:\n",
    "            data = file.read().strip()\n",
    "\n",
    "        # Parse the data and convert it into a NumPy array\n",
    "        lines = data.split('\\n')\n",
    "        parsed_data = [[int(bit) for bit in line.strip()] for line in lines]\n",
    "        numpy_array = np.array(parsed_data)\n",
    "\n",
    "        # Count the number of non-zero elements (ones) and append it to the counts list\n",
    "        count_ones = np.count_nonzero(numpy_array)\n",
    "        count_zeros = numpy_array.size - count_ones\n",
    "        count = count_ones - count_zeros\n",
    "        counts[j] += count/2\n",
    "\n",
    "\n",
    "# Display the counts array\n",
    "print(\"Magnetization counts from lattices:\", counts)"
   ]
  },
  {
   "cell_type": "code",
   "execution_count": 5,
   "metadata": {},
   "outputs": [
    {
     "name": "stdout",
     "output_type": "stream",
     "text": [
      "Results from within optim code:  [-2459. -2354. -2401. -2402. -2357. -2449. -2442. -2396.]\n"
     ]
    }
   ],
   "source": [
    "file_path = './results/test_functionality/MagBinnings_test_lattices_2errors'  # relative path to optim\n",
    "with open(file_path, 'r') as file:\n",
    "    data = file.read().strip()\n",
    "    elements = data.split(',')\n",
    "    data_floats = [float(element.strip()) for element in elements]\n",
    "\n",
    "data_list = data_floats\n",
    "data_array = np.array(data_floats)\n",
    "\n",
    "# Display the flattened array\n",
    "print(\"Results from within optim code: \", data_array[6:14])"
   ]
  },
  {
   "cell_type": "markdown",
   "metadata": {},
   "source": [
    "Test of variances "
   ]
  },
  {
   "cell_type": "code",
   "execution_count": 6,
   "metadata": {},
   "outputs": [
    {
     "name": "stdout",
     "output_type": "stream",
     "text": [
      "[3.5, 3.973873005855455, 14.130766837952264]\n"
     ]
    }
   ],
   "source": [
    "# take data array from read of magnetization print out from optim\n",
    "variances = [0]*3\n",
    "offsets = [0, 2, 6]\n",
    "\n",
    "mean = (-2404-2411)/2\n",
    "\n",
    "for j in range(3):\n",
    "    for k in range(2**(j+1)):\n",
    "        dev = (mean - data_array[offsets[j]+k])**2\n",
    "        variances[j] += dev/(2**(j+1)*(2**(j+1)-1))\n",
    "\n",
    "print([m.sqrt(var) for var in variances])"
   ]
  },
  {
   "cell_type": "markdown",
   "metadata": {},
   "source": [
    "Which fits the optim results"
   ]
  },
  {
   "cell_type": "code",
   "execution_count": 7,
   "metadata": {},
   "outputs": [
    {
     "name": "stdout",
     "output_type": "stream",
     "text": [
      "1 3.5\n",
      "2 3.97387\n",
      "3 14.1308\n",
      "\n"
     ]
    }
   ],
   "source": [
    "file_path = './results/test_functionality/VarBinnings_L128_p0.100000_e2_nw1000000_nit8_t1.100000_u1_n3_test_lattices_2errors'  # relative path to optim\n",
    "with open(file_path, 'r') as file:\n",
    "    data = file.read()\n",
    "\n",
    "print(data)"
   ]
  },
  {
   "cell_type": "code",
   "execution_count": null,
   "metadata": {},
   "outputs": [],
   "source": []
  }
 ],
 "metadata": {
  "kernelspec": {
   "display_name": "Python 3",
   "language": "python",
   "name": "python3"
  },
  "language_info": {
   "codemirror_mode": {
    "name": "ipython",
    "version": 3
   },
   "file_extension": ".py",
   "mimetype": "text/x-python",
   "name": "python",
   "nbconvert_exporter": "python",
   "pygments_lexer": "ipython3",
   "version": "3.10.12"
  }
 },
 "nbformat": 4,
 "nbformat_minor": 2
}
