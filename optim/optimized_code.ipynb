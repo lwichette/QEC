{
 "cells": [
  {
   "cell_type": "code",
   "execution_count": 1,
   "id": "6ed12f72",
   "metadata": {},
   "outputs": [],
   "source": [
    "import numpy as np\n",
    "import random"
   ]
  },
  {
   "cell_type": "markdown",
   "id": "a43d4622",
   "metadata": {},
   "source": [
    "### Initialization"
   ]
  },
  {
   "cell_type": "code",
   "execution_count": 2,
   "id": "c690cd96",
   "metadata": {},
   "outputs": [],
   "source": [
    "BLOCK_X = 16\n",
    "BLOCK_Y = 16"
   ]
  },
  {
   "cell_type": "code",
   "execution_count": 3,
   "id": "d0715321",
   "metadata": {},
   "outputs": [],
   "source": [
    "BMULT_X = 2\n",
    "BMULT_Y = 1"
   ]
  },
  {
   "cell_type": "code",
   "execution_count": 4,
   "id": "ee7ce274",
   "metadata": {},
   "outputs": [],
   "source": [
    "ndev = 1"
   ]
  },
  {
   "cell_type": "code",
   "execution_count": 5,
   "id": "1c3b0dfc",
   "metadata": {},
   "outputs": [],
   "source": [
    "X = 4096\n",
    "Y = 4096\n",
    "slY = 2048\n",
    "slX = 2048"
   ]
  },
  {
   "cell_type": "code",
   "execution_count": 6,
   "id": "6370fb61",
   "metadata": {},
   "outputs": [],
   "source": [
    "SPIN_X_WORD = 16"
   ]
  },
  {
   "cell_type": "code",
   "execution_count": 7,
   "id": "fb4db024",
   "metadata": {},
   "outputs": [],
   "source": [
    "# Size of word lattice for b/w \n",
    "lld = (X/2)/SPIN_X_WORD\n",
    "\n",
    "# length of single color section\n",
    "llenLoc = Y*lld\n",
    "\n",
    "# length of whole word lattice length\n",
    "llen = 2*ndev*llenLoc\n",
    "\n",
    "# X dimension of word lattice with 2 unsigned long long\n",
    "dimX = int(lld/2)"
   ]
  },
  {
   "cell_type": "code",
   "execution_count": 8,
   "id": "a0f42610",
   "metadata": {},
   "outputs": [],
   "source": [
    "def div_up(a,b):\n",
    "    res = (a+b-1)/b\n",
    "    return int(res)\n",
    "\n",
    "# Block grid\n",
    "grid = [div_up(lld/2,BLOCK_X*BMULT_X),div_up(Y,BLOCK_Y*BMULT_Y)]\n",
    "\n",
    "# Thread grid\n",
    "block = [BLOCK_X,BLOCK_Y]"
   ]
  },
  {
   "cell_type": "markdown",
   "id": "aa742e4d",
   "metadata": {},
   "source": [
    "### Lattice init"
   ]
  },
  {
   "cell_type": "code",
   "execution_count": 9,
   "id": "0ac38e93",
   "metadata": {},
   "outputs": [],
   "source": [
    "v_d = np.zeros(int(llen))"
   ]
  },
  {
   "cell_type": "code",
   "execution_count": 10,
   "id": "469e4a29",
   "metadata": {},
   "outputs": [],
   "source": [
    "for by in range(grid[1]):\n",
    "    for bx in range(grid[0]):\n",
    "        for tx in range(block[0]):\n",
    "            for ty in range(block[1]):\n",
    "                __i = by*BLOCK_Y*BMULT_Y + ty\n",
    "                __j = bx*BLOCK_X*BMULT_X + tx\n",
    "                \n",
    "                for i in range(BMULT_Y):\n",
    "                    for j in range(BMULT_X):\n",
    "                        v_d[int((__i+i*BLOCK_Y)*lld/2 + __j +j*BLOCK_X)] = (__i+i*BLOCK_Y)*lld/2 + __j +j*BLOCK_X"
   ]
  },
  {
   "cell_type": "markdown",
   "id": "859c76b5",
   "metadata": {},
   "source": [
    "### Load tile"
   ]
  },
  {
   "cell_type": "code",
   "execution_count": 11,
   "id": "fc9a354e",
   "metadata": {},
   "outputs": [],
   "source": [
    "v_src = np.arange(int(llenLoc/2))\n",
    "\n",
    "tile = np.zeros((BLOCK_Y*BMULT_Y+2,BLOCK_X*BMULT_X+2))"
   ]
  },
  {
   "cell_type": "code",
   "execution_count": 19,
   "id": "06f2d032",
   "metadata": {},
   "outputs": [
    {
     "data": {
      "text/plain": [
       "array([   0, 1024, 1025, 1026, 1027, 1028, 1029, 1030, 1031, 1032, 1033,\n",
       "       1034, 1035, 1036, 1037, 1038, 1039, 1040, 1041, 1042, 1043, 1044,\n",
       "       1045, 1046, 1047, 1048, 1049, 1050, 1051, 1052, 1053, 1054, 1055,\n",
       "          0])"
      ]
     },
     "execution_count": 19,
     "metadata": {},
     "output_type": "execute_result"
    }
   ],
   "source": [
    "tile[17,:]"
   ]
  },
  {
   "cell_type": "code",
   "execution_count": 18,
   "id": "7f889b8b",
   "metadata": {},
   "outputs": [
    {
     "data": {
      "text/plain": [
       "17"
      ]
     },
     "execution_count": 18,
     "metadata": {},
     "output_type": "execute_result"
    }
   ],
   "source": [
    "1+BLOCK_Y*BMULT_Y"
   ]
  },
  {
   "cell_type": "code",
   "execution_count": 12,
   "id": "fa224db7",
   "metadata": {},
   "outputs": [],
   "source": [
    "def load_tile(blkx, blky, TILE_X, TILE_Y, BLOCK_Y, BLOCK_X, slX, slY, dimX, v_src, tile):\n",
    "    # Loop over threads in given block\n",
    "    for tidy in range(BLOCK_Y):\n",
    "        for tidx in range(BLOCK_X): \n",
    "            \n",
    "            # Get starting positions\n",
    "            startX = blkx*TILE_X\n",
    "            startY = blky*TILE_Y\n",
    "\n",
    "            for j in range(0, TILE_Y, BLOCK_Y):\n",
    "                yoff = startY + j + tidy\n",
    "\n",
    "                for i in range(0, TILE_X, BLOCK_X):\n",
    "                    xoff = startX + i + tidx\n",
    "                    tile[1 + j + tidy][1 + i + tidx] = v_src[yoff*dimX+xoff]\n",
    "            \n",
    "            if tidy == 0:\n",
    "            \n",
    "                yoff = startY + slY - 1 if (startY%slY==0) else startY - 1\n",
    "\n",
    "                for i in range(0, TILE_X, BLOCK_X):\n",
    "                    xoff = startX + i + tidx\n",
    "                    tile[0][1 + i + tidx] = v_src[yoff*dimX+xoff]\n",
    "\n",
    "                yoff = startY + TILE_Y - slY if (((startY+TILE_Y) % slY) == 0) else startY + TILE_Y\n",
    "\n",
    "                for i in range(0, TILE_X, BLOCK_X):\n",
    "                    xoff = startX + i + tidx\n",
    "                    tile[1+TILE_Y][1 + i + tidx] = v_src[yoff*dimX+xoff]\n",
    "                \n",
    "                if BLOCK_X <= BMULT_Y*BLOCK_Y:\n",
    "                    xoff = startX + slX - 1 if ((startX % slX) == 0) else startX-1\n",
    "\n",
    "                    for j in range(0,TILE_Y, BLOCK_X):\n",
    "                        yoff = startY + j + tidx\n",
    "                        tile[1+j+tidx][0] = v_src[yoff*dimX+xoff]\n",
    "\n",
    "                    xoff = startX + TILE_X - slX if ((startX+TILE_X) % slX == 0) else startX + TILE_X\n",
    "\n",
    "                    for j in range(0, TILE_Y, BLOCK_X):\n",
    "                        yoff = startY + j + tidx\n",
    "                        tile[1+j+tidx][1+TILE_X] = v_src[yoff*dimX+xoff]\n",
    "    \n",
    "    return tile.astype(int)"
   ]
  },
  {
   "cell_type": "code",
   "execution_count": 13,
   "id": "5b0d434b",
   "metadata": {},
   "outputs": [
    {
     "data": {
      "text/plain": [
       "[2, 256]"
      ]
     },
     "execution_count": 13,
     "metadata": {},
     "output_type": "execute_result"
    }
   ],
   "source": [
    "grid"
   ]
  },
  {
   "cell_type": "code",
   "execution_count": 15,
   "id": "3024e7e1",
   "metadata": {},
   "outputs": [],
   "source": [
    "blkx = 0\n",
    "blky = 0"
   ]
  },
  {
   "cell_type": "code",
   "execution_count": 16,
   "id": "6700b27b",
   "metadata": {},
   "outputs": [],
   "source": [
    "tile = load_tile(blkx, blky, BMULT_X*BLOCK_X, BMULT_Y*BLOCK_Y, BLOCK_Y, BLOCK_X, int((slX/2)/SPIN_X_WORD/2), slY, dimX, v_src, tile)"
   ]
  },
  {
   "cell_type": "code",
   "execution_count": 17,
   "id": "15300706",
   "metadata": {},
   "outputs": [
    {
     "data": {
      "text/plain": [
       "array([[     0, 131008, 131009, 131010, 131011, 131012, 131013, 131014,\n",
       "        131015, 131016, 131017, 131018, 131019, 131020, 131021, 131022,\n",
       "        131023, 131024, 131025, 131026, 131027, 131028, 131029, 131030,\n",
       "        131031, 131032, 131033, 131034, 131035, 131036, 131037, 131038,\n",
       "        131039,      0],\n",
       "       [    31,      0,      1,      2,      3,      4,      5,      6,\n",
       "             7,      8,      9,     10,     11,     12,     13,     14,\n",
       "            15,     16,     17,     18,     19,     20,     21,     22,\n",
       "            23,     24,     25,     26,     27,     28,     29,     30,\n",
       "            31,      0],\n",
       "       [    95,     64,     65,     66,     67,     68,     69,     70,\n",
       "            71,     72,     73,     74,     75,     76,     77,     78,\n",
       "            79,     80,     81,     82,     83,     84,     85,     86,\n",
       "            87,     88,     89,     90,     91,     92,     93,     94,\n",
       "            95,     64],\n",
       "       [   159,    128,    129,    130,    131,    132,    133,    134,\n",
       "           135,    136,    137,    138,    139,    140,    141,    142,\n",
       "           143,    144,    145,    146,    147,    148,    149,    150,\n",
       "           151,    152,    153,    154,    155,    156,    157,    158,\n",
       "           159,    128],\n",
       "       [   223,    192,    193,    194,    195,    196,    197,    198,\n",
       "           199,    200,    201,    202,    203,    204,    205,    206,\n",
       "           207,    208,    209,    210,    211,    212,    213,    214,\n",
       "           215,    216,    217,    218,    219,    220,    221,    222,\n",
       "           223,    192],\n",
       "       [   287,    256,    257,    258,    259,    260,    261,    262,\n",
       "           263,    264,    265,    266,    267,    268,    269,    270,\n",
       "           271,    272,    273,    274,    275,    276,    277,    278,\n",
       "           279,    280,    281,    282,    283,    284,    285,    286,\n",
       "           287,    256],\n",
       "       [   351,    320,    321,    322,    323,    324,    325,    326,\n",
       "           327,    328,    329,    330,    331,    332,    333,    334,\n",
       "           335,    336,    337,    338,    339,    340,    341,    342,\n",
       "           343,    344,    345,    346,    347,    348,    349,    350,\n",
       "           351,    320],\n",
       "       [   415,    384,    385,    386,    387,    388,    389,    390,\n",
       "           391,    392,    393,    394,    395,    396,    397,    398,\n",
       "           399,    400,    401,    402,    403,    404,    405,    406,\n",
       "           407,    408,    409,    410,    411,    412,    413,    414,\n",
       "           415,    384],\n",
       "       [   479,    448,    449,    450,    451,    452,    453,    454,\n",
       "           455,    456,    457,    458,    459,    460,    461,    462,\n",
       "           463,    464,    465,    466,    467,    468,    469,    470,\n",
       "           471,    472,    473,    474,    475,    476,    477,    478,\n",
       "           479,    448],\n",
       "       [   543,    512,    513,    514,    515,    516,    517,    518,\n",
       "           519,    520,    521,    522,    523,    524,    525,    526,\n",
       "           527,    528,    529,    530,    531,    532,    533,    534,\n",
       "           535,    536,    537,    538,    539,    540,    541,    542,\n",
       "           543,    512],\n",
       "       [   607,    576,    577,    578,    579,    580,    581,    582,\n",
       "           583,    584,    585,    586,    587,    588,    589,    590,\n",
       "           591,    592,    593,    594,    595,    596,    597,    598,\n",
       "           599,    600,    601,    602,    603,    604,    605,    606,\n",
       "           607,    576],\n",
       "       [   671,    640,    641,    642,    643,    644,    645,    646,\n",
       "           647,    648,    649,    650,    651,    652,    653,    654,\n",
       "           655,    656,    657,    658,    659,    660,    661,    662,\n",
       "           663,    664,    665,    666,    667,    668,    669,    670,\n",
       "           671,    640],\n",
       "       [   735,    704,    705,    706,    707,    708,    709,    710,\n",
       "           711,    712,    713,    714,    715,    716,    717,    718,\n",
       "           719,    720,    721,    722,    723,    724,    725,    726,\n",
       "           727,    728,    729,    730,    731,    732,    733,    734,\n",
       "           735,    704],\n",
       "       [   799,    768,    769,    770,    771,    772,    773,    774,\n",
       "           775,    776,    777,    778,    779,    780,    781,    782,\n",
       "           783,    784,    785,    786,    787,    788,    789,    790,\n",
       "           791,    792,    793,    794,    795,    796,    797,    798,\n",
       "           799,    768],\n",
       "       [   863,    832,    833,    834,    835,    836,    837,    838,\n",
       "           839,    840,    841,    842,    843,    844,    845,    846,\n",
       "           847,    848,    849,    850,    851,    852,    853,    854,\n",
       "           855,    856,    857,    858,    859,    860,    861,    862,\n",
       "           863,    832],\n",
       "       [   927,    896,    897,    898,    899,    900,    901,    902,\n",
       "           903,    904,    905,    906,    907,    908,    909,    910,\n",
       "           911,    912,    913,    914,    915,    916,    917,    918,\n",
       "           919,    920,    921,    922,    923,    924,    925,    926,\n",
       "           927,    896],\n",
       "       [   991,    960,    961,    962,    963,    964,    965,    966,\n",
       "           967,    968,    969,    970,    971,    972,    973,    974,\n",
       "           975,    976,    977,    978,    979,    980,    981,    982,\n",
       "           983,    984,    985,    986,    987,    988,    989,    990,\n",
       "           991,    960],\n",
       "       [     0,   1024,   1025,   1026,   1027,   1028,   1029,   1030,\n",
       "          1031,   1032,   1033,   1034,   1035,   1036,   1037,   1038,\n",
       "          1039,   1040,   1041,   1042,   1043,   1044,   1045,   1046,\n",
       "          1047,   1048,   1049,   1050,   1051,   1052,   1053,   1054,\n",
       "          1055,      0]])"
      ]
     },
     "execution_count": 17,
     "metadata": {},
     "output_type": "execute_result"
    }
   ],
   "source": [
    "tile"
   ]
  },
  {
   "cell_type": "code",
   "execution_count": 104,
   "id": "2b8016af",
   "metadata": {},
   "outputs": [
    {
     "data": {
      "text/plain": [
       "4.0"
      ]
     },
     "execution_count": 104,
     "metadata": {},
     "output_type": "execute_result"
    }
   ],
   "source": [
    "128/16/2"
   ]
  },
  {
   "cell_type": "markdown",
   "id": "3a28c115",
   "metadata": {},
   "source": [
    "### Spin Update"
   ]
  },
  {
   "cell_type": "code",
   "execution_count": 16,
   "id": "16fe799a",
   "metadata": {},
   "outputs": [],
   "source": [
    "v_dst = np.arange(int(llenLoc/2))\n",
    "v_dst_rs = v_dst.reshape((Y, int(lld/2)))"
   ]
  },
  {
   "cell_type": "code",
   "execution_count": 17,
   "id": "68dfcad9",
   "metadata": {},
   "outputs": [],
   "source": [
    "tidy = 0\n",
    "tidx = 0"
   ]
  },
  {
   "cell_type": "code",
   "execution_count": 18,
   "id": "6f5ed7b5",
   "metadata": {},
   "outputs": [],
   "source": [
    "COLOR = \"black\""
   ]
  },
  {
   "cell_type": "code",
   "execution_count": 19,
   "id": "0e55a99f",
   "metadata": {},
   "outputs": [],
   "source": [
    "__i = blky*BMULT_Y*BLOCK_Y + tidy\n",
    "__j = blkx*BMULT_X*BLOCK_X + tidx"
   ]
  },
  {
   "cell_type": "code",
   "execution_count": 20,
   "id": "f60407e6",
   "metadata": {},
   "outputs": [],
   "source": [
    "__me = np.zeros([1,2])"
   ]
  },
  {
   "cell_type": "code",
   "execution_count": 21,
   "id": "eac65faf",
   "metadata": {},
   "outputs": [],
   "source": [
    "for i in range(BMULT_Y):\n",
    "    for j in range(BMULT_X):\n",
    "        __me[i,j] = v_dst[(__i+i*BLOCK_Y)*dimX + __j + j*BLOCK_X]"
   ]
  },
  {
   "cell_type": "code",
   "execution_count": 22,
   "id": "33e14320",
   "metadata": {},
   "outputs": [],
   "source": [
    "__up = np.zeros([1,2])\n",
    "__ct = np.zeros([1,2])\n",
    "__dw = np.zeros([1,2])"
   ]
  },
  {
   "cell_type": "code",
   "execution_count": 23,
   "id": "70acc09e",
   "metadata": {},
   "outputs": [],
   "source": [
    "for i in range(BMULT_Y):\n",
    "    for j in range(BMULT_X):\n",
    "        __up[i][j] = tile[i*BLOCK_Y + tidy][j*BLOCK_X+1+tidx]\n",
    "        __ct[i][j] = tile[i*BLOCK_Y + 1 + tidy][j*BLOCK_X+1+tidx]\n",
    "        __dw[i][j] = tile[i*BLOCK_Y + 2 + tidy][j*BLOCK_X+1+tidx]"
   ]
  },
  {
   "cell_type": "code",
   "execution_count": 24,
   "id": "10c950a0",
   "metadata": {},
   "outputs": [],
   "source": [
    "readBack = not (__i%2) if (COLOR == \"black\") else (__i%2)"
   ]
  },
  {
   "cell_type": "code",
   "execution_count": 25,
   "id": "c246be78",
   "metadata": {},
   "outputs": [],
   "source": [
    "__sd = np.zeros((1,2))"
   ]
  },
  {
   "cell_type": "code",
   "execution_count": 26,
   "id": "93393257",
   "metadata": {},
   "outputs": [],
   "source": [
    "for i in range(BMULT_Y):\n",
    "    for j in range(BMULT_X):\n",
    "        __sd[i][j] = tile[i*BLOCK_Y + 1+tidy][j*BLOCK_Y +   tidx] if readBack else tile[i*BLOCK_Y + 1+tidy][j*BLOCK_Y + 2+tidx]\n",
    "        \n",
    "__up = __up.astype(int)\n",
    "__ct = __ct.astype(int)\n",
    "__dw = __dw.astype(int)\n",
    "__me = __me.astype(int)"
   ]
  },
  {
   "cell_type": "code",
   "execution_count": 27,
   "id": "1bf81721",
   "metadata": {},
   "outputs": [
    {
     "name": "stdout",
     "output_type": "stream",
     "text": [
      "me [[ 0 16]]\n",
      "up [[65504 65520]]\n",
      "side [[31. 15.]]\n",
      "center [[ 0 16]]\n",
      "down [[32 48]]\n"
     ]
    }
   ],
   "source": [
    "print(\"me\", __me)\n",
    "print(\"up\", __up)\n",
    "print(\"side\", __sd)\n",
    "print(\"center\", __ct)\n",
    "print(\"down\", __dw)"
   ]
  },
  {
   "cell_type": "code",
   "execution_count": 28,
   "id": "c1e3c197",
   "metadata": {},
   "outputs": [],
   "source": [
    "row = np.where(v_dst_rs==__me[0][0])[0][0]\n",
    "column = np.where(v_dst_rs==__me[0][0])[1][0]"
   ]
  },
  {
   "cell_type": "code",
   "execution_count": 33,
   "id": "63d247aa",
   "metadata": {
    "scrolled": true
   },
   "outputs": [],
   "source": [
    "me_x0 = [i for i in range(tuple_bw_lattice[row,column],tuple_bw_lattice[row,column]+32,2)]\n",
    "me_y0 = [i for i in range(tuple_bw_lattice[row,column]+32,tuple_bw_lattice[row,column]+64,2)]"
   ]
  },
  {
   "cell_type": "code",
   "execution_count": 38,
   "id": "86a21f3b",
   "metadata": {},
   "outputs": [
    {
     "data": {
      "text/plain": [
       "[0, 2, 4, 6, 8, 10, 12, 14, 16, 18, 20, 22, 24, 26, 28, 30]"
      ]
     },
     "execution_count": 38,
     "metadata": {},
     "output_type": "execute_result"
    }
   ],
   "source": [
    "me_x0"
   ]
  },
  {
   "cell_type": "code",
   "execution_count": 153,
   "id": "bdb89c31",
   "metadata": {},
   "outputs": [
    {
     "data": {
      "text/plain": [
       "array([[      0,       1,       2, ...,    2045,    2046,    2047],\n",
       "       [   2048,    2049,    2050, ...,    4093,    4094,    4095],\n",
       "       [   4096,    4097,    4098, ...,    6141,    6142,    6143],\n",
       "       ...,\n",
       "       [4188160, 4188161, 4188162, ..., 4190205, 4190206, 4190207],\n",
       "       [4190208, 4190209, 4190210, ..., 4192253, 4192254, 4192255],\n",
       "       [4192256, 4192257, 4192258, ..., 4194301, 4194302, 4194303]])"
      ]
     },
     "execution_count": 153,
     "metadata": {},
     "output_type": "execute_result"
    }
   ],
   "source": [
    "lattice"
   ]
  },
  {
   "cell_type": "code",
   "execution_count": 116,
   "id": "54053221",
   "metadata": {},
   "outputs": [],
   "source": [
    "ct_x0 = [i for i in range(tuple_ww_lattice[17,0],tuple_ww_lattice[17,0]+32,2)]\n",
    "ct_y0 = [i for i in range(tuple_ww_lattice[17,0]+32,tuple_ww_lattice[17,0]+64,2)]"
   ]
  },
  {
   "cell_type": "code",
   "execution_count": 117,
   "id": "774e85b3",
   "metadata": {},
   "outputs": [
    {
     "data": {
      "text/plain": [
       "[34848,\n",
       " 34850,\n",
       " 34852,\n",
       " 34854,\n",
       " 34856,\n",
       " 34858,\n",
       " 34860,\n",
       " 34862,\n",
       " 34864,\n",
       " 34866,\n",
       " 34868,\n",
       " 34870,\n",
       " 34872,\n",
       " 34874,\n",
       " 34876,\n",
       " 34878]"
      ]
     },
     "execution_count": 117,
     "metadata": {},
     "output_type": "execute_result"
    }
   ],
   "source": [
    "ct_y0"
   ]
  },
  {
   "cell_type": "code",
   "execution_count": 111,
   "id": "9131778f",
   "metadata": {},
   "outputs": [],
   "source": [
    "sd_x0 = [i for i in range(tuple_ww_lattice[17,1],tuple_ww_lattice[17,1]+32,2)]\n",
    "sd_y0 = [i for i in range(tuple_ww_lattice[17,1]+32,tuple_ww_lattice[17,1]+64,2)]"
   ]
  },
  {
   "cell_type": "code",
   "execution_count": 118,
   "id": "449fc0fb",
   "metadata": {},
   "outputs": [
    {
     "data": {
      "text/plain": [
       "[34880,\n",
       " 34882,\n",
       " 34884,\n",
       " 34886,\n",
       " 34888,\n",
       " 34890,\n",
       " 34892,\n",
       " 34894,\n",
       " 34896,\n",
       " 34898,\n",
       " 34900,\n",
       " 34902,\n",
       " 34904,\n",
       " 34906,\n",
       " 34908,\n",
       " 34910]"
      ]
     },
     "execution_count": 118,
     "metadata": {},
     "output_type": "execute_result"
    }
   ],
   "source": [
    "sd_x0"
   ]
  },
  {
   "cell_type": "markdown",
   "id": "01e678a0",
   "metadata": {},
   "source": [
    "### Binary bit operations"
   ]
  },
  {
   "cell_type": "code",
   "execution_count": 166,
   "id": "3add71fd",
   "metadata": {},
   "outputs": [],
   "source": [
    "lattice = np.arange(X*Y).reshape((Y,X))"
   ]
  },
  {
   "cell_type": "code",
   "execution_count": 167,
   "id": "b679d97a",
   "metadata": {},
   "outputs": [],
   "source": [
    "black_lattice = np.zeros((Y,int(X/2)))\n",
    "white_lattice = np.zeros((Y,int(X/2)))\n",
    "\n",
    "for i in range(Y):\n",
    "    if i % 2 == 0:\n",
    "        black_lattice[i,:] = lattice[i,0::2]\n",
    "        white_lattice[i,:] = lattice[i,1::2]\n",
    "    else:\n",
    "        black_lattice[i,:] = lattice[i,1::2]\n",
    "        white_lattice[i,:] = lattice[i,0::2]\n",
    "        \n",
    "black_lattice = black_lattice.astype(int)\n",
    "white_lattice = white_lattice.astype(int)"
   ]
  },
  {
   "cell_type": "code",
   "execution_count": 168,
   "id": "154c3e13",
   "metadata": {},
   "outputs": [],
   "source": [
    "black_word_lattice = black_lattice[:,::16].astype(int)\n",
    "white_word_lattice = white_lattice[:,::16].astype(int)\n",
    "\n",
    "tuple_bw_lattice = black_word_lattice[:,::2].astype(int)\n",
    "tuple_ww_lattice = white_word_lattice[:,::2].astype(int)"
   ]
  },
  {
   "cell_type": "code",
   "execution_count": 169,
   "id": "0c1c576b",
   "metadata": {},
   "outputs": [],
   "source": [
    "me_x0 = [i for i in range(0,32,2)]\n",
    "me_y0 = [i for i in range(32,64,2)]"
   ]
  },
  {
   "cell_type": "code",
   "execution_count": 170,
   "id": "8010b071",
   "metadata": {},
   "outputs": [
    {
     "data": {
      "text/plain": [
       "[0, 2, 4, 6, 8, 10, 12, 14, 16, 18, 20, 22, 24, 26, 28, 30]"
      ]
     },
     "execution_count": 170,
     "metadata": {},
     "output_type": "execute_result"
    }
   ],
   "source": [
    "me_x0"
   ]
  },
  {
   "cell_type": "code",
   "execution_count": 171,
   "id": "6334b66f",
   "metadata": {},
   "outputs": [],
   "source": [
    "ct_x0 = [i for i in range(1,32,2)]\n",
    "ct_y0 = [i for i in range(33,64,2)]"
   ]
  },
  {
   "cell_type": "code",
   "execution_count": 172,
   "id": "cd0e4a84",
   "metadata": {},
   "outputs": [],
   "source": [
    "sd_x0 = [i for i in range(tuple_ww_lattice[0, 31], tuple_ww_lattice[0, 31] + 32,2)]\n",
    "sd_y0 = [i for i in range(tuple_ww_lattice[0, 31] + 32, tuple_ww_lattice[0, 31] + 64,2)]"
   ]
  },
  {
   "cell_type": "code",
   "execution_count": 173,
   "id": "5a6e246b",
   "metadata": {},
   "outputs": [],
   "source": [
    "dw_x0 = [i for i in range(2048, 2048+32,2)]\n",
    "dw_y0 = [i for i in range(2048 + 32, 2048 + 2*32, 2)]"
   ]
  },
  {
   "cell_type": "code",
   "execution_count": 174,
   "id": "e3f739de",
   "metadata": {},
   "outputs": [],
   "source": [
    "up_x0 = [lattice[-1,i] for i in range(0,32,2)]\n",
    "up_y0 = [lattice[-1,i] for i in range(32,64,2)]"
   ]
  },
  {
   "cell_type": "code",
   "execution_count": 176,
   "id": "4d9f85b7",
   "metadata": {},
   "outputs": [
    {
     "data": {
      "text/plain": [
       "array([[      0,       1,       2, ...,    2045,    2046,    2047],\n",
       "       [   2048,    2049,    2050, ...,    4093,    4094,    4095],\n",
       "       [   4096,    4097,    4098, ...,    6141,    6142,    6143],\n",
       "       ...,\n",
       "       [4188160, 4188161, 4188162, ..., 4190205, 4190206, 4190207],\n",
       "       [4190208, 4190209, 4190210, ..., 4192253, 4192254, 4192255],\n",
       "       [4192256, 4192257, 4192258, ..., 4194301, 4194302, 4194303]])"
      ]
     },
     "execution_count": 176,
     "metadata": {},
     "output_type": "execute_result"
    }
   ],
   "source": [
    "lattice"
   ]
  },
  {
   "cell_type": "code",
   "execution_count": 175,
   "id": "baad4965",
   "metadata": {},
   "outputs": [
    {
     "data": {
      "text/plain": [
       "[4192256,\n",
       " 4192258,\n",
       " 4192260,\n",
       " 4192262,\n",
       " 4192264,\n",
       " 4192266,\n",
       " 4192268,\n",
       " 4192270,\n",
       " 4192272,\n",
       " 4192274,\n",
       " 4192276,\n",
       " 4192278,\n",
       " 4192280,\n",
       " 4192282,\n",
       " 4192284,\n",
       " 4192286]"
      ]
     },
     "execution_count": 175,
     "metadata": {},
     "output_type": "execute_result"
    }
   ],
   "source": [
    "up_x0"
   ]
  },
  {
   "cell_type": "code",
   "execution_count": 62,
   "id": "f8ca90b7",
   "metadata": {},
   "outputs": [
    {
     "data": {
      "text/plain": [
       "[1, 3, 5, 7, 9, 11, 13, 15, 17, 19, 21, 23, 25, 27, 29, 31]"
      ]
     },
     "execution_count": 62,
     "metadata": {},
     "output_type": "execute_result"
    }
   ],
   "source": [
    "ct_x0"
   ]
  },
  {
   "cell_type": "code",
   "execution_count": 63,
   "id": "aa69f240",
   "metadata": {},
   "outputs": [
    {
     "data": {
      "text/plain": [
       "[33, 35, 37, 39, 41, 43, 45, 47, 49, 51, 53, 55, 57, 59, 61, 63]"
      ]
     },
     "execution_count": 63,
     "metadata": {},
     "output_type": "execute_result"
    }
   ],
   "source": [
    "ct_y0"
   ]
  },
  {
   "cell_type": "code",
   "execution_count": 42,
   "id": "e2fc0483",
   "metadata": {},
   "outputs": [
    {
     "data": {
      "text/plain": [
       "[0, 2, 4, 6, 8, 10, 12, 14, 16, 18, 20, 22, 24, 26, 28, 30]"
      ]
     },
     "execution_count": 42,
     "metadata": {},
     "output_type": "execute_result"
    }
   ],
   "source": [
    "me_x0"
   ]
  },
  {
   "cell_type": "code",
   "execution_count": null,
   "id": "20720f10",
   "metadata": {},
   "outputs": [],
   "source": [
    "[2047, 1, 3,...,29]"
   ]
  },
  {
   "cell_type": "code",
   "execution_count": 43,
   "id": "4b7594df",
   "metadata": {},
   "outputs": [
    {
     "data": {
      "text/plain": [
       "[32, 34, 36, 38, 40, 42, 44, 46, 48, 50, 52, 54, 56, 58, 60, 62]"
      ]
     },
     "execution_count": 43,
     "metadata": {},
     "output_type": "execute_result"
    }
   ],
   "source": [
    "me_y0"
   ]
  },
  {
   "cell_type": "markdown",
   "id": "7c077ee0",
   "metadata": {},
   "source": [
    "### Interactions"
   ]
  },
  {
   "cell_type": "code",
   "execution_count": 101,
   "id": "f3908300",
   "metadata": {},
   "outputs": [],
   "source": [
    "__i = blky*BMULT_Y*BLOCK_Y + tidy"
   ]
  },
  {
   "cell_type": "code",
   "execution_count": 102,
   "id": "c009b9e6",
   "metadata": {},
   "outputs": [],
   "source": [
    "readBack = not(__i%2)"
   ]
  },
  {
   "cell_type": "code",
   "execution_count": 103,
   "id": "cec937f3",
   "metadata": {},
   "outputs": [
    {
     "data": {
      "text/plain": [
       "[0, 2, 4, 6, 8, 10, 12, 14, 16, 18, 20, 22, 24, 26, 28, 30]"
      ]
     },
     "execution_count": 103,
     "metadata": {},
     "output_type": "execute_result"
    }
   ],
   "source": [
    "me_x0"
   ]
  },
  {
   "cell_type": "code",
   "execution_count": 104,
   "id": "10383905",
   "metadata": {},
   "outputs": [
    {
     "data": {
      "text/plain": [
       "[32, 34, 36, 38, 40, 42, 44, 46, 48, 50, 52, 54, 56, 58, 60, 62]"
      ]
     },
     "execution_count": 104,
     "metadata": {},
     "output_type": "execute_result"
    }
   ],
   "source": [
    "me_y0"
   ]
  },
  {
   "cell_type": "code",
   "execution_count": 136,
   "id": "ef868406",
   "metadata": {},
   "outputs": [],
   "source": [
    "neighbors_x0 = []\n",
    "\n",
    "for s in me_x0:\n",
    "    i = np.where(lattice == s)[0][0]\n",
    "    j = np.where(lattice == s)[1][0]\n",
    "    \n",
    "    # down neighbor\n",
    "    if (i+1)<lattice.shape[0]:\n",
    "        down = lattice[i+1,j]\n",
    "    else:\n",
    "        down = lattice[0,j]\n",
    "        \n",
    "    # up neighbor\n",
    "    if (i-1) < 0:\n",
    "        up = lattice[-1,j]\n",
    "    else:\n",
    "        up = lattice[i-1,j]\n",
    "    \n",
    "    # left neighbor\n",
    "    if (j-1)<0:\n",
    "        left = lattice[i, -1]\n",
    "    else:\n",
    "        left = lattice[i, j-1]\n",
    "    \n",
    "    # right neighbor\n",
    "    if (j+1) < lattice.shape[1]:\n",
    "        right = lattice[i,j+1]\n",
    "    else:\n",
    "        right = lattice[i,0]\n",
    "    \n",
    "    neighbors_x0 += [up, down, left, right]\n",
    "\n",
    "neighbors_y0 = []\n",
    "\n",
    "for s in me_y0:\n",
    "    i = np.where(lattice == s)[0][0]\n",
    "    j = np.where(lattice == s)[1][0]\n",
    "    \n",
    "    # down neighbor\n",
    "    if (i+1)<lattice.shape[0]:\n",
    "        down = lattice[i+1,j]\n",
    "    else:\n",
    "        down = lattice[0,j]\n",
    "        \n",
    "    # up neighbor\n",
    "    if (i-1) < 0:\n",
    "        up = lattice[-1,j]\n",
    "    else:\n",
    "        up = lattice[i-1,j]\n",
    "    \n",
    "    # left neighbor\n",
    "    if (j-1)<0:\n",
    "        left = lattice[i, -1]\n",
    "    else:\n",
    "        left = lattice[i, j-1]\n",
    "    \n",
    "    # right neighbor\n",
    "    if (j+1) < lattice.shape[1]:\n",
    "        right = lattice[i,j+1]\n",
    "    else:\n",
    "        right = lattice[i,0]\n",
    "    \n",
    "    neighbors_y0 += [up, down, left, right]"
   ]
  },
  {
   "cell_type": "code",
   "execution_count": 137,
   "id": "46f02af4",
   "metadata": {},
   "outputs": [],
   "source": [
    "BITXSP = 4\n",
    "BITXWORD = 64"
   ]
  },
  {
   "cell_type": "code",
   "execution_count": 138,
   "id": "caec1a5c",
   "metadata": {},
   "outputs": [],
   "source": [
    "up_x0 = np.zeros(64)\n",
    "up_y0 = np.zeros(64)\n",
    "down_x0 = np.zeros(64)\n",
    "down_y0 = np.zeros(64)\n",
    "ct_x0 = np.zeros(64)\n",
    "ct_y0 = np.zeros(64)\n",
    "sd_x0 = np.zeros(64)\n",
    "\n",
    "for i in range(64):\n",
    "    if i%4 == 0:\n",
    "        up_x0[i+1] = neighbors_x0[i]\n",
    "        up_y0[i+1] = neighbors_y0[i]\n",
    "        \n",
    "    if i%4 == 1:\n",
    "        down_x0[i-1] = neighbors_x0[i]\n",
    "        down_y0[i-1] = neighbors_y0[i]\n",
    "    \n",
    "    if i%4 == 2:\n",
    "        ct_x0[i+1] = neighbors_x0[i]\n",
    "        ct_y0[i+1] = neighbors_y0[i]\n",
    "\n",
    "       \n",
    "        \n",
    "up_x0 = up_x0.astype(int)\n",
    "down_x0 = down_x0.astype(int)\n",
    "up_y0 = up_y0.astype(int)\n",
    "down_y0 = down_y0.astype(int)\n",
    "ct_x0 = ct_x0.astype(int)\n",
    "ct_y0 = ct_y0.astype(int)"
   ]
  },
  {
   "cell_type": "code",
   "execution_count": 139,
   "id": "be6a8769",
   "metadata": {},
   "outputs": [],
   "source": [
    "logical_or_x0 = np.zeros(64)\n",
    "logical_or_y0 = np.zeros(64)\n",
    "\n",
    "for i in range(64):\n",
    "    if i%4 == 3:\n",
    "        logical_or_x0[i-BITXSP -1] = neighbors_x0[i]\n",
    "        \n",
    "        if i+BITXWORD - BITXSP - 1 < 64:\n",
    "            logical_or_y0[i + BITXWORD - BITXSP - 1] = neighbors_x0[i]\n",
    "            sd_x0[i+BITXWORD-BITXSP-1] = neighbors_y0[i]\n",
    "        \n",
    "        logical_or_y0[i-BITXSP -1] = neighbors_y0[i]\n",
    "        \n",
    "        \n",
    "logical_or_x0 = logical_or_x0.astype(int)\n",
    "logical_or_y0 = logical_or_y0.astype(int)"
   ]
  },
  {
   "cell_type": "code",
   "execution_count": 140,
   "id": "3cc5a616",
   "metadata": {},
   "outputs": [],
   "source": [
    "ct_y0 += logical_or_y0"
   ]
  },
  {
   "cell_type": "code",
   "execution_count": 141,
   "id": "51b5d293",
   "metadata": {},
   "outputs": [],
   "source": [
    "ct_x0 += logical_or_x0"
   ]
  },
  {
   "cell_type": "code",
   "execution_count": 151,
   "id": "c01c9e5b",
   "metadata": {},
   "outputs": [
    {
     "data": {
      "text/plain": [
       "array([   0,    0,    3, 2047,    0,    0,    5,    1,    0,    0,    7,\n",
       "          3,    0,    0,    9,    5,    0,    0,   11,    7,    0,    0,\n",
       "         13,    9,    0,    0,   15,   11,    0,    0,   17,   13,    0,\n",
       "          0,   19,   15,    0,    0,   21,   17,    0,    0,   23,   19,\n",
       "          0,    0,   25,   21,    0,    0,   27,   23,    0,    0,   29,\n",
       "         25,    0,    0,   31,   27,    0,    0,    1,   29])"
      ]
     },
     "execution_count": 151,
     "metadata": {},
     "output_type": "execute_result"
    }
   ],
   "source": [
    "ct_x0"
   ]
  },
  {
   "cell_type": "code",
   "execution_count": 152,
   "id": "1be69985",
   "metadata": {},
   "outputs": [
    {
     "data": {
      "text/plain": [
       "array([ 0,  0, 35, 31,  0,  0, 37, 33,  0,  0, 39, 35,  0,  0, 41, 37,  0,\n",
       "        0, 43, 39,  0,  0, 45, 41,  0,  0, 47, 43,  0,  0, 49, 45,  0,  0,\n",
       "       51, 47,  0,  0, 53, 49,  0,  0, 55, 51,  0,  0, 57, 53,  0,  0, 59,\n",
       "       55,  0,  0, 61, 57,  0,  0, 63, 59,  0,  0, 33, 61])"
      ]
     },
     "execution_count": 152,
     "metadata": {},
     "output_type": "execute_result"
    }
   ],
   "source": [
    "ct_y0"
   ]
  },
  {
   "cell_type": "code",
   "execution_count": 144,
   "id": "845b84e7",
   "metadata": {},
   "outputs": [
    {
     "data": {
      "text/plain": [
       "array([ 0.,  0.,  0.,  0.,  0.,  0.,  0.,  0.,  0.,  0.,  0.,  0.,  0.,\n",
       "        0.,  0.,  0.,  0.,  0.,  0.,  0.,  0.,  0.,  0.,  0.,  0.,  0.,\n",
       "        0.,  0.,  0.,  0.,  0.,  0.,  0.,  0.,  0.,  0.,  0.,  0.,  0.,\n",
       "        0.,  0.,  0.,  0.,  0.,  0.,  0.,  0.,  0.,  0.,  0.,  0.,  0.,\n",
       "        0.,  0.,  0.,  0.,  0.,  0.,  0.,  0.,  0.,  0., 33.,  0.])"
      ]
     },
     "execution_count": 144,
     "metadata": {},
     "output_type": "execute_result"
    }
   ],
   "source": [
    "sd_x0"
   ]
  },
  {
   "cell_type": "code",
   "execution_count": 164,
   "id": "23361351",
   "metadata": {},
   "outputs": [
    {
     "name": "stdout",
     "output_type": "stream",
     "text": [
      "0\n",
      "65504\n",
      "32\n",
      "31\n",
      "------------------\n",
      "16\n",
      "65520\n",
      "48\n",
      "15\n",
      "------------------\n"
     ]
    }
   ],
   "source": [
    "for i in range(BMULT_Y):\n",
    "    yoff = __i + i*BLOCK_Y\n",
    "    \n",
    "    upOff = yoff + slY - 1 if ((yoff%slY) == 0) else yoff - 1\n",
    "    dwOff = yoff - ysl + 1 if ((yoff+1)%slY == 0) else yoff + 1\n",
    "    \n",
    "    for j in range(BMULT_X):\n",
    "        \n",
    "        xoff = __j + j*BLOCK_X\n",
    "        \n",
    "        if readBack:\n",
    "            sideoff = xoff+ slX - 1 if (xoff%slX) == 0 else xoff -1\n",
    "        else:\n",
    "            sideoff = xoff- slX + 1 if ((xoff+1)%slX) == 0 else xoff + 1\n",
    "        print(yoff*dimX + xoff)\n",
    "        print(upOff*dimX + xoff)\n",
    "        print(dwOff*dimX + xoff)\n",
    "        print(yoff*dimX + sideoff)\n",
    "        print('------------------')\n",
    "        "
   ]
  },
  {
   "cell_type": "code",
   "execution_count": 161,
   "id": "ee5c079f",
   "metadata": {},
   "outputs": [
    {
     "data": {
      "text/plain": [
       "array([[    0,     1,     2, ...,    29,    30,    31],\n",
       "       [   32,    33,    34, ...,    61,    62,    63],\n",
       "       [   64,    65,    66, ...,    93,    94,    95],\n",
       "       ...,\n",
       "       [65440, 65441, 65442, ..., 65469, 65470, 65471],\n",
       "       [65472, 65473, 65474, ..., 65501, 65502, 65503],\n",
       "       [65504, 65505, 65506, ..., 65533, 65534, 65535]])"
      ]
     },
     "execution_count": 161,
     "metadata": {},
     "output_type": "execute_result"
    }
   ],
   "source": [
    "v_dst_rs"
   ]
  },
  {
   "cell_type": "markdown",
   "id": "59437274",
   "metadata": {},
   "source": [
    "### Exp"
   ]
  },
  {
   "cell_type": "code",
   "execution_count": 54,
   "id": "59f5476a",
   "metadata": {},
   "outputs": [],
   "source": [
    "exp = np.zeros((2,5))\n",
    "temp = 2"
   ]
  },
  {
   "cell_type": "code",
   "execution_count": 59,
   "id": "1da164a2",
   "metadata": {},
   "outputs": [],
   "source": [
    "for i in range(2):\n",
    "    for j in range(5):\n",
    "        if temp > 0:\n",
    "            if i == 0:\n",
    "                exp[i,j] = np.exp(2*(j*2-4)*1/temp)\n",
    "            else:\n",
    "                exp[i,j] = np.exp(-2*(j*2-4)*1/temp)\n",
    "        else:\n",
    "            if j==2:\n",
    "                exp[i,j] = 0.5\n",
    "            \n",
    "            else:\n",
    "                if i == 0:\n",
    "                    exp[i,j] = np.exp(2*(j*2-4))\n",
    "                else:\n",
    "                    exp[i,j] = np.exp(-2*(j*2-4))\n",
    "                \n",
    "        "
   ]
  },
  {
   "cell_type": "code",
   "execution_count": 60,
   "id": "727bc51d",
   "metadata": {},
   "outputs": [
    {
     "data": {
      "text/plain": [
       "array([[1.83156389e-02, 1.35335283e-01, 1.00000000e+00, 7.38905610e+00,\n",
       "        5.45981500e+01],\n",
       "       [5.45981500e+01, 7.38905610e+00, 1.00000000e+00, 1.35335283e-01,\n",
       "        1.83156389e-02]])"
      ]
     },
     "execution_count": 60,
     "metadata": {},
     "output_type": "execute_result"
    }
   ],
   "source": [
    "exp"
   ]
  },
  {
   "cell_type": "code",
   "execution_count": null,
   "id": "daad89da",
   "metadata": {},
   "outputs": [],
   "source": []
  }
 ],
 "metadata": {
  "kernelspec": {
   "display_name": "OG",
   "language": "python",
   "name": "og"
  },
  "language_info": {
   "codemirror_mode": {
    "name": "ipython",
    "version": 3
   },
   "file_extension": ".py",
   "mimetype": "text/x-python",
   "name": "python",
   "nbconvert_exporter": "python",
   "pygments_lexer": "ipython3",
   "version": "3.9.5"
  }
 },
 "nbformat": 4,
 "nbformat_minor": 5
}
