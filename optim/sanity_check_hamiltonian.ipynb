{
 "cells": [
  {
   "cell_type": "code",
   "execution_count": 28,
   "metadata": {},
   "outputs": [],
   "source": [
    "from interactions import get_interactions\n",
    "import numpy as np\n",
    "import os"
   ]
  },
  {
   "cell_type": "code",
   "execution_count": 29,
   "metadata": {},
   "outputs": [],
   "source": [
    "X = 128\n",
    "Y = 128\n",
    "Y2 = int(Y/2)"
   ]
  },
  {
   "cell_type": "markdown",
   "metadata": {},
   "source": [
    "Get interactions for first sublattice for a specific disorder sample"
   ]
  },
  {
   "cell_type": "code",
   "execution_count": 30,
   "metadata": {},
   "outputs": [],
   "source": [
    "interactions_new = np.loadtxt('results/HamiltonianTest/periodic_boundary/bonds_e0.txt')"
   ]
  },
  {
   "cell_type": "code",
   "execution_count": 31,
   "metadata": {},
   "outputs": [],
   "source": [
    "interactions = get_interactions(interactions_new[:,256:], X, X)"
   ]
  },
  {
   "cell_type": "markdown",
   "metadata": {},
   "source": [
    "Get black and white first sublattice of first update step for current error sample "
   ]
  },
  {
   "cell_type": "code",
   "execution_count": 32,
   "metadata": {},
   "outputs": [],
   "source": [
    "# Read the content of the text file\n",
    "with open('results/HamiltonianTest/periodic_boundary/lattice_256x128_e0_T3.000000_it00000002_.txt') as file:\n",
    "    content = file.readlines()\n",
    "\n",
    "# Remove any newline characters\n",
    "content = [line.strip() for line in content]\n",
    "\n",
    "# Convert the content into a numpy array of integers\n",
    "lattice = np.array([[int(char) for char in line] for line in content])\n",
    "\n",
    "lattice[lattice==0] = -1"
   ]
  },
  {
   "cell_type": "code",
   "execution_count": 33,
   "metadata": {},
   "outputs": [],
   "source": [
    "lattice = lattice[:,128:]"
   ]
  },
  {
   "cell_type": "code",
   "execution_count": 34,
   "metadata": {},
   "outputs": [],
   "source": [
    "lattice_b = np.zeros((X,Y2))\n",
    "lattice_w = np.zeros((X,Y2))\n",
    "# Get black and white lattices\n",
    "for i in range(X):\n",
    "    if i%2 == 0:\n",
    "        lattice_b[i,:] = lattice[i,0::2]\n",
    "        lattice_w[i,:] = lattice[i,1::2]\n",
    "    else:\n",
    "        lattice_b[i,:] = lattice[i,1::2]\n",
    "        lattice_w[i,:] = lattice[i,0::2]"
   ]
  },
  {
   "cell_type": "code",
   "execution_count": 35,
   "metadata": {},
   "outputs": [],
   "source": [
    "hamiltonian = 0\n",
    "for is_black in (True, False):\n",
    "    for tid in range(X*Y2):\n",
    "\n",
    "        i = int(tid/Y2)\n",
    "        j = tid % Y2\n",
    "\n",
    "        ipp = (i + 1) if (i + 1 < X) else 0\n",
    "        inn = (i - 1) if (i - 1 >= 0) else X - 1\n",
    "        jpp = (j + 1) if (j + 1 < Y2) else 0\n",
    "        jnn = (j - 1) if (j - 1 >= 0) else Y2 - 1\n",
    "\n",
    "        c_up = 1-int(inn/(X-1))\n",
    "        c_down = 1-int((i+1)/X)\n",
    "\n",
    "        if (is_black):\n",
    "\n",
    "            icpp = 2*(X-1)*Y2 + 2*(Y2*(i+1) + j) + i%2\n",
    "            \n",
    "            icnn = 2*(X-1)*Y2 + 2*(Y2*(inn+1) + j) + i%2\n",
    "\n",
    "            joff = jpp if (i%2) else jnn\n",
    "            \n",
    "            if (i % 2):\n",
    "                if (j+1 >= Y2):\n",
    "                    jcoff = 2*(i*Y2 + j + 1) - 1\n",
    "                \n",
    "                else:\n",
    "                    jcoff = 2*(i*Y2 + joff) - 1\n",
    "            else:\n",
    "                jcoff = 2 * (i*Y2 + joff) + 1\n",
    "\n",
    "            hamiltonian += lattice_b[i,j]*(lattice_w[inn,j]*interactions[icnn] + lattice_w[ipp,j]*interactions[icpp] + lattice_w[i,j]*interactions[2*(i*Y2+j)] + lattice_w[i, joff]*interactions[jcoff])\n",
    "\n",
    "        else:\n",
    "\n",
    "            icpp = 2*(X - 1)*Y2 + 2*(Y2*(i+1) + j) + (i+1)%2\n",
    "            icnn = 2*(X - 1)*Y2 + 2*(Y2*(inn+1) + j) + (i+1)%2\n",
    "\n",
    "            joff = jnn if (i%2) else jpp\n",
    "\n",
    "            if (i%2):\n",
    "                jcoff = 2*(i*Y2 + joff) + 1\n",
    "            else:\n",
    "                if (j+1 >= Y2):\n",
    "                    jcoff = 2*(i*Y2 + j + 1) - 1\n",
    "                else:\n",
    "                    jcoff = 2*(i*Y2 + joff) - 1\n",
    "\n",
    "            hamiltonian += lattice_w[i,j]*(lattice_b[inn,j]*interactions[icnn] + lattice_b[ipp,j]*interactions[icpp] + lattice_b[i,j]*interactions[2*(i*Y2+j)] + lattice_b[i, joff]*interactions[jcoff])"
   ]
  },
  {
   "cell_type": "code",
   "execution_count": 36,
   "metadata": {},
   "outputs": [
    {
     "data": {
      "text/plain": [
       "17140.0"
      ]
     },
     "execution_count": 36,
     "metadata": {},
     "output_type": "execute_result"
    }
   ],
   "source": [
    "hamiltonian"
   ]
  },
  {
   "cell_type": "code",
   "execution_count": null,
   "metadata": {},
   "outputs": [],
   "source": []
  },
  {
   "cell_type": "code",
   "execution_count": null,
   "metadata": {},
   "outputs": [],
   "source": []
  }
 ],
 "metadata": {
  "kernelspec": {
   "display_name": "Python 3 (ipykernel)",
   "language": "python",
   "name": "python3"
  },
  "language_info": {
   "codemirror_mode": {
    "name": "ipython",
    "version": 3
   },
   "file_extension": ".py",
   "mimetype": "text/x-python",
   "name": "python",
   "nbconvert_exporter": "python",
   "pygments_lexer": "ipython3",
   "version": "3.9.5"
  }
 },
 "nbformat": 4,
 "nbformat_minor": 4
}
