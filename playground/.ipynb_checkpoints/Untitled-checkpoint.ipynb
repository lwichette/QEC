{
 "cells": [
  {
   "cell_type": "code",
   "execution_count": 37,
   "id": "ca66e2a5",
   "metadata": {},
   "outputs": [],
   "source": [
    "import numpy as np"
   ]
  },
  {
   "cell_type": "code",
   "execution_count": 74,
   "id": "70f6ff06",
   "metadata": {},
   "outputs": [],
   "source": [
    "bonds = np.loadtxt(\"final_bonds.txt\", dtype=int)"
   ]
  },
  {
   "cell_type": "code",
   "execution_count": 81,
   "id": "2143f18c",
   "metadata": {},
   "outputs": [],
   "source": [
    "lattice = np.loadtxt(\"final_0.txt\", dtype=int)"
   ]
  },
  {
   "cell_type": "code",
   "execution_count": null,
   "id": "153794f7",
   "metadata": {},
   "outputs": [],
   "source": []
  },
  {
   "cell_type": "code",
   "execution_count": 45,
   "id": "3640dd01",
   "metadata": {},
   "outputs": [],
   "source": [
    "S = np.sum(bonds)"
   ]
  },
  {
   "cell_type": "code",
   "execution_count": 46,
   "id": "29b39536",
   "metadata": {},
   "outputs": [],
   "source": [
    "N = bonds.shape[0]*bonds.shape[1]"
   ]
  },
  {
   "cell_type": "code",
   "execution_count": 55,
   "id": "2e32a067",
   "metadata": {},
   "outputs": [],
   "source": [
    "p = 0.02"
   ]
  },
  {
   "cell_type": "code",
   "execution_count": 56,
   "id": "7b5d507f",
   "metadata": {},
   "outputs": [],
   "source": [
    "plus_one = (N+S)/2"
   ]
  },
  {
   "cell_type": "code",
   "execution_count": 57,
   "id": "d1cf0a10",
   "metadata": {},
   "outputs": [],
   "source": [
    "minus_one = (N-S)/2"
   ]
  },
  {
   "cell_type": "code",
   "execution_count": 58,
   "id": "087fbc4a",
   "metadata": {},
   "outputs": [
    {
     "name": "stdout",
     "output_type": "stream",
     "text": [
      "233.0\n",
      "55.0\n"
     ]
    }
   ],
   "source": [
    "print(plus_one)\n",
    "print(minus_one)"
   ]
  },
  {
   "cell_type": "code",
   "execution_count": 59,
   "id": "8552f8cf",
   "metadata": {},
   "outputs": [
    {
     "data": {
      "text/plain": [
       "3.253309623586504e-96"
      ]
     },
     "execution_count": 59,
     "metadata": {},
     "output_type": "execute_result"
    }
   ],
   "source": [
    "p**minus_one*(1-p)**plus_one"
   ]
  },
  {
   "cell_type": "code",
   "execution_count": 54,
   "id": "5a45718d",
   "metadata": {},
   "outputs": [
    {
     "data": {
      "text/plain": [
       "0.008000000000000002"
      ]
     },
     "execution_count": 54,
     "metadata": {},
     "output_type": "execute_result"
    }
   ],
   "source": [
    "0.2*0.2*0.2"
   ]
  },
  {
   "cell_type": "code",
   "execution_count": 64,
   "id": "7687fcb5",
   "metadata": {},
   "outputs": [
    {
     "data": {
      "text/plain": [
       "31830988.618379075"
      ]
     },
     "execution_count": 64,
     "metadata": {},
     "output_type": "execute_result"
    }
   ],
   "source": [
    "1/np.sin(np.pi/10000**2)"
   ]
  },
  {
   "cell_type": "code",
   "execution_count": 65,
   "id": "ac70918f",
   "metadata": {},
   "outputs": [
    {
     "data": {
      "text/plain": [
       "256"
      ]
     },
     "execution_count": 65,
     "metadata": {},
     "output_type": "execute_result"
    }
   ],
   "source": [
    "16*16"
   ]
  },
  {
   "cell_type": "code",
   "execution_count": null,
   "id": "3c722d75",
   "metadata": {},
   "outputs": [],
   "source": []
  }
 ],
 "metadata": {
  "kernelspec": {
   "display_name": "OG",
   "language": "python",
   "name": "og"
  },
  "language_info": {
   "codemirror_mode": {
    "name": "ipython",
    "version": 3
   },
   "file_extension": ".py",
   "mimetype": "text/x-python",
   "name": "python",
   "nbconvert_exporter": "python",
   "pygments_lexer": "ipython3",
   "version": "3.9.5"
  }
 },
 "nbformat": 4,
 "nbformat_minor": 5
}
